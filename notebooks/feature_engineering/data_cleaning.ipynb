{
 "cells": [
  {
   "cell_type": "markdown",
   "id": "9b6ad5d8",
   "metadata": {},
   "source": [
    "## <span style='font-family:Georgia'> Objectives\n",
    "The purpose of this notebook is text data cleaning approach creation.\n"
   ]
  },
  {
   "cell_type": "code",
   "execution_count": 1,
   "id": "8d3f3f07",
   "metadata": {
    "ExecuteTime": {
     "end_time": "2022-05-13T10:29:00.204590Z",
     "start_time": "2022-05-13T10:28:58.695032Z"
    }
   },
   "outputs": [],
   "source": [
    "import os\n",
    "import sys\n",
    "import pandas as pd\n",
    "\n",
    "sys.path.append(os.path.dirname(os.path.dirname(os.path.abspath(\"__file__\"))))\n",
    "from supportive_functions import separate_special_chars, rm_consecutive_spaces\n",
    "\n",
    "pd.options.display.max_colwidth = None"
   ]
  },
  {
   "cell_type": "markdown",
   "id": "76ef2dc6",
   "metadata": {},
   "source": [
    "## <span style='font-family:Georgia'> Load data"
   ]
  },
  {
   "cell_type": "code",
   "execution_count": 2,
   "id": "f5d6efe2",
   "metadata": {
    "ExecuteTime": {
     "end_time": "2022-05-13T10:29:00.242128Z",
     "start_time": "2022-05-13T10:29:00.204590Z"
    }
   },
   "outputs": [],
   "source": [
    "# Data frame with ID added and observations skipped without transcription\n",
    "data_train_exp = pd.read_csv(\"../../data/outputs/eda/train/train_expected_with_ids.csv\")"
   ]
  },
  {
   "cell_type": "markdown",
   "id": "e3a1ce79",
   "metadata": {},
   "source": [
    "## <span style='font-family:Georgia'> Clean data"
   ]
  },
  {
   "cell_type": "markdown",
   "id": "5d6584a1",
   "metadata": {},
   "source": [
    "#### <span style='font-family:Georgia'> 1. Insert spaces before the special characters to separate them from the actual words and remove consecutive spaces"
   ]
  },
  {
   "cell_type": "code",
   "execution_count": 3,
   "id": "962d1093",
   "metadata": {
    "ExecuteTime": {
     "end_time": "2022-05-13T10:29:00.439148Z",
     "start_time": "2022-05-13T10:29:00.244161Z"
    }
   },
   "outputs": [],
   "source": [
    "data_train_exp = separate_special_chars(data_train_exp)\n",
    "data_train_exp[\"FixedOutput\"] = data_train_exp[\"FixedOutput\"].apply(\n",
    "    rm_consecutive_spaces\n",
    ")"
   ]
  },
  {
   "cell_type": "markdown",
   "id": "b4427dd0",
   "metadata": {},
   "source": [
    "#### <span style='font-family:Georgia'> 2. Replace non-character symbols excluding target classes, digits and letters from outside the Polish alphabet with blank strings "
   ]
  },
  {
   "cell_type": "code",
   "execution_count": 4,
   "id": "e1bd61e4",
   "metadata": {
    "ExecuteTime": {
     "end_time": "2022-05-13T10:29:00.601001Z",
     "start_time": "2022-05-13T10:29:00.441147Z"
    }
   },
   "outputs": [],
   "source": [
    "# load list of symbols to replace\n",
    "symbols_to_replace_infile = open(\n",
    "    \"../../data/outputs/eda/train/symbols_to_replace.txt\", \"r\", encoding=\"utf-8\"\n",
    ")\n",
    "symbols_to_replace = symbols_to_replace_infile.read().splitlines()\n",
    "# load list of noisy words, i.e. words with letters from outside the Polish alphabet\n",
    "noisy_words_infile = open(\n",
    "    \"../../data/outputs/eda/train/noisy_words.txt\", \"r\", encoding=\"utf-8\"\n",
    ")\n",
    "noisy_words = noisy_words_infile.read().splitlines()\n",
    "# load list of letters from outside the Polish alphabet\n",
    "non_polish_letters_infile = open(\n",
    "    \"../../data/outputs/eda/train/non_polish_letters.txt\", \"r\", encoding=\"utf-8\"\n",
    ")\n",
    "non_polish_letters = non_polish_letters_infile.read().splitlines()\n",
    "\n",
    "# merge noisy data into one list\n",
    "symbols_to_replace.extend(noisy_words)\n",
    "symbols_to_replace.extend(non_polish_letters)"
   ]
  },
  {
   "cell_type": "code",
   "execution_count": 5,
   "id": "74378ea4",
   "metadata": {
    "ExecuteTime": {
     "end_time": "2022-05-13T10:29:00.620184Z",
     "start_time": "2022-05-13T10:29:00.602010Z"
    }
   },
   "outputs": [
    {
     "data": {
      "text/plain": [
       "[\"'\",\n",
       " '\"',\n",
       " ';',\n",
       " '%',\n",
       " '(',\n",
       " ')',\n",
       " '[',\n",
       " ']',\n",
       " '²',\n",
       " '€',\n",
       " '³',\n",
       " '+',\n",
       " '·',\n",
       " 'kadlčika kadlčik',\n",
       " 'motörhead',\n",
       " 'hautamäkim',\n",
       " 'β α',\n",
       " 'fédération française',\n",
       " '+',\n",
       " 'δ',\n",
       " 'bošnjaci',\n",
       " '+ +',\n",
       " 'räikkönena jérôme pérez',\n",
       " 'française rémy grégorio',\n",
       " 'ramírez domínguez',\n",
       " 'congrès',\n",
       " 'güntera',\n",
       " 'όνειρος ω',\n",
       " 'kölner kölner kőln kőln fűr schönberg',\n",
       " 'agustín',\n",
       " 'élysées',\n",
       " 'bermúdez',\n",
       " '+ trentemøller väth',\n",
       " '+ +',\n",
       " '+',\n",
       " 'josé rodríguez',\n",
       " '+ +',\n",
       " 'für',\n",
       " 'ニ尾の化け 三尾の大亀 五尾のイルカ馬 六尾の蛞蝓 八尾の kyogyū',\n",
       " '+ + + +',\n",
       " 'βy',\n",
       " 'φ φ φ φ',\n",
       " 'государственная дума российской империи б ю иванов а а комзолова и с ряховская москва росспэн',\n",
       " '+',\n",
       " 'förstera',\n",
       " 'katajamäki häkkinen räikkönen järvilehto järvilehto räikkönen häkkinen',\n",
       " 'ß ß ß',\n",
       " 'josé durão',\n",
       " '+ +',\n",
       " 'räikkönen räikkönenowi',\n",
       " 'hautamäki ljøkelsøy',\n",
       " 'geração à',\n",
       " 'jános kárászy',\n",
       " 'kovačević kovačević podraščanin miloš saša sánchez díaz tomás',\n",
       " '+',\n",
       " 'изображение',\n",
       " 'püolkim',\n",
       " '+ +',\n",
       " 'maestà maestà maestà maestà maestà',\n",
       " '+',\n",
       " 'székesfehérvár',\n",
       " 'klöden klöden',\n",
       " 'côte saône côte',\n",
       " '+',\n",
       " 'α α',\n",
       " 'újváry',\n",
       " 'irénée',\n",
       " 'angoulême léger angoulême',\n",
       " '+ +',\n",
       " 'görges',\n",
       " 'františek ružička',\n",
       " '+ + + + +',\n",
       " 'maría',\n",
       " 'klárze smitková witthöft maría kateřina siniaková schmiedlová',\n",
       " '+',\n",
       " '+',\n",
       " '+',\n",
       " 'м',\n",
       " 'ι',\n",
       " 'ж',\n",
       " 'ū',\n",
       " 'φ',\n",
       " 'の',\n",
       " 'β',\n",
       " 'è',\n",
       " 'и',\n",
       " 'ω',\n",
       " 'é',\n",
       " 'ç',\n",
       " '五',\n",
       " 'δ',\n",
       " '三',\n",
       " 'п',\n",
       " 'í',\n",
       " 'з',\n",
       " '蝓',\n",
       " '亀',\n",
       " 'й',\n",
       " 'ル',\n",
       " 'ß',\n",
       " '化',\n",
       " 'н',\n",
       " 'ř',\n",
       " 'カ',\n",
       " '大',\n",
       " '尾',\n",
       " 'в',\n",
       " '蛞',\n",
       " '+',\n",
       " 'ã',\n",
       " 'э',\n",
       " 'ú',\n",
       " 'ê',\n",
       " 'č',\n",
       " 'р',\n",
       " '馬',\n",
       " 'я',\n",
       " 'к',\n",
       " 'д',\n",
       " 'г',\n",
       " 'イ',\n",
       " 'ô',\n",
       " 'а',\n",
       " 'ό',\n",
       " 'т',\n",
       " 'о',\n",
       " 'ς',\n",
       " 'е',\n",
       " 'ü',\n",
       " 'ε',\n",
       " 'ű',\n",
       " 'ο',\n",
       " 'ä',\n",
       " 'ю',\n",
       " '六',\n",
       " 'š',\n",
       " 'с',\n",
       " 'ν',\n",
       " 'л',\n",
       " 'х',\n",
       " 'ő',\n",
       " 'á',\n",
       " 'б',\n",
       " 'ρ',\n",
       " 'け',\n",
       " 'у',\n",
       " 'ニ',\n",
       " 'ö',\n",
       " 'ž',\n",
       " '八',\n",
       " 'ø',\n",
       " 'α',\n",
       " 'à']"
      ]
     },
     "execution_count": 5,
     "metadata": {},
     "output_type": "execute_result"
    }
   ],
   "source": [
    "symbols_to_replace"
   ]
  },
  {
   "cell_type": "code",
   "execution_count": 6,
   "id": "a01f6e58",
   "metadata": {
    "ExecuteTime": {
     "end_time": "2022-05-13T10:29:00.791893Z",
     "start_time": "2022-05-13T10:29:00.620184Z"
    }
   },
   "outputs": [],
   "source": [
    "for symb in symbols_to_replace:\n",
    "    data_train_exp[\"FixedOutput\"] = data_train_exp[\"FixedOutput\"].apply(\n",
    "        lambda x: x.replace(symb, \"\")\n",
    "    )\n",
    "\n",
    "data_train_exp[\"FixedOutput\"] = data_train_exp[\"FixedOutput\"].apply(\n",
    "    rm_consecutive_spaces\n",
    ")"
   ]
  },
  {
   "cell_type": "code",
   "execution_count": 7,
   "id": "ad4acf7c",
   "metadata": {
    "ExecuteTime": {
     "end_time": "2022-05-13T10:29:00.810169Z",
     "start_time": "2022-05-13T10:29:00.792714Z"
    }
   },
   "outputs": [
    {
     "data": {
      "text/html": [
       "<div>\n",
       "<style scoped>\n",
       "    .dataframe tbody tr th:only-of-type {\n",
       "        vertical-align: middle;\n",
       "    }\n",
       "\n",
       "    .dataframe tbody tr th {\n",
       "        vertical-align: top;\n",
       "    }\n",
       "\n",
       "    .dataframe thead th {\n",
       "        text-align: right;\n",
       "    }\n",
       "</style>\n",
       "<table border=\"1\" class=\"dataframe\">\n",
       "  <thead>\n",
       "    <tr style=\"text-align: right;\">\n",
       "      <th></th>\n",
       "      <th>FileId</th>\n",
       "      <th>FixedOutput</th>\n",
       "    </tr>\n",
       "  </thead>\n",
       "  <tbody>\n",
       "    <tr>\n",
       "      <th>0</th>\n",
       "      <td>wikinews228460</td>\n",
       "      <td>w wywiadzie dla polski jarosław kaczyński podkreślił , że informacje dotyczące radosława sikorskiego zagrażają interesowi państwa . to naprawdę wszystko , co mogę na ten temat powiedzieć - odpowiedział , gdy dziennikarz pytał o bardziej szczegółowe informacje . premier kaczyński sugeruje , że dobry kandydat po na szefa dyplomacji to np . jacek saryusz - wolski wymieniony polityk zyskał uznanie braci kaczyńskich za dotychczasową działalność w charakterze dyplomaty i dużą wiedzę . premier krytycznie ocenia również dotychczasowe poczynania po . gabinet cieni i inne podobne pomysły okazały się fikcją . świadczą o tym kłopoty ze znajdywaniem kolejnych ministerstw . cały czas nie wiadomo , kto obsadzi które ministerstwo . a tam , gdzie już wiadomo , to nie ma się z czego cieszyć - mówił kaczyński . stwierdził także , że uważny obserwator życia publicznego musi dostrzegać też rolę w tym wszystkim jana krzysztofa bieleckiego . będzie osobą bardzo ważną . pytany o radę , jaką dałby donaldowi tuskowi , powiedział : radzę donaldowi tuskowi , żeby uczciwie przyjrzał się temu , co się wydarzyło w polsce przez ostatnie dwa lata . żeby jednak zrzucił czarne okulary , choć wcale nie musi zakładać różowych , i rozejrzał się dookoła . i żeby w końcu doszedł do wniosku , że wiele rzeczy warto kontynuować .</td>\n",
       "    </tr>\n",
       "    <tr>\n",
       "      <th>1</th>\n",
       "      <td>wikinews183471</td>\n",
       "      <td>dowody prokuratury przedstawiające , że janusz kaczmarek , były szef mswia , kłamał , wypierając się spotkania z ryszardem krauze 5 lipca - nie osłabiły determinacji opozycji . teraz opozycja żąda przesłuchania lecha kaczyńskiego w sprawie przecieku o akcji cba . polityczni przeciwnicy pis wciąż wątpią , że to kaczmarek był źródłem przecieku w sprawie afery gruntowej . janusz zemke uważa , iż informacja mogła wyjść od innych ludzi , np . od oficerów bor . inni działacze opozycji idą jeszcze dalej i wskazują na prezydenta . dlaczego ? bo bezpośrednio przed spotkaniem z ryszardem krauzem kaczmarek rozmawiał długo z lechem kaczyńskim - podaje rzeczpospolita . w całej tej sprawie opozycja dostała wścieklizny politycznej , a teraz powinna przeprosić za swoją wiarę w słowa kaczmarka - uważa szef rządu . zemke natomiast broni postawy opozycji : prokuratorzy udowodnili , że kaczmarek skłamał , wypierając się spotkania z krauzem . ale to nie znaczy , że innych faktów , o których mówił , nie warto weryfikować . wczoraj pojawiła się informacja o innym wydarzeniu z udziałem krauzego . okazało się , że dzwonił on do prezydenta 13 lipca . tego właśnie dnia w warszawskiej siedzibie firmy krauzego pojawili się agenci abw , którzy zabezpieczali książkę wejść i wyjść oraz zapisy z kamer .</td>\n",
       "    </tr>\n",
       "    <tr>\n",
       "      <th>2</th>\n",
       "      <td>wikinews188040</td>\n",
       "      <td>w czasie długiego weekendu , 1 - 3 maja 2009 w jadwisinie nad jeziorem zegrzyńskim stowarzyszenie wikimedia polska organizuje konferencję poświęconą zarówno wikimediom , m . in . wikipedii , jak i ruchowi wolnej kultury . miejscem konferencji jest ośrodek szkoleniowo - wypoczynkowy kancelarii prezesa rady ministrów ulokowany w dziewiętnastowiecznym neoklasycystycznym pałacu radziwiłłów . pierwszego dnia twórcy wikipedii i jej siostrzanych projektów poświęcą swój czas na edytowanie . osoby z zewnątrz , które jeszcze nie miały okazji działać w tych projektach , będą mogły zapoznać się z nimi oraz dokonać swoich pierwszych edycji pod okiem bardziej doświadczonych internautów . o godzinie 20 0 nastąpi oficjalne rozpoczęcie konferencji , po czym uczestnicy będą mogli , podobnie jak w dniu następnym , odbyć swobodne rozmowy przy ognisku . w sobotę od godziny 9 00 do 16 0 odbywać będą się w dwóch salach wykłady i warsztaty , po czym odbędzie się walne zebranie stowarzyszenia wikimedia polska . wśród wykładowców znajdzie się tego dnia richard stallman , jeden z ojców wolnego oprogramowania . będzie to jego drugie wystąpienie w polsce , po tym jak w styczniu 2009 gościł w agh w krakowie . wykłady prowadzić będą także m . in . prof . bożena czerny inicjatorka poprawy jakości haseł astronomicznych w wikipedii , edyta puchalska - szefowa działu edukacyjnego w onet . pl , czy jarosław lipszyc - prezes fundacji nowoczesna polska . w niedzielę dyskusje toczyć się będą wokół zastosowań wiki i wolnego oprogramowania , zaprezentowana zostanie rosyjska wikipedia , a także zorganizowany będzie wikipediowy okrągły stół . zakończenie konferencji planowane jest na godzinę 27 w niedzielę 3 maja . osoby , które chciałyby wziąć udział w konferencji , proszone są przez organizatorów o wcześniejszy mailowy : konferencjawikimedia . pl . wstęp na konferencję jest bezpłatny .</td>\n",
       "    </tr>\n",
       "  </tbody>\n",
       "</table>\n",
       "</div>"
      ],
      "text/plain": [
       "           FileId  \\\n",
       "0  wikinews228460   \n",
       "1  wikinews183471   \n",
       "2  wikinews188040   \n",
       "\n",
       "                                                                                                                                                                                                                                                                                                                                                                                                                                                                                                                                                                                                                                                                                                                                                                                                                                                                                                                                                                                                                                                                                                                                                                                                                                                                                                                                                                                                                                                                                                                                                                                                                                                                                                                                                                                                                                                                                                                                             FixedOutput  \n",
       "0                                                                                                                                                                                                                                                                                                                                                                                                                                                                                                                                                                                          w wywiadzie dla polski jarosław kaczyński podkreślił , że informacje dotyczące radosława sikorskiego zagrażają interesowi państwa . to naprawdę wszystko , co mogę na ten temat powiedzieć - odpowiedział , gdy dziennikarz pytał o bardziej szczegółowe informacje . premier kaczyński sugeruje , że dobry kandydat po na szefa dyplomacji to np . jacek saryusz - wolski wymieniony polityk zyskał uznanie braci kaczyńskich za dotychczasową działalność w charakterze dyplomaty i dużą wiedzę . premier krytycznie ocenia również dotychczasowe poczynania po . gabinet cieni i inne podobne pomysły okazały się fikcją . świadczą o tym kłopoty ze znajdywaniem kolejnych ministerstw . cały czas nie wiadomo , kto obsadzi które ministerstwo . a tam , gdzie już wiadomo , to nie ma się z czego cieszyć - mówił kaczyński . stwierdził także , że uważny obserwator życia publicznego musi dostrzegać też rolę w tym wszystkim jana krzysztofa bieleckiego . będzie osobą bardzo ważną . pytany o radę , jaką dałby donaldowi tuskowi , powiedział : radzę donaldowi tuskowi , żeby uczciwie przyjrzał się temu , co się wydarzyło w polsce przez ostatnie dwa lata . żeby jednak zrzucił czarne okulary , choć wcale nie musi zakładać różowych , i rozejrzał się dookoła . i żeby w końcu doszedł do wniosku , że wiele rzeczy warto kontynuować .   \n",
       "1                                                                                                                                                                                                                                                                                                                                                                                                                                                                                                                                                                                                            dowody prokuratury przedstawiające , że janusz kaczmarek , były szef mswia , kłamał , wypierając się spotkania z ryszardem krauze 5 lipca - nie osłabiły determinacji opozycji . teraz opozycja żąda przesłuchania lecha kaczyńskiego w sprawie przecieku o akcji cba . polityczni przeciwnicy pis wciąż wątpią , że to kaczmarek był źródłem przecieku w sprawie afery gruntowej . janusz zemke uważa , iż informacja mogła wyjść od innych ludzi , np . od oficerów bor . inni działacze opozycji idą jeszcze dalej i wskazują na prezydenta . dlaczego ? bo bezpośrednio przed spotkaniem z ryszardem krauzem kaczmarek rozmawiał długo z lechem kaczyńskim - podaje rzeczpospolita . w całej tej sprawie opozycja dostała wścieklizny politycznej , a teraz powinna przeprosić za swoją wiarę w słowa kaczmarka - uważa szef rządu . zemke natomiast broni postawy opozycji : prokuratorzy udowodnili , że kaczmarek skłamał , wypierając się spotkania z krauzem . ale to nie znaczy , że innych faktów , o których mówił , nie warto weryfikować . wczoraj pojawiła się informacja o innym wydarzeniu z udziałem krauzego . okazało się , że dzwonił on do prezydenta 13 lipca . tego właśnie dnia w warszawskiej siedzibie firmy krauzego pojawili się agenci abw , którzy zabezpieczali książkę wejść i wyjść oraz zapisy z kamer .  \n",
       "2  w czasie długiego weekendu , 1 - 3 maja 2009 w jadwisinie nad jeziorem zegrzyńskim stowarzyszenie wikimedia polska organizuje konferencję poświęconą zarówno wikimediom , m . in . wikipedii , jak i ruchowi wolnej kultury . miejscem konferencji jest ośrodek szkoleniowo - wypoczynkowy kancelarii prezesa rady ministrów ulokowany w dziewiętnastowiecznym neoklasycystycznym pałacu radziwiłłów . pierwszego dnia twórcy wikipedii i jej siostrzanych projektów poświęcą swój czas na edytowanie . osoby z zewnątrz , które jeszcze nie miały okazji działać w tych projektach , będą mogły zapoznać się z nimi oraz dokonać swoich pierwszych edycji pod okiem bardziej doświadczonych internautów . o godzinie 20 0 nastąpi oficjalne rozpoczęcie konferencji , po czym uczestnicy będą mogli , podobnie jak w dniu następnym , odbyć swobodne rozmowy przy ognisku . w sobotę od godziny 9 00 do 16 0 odbywać będą się w dwóch salach wykłady i warsztaty , po czym odbędzie się walne zebranie stowarzyszenia wikimedia polska . wśród wykładowców znajdzie się tego dnia richard stallman , jeden z ojców wolnego oprogramowania . będzie to jego drugie wystąpienie w polsce , po tym jak w styczniu 2009 gościł w agh w krakowie . wykłady prowadzić będą także m . in . prof . bożena czerny inicjatorka poprawy jakości haseł astronomicznych w wikipedii , edyta puchalska - szefowa działu edukacyjnego w onet . pl , czy jarosław lipszyc - prezes fundacji nowoczesna polska . w niedzielę dyskusje toczyć się będą wokół zastosowań wiki i wolnego oprogramowania , zaprezentowana zostanie rosyjska wikipedia , a także zorganizowany będzie wikipediowy okrągły stół . zakończenie konferencji planowane jest na godzinę 27 w niedzielę 3 maja . osoby , które chciałyby wziąć udział w konferencji , proszone są przez organizatorów o wcześniejszy mailowy : konferencjawikimedia . pl . wstęp na konferencję jest bezpłatny .  "
      ]
     },
     "execution_count": 7,
     "metadata": {},
     "output_type": "execute_result"
    }
   ],
   "source": [
    "data_train_exp.head(3)"
   ]
  },
  {
   "cell_type": "code",
   "execution_count": 8,
   "id": "45c3ad41",
   "metadata": {
    "ExecuteTime": {
     "end_time": "2022-05-13T10:29:00.826150Z",
     "start_time": "2022-05-13T10:29:00.812122Z"
    }
   },
   "outputs": [],
   "source": [
    "# data_train_exp.to_csv(\"../../data/outputs/feature_engineering/train/expected.csv\", index=False)"
   ]
  }
 ],
 "metadata": {
  "kernelspec": {
   "display_name": "Python 3",
   "language": "python",
   "name": "python3"
  },
  "language_info": {
   "codemirror_mode": {
    "name": "ipython",
    "version": 3
   },
   "file_extension": ".py",
   "mimetype": "text/x-python",
   "name": "python",
   "nbconvert_exporter": "python",
   "pygments_lexer": "ipython3",
   "version": "3.8.8"
  }
 },
 "nbformat": 4,
 "nbformat_minor": 5
}
