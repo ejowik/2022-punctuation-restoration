{
 "cells": [
  {
   "cell_type": "markdown",
   "metadata": {},
   "source": [
    "## <span style='font-family:Georgia'> Objectives\n",
    "The purpose of this notebook is text mining on test data, aimed at creating a baseline rule-model, which is to be a benchmark of the neural model developed in the later phase of the project."
   ]
  },
  {
   "cell_type": "code",
   "execution_count": 1,
   "metadata": {
    "ExecuteTime": {
     "end_time": "2022-04-15T15:05:23.061641Z",
     "start_time": "2022-04-15T15:05:18.517452Z"
    }
   },
   "outputs": [],
   "source": [
    "# loading packages\n",
    "import pandas as pd\n",
    "import numpy as np\n",
    "import seaborn as sns\n",
    "import matplotlib.pyplot as plt\n",
    "import os\n",
    "import re\n",
    "\n",
    "from supportive_functions import find_nonalpha, flatten, count_punctuation, separate_special_chars, rm_consecutive_spaces\n",
    "\n",
    "import warnings\n",
    "warnings.filterwarnings(action='ignore')\n",
    "pd.options.display.max_columns = None\n",
    "\n",
    "%matplotlib inline\n",
    "plt.rcParams['figure.figsize'] = (9, 6)\n",
    "sns.set(style=\"darkgrid\")"
   ]
  },
  {
   "cell_type": "markdown",
   "metadata": {},
   "source": [
    "## <span style='font-family:Georgia'> Data loading & preparation"
   ]
  },
  {
   "cell_type": "code",
   "execution_count": 2,
   "metadata": {
    "ExecuteTime": {
     "end_time": "2022-04-15T15:05:23.155422Z",
     "start_time": "2022-04-15T15:05:23.062638Z"
    }
   },
   "outputs": [],
   "source": [
    "# reading data\n",
    "data_test_in = pd.read_csv('data/preprocessed/test-A/in.tsv', sep='\\t', header=None)\n",
    "data_test_exp = pd.read_csv('data/preprocessed/test-A/expected.tsv', sep='\\t', header=None)"
   ]
  },
  {
   "cell_type": "code",
   "execution_count": 3,
   "metadata": {
    "ExecuteTime": {
     "end_time": "2022-04-15T15:05:23.171382Z",
     "start_time": "2022-04-15T15:05:23.157379Z"
    }
   },
   "outputs": [],
   "source": [
    "# renaming columns\n",
    "\n",
    "data_test_in.columns = ['FileId', 'ASROutput']\n",
    "data_test_exp.columns = ['FixedOutput']\n",
    "\n",
    "# adding index to expected output (assumption: the same ordering of the records)\n",
    "\n",
    "data_test_exp['FileId'] = data_test_in['FileId']\n",
    "data_test_exp = data_test_exp[['FileId', 'FixedOutput']]\n"
   ]
  },
  {
   "cell_type": "code",
   "execution_count": 4,
   "metadata": {},
   "outputs": [],
   "source": [
    "data_test_exp.to_csv(\"./data/out/test/test_expected_with_ids.csv\", index=False)"
   ]
  },
  {
   "cell_type": "code",
   "execution_count": 5,
   "metadata": {},
   "outputs": [
    {
     "data": {
      "text/plain": [
       "(200, 2)"
      ]
     },
     "execution_count": 5,
     "metadata": {},
     "output_type": "execute_result"
    }
   ],
   "source": [
    "data_test_exp.shape"
   ]
  },
  {
   "cell_type": "markdown",
   "metadata": {},
   "source": [
    "## <span style='font-family:Georgia'> Separate special characters from words"
   ]
  },
  {
   "cell_type": "code",
   "execution_count": 6,
   "metadata": {
    "ExecuteTime": {
     "end_time": "2022-04-15T15:05:23.518624Z",
     "start_time": "2022-04-15T15:05:23.236164Z"
    }
   },
   "outputs": [],
   "source": [
    "data_test_in = separate_special_chars(data_test_in)\n",
    "data_test_exp = separate_special_chars(data_test_exp)"
   ]
  },
  {
   "cell_type": "code",
   "execution_count": 7,
   "metadata": {
    "ExecuteTime": {
     "end_time": "2022-04-15T15:05:23.676301Z",
     "start_time": "2022-04-15T15:05:23.519621Z"
    }
   },
   "outputs": [],
   "source": [
    "data_test_exp[\"FixedOutput\"] = data_test_exp[\"FixedOutput\"].apply(rm_consecutive_spaces)\n",
    "data_test_in[\"ASROutput\"] = data_test_in[\"ASROutput\"].apply(rm_consecutive_spaces)"
   ]
  },
  {
   "cell_type": "markdown",
   "metadata": {},
   "source": [
    "## <span style='font-family:Georgia'> Check for records with non-character symbols excluded from target classes set"
   ]
  },
  {
   "cell_type": "code",
   "execution_count": 8,
   "metadata": {
    "ExecuteTime": {
     "end_time": "2022-04-15T15:05:23.692208Z",
     "start_time": "2022-04-15T15:05:23.679825Z"
    }
   },
   "outputs": [],
   "source": [
    "target_classes=['.', ',', '?', '!', '-', ':', '...']\n",
    "numbers = ['1', '2', '3', '4', '5', '6', '7', '8', '9', '0']"
   ]
  },
  {
   "cell_type": "code",
   "execution_count": 9,
   "metadata": {},
   "outputs": [
    {
     "name": "stdout",
     "output_type": "stream",
     "text": [
      "List of symbols to be dropped: ['š', 'è', 'ř', 'ъ', 'и', 'м', ';', ')', 'я', 'к', '%', '+', '$', 'е', ']', 'á', 'í', 'ö', 'р', 'с', '³', 'ğ', 'č', 'б', 'ø', \"'\", 'ě', 'т', 'у', ' ', 'з', 'ш', 'é', 'ý', 'ñ', 'ä', 'ü', 'а', 'п', 'д', 'β', 'в', 'о', 'л', 'н', '\"', 'à', 'ю']\n"
     ]
    }
   ],
   "source": [
    "non_characters_test=np.unique(data_test_exp['FixedOutput'].apply(lambda x: find_nonalpha(x)))\n",
    "symbols_to_drop_test=list(set(flatten(non_characters_test))-set(target_classes)-set(numbers))\n",
    "print(f\"List of symbols to be dropped: {str(symbols_to_drop_test)}\")"
   ]
  },
  {
   "cell_type": "code",
   "execution_count": 10,
   "metadata": {},
   "outputs": [],
   "source": [
    "symbols_to_replace = [\"'\", '\"', \";\", \"%\", '(', ')', '[', ']', '²', '€', '³', '+', '·']\n",
    "for symb in symbols_to_replace:\n",
    "    data_test_exp['FixedOutput'] = data_test_exp['FixedOutput'].apply(lambda x: x.replace(symb, ''))\n",
    "    data_test_in['ASROutput'] = data_test_in['ASROutput'].apply(lambda x: x.replace(symb, ''))\n",
    "    \n",
    "data_test_exp[\"FixedOutput\"] = data_test_exp[\"FixedOutput\"].apply(rm_consecutive_spaces)\n",
    "data_test_in[\"ASROutput\"] = data_test_in[\"ASROutput\"].apply(rm_consecutive_spaces)"
   ]
  },
  {
   "cell_type": "code",
   "execution_count": 11,
   "metadata": {
    "ExecuteTime": {
     "end_time": "2022-04-15T15:05:23.976661Z",
     "start_time": "2022-04-15T15:05:23.962540Z"
    }
   },
   "outputs": [],
   "source": [
    "with open(\"./data/out/eda/symbols_to_replace.txt\", \"w\", encoding=\"utf-8\") as outfile:\n",
    "    outfile.write(\"\\n\".join(symbols_to_replace))"
   ]
  },
  {
   "cell_type": "code",
   "execution_count": 12,
   "metadata": {},
   "outputs": [
    {
     "data": {
      "text/plain": [
       "\"['š', 'è', 'ř', 'ъ', 'и', 'м', 'я', 'к', '$', 'е', 'á', 'í', 'ö', 'р', 'с', 'ğ', 'б', 'č', 'ø', 'ě', 'т', 'у', 'з', 'ш', 'é', 'ý', 'ñ', 'ä', 'ü', 'а', 'п', 'д', 'β', 'в', 'о', 'л', 'н', 'à', 'ю']\""
      ]
     },
     "execution_count": 12,
     "metadata": {},
     "output_type": "execute_result"
    }
   ],
   "source": [
    "symbols_to_drop_test=list(set(symbols_to_drop_test)-set(symbols_to_replace)-set(' '))\n",
    "str(symbols_to_drop_test) # list of weird letters"
   ]
  },
  {
   "cell_type": "code",
   "execution_count": 13,
   "metadata": {
    "ExecuteTime": {
     "end_time": "2022-04-15T15:05:24.007772Z",
     "start_time": "2022-04-15T15:05:23.997681Z"
    }
   },
   "outputs": [],
   "source": [
    "with open(\"./data/out/test/non_polish_letters.txt\", \"w\", encoding=\"utf-8\") as outfile:\n",
    "    outfile.write(\"\\n\".join(symbols_to_drop_test))"
   ]
  },
  {
   "cell_type": "code",
   "execution_count": 14,
   "metadata": {},
   "outputs": [
    {
     "data": {
      "text/html": [
       "<div>\n",
       "<style scoped>\n",
       "    .dataframe tbody tr th:only-of-type {\n",
       "        vertical-align: middle;\n",
       "    }\n",
       "\n",
       "    .dataframe tbody tr th {\n",
       "        vertical-align: top;\n",
       "    }\n",
       "\n",
       "    .dataframe thead th {\n",
       "        text-align: right;\n",
       "    }\n",
       "</style>\n",
       "<table border=\"1\" class=\"dataframe\">\n",
       "  <thead>\n",
       "    <tr style=\"text-align: right;\">\n",
       "      <th></th>\n",
       "      <th>FileId</th>\n",
       "      <th>FixedOutput</th>\n",
       "    </tr>\n",
       "  </thead>\n",
       "  <tbody>\n",
       "    <tr>\n",
       "      <th>12</th>\n",
       "      <td>wikinews179354</td>\n",
       "      <td>prezydent usa george bush powiedział , że odno...</td>\n",
       "    </tr>\n",
       "    <tr>\n",
       "      <th>26</th>\n",
       "      <td>wikinews184437</td>\n",
       "      <td>szef unii chrześcijańsko - demokratycznej i wi...</td>\n",
       "    </tr>\n",
       "    <tr>\n",
       "      <th>57</th>\n",
       "      <td>wikitalks005217</td>\n",
       "      <td>zgłoszenie zostało przeniesione z wikipedia : ...</td>\n",
       "    </tr>\n",
       "    <tr>\n",
       "      <th>60</th>\n",
       "      <td>wikinews185732</td>\n",
       "      <td>świat obiegła informacja , że mehmet ali ağca ...</td>\n",
       "    </tr>\n",
       "    <tr>\n",
       "      <th>61</th>\n",
       "      <td>wikinews218360</td>\n",
       "      <td>na terenach wystawowych w pradze w dniach 13 -...</td>\n",
       "    </tr>\n",
       "  </tbody>\n",
       "</table>\n",
       "</div>"
      ],
      "text/plain": [
       "             FileId                                        FixedOutput\n",
       "12   wikinews179354  prezydent usa george bush powiedział , że odno...\n",
       "26   wikinews184437  szef unii chrześcijańsko - demokratycznej i wi...\n",
       "57  wikitalks005217  zgłoszenie zostało przeniesione z wikipedia : ...\n",
       "60   wikinews185732  świat obiegła informacja , że mehmet ali ağca ...\n",
       "61   wikinews218360  na terenach wystawowych w pradze w dniach 13 -..."
      ]
     },
     "execution_count": 14,
     "metadata": {},
     "output_type": "execute_result"
    }
   ],
   "source": [
    "test_noise_rows = []\n",
    "for i, row in data_test_exp.iterrows():\n",
    "    if any(x in data_test_exp.loc[i, 'FixedOutput'] for x in symbols_to_drop_test):\n",
    "        test_noise_rows.append(row['FileId'])\n",
    "\n",
    "data_test_exp_noise = data_test_exp[data_test_exp.FileId.isin(test_noise_rows)]\n",
    "\n",
    "data_test_exp_noise.to_csv('./data/out/test/test_noise.csv')\n",
    "\n",
    "data_test_exp_noise.head() # records to drop"
   ]
  },
  {
   "cell_type": "code",
   "execution_count": 15,
   "metadata": {},
   "outputs": [
    {
     "data": {
      "text/plain": [
       "15"
      ]
     },
     "execution_count": 15,
     "metadata": {},
     "output_type": "execute_result"
    }
   ],
   "source": [
    "len(data_test_exp_noise)"
   ]
  },
  {
   "cell_type": "code",
   "execution_count": 16,
   "metadata": {},
   "outputs": [
    {
     "data": {
      "text/html": [
       "<div>\n",
       "<style scoped>\n",
       "    .dataframe tbody tr th:only-of-type {\n",
       "        vertical-align: middle;\n",
       "    }\n",
       "\n",
       "    .dataframe tbody tr th {\n",
       "        vertical-align: top;\n",
       "    }\n",
       "\n",
       "    .dataframe thead th {\n",
       "        text-align: right;\n",
       "    }\n",
       "</style>\n",
       "<table border=\"1\" class=\"dataframe\">\n",
       "  <thead>\n",
       "    <tr style=\"text-align: right;\">\n",
       "      <th></th>\n",
       "      <th>fullstop</th>\n",
       "      <th>comma</th>\n",
       "      <th>question_mark</th>\n",
       "      <th>exclamation_mark</th>\n",
       "      <th>hyphen</th>\n",
       "      <th>colon</th>\n",
       "      <th>ellipsis</th>\n",
       "    </tr>\n",
       "    <tr>\n",
       "      <th>FileId</th>\n",
       "      <th></th>\n",
       "      <th></th>\n",
       "      <th></th>\n",
       "      <th></th>\n",
       "      <th></th>\n",
       "      <th></th>\n",
       "      <th></th>\n",
       "    </tr>\n",
       "  </thead>\n",
       "  <tbody>\n",
       "    <tr>\n",
       "      <th>wikinews179354</th>\n",
       "      <td>16.0</td>\n",
       "      <td>15.0</td>\n",
       "      <td>0.0</td>\n",
       "      <td>0.0</td>\n",
       "      <td>1.0</td>\n",
       "      <td>1.0</td>\n",
       "      <td>0.0</td>\n",
       "    </tr>\n",
       "    <tr>\n",
       "      <th>wikinews184437</th>\n",
       "      <td>10.0</td>\n",
       "      <td>11.0</td>\n",
       "      <td>0.0</td>\n",
       "      <td>0.0</td>\n",
       "      <td>1.0</td>\n",
       "      <td>0.0</td>\n",
       "      <td>0.0</td>\n",
       "    </tr>\n",
       "    <tr>\n",
       "      <th>wikitalks005217</th>\n",
       "      <td>23.0</td>\n",
       "      <td>20.0</td>\n",
       "      <td>4.0</td>\n",
       "      <td>0.0</td>\n",
       "      <td>1.0</td>\n",
       "      <td>15.0</td>\n",
       "      <td>0.0</td>\n",
       "    </tr>\n",
       "    <tr>\n",
       "      <th>wikinews185732</th>\n",
       "      <td>12.0</td>\n",
       "      <td>12.0</td>\n",
       "      <td>0.0</td>\n",
       "      <td>0.0</td>\n",
       "      <td>4.0</td>\n",
       "      <td>0.0</td>\n",
       "      <td>0.0</td>\n",
       "    </tr>\n",
       "    <tr>\n",
       "      <th>wikinews218360</th>\n",
       "      <td>25.0</td>\n",
       "      <td>10.0</td>\n",
       "      <td>0.0</td>\n",
       "      <td>0.0</td>\n",
       "      <td>4.0</td>\n",
       "      <td>0.0</td>\n",
       "      <td>0.0</td>\n",
       "    </tr>\n",
       "    <tr>\n",
       "      <th>wikitalks0014941</th>\n",
       "      <td>15.0</td>\n",
       "      <td>18.0</td>\n",
       "      <td>4.0</td>\n",
       "      <td>1.0</td>\n",
       "      <td>6.0</td>\n",
       "      <td>0.0</td>\n",
       "      <td>0.0</td>\n",
       "    </tr>\n",
       "    <tr>\n",
       "      <th>wikinews183089</th>\n",
       "      <td>11.0</td>\n",
       "      <td>15.0</td>\n",
       "      <td>0.0</td>\n",
       "      <td>0.0</td>\n",
       "      <td>3.0</td>\n",
       "      <td>2.0</td>\n",
       "      <td>0.0</td>\n",
       "    </tr>\n",
       "    <tr>\n",
       "      <th>wikinews226381</th>\n",
       "      <td>11.0</td>\n",
       "      <td>15.0</td>\n",
       "      <td>0.0</td>\n",
       "      <td>0.0</td>\n",
       "      <td>0.0</td>\n",
       "      <td>3.0</td>\n",
       "      <td>0.0</td>\n",
       "    </tr>\n",
       "    <tr>\n",
       "      <th>wikinews226751</th>\n",
       "      <td>9.0</td>\n",
       "      <td>9.0</td>\n",
       "      <td>0.0</td>\n",
       "      <td>0.0</td>\n",
       "      <td>0.0</td>\n",
       "      <td>0.0</td>\n",
       "      <td>0.0</td>\n",
       "    </tr>\n",
       "    <tr>\n",
       "      <th>wikinews230002</th>\n",
       "      <td>23.0</td>\n",
       "      <td>18.0</td>\n",
       "      <td>0.0</td>\n",
       "      <td>0.0</td>\n",
       "      <td>2.0</td>\n",
       "      <td>5.0</td>\n",
       "      <td>0.0</td>\n",
       "    </tr>\n",
       "    <tr>\n",
       "      <th>wikinews199816</th>\n",
       "      <td>3.0</td>\n",
       "      <td>71.0</td>\n",
       "      <td>0.0</td>\n",
       "      <td>0.0</td>\n",
       "      <td>26.0</td>\n",
       "      <td>92.0</td>\n",
       "      <td>0.0</td>\n",
       "    </tr>\n",
       "    <tr>\n",
       "      <th>wikinews231289</th>\n",
       "      <td>11.0</td>\n",
       "      <td>9.0</td>\n",
       "      <td>0.0</td>\n",
       "      <td>0.0</td>\n",
       "      <td>3.0</td>\n",
       "      <td>0.0</td>\n",
       "      <td>0.0</td>\n",
       "    </tr>\n",
       "    <tr>\n",
       "      <th>wikinews183185</th>\n",
       "      <td>10.0</td>\n",
       "      <td>13.0</td>\n",
       "      <td>0.0</td>\n",
       "      <td>0.0</td>\n",
       "      <td>1.0</td>\n",
       "      <td>0.0</td>\n",
       "      <td>0.0</td>\n",
       "    </tr>\n",
       "    <tr>\n",
       "      <th>wikinews180554</th>\n",
       "      <td>21.0</td>\n",
       "      <td>7.0</td>\n",
       "      <td>0.0</td>\n",
       "      <td>0.0</td>\n",
       "      <td>1.0</td>\n",
       "      <td>5.0</td>\n",
       "      <td>0.0</td>\n",
       "    </tr>\n",
       "    <tr>\n",
       "      <th>wikinews185273</th>\n",
       "      <td>13.0</td>\n",
       "      <td>9.0</td>\n",
       "      <td>0.0</td>\n",
       "      <td>0.0</td>\n",
       "      <td>3.0</td>\n",
       "      <td>0.0</td>\n",
       "      <td>0.0</td>\n",
       "    </tr>\n",
       "  </tbody>\n",
       "</table>\n",
       "</div>"
      ],
      "text/plain": [
       "                  fullstop  comma  question_mark  exclamation_mark  hyphen  \\\n",
       "FileId                                                                       \n",
       "wikinews179354        16.0   15.0            0.0               0.0     1.0   \n",
       "wikinews184437        10.0   11.0            0.0               0.0     1.0   \n",
       "wikitalks005217       23.0   20.0            4.0               0.0     1.0   \n",
       "wikinews185732        12.0   12.0            0.0               0.0     4.0   \n",
       "wikinews218360        25.0   10.0            0.0               0.0     4.0   \n",
       "wikitalks0014941      15.0   18.0            4.0               1.0     6.0   \n",
       "wikinews183089        11.0   15.0            0.0               0.0     3.0   \n",
       "wikinews226381        11.0   15.0            0.0               0.0     0.0   \n",
       "wikinews226751         9.0    9.0            0.0               0.0     0.0   \n",
       "wikinews230002        23.0   18.0            0.0               0.0     2.0   \n",
       "wikinews199816         3.0   71.0            0.0               0.0    26.0   \n",
       "wikinews231289        11.0    9.0            0.0               0.0     3.0   \n",
       "wikinews183185        10.0   13.0            0.0               0.0     1.0   \n",
       "wikinews180554        21.0    7.0            0.0               0.0     1.0   \n",
       "wikinews185273        13.0    9.0            0.0               0.0     3.0   \n",
       "\n",
       "                  colon  ellipsis  \n",
       "FileId                             \n",
       "wikinews179354      1.0       0.0  \n",
       "wikinews184437      0.0       0.0  \n",
       "wikitalks005217    15.0       0.0  \n",
       "wikinews185732      0.0       0.0  \n",
       "wikinews218360      0.0       0.0  \n",
       "wikitalks0014941    0.0       0.0  \n",
       "wikinews183089      2.0       0.0  \n",
       "wikinews226381      3.0       0.0  \n",
       "wikinews226751      0.0       0.0  \n",
       "wikinews230002      5.0       0.0  \n",
       "wikinews199816     92.0       0.0  \n",
       "wikinews231289      0.0       0.0  \n",
       "wikinews183185      0.0       0.0  \n",
       "wikinews180554      5.0       0.0  \n",
       "wikinews185273      0.0       0.0  "
      ]
     },
     "execution_count": 16,
     "metadata": {},
     "output_type": "execute_result"
    }
   ],
   "source": [
    "count_punctuation(data_test_exp_noise.set_index('FileId'), 'FixedOutput')"
   ]
  },
  {
   "cell_type": "code",
   "execution_count": 17,
   "metadata": {},
   "outputs": [
    {
     "data": {
      "text/plain": [
       "array(['wikinews179354', 'wikinews180554', 'wikinews183089',\n",
       "       'wikinews183185', 'wikinews184437', 'wikinews185273',\n",
       "       'wikinews185732', 'wikinews199816', 'wikinews218360',\n",
       "       'wikinews226381', 'wikinews226751', 'wikinews230002',\n",
       "       'wikinews231289', 'wikitalks0014941', 'wikitalks005217'],\n",
       "      dtype='<U16')"
      ]
     },
     "execution_count": 17,
     "metadata": {},
     "output_type": "execute_result"
    }
   ],
   "source": [
    "records_with_noise_test = np.unique(np.array(data_test_exp_noise['FileId'].tolist()))\n",
    "records_with_noise_test"
   ]
  },
  {
   "cell_type": "markdown",
   "metadata": {
    "ExecuteTime": {
     "end_time": "2022-04-15T08:55:53.249944Z",
     "start_time": "2022-04-15T08:55:53.231356Z"
    }
   },
   "source": [
    "## <span style='font-family:Georgia'> Non-character symbols statistics summary"
   ]
  },
  {
   "cell_type": "markdown",
   "metadata": {},
   "source": [
    "Count:\n",
    "* how many symbols_to_drop contain each record\n",
    "* how long is text in each record\n",
    "* percent of symbols_to_drop in whole string in each record\n"
   ]
  },
  {
   "cell_type": "code",
   "execution_count": 18,
   "metadata": {},
   "outputs": [
    {
     "data": {
      "text/html": [
       "<div>\n",
       "<style scoped>\n",
       "    .dataframe tbody tr th:only-of-type {\n",
       "        vertical-align: middle;\n",
       "    }\n",
       "\n",
       "    .dataframe tbody tr th {\n",
       "        vertical-align: top;\n",
       "    }\n",
       "\n",
       "    .dataframe thead th {\n",
       "        text-align: right;\n",
       "    }\n",
       "</style>\n",
       "<table border=\"1\" class=\"dataframe\">\n",
       "  <thead>\n",
       "    <tr style=\"text-align: right;\">\n",
       "      <th></th>\n",
       "      <th>FixedOutput</th>\n",
       "      <th>length</th>\n",
       "      <th>count of symbols_to_drop</th>\n",
       "      <th>percent</th>\n",
       "    </tr>\n",
       "  </thead>\n",
       "  <tbody>\n",
       "    <tr>\n",
       "      <th>12</th>\n",
       "      <td>prezydent usa george bush powiedział , że odno...</td>\n",
       "      <td>1790</td>\n",
       "      <td>1</td>\n",
       "      <td>0.055866</td>\n",
       "    </tr>\n",
       "    <tr>\n",
       "      <th>26</th>\n",
       "      <td>szef unii chrześcijańsko - demokratycznej i wi...</td>\n",
       "      <td>1129</td>\n",
       "      <td>10</td>\n",
       "      <td>0.885740</td>\n",
       "    </tr>\n",
       "    <tr>\n",
       "      <th>57</th>\n",
       "      <td>zgłoszenie zostało przeniesione z wikipedia : ...</td>\n",
       "      <td>1779</td>\n",
       "      <td>64</td>\n",
       "      <td>3.597527</td>\n",
       "    </tr>\n",
       "    <tr>\n",
       "      <th>60</th>\n",
       "      <td>świat obiegła informacja , że mehmet ali ağca ...</td>\n",
       "      <td>1210</td>\n",
       "      <td>5</td>\n",
       "      <td>0.413223</td>\n",
       "    </tr>\n",
       "    <tr>\n",
       "      <th>61</th>\n",
       "      <td>na terenach wystawowych w pradze w dniach 13 -...</td>\n",
       "      <td>2299</td>\n",
       "      <td>8</td>\n",
       "      <td>0.347977</td>\n",
       "    </tr>\n",
       "  </tbody>\n",
       "</table>\n",
       "</div>"
      ],
      "text/plain": [
       "                                          FixedOutput  length  \\\n",
       "12  prezydent usa george bush powiedział , że odno...    1790   \n",
       "26  szef unii chrześcijańsko - demokratycznej i wi...    1129   \n",
       "57  zgłoszenie zostało przeniesione z wikipedia : ...    1779   \n",
       "60  świat obiegła informacja , że mehmet ali ağca ...    1210   \n",
       "61  na terenach wystawowych w pradze w dniach 13 -...    2299   \n",
       "\n",
       "    count of symbols_to_drop   percent  \n",
       "12                         1  0.055866  \n",
       "26                        10  0.885740  \n",
       "57                        64  3.597527  \n",
       "60                         5  0.413223  \n",
       "61                         8  0.347977  "
      ]
     },
     "execution_count": 18,
     "metadata": {},
     "output_type": "execute_result"
    }
   ],
   "source": [
    "# count number of symbols_to_drop in each record\n",
    "fixed_output_test= data_test_exp_noise.loc[:,\"FixedOutput\"]\n",
    "count_test=[0 for i in range(len(fixed_output_test))]\n",
    "number_test=0\n",
    "for string in fixed_output_test:\n",
    "    for letter in string:\n",
    "        if letter in symbols_to_drop_test:\n",
    "            count_test[number_test] +=1\n",
    "    number_test+=1 #iterate for indexes, as from series only strings, without indexes\n",
    "    \n",
    "# count length of fixed output\n",
    "length_test=[0 for i in range(len(fixed_output_test))]\n",
    "number_test=0\n",
    "for string in fixed_output_test:\n",
    "    length_test[number_test]=len(string)\n",
    "    number_test+=1\n",
    "    \n",
    "df_fixed_output_test=pd.DataFrame(fixed_output_test)\n",
    "df_fixed_output_test['length']=length_test\n",
    "df_fixed_output_test['count of symbols_to_drop']=count_test\n",
    "df_fixed_output_test['percent']=[i/j*100 for i,j in zip(count_test, length_test)]\n",
    "\n",
    "df_fixed_output_test.head()"
   ]
  },
  {
   "cell_type": "code",
   "execution_count": 19,
   "metadata": {},
   "outputs": [
    {
     "name": "stdout",
     "output_type": "stream",
     "text": [
      "zgłoszenie zostało przeniesione z wikipedia : zgłoś błąd w artykule ponieważ prawdopodobnie nie zostało rozwiązane w ciągu 45 dni . 1 po co w tabelce ofiar rubryka fotografia , która jest kompletnie pusta ? 2 tu jest mowa o dwudniowej żałobie , nie trzydniowej . zgłasza : żyrafał 11 : 51 , 25 paź 2014 co to za miejsce pracy nauki komórka ? usunąłem zbędną kolumnę fotografia . natomiast nie wiem , co z tą żałobą . na en . wiki też jest trzydniowa . koveraslupus 14 : 31 , 25 paź 2014 na ru . wiki mamy dwa : президент беларуси александр лукашенко указом объявил 1 и 2 июня днями траура . a na en . wiki szablon o niepełnym uźródłowieniu . żyrafał 15 : 29 , 25 paź 2014 to co pisze enwiki i ruwiki kompletnie nas nie powinno interesować , bo wikipedia nie może być źródłem sama dla siebie . ma być podane to co dają zewnętrzne wiarygodne źródła , a jak takich nie ma to fragment usunąć . aotearoa dyskusja 15 : 51 , 25 paź 2014 żródło na 2 dni dałem w zgłoszeniu . żyrafał 15 : 56 , 25 paź 2014 poprawiłem na podstawie źródła i zamknąłem dyskusję . żyrafał 15 : 59 , 25 paź 2014 ja jednak ponowię pytanie : co to za komórka ? racja , umknęło mi to . na to pytanie odpowiedzi nie znam , więc nie poprawię . kto da radę ? żyrafał 16 : 36 , 25 paź 2014 ale z was trąby : przecież to jest tabelka . pusta , niewypełniona tabelka wyglądała tak a niech poprawia bladyniec . to on wstawił listę ofiar . 21 : 11 , 25 paź 2014 to jak już będzie poprawiał tabelę , to niech poprawi także błędy ortograficzne - nazwy cmentarzy i rejonów należy pisać mała literą . aotearoa dyskusja 22 : 00 , 25 paź 2014 komórki usunąłem w parę sekund . michał sobkowski dyskusja 10 : 48 , 28 paź 2014 zrobione . wybaczcie , to był mój pierwszy artykuł kiedykolwiek napisany w wikipedii . tomasz bladyniec\n",
      "\n",
      "\n"
     ]
    }
   ],
   "source": [
    "#  print whole records, which have at least 1% of characters to drop\n",
    "to_print_test=df_fixed_output_test[df_fixed_output_test['percent']>1]\n",
    "for i in range(len(to_print_test)):\n",
    "    print(to_print_test.iloc[i,:].FixedOutput)\n",
    "    print('\\n')"
   ]
  },
  {
   "cell_type": "markdown",
   "metadata": {
    "ExecuteTime": {
     "end_time": "2022-04-15T15:05:24.418552Z",
     "start_time": "2022-04-15T15:05:24.403460Z"
    }
   },
   "source": [
    "### Words containing non-characters symbols preview"
   ]
  },
  {
   "cell_type": "code",
   "execution_count": 20,
   "metadata": {},
   "outputs": [
    {
     "name": "stdout",
     "output_type": "stream",
     "text": [
      "['$', 'jiří čunek čunka jiří čunek jiří čunka', 'президент беларуси александр лукашенко указом объявил и июня днями траура', 'ağca ağca ağca ağcy ağcę', 'svět dwořáčkovej štípkova svět svět', 'βy βy βy', 'cuauhtémoc', 'gällivare bjørgen', 'alizée alizée mylène alizée à alizée', 'bjørndalena', 'björna jürgenowi björn sébastien söderling martín argüello karanušić martín cañas hernández josé jürgen jiří vaněk stéphane', 'mikuláša gašparoviča vladimír lipšic hrušovský', 'léon', 'düsseldorfie düsseldorfie düsseldorfu', 'tägtgren']\n"
     ]
    }
   ],
   "source": [
    "count_words_test=['' for i in range(len(fixed_output_test))]\n",
    "number_test=0\n",
    "for string in fixed_output_test:\n",
    "    words_in_string_test=string.split(' ')\n",
    "    for word in words_in_string_test:\n",
    "        count_letters_test=0\n",
    "        for letter in word:\n",
    "            if letter in symbols_to_drop_test:\n",
    "                count_letters_test+=1\n",
    "        if count_letters_test>0:\n",
    "            count_words_test[number_test]=count_words_test[number_test]+' '+ word\n",
    "    number_test+=1\n",
    "    \n",
    "count_words_test = list(map(str.lstrip, count_words_test))\n",
    "print(count_words_test)"
   ]
  },
  {
   "cell_type": "code",
   "execution_count": 21,
   "metadata": {},
   "outputs": [],
   "source": [
    "with open(\"./data/out/test/noisy_words.txt\", \"w\", encoding=\"utf-8\") as outfile:\n",
    "    outfile.write(\"\\n\".join(count_words_test))"
   ]
  },
  {
   "cell_type": "code",
   "execution_count": 22,
   "metadata": {},
   "outputs": [
    {
     "data": {
      "text/html": [
       "<div>\n",
       "<style scoped>\n",
       "    .dataframe tbody tr th:only-of-type {\n",
       "        vertical-align: middle;\n",
       "    }\n",
       "\n",
       "    .dataframe tbody tr th {\n",
       "        vertical-align: top;\n",
       "    }\n",
       "\n",
       "    .dataframe thead th {\n",
       "        text-align: right;\n",
       "    }\n",
       "</style>\n",
       "<table border=\"1\" class=\"dataframe\">\n",
       "  <thead>\n",
       "    <tr style=\"text-align: right;\">\n",
       "      <th></th>\n",
       "      <th>FixedOutput</th>\n",
       "      <th>length</th>\n",
       "      <th>count of symbols_to_drop</th>\n",
       "      <th>percent</th>\n",
       "      <th>words containing</th>\n",
       "    </tr>\n",
       "  </thead>\n",
       "  <tbody>\n",
       "    <tr>\n",
       "      <th>12</th>\n",
       "      <td>prezydent usa george bush powiedział , że odnowa nowego orleanu i innych zalanych terenów potrwa lata . stan luizjana , wraz ze stolicą nowym orleanem , ucierpiał w wyniku ataku huraganu katrina . prezydent skrócił swoje wakacje w teksasie oraz zwołał posiedzenie gabinetu , który obejmie kontrolę nad nadzorem akcji ratunkowej jednej z najgorszych katastrof naturalnych . bush wyznaczył trzy priorytety dotyczące walki ze skutkami kataklizmu : ratowanie życia ofiarom , w tym poszukiwanie zaginionych pomoc poszkodowanym i odnalezionym odbudowa i usuwanie szkód w ramach akcji ratunkowej przydzielono dodatkowo 10 tysięcy żołnierzy , którzy wspomogą operację w regionach najbardziej dotkniętych katastrofą . zaliczają się do nich części stanów luizjany i mississippi . służby medyczne zaoferowały ponad 10 tysięcy łóżek , zaś armia amerykańska wysyła swoje helikoptery i łodzie aby uratować mieszkańców znajdujących się w schronieniu . późnym wieczorem , w środę , rozpoczęła się ewakuacja reszty mieszkańców nowego orleanu - tych , którzy pozostali w schronach oraz na stadionie superdome w centrum miasta . ich liczbę szacuje się na 20000 ludzie są wywożeni do oddalonego o 350 mil stadionu astrodome w houston . w tym celu podstawiono 300 autobusów . niektórzy wykorzystują sytuację i w poszukiwaniu jedzenia lub cennych rzeczy włamują się do domów , biur , szpitali . rozbijają szyby , wyłamują drzwi . wleką za sobą to , co udaje się im unieść bądź przenieść . uderzenie huraganu katrina spowodowało wzrost cen benzyny w wielu częściach stanów zjednoczonych . osiągnęła ona wartość powyżej 3 dolarów za galon . w niektórych stanach wynosi ona 3 50 $ . nad zatoką meksykańską umiejscowiony jest jeden z największych okręgów przemysłowych , mieszczącym wiele rafinerii oraz rurociągów .</td>\n",
       "      <td>1790</td>\n",
       "      <td>1</td>\n",
       "      <td>0.055866</td>\n",
       "      <td>$</td>\n",
       "    </tr>\n",
       "    <tr>\n",
       "      <th>26</th>\n",
       "      <td>szef unii chrześcijańsko - demokratycznej i wicepremier czech , jiří čunek poinformował w czwartek , że 7 listopada poda się do dymisji . jego decyzja jest spowodowana zarzutami jakie wobec niego wysunęła czeska prokuratura . zarzuca się mu , że w latach 90 jego rodzina nielegalnie pobierała świadczenia socjalne . w tym samym okresie na koncie čunka miało znajdować się ponad 3 , 5 mln koron . dodatkowo jiří čunek zataił przed urzędem podatkowym to , iż posiada tak znaczne dochody . już wcześniej czeskiemu wicepremierowi stawiano aferalne zarzuty . oskarżano go o to , że będąc starosta morawskiej vesztiny przyjął półmilionową łapówkę . miało to być wynagrodzenia ze strony pewnej firmy , której umożliwiono wykup pakietu większościowego w komunalnym przedsiębiorstwie zajmującym się budową mieszkań . udało mu się te zarzuty oddalić , jednak wpisał się nimi do historii czech jako pierwszy członek rządu , którego oskarżono o korupcje . w obliczu obecnej afery jiří čunka złożył dymisję ze stanowiska w rządzie , jednocześnie zapowiadając , że nie ma zamiaru rezygnować z przewodniczenie swojej partii i mandatu senatora .</td>\n",
       "      <td>1129</td>\n",
       "      <td>10</td>\n",
       "      <td>0.885740</td>\n",
       "      <td>jiří čunek čunka jiří čunek jiří čunka</td>\n",
       "    </tr>\n",
       "    <tr>\n",
       "      <th>57</th>\n",
       "      <td>zgłoszenie zostało przeniesione z wikipedia : zgłoś błąd w artykule ponieważ prawdopodobnie nie zostało rozwiązane w ciągu 45 dni . 1 po co w tabelce ofiar rubryka fotografia , która jest kompletnie pusta ? 2 tu jest mowa o dwudniowej żałobie , nie trzydniowej . zgłasza : żyrafał 11 : 51 , 25 paź 2014 co to za miejsce pracy nauki komórka ? usunąłem zbędną kolumnę fotografia . natomiast nie wiem , co z tą żałobą . na en . wiki też jest trzydniowa . koveraslupus 14 : 31 , 25 paź 2014 na ru . wiki mamy dwa : президент беларуси александр лукашенко указом объявил 1 и 2 июня днями траура . a na en . wiki szablon o niepełnym uźródłowieniu . żyrafał 15 : 29 , 25 paź 2014 to co pisze enwiki i ruwiki kompletnie nas nie powinno interesować , bo wikipedia nie może być źródłem sama dla siebie . ma być podane to co dają zewnętrzne wiarygodne źródła , a jak takich nie ma to fragment usunąć . aotearoa dyskusja 15 : 51 , 25 paź 2014 żródło na 2 dni dałem w zgłoszeniu . żyrafał 15 : 56 , 25 paź 2014 poprawiłem na podstawie źródła i zamknąłem dyskusję . żyrafał 15 : 59 , 25 paź 2014 ja jednak ponowię pytanie : co to za komórka ? racja , umknęło mi to . na to pytanie odpowiedzi nie znam , więc nie poprawię . kto da radę ? żyrafał 16 : 36 , 25 paź 2014 ale z was trąby : przecież to jest tabelka . pusta , niewypełniona tabelka wyglądała tak a niech poprawia bladyniec . to on wstawił listę ofiar . 21 : 11 , 25 paź 2014 to jak już będzie poprawiał tabelę , to niech poprawi także błędy ortograficzne - nazwy cmentarzy i rejonów należy pisać mała literą . aotearoa dyskusja 22 : 00 , 25 paź 2014 komórki usunąłem w parę sekund . michał sobkowski dyskusja 10 : 48 , 28 paź 2014 zrobione . wybaczcie , to był mój pierwszy artykuł kiedykolwiek napisany w wikipedii . tomasz bladyniec</td>\n",
       "      <td>1779</td>\n",
       "      <td>64</td>\n",
       "      <td>3.597527</td>\n",
       "      <td>президент беларуси александр лукашенко указом объявил и июня днями траура</td>\n",
       "    </tr>\n",
       "    <tr>\n",
       "      <th>60</th>\n",
       "      <td>świat obiegła informacja , że mehmet ali ağca , który dokonał nieudanego zamachu na papieża jana pawła ii na placu św . piotra w rzymie , będzie się starał o nadanie mu polskiego obywatelstwa . minister spraw zagranicznych radosław sikorski nazwał to szczytem bezczelności . ağca ma wyjść na wolność za 2 lata . jak zapowiedział , będzie się starał o polskie obywatelstwo . jest taka seria dowcipów o szczycie bezczelności . myślę , że pan ali ağca przebił wiele z nich , mam nadzieję , że następna nie będzie erica steinbach - skomentował sprawę szef dyplomacji radosław sikorski . wniosek o przyznanie polskiego obywatelstwa ağcy ma trafić do polskiej placówki dyplomatycznej w ankarze w przyszłym tygodniu dostarczy go pełnomocnik turka . według msz powodzenie tego wniosku - przede wszystkim ze względów formalnych - jest nikłe . jak zaznacza rzecznik msz , przyznawanie obywatelstwa to domena prezydenta , ale są jednak formalne warunki , których spełnienie przez ali ağcę jest niemożliwe lub prawie niemożliwe . nasza placówka twierdzi , że np . trudno będzie formalnie spełnić wymóg podpisania takiego wniosku przez zainteresowanego , który aktualnie przebywa w więzieniu - powiedział piotr paszkowski .</td>\n",
       "      <td>1210</td>\n",
       "      <td>5</td>\n",
       "      <td>0.413223</td>\n",
       "      <td>ağca ağca ağca ağcy ağcę</td>\n",
       "    </tr>\n",
       "    <tr>\n",
       "      <th>61</th>\n",
       "      <td>na terenach wystawowych w pradze w dniach 13 - 16 maja 2010 r . odbyły się targi książki svět knihy . w tym roku gościem honorowym targów była polska . w ich pierwszym dniu swoje wystąpienie miał minister kultury i dziedzictwa narodowego bogdan zdrojewski . podkreślił w nim bliskość kultur czeskiej i polskiej . w targach uczestniczyli polscy pisarze i poeci , w tym też noblistka wisława szymborska . fragmenty jej twórczości , zarówno w języku polskim jak i w czeskim przekładzie vlasty dwořáčkovej , przedstawiła aktorka maria štípkova . były to zaprawione odrobiną ironii fragmenty korespondencji noblistki z młodymi autorami . już drugi raz udział w targach svět knihy wzięło stowarzyszenie wikimedia republika czeska . czescy wikimedianie uznali , że odwiedzający targi są zainteresowani wikipedią i mogą stać się jej przyszłymi edytorami . magnesem przyciągającym młodszych gości targów było urządzenie multimedialne microsoft surface wypożyczone przez microsoft czechy . ponadto na stoisku zainstalowano dwa wielkoformatowe monitory , na których zainteresowanym prezentowano możliwości wikipedii . na stoisku wyłożono foldery dotyczące wikipedii , projektów pokrewnych oraz informacje na temat stowarzyszenia wikimedia czechy . czeskie stowarzyszenie - podobnie jak i polskie - wspiera ruch wolnego oprogramowania i twórczości na wolnych licencjach . polskim akcentem na stoisku była prezentacja monografii miejscowości gwoździany , napisanej przez jednego z polskich wikimedian i opatrzonej licencją creative commons . w piątek , 14 maja w sali konferencyjnej przedstawiciele stowarzyszenia przedstawili multimedialną prezentację jak powstaje wikipedia . w rzeczywistym czasie pokazano tworzenie artykułu od zalążka do uźródłowionego tekstu w końcowym etapie . dzień później , 15 maja wręczono nagrody za stworzenie lub rozwinięcie artykułu w czeskojęzycznej wikipedii . w ramach tego konkursu powstało lub poprawiono ok . 300 haseł . poza statuetkami z logo wikipedii , wręczono nagrody rzeczowe ufundowane przez sponsorów . wśród nagrodzonych znalazł się artykuł karta kredytowa rozwinięty przez nową edytorkę . udział stowarzyszenia wikimedia republika czeska był możliwy dzięki nieodpłatnemu udostępnieniu powierzchni wystawowej przez organizatora targów - firmę svět knihy s . r . o .</td>\n",
       "      <td>2299</td>\n",
       "      <td>8</td>\n",
       "      <td>0.347977</td>\n",
       "      <td>svět dwořáčkovej štípkova svět svět</td>\n",
       "    </tr>\n",
       "    <tr>\n",
       "      <th>82</th>\n",
       "      <td>skąd informacja , że krzyż i tablica były umieszczone nielegalnie ? czy autor edycji mógłby podać źródło ? czy liczy się dodanie , jeśli dodał nieautor ? piastu βy język giętki . hallo piast , nie odpowiedziales na pytanie - skad wiadomo , ze nielegalnie ? podales tylko informacje z prasy prorzadowej . nie wiesz czy leganlnie czy tez nielegalnie - a wiec nie ruszaj tematu - wszedzie te przemadrzale lemingi , co za kraj ! podałem źródło , tego wymagają zasady wikipedii , i stało im się zadość . jeśli masz możliwość podania źródła , które wskazuje na legalność umieszczenia tablicy - podaj je . wikipedia stara się być neutralna , jeśli informacje są sprzeczne , podajemy wszelkie dostępne w źródłach wersje . pozdrawiam piastu βy język giętki . to podaj i przerob zyciorys stalina i lenina , mozesz dolozyc marksa , bieruta wedlug komsomolskiej prawdy i trybuny ludu - tez sa zrodla , a wiec wlacz najpierw troche rozumu . rozum on tpn pozwala postawić tablice - stoją legalnie . tpn zdejmuje tablice , bo są nielegalne . tak , to się kupy trzyma . tylko kupy . rozum off . proszę , podaj źródło , które przeczy temu zdaniu w jego obecnym kształcie , a nie zajmuj się moim rozumem . dziękuję . piastu βy język giętki .</td>\n",
       "      <td>1223</td>\n",
       "      <td>3</td>\n",
       "      <td>0.245298</td>\n",
       "      <td>βy βy βy</td>\n",
       "    </tr>\n",
       "    <tr>\n",
       "      <th>109</th>\n",
       "      <td>dziś tuż przed godziną dziesiątą zawitał w szczecinie jacht rona ii . tuż po nim , na horyzoncie pojawił się żaglowiec szkolny marynarki wojennej republiki meksyku - arm cuauhtémoc . była to zapowiedź finału the tall ships races , który w tym roku po raz pierwszy obył się w szczecinie . po odwiedzeniu takich miejscowości jak warns , arhus , kotka , helsinki i sztokholm żaglowce i jachty trafiły do stolicy zachodniopomorskiego . pierwszy z wielkich trójmasztowców został gorąco przywitany przez licznie zgromadzonych widzów podczas prezentującej się bardzo okazale w wielkiej gali banderowej . tym samym nieoficjalny finał operacji żagiel w szczecinie został rozpoczęty . kolejnym dużym żaglowcem , który przybił do nabrzeża szczecińskiego portu był sts dar młodzieży witany w samo południe . oprócz jednostek robiących olbrzymie wrażenie pojawiły się również mniejsze , choć równie ciepło witane i wyczekiwane : sorlandet , concordia , akela , steppe , pacyfica , sirma , anita i inne . z polskich żaglowców i jachtów pojawiły się również : gedania , kapitan głowacki oraz jacht stary - który w 2007 roku pokonał przejście północno - zachodnie w 100 lat po wyprawie roalda amundsena z najmłodszą załogą . nieoficjalnie zwycięzcą regat the tall ships w klasie c został dar szczecina , który również ma duże szanse na laury w klasyfikacji generalnej . oficjalne rozpoczęcie imprezy odbędzie się 4 sierpnia o godz . 17 0</td>\n",
       "      <td>1421</td>\n",
       "      <td>1</td>\n",
       "      <td>0.070373</td>\n",
       "      <td>cuauhtémoc</td>\n",
       "    </tr>\n",
       "    <tr>\n",
       "      <th>126</th>\n",
       "      <td>inaugurujący ten sezon pucharu świata w biegach narciarskich bieg na 10 kilometrów stylem dowolnym w szwedzkim gällivare zwyciężyła obrończyni kryształowej kuli , norweżka marit bjørgen . zwyciężyni osiągnęła czas 22 minut i 31 , 8 sekundy . tym samym objęła prowadzenie w klasyfikacji generalnej i dystansowej . drugie miejsce , ze stratą 12 , 6 sekundy zajęła jej rodaczka , therese johaug . na trzecim uplasowała się amerykańska sprinterka kikkan randall . na czwartym miejscu uplasowała się reprezentantka gospodarzy charlotte kalla , piąta była amerykanka holly brooks , która po raz pierwszy zajęła miejsce w pierwszej dziesiątce indywidualnych zawodów pś . kolejne miejsca w pierwszej dziesiątce zajęły : vibeke skofterud , lisa larsen , martine hagen , julia czekaljewa i natalia korostieljewa . jedna z czołowych biegaczek świata , justyna kowalczyk , która niedawno zwyciężyła kilka zawodów pucharu fis , zajęła dopiero 27 miejsce , z czasem 23 : 55 3 min . jej rodaczki : sylwia jaśkowiec i paulina maciuszek zajęły odpowiednio 44 i 54 miejsce . sklasyfikowano 77 na 78 zgłoszonych zawodniczek . jutro odbędzie się konkurs sztafet 4x5 km , a w dniach od 30 listopada do 2 grudnia biegaczki konkurować będą w fińskim kuusamo w ramach ruka triple .</td>\n",
       "      <td>1258</td>\n",
       "      <td>2</td>\n",
       "      <td>0.158983</td>\n",
       "      <td>gällivare bjørgen</td>\n",
       "    </tr>\n",
       "    <tr>\n",
       "      <th>135</th>\n",
       "      <td>pochodząca z korsyki francuska piosenkarka alizée wydała swoją piątą płytę , zatytułowaną 5 . dziennikarze muzyczni zauważają , że ten nawiązujący muzycznie do lat 60 krążek jest jak dotychczas najdojrzalszym dziełem artystki . na początku kariery alizée jacotey była podopieczną piosenkarki i kompozytorki mylène farmer oraz lauranta boutonnata , producenta , ówczesnego męża tej ostatniej . jako szesnastolatka , w 2000 roku alizée wylansowała kilka międzynarodowych przebojów , które zamieszczono na jej debiutanckim cd gourmandises , sprzedanym na świecie w ilości ponad 2 milionów egzemplarzy . na kolejnych płytach słuchacze otrzymywali taneczną muzykę pop z elementami piosenki francuskiej oraz utwory w stylu electro . żaden z tych albumów nie powtórzył komercyjnego sukcesu debiutu piosenkarki . tym razem piosenkarka zaprosiła do współpracy alexandrea azarię , znanego udziału w projektach zespołu indochine , zazie i wielu innych . na 5 proponuje słuchaczom pop dla dojrzałych z wyraźnymi echami muzyki lat 60 płytę zapowiedział singel à cause de lautomne wydany już w lipcu 2012 r . do singla alizée nakręciła teledysk z wizualnymi aluzjami do wczesnych filmów o jamesie bondzie .</td>\n",
       "      <td>1192</td>\n",
       "      <td>6</td>\n",
       "      <td>0.503356</td>\n",
       "      <td>alizée alizée mylène alizée à alizée</td>\n",
       "    </tr>\n",
       "    <tr>\n",
       "      <th>137</th>\n",
       "      <td>dziś na biatlonowych trasach w cesana san sicarlo odbyły się męski oraz żeński bieg pościgowy . wcześniej , bo o 12 : 30 wystartowały panie , w tym reprezentantki polski : magdalena gwizdoń , krystyna pałka oraz magdalena nykiel . kolejność startu związana była bezpośrednio z wynikami w sprincie . według tego przelicznika pierwsza wystartowała złota medalistka tej konkurencji , francuzka florence baverel - robert dwie sekundy po niej srebrna medalistka szwedka anna carin olofsson . magdalena gwizdoń startowała z 1 : 23 straty , krystyna pałka miała 1 : 36 straty , a magdalena nykiel ponad 3 minuty . najlepszym strzelaniem oraz biegiem popisała się reprezentantka niemiec kati wilhelm , chybiając tylko raz , mimo straty 18 sekund do baverel - robert na starcie . po srebro przybiegła ponad minutę 10 sekund później jej rodaczka martina glagow . trzecia była rosjanka albina achatowa . najlepsza spośród polek , m . gwizdoń , uplasowała się na 21 miejscu , k . pałka była 37 , a m . nykiel nie ukończyła , gdyż została zdublowana na trasie przez zwyciężczynię k . wilhelm . mężczyźni wystartowali później , o 14 : 30 , i na dłuższym dystansie . jako pierwszy startował sven fischer , w osiem sekund za nim norweg halvard hanevold . oboje nie strzelali jednak dobrze i na końcowych metrach nie liczyli się w walce o złoto . tuż przed metą razem biegli jeszcze norweg ole einar bjoerndalen oraz francuz vincent defrasne . w najmniej spodziewanym momencie francuz zaatakował niemal pewnego złota bjørndalena , wyprzedził go i zdobył złoty medal . o . e . bjoerndalen musiał zadowolić się srebrem . na trzecim miejscu przybiegł startujący z numerem 1 zwycięzca sprintu sven fischer . tomasz sikora przybiegł na 18 miejscu , a wiesław ziemianin na 30 miejscu .</td>\n",
       "      <td>1762</td>\n",
       "      <td>1</td>\n",
       "      <td>0.056754</td>\n",
       "      <td>bjørndalena</td>\n",
       "    </tr>\n",
       "    <tr>\n",
       "      <th>151</th>\n",
       "      <td>hiszpan rafael nadal , lider rankingu tenisistów , pokonał niemca björna phaua 7 : 6 , 6 : 3 , 7 : 6 i awansował do drugiej rundy wielkoszlemowego turnieju us open , który w poniedziałek rozpoczął się na twardych kortach w nowym jorku . jedynym rozstawionym zawodnikiem , który odpadł w pierwszym dniu imprezy , jest feliciano lópez . hiszpan uległ jürgenowi melzerowi . wyniki poniedziałkowych meczów pierwszej rundy : rafael nadal - björn phau 7 : 6 , 6 : 3 , 7 : 6 ryler de heart - olivier rochus 7 : 6 , 5 : 7 , 6 : 4 , 3 : 6 , 6 : 4 viktor troicki - carsten ball 7 : 6 , 6 : 0 , 6 : 1 philipp kohlschreiber - luis horna 6 : 2 , 6 : 3 , 6 : 2 james blake - donald young 6 : 1 , 3 : 6 , 6 : 1 , 4 : 6 , 6 : 4 steve darcis - denis gremelmayr 6 : 1 , 6 : 7 , 7 : 6 , 6 : 4 sébastien grosjean - paul henri - mathieu gal monfils - pablo cuevas 6 : 4 , 6 : 4 , 6 : 1 jewgienij korolow - robin söderling 7 : 6 , 6 : 3 , 7 : 6 andriej gołubiew - brendan evans 6 : 4 , 6 : 3 , 6 : 2 david nalbandian - marcos daniel 6 : 1 , 6 : 2 , 6 : 4 david ferrer - martín vassallo argüello 7 : 6 , 6 : 2 , 6 : 2 andreas beck - john isner 7 : 6 , 6 : 4 , 7 : 6 roko karanušić - ryan sweeting 7 : 5 , 7 : 5 , 3 : 6 , 6 : 2 kei nishikori - juan mónaco 6 : 2 , 6 : 2 , 5 : 7 , 6 : 2 juan martín del potro - guillermo cañas 4 : 6 , 7 : 6 , 6 : 4 , 6 : 1 thomaz bellucci - óscar hernández 6 : 3 , 6 : 7 , 6 : 4 , 7 : 5 josé acasuso - michael berrer 6 : 4 , 6 : 2 , 6 : 2 gilles simon - marcel granollers 6 : 4 , 6 : 3 , 5 : 7 , 6 : 2 stanislas wawrinka - simone bolelli 7 : 6 , 6 : 3 , 6 : 3 wayne odesnik - fabio fognini 2 : 6 , 6 : 0 , 4 : 6 , 6 : 3 , 6 : 4 jürgen melzer - feliciano lópez 4 : 6 , 7 : 6 , 6 : 2 , 2 : 6 , 6 : 4 jiří vaněk - stéphane bohli 3 : 6 , 6 : 3 , 6 : 2 , 7 : 5 michal llodra - teimuraz gabaszwili 6 : 3 , 5 : 7 , 7 : 6 , 7 : 6 andy murray - sergio roitman 6 : 3 , 6 : 4 , 6 : 0</td>\n",
       "      <td>1881</td>\n",
       "      <td>17</td>\n",
       "      <td>0.903775</td>\n",
       "      <td>björna jürgenowi björn sébastien söderling martín argüello karanušić martín cañas hernández josé jürgen jiří vaněk stéphane</td>\n",
       "    </tr>\n",
       "    <tr>\n",
       "      <th>165</th>\n",
       "      <td>ruch chrześcijańsko demokratyczny opuścił w poniedziałek koalicję rządową premiera mikuláša dzurindy . do dymisji podało się trzech ministrów pochodzących z kdh oraz wiceministrowie związani z tą partią . powodem rozpadu koalicji był sprzeciw słowackiej unii demokratyczno - chrześcijańskiej w sprawie przyjęcia ustawy o klauzuli sumienia . ustawa ta gwarantowała słowakom możliwość odmówienia wykonania niektórych czynności zawodowych z powodu przekonań religijnych . na ręce prezydenta słowacji , ivana gašparoviča dymisje złożyli dziś minister spraw wewnętrznych vladimír palko , minister sprawiedliwości daniel lipšic oraz minister edukacji martin fronc . szef kdh , pavol hrušovský , pełniący funkcję przewodniczącego słowackiego parlamentu , zapowiedział , że również zrezygnuje z zajmowanego stanowiska . ruch chrześcijańsko - demokratyczny ogłosił już przejście do opozycji i poparcie wotum nieufności wobec rządu premiera dzurindy . po przejściu ruchu chrześcijańsko - demokratycznego do opozycji , koalicja rządowa będzie dysponować 53 mandatami w 150 miejscowym parlamencie . opozycja będzie posiadać 74 mandatów , zaś pozostałe 23 miejsca zajmą parlamentarzyści bezpartyjni . tym samym rząd dzurindy utracił poparcie większości parlamentu . wśród możliwych scenariuszy wymienia się możliwość rozpisania przedterminowych wyborów , które mogły by się odbyć w maju lub czerwcu 2006 roku .</td>\n",
       "      <td>1397</td>\n",
       "      <td>8</td>\n",
       "      <td>0.572656</td>\n",
       "      <td>mikuláša gašparoviča vladimír lipšic hrušovský</td>\n",
       "    </tr>\n",
       "    <tr>\n",
       "      <th>169</th>\n",
       "      <td>koldo gil , który pierwotnie był uznany za jednego z kolarzy współpracujących z okrytym złą sławą lekarzem eufemiano fuentesem , został właśnie wykreślony z kręgu podejrzeń przez międzynarodową unię kolarską . oznacza to , że zawodnik będzie mógł teraz bez problemów startować we wszystkich najważniejszych imprezach kolarskich . chociaż oficjalnie zawodnicy będący na liście fuentesa mogą startować we wszystkich wyścigach , organizatorzy wielu z nich proszą ekipy o niewystawianie tych zawodników , a ekipy najczęściej idąc na rękę organizatorom , przystają na takie rozwiązania . wśród tych zawodników do niedawna jeszcze znajdował się koldo gil z ekipy saunier duval , który przez pierwszą część sezonu startował jedynie w małych imprezach , nie mając nadziei na rywalizację na najwyższym poziomie . po pozytywnej decyzji uci hiszpan liczy na swój start w hiszpańskiej vuelcie . to był dla mnie bardzo ciężki okres . teraz , gdy już moje nazwisko zostało wreszcie oczyszczone , ciężar spadł mi z barków . mogę spokojnie przygotowywać się do kolejnych startów i liczę , że zostanę wybrany do udziału w vuelta espana - skomentował całą sytuację zawodnik . gil mimo problemów odnosi w tym sezonie sukcesy . na początku maja triumfował w subida al naranco i etapowym wyścigu vuelta asturias . poza tym był drugi w klasyfikacji generalnej vuelta castilla y léon , w której uległ jedynie alberto cantadorowi , a także czwarty w vuelta a murcia i dziesiąty w należącym do pro touru wyścigu vuelta al pais vasco</td>\n",
       "      <td>1507</td>\n",
       "      <td>1</td>\n",
       "      <td>0.066357</td>\n",
       "      <td>léon</td>\n",
       "    </tr>\n",
       "    <tr>\n",
       "      <th>177</th>\n",
       "      <td>na 5 , 5 km prologu w düsseldorfie zawodników przywitała nie najlepsza pogoda . czasami nawet utrudniała ona bardzo jazdę specjalistom od czasówek . pierwszym liderem deutschland tour został władimir gusiew , który wyprzedził o setne sekundy linusa gerdemanna . trzeci był sebastian lang . władimir gusiew przemierzył 5500 m ze średnią prędkością 48 km h i uzyskał czas 6 : 42 rosyjski mistrz świata w tej dziedzinie kolarstwa z 2005 , który w tym sezonie przeszedł z team csc do discovery . dzisiejszy triumf był jego największym sukcesem w zawodowej karierze . drugi był niemiec linus gerdemann , który przegrał z rosjaninem o 11 setnych sekund . zawodnik w : t - mobile team powiedział : nie lubię takich krótkich czasówek . chętnie bym pojechał dłuższą . jednak i tak nie mam co narzekać . przygotowywałem się specjalnie na ten wyścig i teraz widać tego efekty . gerdemann przed rokiem podobnie jak zwycięzca bronił barw team csc . niemiec miał to szczęście , że podczas swojej jazdy nie napotkał deszczu . trzeci był sebastian lang , który powiedział : jestem rozczarowany . zdobycie żółtej koszulki w düsseldorfie było moim celem . teraz mierze w tą dłuższą czasówkę , która odbędzie się pod koniec wyścigu . zwycięzca z zeszłego roku levi leipheimer był dopiero 111 o wiele lepiej zaprezentował się wracający do peletonu kazach aleksander vinokurov . vino uzyskał czas 6 : 52 i zajął 10 miejsce . jedyny polak w wyścigu piotr mazur zajął 96 miejsce tracąc do lidera 35 sekund . jutro 1 etap wyścigu . 198 km płaski odcinek z düsseldorfu do bielefeldu .</td>\n",
       "      <td>1559</td>\n",
       "      <td>3</td>\n",
       "      <td>0.192431</td>\n",
       "      <td>düsseldorfie düsseldorfie düsseldorfu</td>\n",
       "    </tr>\n",
       "    <tr>\n",
       "      <th>189</th>\n",
       "      <td>european passion play 2008 pod ta nazwą symfoniczno - metalowy zespół z finlandii nightwish rozpocznie swoją trasę koncertową . zespół zagra w polsce . jedyny koncert odbędzie się w krakowskiej hali wisły 19022 1008 r . nightwish będzie promował album dark passion play - pierwszą płytę nightwish , na której można usłyszeć głos anette olzon , która zastąpiła poprzednią wokalistkę zespołu tarję turunen . już w dniu premiery w finlandii , dark passion play trafiła na pierwsze miejsce listy sprzedaży płyt i osiągnęła status platyny . w ciągu 24 godzin , w samej finlandii sprzedano ponad 40200 0 egzemplarzy płyty . w roli supportu zagra formacja pain , którą założył peter tägtgren znany z hypocrisy . nightwish - to grupa założona w 1996 w finlandii . ich muzyka składa się z połączenia ostrych gitarowych riffów , wyraźnego dźwięku klawiszów oraz kobiecego głosu tarji turunen a następnie anette olzon . muzykę graną przez zespół definiuje się jako połączenie symfonicznego metalu , power metalu oraz opery metalu . grupę cechują poetyckie teksty utworów nawiązujące m . in . do astrologii , świata astralnego i fantasy , w większości napisane przez instrumentalistę zespołu tuomasa holopainena .</td>\n",
       "      <td>1202</td>\n",
       "      <td>1</td>\n",
       "      <td>0.083195</td>\n",
       "      <td>tägtgren</td>\n",
       "    </tr>\n",
       "  </tbody>\n",
       "</table>\n",
       "</div>"
      ],
      "text/plain": [
       "                                                                                                                                                                                                                                                                                                                                                                                                                                                                                                                                                                                                                                                                                                                                                                                                                                                                                                                                                                                                                                                                                                                                                                                                                                                                                                                                                                                                                                                                                                                                                                                                                                                                                                                                                                                                                                                                                                                                                                                                                                                                                                                                                                                                                                                                                                                                                                                     FixedOutput  \\\n",
       "12                                                                                                                                                                                                                                                                                                                                                                                                                                                                                                                                prezydent usa george bush powiedział , że odnowa nowego orleanu i innych zalanych terenów potrwa lata . stan luizjana , wraz ze stolicą nowym orleanem , ucierpiał w wyniku ataku huraganu katrina . prezydent skrócił swoje wakacje w teksasie oraz zwołał posiedzenie gabinetu , który obejmie kontrolę nad nadzorem akcji ratunkowej jednej z najgorszych katastrof naturalnych . bush wyznaczył trzy priorytety dotyczące walki ze skutkami kataklizmu : ratowanie życia ofiarom , w tym poszukiwanie zaginionych pomoc poszkodowanym i odnalezionym odbudowa i usuwanie szkód w ramach akcji ratunkowej przydzielono dodatkowo 10 tysięcy żołnierzy , którzy wspomogą operację w regionach najbardziej dotkniętych katastrofą . zaliczają się do nich części stanów luizjany i mississippi . służby medyczne zaoferowały ponad 10 tysięcy łóżek , zaś armia amerykańska wysyła swoje helikoptery i łodzie aby uratować mieszkańców znajdujących się w schronieniu . późnym wieczorem , w środę , rozpoczęła się ewakuacja reszty mieszkańców nowego orleanu - tych , którzy pozostali w schronach oraz na stadionie superdome w centrum miasta . ich liczbę szacuje się na 20000 ludzie są wywożeni do oddalonego o 350 mil stadionu astrodome w houston . w tym celu podstawiono 300 autobusów . niektórzy wykorzystują sytuację i w poszukiwaniu jedzenia lub cennych rzeczy włamują się do domów , biur , szpitali . rozbijają szyby , wyłamują drzwi . wleką za sobą to , co udaje się im unieść bądź przenieść . uderzenie huraganu katrina spowodowało wzrost cen benzyny w wielu częściach stanów zjednoczonych . osiągnęła ona wartość powyżej 3 dolarów za galon . w niektórych stanach wynosi ona 3 50 $ . nad zatoką meksykańską umiejscowiony jest jeden z największych okręgów przemysłowych , mieszczącym wiele rafinerii oraz rurociągów .   \n",
       "26                                                                                                                                                                                                                                                                                                                                                                                                                                                                                                                                                                                                                                                                                                                                                                                                                                                                                                                                                                                                                                                                                                                                                                                                                     szef unii chrześcijańsko - demokratycznej i wicepremier czech , jiří čunek poinformował w czwartek , że 7 listopada poda się do dymisji . jego decyzja jest spowodowana zarzutami jakie wobec niego wysunęła czeska prokuratura . zarzuca się mu , że w latach 90 jego rodzina nielegalnie pobierała świadczenia socjalne . w tym samym okresie na koncie čunka miało znajdować się ponad 3 , 5 mln koron . dodatkowo jiří čunek zataił przed urzędem podatkowym to , iż posiada tak znaczne dochody . już wcześniej czeskiemu wicepremierowi stawiano aferalne zarzuty . oskarżano go o to , że będąc starosta morawskiej vesztiny przyjął półmilionową łapówkę . miało to być wynagrodzenia ze strony pewnej firmy , której umożliwiono wykup pakietu większościowego w komunalnym przedsiębiorstwie zajmującym się budową mieszkań . udało mu się te zarzuty oddalić , jednak wpisał się nimi do historii czech jako pierwszy członek rządu , którego oskarżono o korupcje . w obliczu obecnej afery jiří čunka złożył dymisję ze stanowiska w rządzie , jednocześnie zapowiadając , że nie ma zamiaru rezygnować z przewodniczenie swojej partii i mandatu senatora .   \n",
       "57                                                                                                                                                                                                                                                                                                                                                                                                                                                                                                                                           zgłoszenie zostało przeniesione z wikipedia : zgłoś błąd w artykule ponieważ prawdopodobnie nie zostało rozwiązane w ciągu 45 dni . 1 po co w tabelce ofiar rubryka fotografia , która jest kompletnie pusta ? 2 tu jest mowa o dwudniowej żałobie , nie trzydniowej . zgłasza : żyrafał 11 : 51 , 25 paź 2014 co to za miejsce pracy nauki komórka ? usunąłem zbędną kolumnę fotografia . natomiast nie wiem , co z tą żałobą . na en . wiki też jest trzydniowa . koveraslupus 14 : 31 , 25 paź 2014 na ru . wiki mamy dwa : президент беларуси александр лукашенко указом объявил 1 и 2 июня днями траура . a na en . wiki szablon o niepełnym uźródłowieniu . żyrafał 15 : 29 , 25 paź 2014 to co pisze enwiki i ruwiki kompletnie nas nie powinno interesować , bo wikipedia nie może być źródłem sama dla siebie . ma być podane to co dają zewnętrzne wiarygodne źródła , a jak takich nie ma to fragment usunąć . aotearoa dyskusja 15 : 51 , 25 paź 2014 żródło na 2 dni dałem w zgłoszeniu . żyrafał 15 : 56 , 25 paź 2014 poprawiłem na podstawie źródła i zamknąłem dyskusję . żyrafał 15 : 59 , 25 paź 2014 ja jednak ponowię pytanie : co to za komórka ? racja , umknęło mi to . na to pytanie odpowiedzi nie znam , więc nie poprawię . kto da radę ? żyrafał 16 : 36 , 25 paź 2014 ale z was trąby : przecież to jest tabelka . pusta , niewypełniona tabelka wyglądała tak a niech poprawia bladyniec . to on wstawił listę ofiar . 21 : 11 , 25 paź 2014 to jak już będzie poprawiał tabelę , to niech poprawi także błędy ortograficzne - nazwy cmentarzy i rejonów należy pisać mała literą . aotearoa dyskusja 22 : 00 , 25 paź 2014 komórki usunąłem w parę sekund . michał sobkowski dyskusja 10 : 48 , 28 paź 2014 zrobione . wybaczcie , to był mój pierwszy artykuł kiedykolwiek napisany w wikipedii . tomasz bladyniec   \n",
       "60                                                                                                                                                                                                                                                                                                                                                                                                                                                                                                                                                                                                                                                                                                                                                                                                                                                                                                                                                                                                                                                                                                                                    świat obiegła informacja , że mehmet ali ağca , który dokonał nieudanego zamachu na papieża jana pawła ii na placu św . piotra w rzymie , będzie się starał o nadanie mu polskiego obywatelstwa . minister spraw zagranicznych radosław sikorski nazwał to szczytem bezczelności . ağca ma wyjść na wolność za 2 lata . jak zapowiedział , będzie się starał o polskie obywatelstwo . jest taka seria dowcipów o szczycie bezczelności . myślę , że pan ali ağca przebił wiele z nich , mam nadzieję , że następna nie będzie erica steinbach - skomentował sprawę szef dyplomacji radosław sikorski . wniosek o przyznanie polskiego obywatelstwa ağcy ma trafić do polskiej placówki dyplomatycznej w ankarze w przyszłym tygodniu dostarczy go pełnomocnik turka . według msz powodzenie tego wniosku - przede wszystkim ze względów formalnych - jest nikłe . jak zaznacza rzecznik msz , przyznawanie obywatelstwa to domena prezydenta , ale są jednak formalne warunki , których spełnienie przez ali ağcę jest niemożliwe lub prawie niemożliwe . nasza placówka twierdzi , że np . trudno będzie formalnie spełnić wymóg podpisania takiego wniosku przez zainteresowanego , który aktualnie przebywa w więzieniu - powiedział piotr paszkowski .   \n",
       "61   na terenach wystawowych w pradze w dniach 13 - 16 maja 2010 r . odbyły się targi książki svět knihy . w tym roku gościem honorowym targów była polska . w ich pierwszym dniu swoje wystąpienie miał minister kultury i dziedzictwa narodowego bogdan zdrojewski . podkreślił w nim bliskość kultur czeskiej i polskiej . w targach uczestniczyli polscy pisarze i poeci , w tym też noblistka wisława szymborska . fragmenty jej twórczości , zarówno w języku polskim jak i w czeskim przekładzie vlasty dwořáčkovej , przedstawiła aktorka maria štípkova . były to zaprawione odrobiną ironii fragmenty korespondencji noblistki z młodymi autorami . już drugi raz udział w targach svět knihy wzięło stowarzyszenie wikimedia republika czeska . czescy wikimedianie uznali , że odwiedzający targi są zainteresowani wikipedią i mogą stać się jej przyszłymi edytorami . magnesem przyciągającym młodszych gości targów było urządzenie multimedialne microsoft surface wypożyczone przez microsoft czechy . ponadto na stoisku zainstalowano dwa wielkoformatowe monitory , na których zainteresowanym prezentowano możliwości wikipedii . na stoisku wyłożono foldery dotyczące wikipedii , projektów pokrewnych oraz informacje na temat stowarzyszenia wikimedia czechy . czeskie stowarzyszenie - podobnie jak i polskie - wspiera ruch wolnego oprogramowania i twórczości na wolnych licencjach . polskim akcentem na stoisku była prezentacja monografii miejscowości gwoździany , napisanej przez jednego z polskich wikimedian i opatrzonej licencją creative commons . w piątek , 14 maja w sali konferencyjnej przedstawiciele stowarzyszenia przedstawili multimedialną prezentację jak powstaje wikipedia . w rzeczywistym czasie pokazano tworzenie artykułu od zalążka do uźródłowionego tekstu w końcowym etapie . dzień później , 15 maja wręczono nagrody za stworzenie lub rozwinięcie artykułu w czeskojęzycznej wikipedii . w ramach tego konkursu powstało lub poprawiono ok . 300 haseł . poza statuetkami z logo wikipedii , wręczono nagrody rzeczowe ufundowane przez sponsorów . wśród nagrodzonych znalazł się artykuł karta kredytowa rozwinięty przez nową edytorkę . udział stowarzyszenia wikimedia republika czeska był możliwy dzięki nieodpłatnemu udostępnieniu powierzchni wystawowej przez organizatora targów - firmę svět knihy s . r . o .   \n",
       "82                                                                                                                                                                                                                                                                                                                                                                                                                                                                                                                                                                                                                                                                                                                                                                                                                                                                                                                                                                                                                                                                                                                       skąd informacja , że krzyż i tablica były umieszczone nielegalnie ? czy autor edycji mógłby podać źródło ? czy liczy się dodanie , jeśli dodał nieautor ? piastu βy język giętki . hallo piast , nie odpowiedziales na pytanie - skad wiadomo , ze nielegalnie ? podales tylko informacje z prasy prorzadowej . nie wiesz czy leganlnie czy tez nielegalnie - a wiec nie ruszaj tematu - wszedzie te przemadrzale lemingi , co za kraj ! podałem źródło , tego wymagają zasady wikipedii , i stało im się zadość . jeśli masz możliwość podania źródła , które wskazuje na legalność umieszczenia tablicy - podaj je . wikipedia stara się być neutralna , jeśli informacje są sprzeczne , podajemy wszelkie dostępne w źródłach wersje . pozdrawiam piastu βy język giętki . to podaj i przerob zyciorys stalina i lenina , mozesz dolozyc marksa , bieruta wedlug komsomolskiej prawdy i trybuny ludu - tez sa zrodla , a wiec wlacz najpierw troche rozumu . rozum on tpn pozwala postawić tablice - stoją legalnie . tpn zdejmuje tablice , bo są nielegalne . tak , to się kupy trzyma . tylko kupy . rozum off . proszę , podaj źródło , które przeczy temu zdaniu w jego obecnym kształcie , a nie zajmuj się moim rozumem . dziękuję . piastu βy język giętki .   \n",
       "109                                                                                                                                                                                                                                                                                                                                                                                                                                                                                                                                                                                                                                                                                                                                                                                                                                                                                                                dziś tuż przed godziną dziesiątą zawitał w szczecinie jacht rona ii . tuż po nim , na horyzoncie pojawił się żaglowiec szkolny marynarki wojennej republiki meksyku - arm cuauhtémoc . była to zapowiedź finału the tall ships races , który w tym roku po raz pierwszy obył się w szczecinie . po odwiedzeniu takich miejscowości jak warns , arhus , kotka , helsinki i sztokholm żaglowce i jachty trafiły do stolicy zachodniopomorskiego . pierwszy z wielkich trójmasztowców został gorąco przywitany przez licznie zgromadzonych widzów podczas prezentującej się bardzo okazale w wielkiej gali banderowej . tym samym nieoficjalny finał operacji żagiel w szczecinie został rozpoczęty . kolejnym dużym żaglowcem , który przybił do nabrzeża szczecińskiego portu był sts dar młodzieży witany w samo południe . oprócz jednostek robiących olbrzymie wrażenie pojawiły się również mniejsze , choć równie ciepło witane i wyczekiwane : sorlandet , concordia , akela , steppe , pacyfica , sirma , anita i inne . z polskich żaglowców i jachtów pojawiły się również : gedania , kapitan głowacki oraz jacht stary - który w 2007 roku pokonał przejście północno - zachodnie w 100 lat po wyprawie roalda amundsena z najmłodszą załogą . nieoficjalnie zwycięzcą regat the tall ships w klasie c został dar szczecina , który również ma duże szanse na laury w klasyfikacji generalnej . oficjalne rozpoczęcie imprezy odbędzie się 4 sierpnia o godz . 17 0   \n",
       "126                                                                                                                                                                                                                                                                                                                                                                                                                                                                                                                                                                                                                                                                                                                                                                                                                                                                                                                                                                                                                                                                                   inaugurujący ten sezon pucharu świata w biegach narciarskich bieg na 10 kilometrów stylem dowolnym w szwedzkim gällivare zwyciężyła obrończyni kryształowej kuli , norweżka marit bjørgen . zwyciężyni osiągnęła czas 22 minut i 31 , 8 sekundy . tym samym objęła prowadzenie w klasyfikacji generalnej i dystansowej . drugie miejsce , ze stratą 12 , 6 sekundy zajęła jej rodaczka , therese johaug . na trzecim uplasowała się amerykańska sprinterka kikkan randall . na czwartym miejscu uplasowała się reprezentantka gospodarzy charlotte kalla , piąta była amerykanka holly brooks , która po raz pierwszy zajęła miejsce w pierwszej dziesiątce indywidualnych zawodów pś . kolejne miejsca w pierwszej dziesiątce zajęły : vibeke skofterud , lisa larsen , martine hagen , julia czekaljewa i natalia korostieljewa . jedna z czołowych biegaczek świata , justyna kowalczyk , która niedawno zwyciężyła kilka zawodów pucharu fis , zajęła dopiero 27 miejsce , z czasem 23 : 55 3 min . jej rodaczki : sylwia jaśkowiec i paulina maciuszek zajęły odpowiednio 44 i 54 miejsce . sklasyfikowano 77 na 78 zgłoszonych zawodniczek . jutro odbędzie się konkurs sztafet 4x5 km , a w dniach od 30 listopada do 2 grudnia biegaczki konkurować będą w fińskim kuusamo w ramach ruka triple .    \n",
       "135                                                                                                                                                                                                                                                                                                                                                                                                                                                                                                                                                                                                                                                                                                                                                                                                                                                                                                                                                                                                                                                                                                                                                     pochodząca z korsyki francuska piosenkarka alizée wydała swoją piątą płytę , zatytułowaną 5 . dziennikarze muzyczni zauważają , że ten nawiązujący muzycznie do lat 60 krążek jest jak dotychczas najdojrzalszym dziełem artystki . na początku kariery alizée jacotey była podopieczną piosenkarki i kompozytorki mylène farmer oraz lauranta boutonnata , producenta , ówczesnego męża tej ostatniej . jako szesnastolatka , w 2000 roku alizée wylansowała kilka międzynarodowych przebojów , które zamieszczono na jej debiutanckim cd gourmandises , sprzedanym na świecie w ilości ponad 2 milionów egzemplarzy . na kolejnych płytach słuchacze otrzymywali taneczną muzykę pop z elementami piosenki francuskiej oraz utwory w stylu electro . żaden z tych albumów nie powtórzył komercyjnego sukcesu debiutu piosenkarki . tym razem piosenkarka zaprosiła do współpracy alexandrea azarię , znanego udziału w projektach zespołu indochine , zazie i wielu innych . na 5 proponuje słuchaczom pop dla dojrzałych z wyraźnymi echami muzyki lat 60 płytę zapowiedział singel à cause de lautomne wydany już w lipcu 2012 r . do singla alizée nakręciła teledysk z wizualnymi aluzjami do wczesnych filmów o jamesie bondzie .   \n",
       "137                                                                                                                                                                                                                                                                                                                                                                                                                                                                                                                                                           dziś na biatlonowych trasach w cesana san sicarlo odbyły się męski oraz żeński bieg pościgowy . wcześniej , bo o 12 : 30 wystartowały panie , w tym reprezentantki polski : magdalena gwizdoń , krystyna pałka oraz magdalena nykiel . kolejność startu związana była bezpośrednio z wynikami w sprincie . według tego przelicznika pierwsza wystartowała złota medalistka tej konkurencji , francuzka florence baverel - robert dwie sekundy po niej srebrna medalistka szwedka anna carin olofsson . magdalena gwizdoń startowała z 1 : 23 straty , krystyna pałka miała 1 : 36 straty , a magdalena nykiel ponad 3 minuty . najlepszym strzelaniem oraz biegiem popisała się reprezentantka niemiec kati wilhelm , chybiając tylko raz , mimo straty 18 sekund do baverel - robert na starcie . po srebro przybiegła ponad minutę 10 sekund później jej rodaczka martina glagow . trzecia była rosjanka albina achatowa . najlepsza spośród polek , m . gwizdoń , uplasowała się na 21 miejscu , k . pałka była 37 , a m . nykiel nie ukończyła , gdyż została zdublowana na trasie przez zwyciężczynię k . wilhelm . mężczyźni wystartowali później , o 14 : 30 , i na dłuższym dystansie . jako pierwszy startował sven fischer , w osiem sekund za nim norweg halvard hanevold . oboje nie strzelali jednak dobrze i na końcowych metrach nie liczyli się w walce o złoto . tuż przed metą razem biegli jeszcze norweg ole einar bjoerndalen oraz francuz vincent defrasne . w najmniej spodziewanym momencie francuz zaatakował niemal pewnego złota bjørndalena , wyprzedził go i zdobył złoty medal . o . e . bjoerndalen musiał zadowolić się srebrem . na trzecim miejscu przybiegł startujący z numerem 1 zwycięzca sprintu sven fischer . tomasz sikora przybiegł na 18 miejscu , a wiesław ziemianin na 30 miejscu .   \n",
       "151                                                                                                                                                                                                                                                                                                                                                                                                                                    hiszpan rafael nadal , lider rankingu tenisistów , pokonał niemca björna phaua 7 : 6 , 6 : 3 , 7 : 6 i awansował do drugiej rundy wielkoszlemowego turnieju us open , który w poniedziałek rozpoczął się na twardych kortach w nowym jorku . jedynym rozstawionym zawodnikiem , który odpadł w pierwszym dniu imprezy , jest feliciano lópez . hiszpan uległ jürgenowi melzerowi . wyniki poniedziałkowych meczów pierwszej rundy : rafael nadal - björn phau 7 : 6 , 6 : 3 , 7 : 6 ryler de heart - olivier rochus 7 : 6 , 5 : 7 , 6 : 4 , 3 : 6 , 6 : 4 viktor troicki - carsten ball 7 : 6 , 6 : 0 , 6 : 1 philipp kohlschreiber - luis horna 6 : 2 , 6 : 3 , 6 : 2 james blake - donald young 6 : 1 , 3 : 6 , 6 : 1 , 4 : 6 , 6 : 4 steve darcis - denis gremelmayr 6 : 1 , 6 : 7 , 7 : 6 , 6 : 4 sébastien grosjean - paul henri - mathieu gal monfils - pablo cuevas 6 : 4 , 6 : 4 , 6 : 1 jewgienij korolow - robin söderling 7 : 6 , 6 : 3 , 7 : 6 andriej gołubiew - brendan evans 6 : 4 , 6 : 3 , 6 : 2 david nalbandian - marcos daniel 6 : 1 , 6 : 2 , 6 : 4 david ferrer - martín vassallo argüello 7 : 6 , 6 : 2 , 6 : 2 andreas beck - john isner 7 : 6 , 6 : 4 , 7 : 6 roko karanušić - ryan sweeting 7 : 5 , 7 : 5 , 3 : 6 , 6 : 2 kei nishikori - juan mónaco 6 : 2 , 6 : 2 , 5 : 7 , 6 : 2 juan martín del potro - guillermo cañas 4 : 6 , 7 : 6 , 6 : 4 , 6 : 1 thomaz bellucci - óscar hernández 6 : 3 , 6 : 7 , 6 : 4 , 7 : 5 josé acasuso - michael berrer 6 : 4 , 6 : 2 , 6 : 2 gilles simon - marcel granollers 6 : 4 , 6 : 3 , 5 : 7 , 6 : 2 stanislas wawrinka - simone bolelli 7 : 6 , 6 : 3 , 6 : 3 wayne odesnik - fabio fognini 2 : 6 , 6 : 0 , 4 : 6 , 6 : 3 , 6 : 4 jürgen melzer - feliciano lópez 4 : 6 , 7 : 6 , 6 : 2 , 2 : 6 , 6 : 4 jiří vaněk - stéphane bohli 3 : 6 , 6 : 3 , 6 : 2 , 7 : 5 michal llodra - teimuraz gabaszwili 6 : 3 , 5 : 7 , 7 : 6 , 7 : 6 andy murray - sergio roitman 6 : 3 , 6 : 4 , 6 : 0   \n",
       "165                                                                                                                                                                                                                                                                                                                                                                                                                                                                                                                                                                                                                                                                                                                                                                                                                                                                                                                                        ruch chrześcijańsko demokratyczny opuścił w poniedziałek koalicję rządową premiera mikuláša dzurindy . do dymisji podało się trzech ministrów pochodzących z kdh oraz wiceministrowie związani z tą partią . powodem rozpadu koalicji był sprzeciw słowackiej unii demokratyczno - chrześcijańskiej w sprawie przyjęcia ustawy o klauzuli sumienia . ustawa ta gwarantowała słowakom możliwość odmówienia wykonania niektórych czynności zawodowych z powodu przekonań religijnych . na ręce prezydenta słowacji , ivana gašparoviča dymisje złożyli dziś minister spraw wewnętrznych vladimír palko , minister sprawiedliwości daniel lipšic oraz minister edukacji martin fronc . szef kdh , pavol hrušovský , pełniący funkcję przewodniczącego słowackiego parlamentu , zapowiedział , że również zrezygnuje z zajmowanego stanowiska . ruch chrześcijańsko - demokratyczny ogłosił już przejście do opozycji i poparcie wotum nieufności wobec rządu premiera dzurindy . po przejściu ruchu chrześcijańsko - demokratycznego do opozycji , koalicja rządowa będzie dysponować 53 mandatami w 150 miejscowym parlamencie . opozycja będzie posiadać 74 mandatów , zaś pozostałe 23 miejsca zajmą parlamentarzyści bezpartyjni . tym samym rząd dzurindy utracił poparcie większości parlamentu . wśród możliwych scenariuszy wymienia się możliwość rozpisania przedterminowych wyborów , które mogły by się odbyć w maju lub czerwcu 2006 roku .   \n",
       "169                                                                                                                                                                                                                                                                                                                                                                                                                                                                                                                                                                                                                                                                                                                                                                                                                          koldo gil , który pierwotnie był uznany za jednego z kolarzy współpracujących z okrytym złą sławą lekarzem eufemiano fuentesem , został właśnie wykreślony z kręgu podejrzeń przez międzynarodową unię kolarską . oznacza to , że zawodnik będzie mógł teraz bez problemów startować we wszystkich najważniejszych imprezach kolarskich . chociaż oficjalnie zawodnicy będący na liście fuentesa mogą startować we wszystkich wyścigach , organizatorzy wielu z nich proszą ekipy o niewystawianie tych zawodników , a ekipy najczęściej idąc na rękę organizatorom , przystają na takie rozwiązania . wśród tych zawodników do niedawna jeszcze znajdował się koldo gil z ekipy saunier duval , który przez pierwszą część sezonu startował jedynie w małych imprezach , nie mając nadziei na rywalizację na najwyższym poziomie . po pozytywnej decyzji uci hiszpan liczy na swój start w hiszpańskiej vuelcie . to był dla mnie bardzo ciężki okres . teraz , gdy już moje nazwisko zostało wreszcie oczyszczone , ciężar spadł mi z barków . mogę spokojnie przygotowywać się do kolejnych startów i liczę , że zostanę wybrany do udziału w vuelta espana - skomentował całą sytuację zawodnik . gil mimo problemów odnosi w tym sezonie sukcesy . na początku maja triumfował w subida al naranco i etapowym wyścigu vuelta asturias . poza tym był drugi w klasyfikacji generalnej vuelta castilla y léon , w której uległ jedynie alberto cantadorowi , a także czwarty w vuelta a murcia i dziesiąty w należącym do pro touru wyścigu vuelta al pais vasco   \n",
       "177                                                                                                                                                                                                                                                                                                                                                                                                                                                                                                                                                                                                                                                                                                                                                                      na 5 , 5 km prologu w düsseldorfie zawodników przywitała nie najlepsza pogoda . czasami nawet utrudniała ona bardzo jazdę specjalistom od czasówek . pierwszym liderem deutschland tour został władimir gusiew , który wyprzedził o setne sekundy linusa gerdemanna . trzeci był sebastian lang . władimir gusiew przemierzył 5500 m ze średnią prędkością 48 km h i uzyskał czas 6 : 42 rosyjski mistrz świata w tej dziedzinie kolarstwa z 2005 , który w tym sezonie przeszedł z team csc do discovery . dzisiejszy triumf był jego największym sukcesem w zawodowej karierze . drugi był niemiec linus gerdemann , który przegrał z rosjaninem o 11 setnych sekund . zawodnik w : t - mobile team powiedział : nie lubię takich krótkich czasówek . chętnie bym pojechał dłuższą . jednak i tak nie mam co narzekać . przygotowywałem się specjalnie na ten wyścig i teraz widać tego efekty . gerdemann przed rokiem podobnie jak zwycięzca bronił barw team csc . niemiec miał to szczęście , że podczas swojej jazdy nie napotkał deszczu . trzeci był sebastian lang , który powiedział : jestem rozczarowany . zdobycie żółtej koszulki w düsseldorfie było moim celem . teraz mierze w tą dłuższą czasówkę , która odbędzie się pod koniec wyścigu . zwycięzca z zeszłego roku levi leipheimer był dopiero 111 o wiele lepiej zaprezentował się wracający do peletonu kazach aleksander vinokurov . vino uzyskał czas 6 : 52 i zajął 10 miejsce . jedyny polak w wyścigu piotr mazur zajął 96 miejsce tracąc do lidera 35 sekund . jutro 1 etap wyścigu . 198 km płaski odcinek z düsseldorfu do bielefeldu .   \n",
       "189                                                                                                                                                                                                                                                                                                                                                                                                                                                                                                                                                                                                                                                                                                                                                                                                                                                                                                                                                                                                                                                                                                                                            european passion play 2008 pod ta nazwą symfoniczno - metalowy zespół z finlandii nightwish rozpocznie swoją trasę koncertową . zespół zagra w polsce . jedyny koncert odbędzie się w krakowskiej hali wisły 19022 1008 r . nightwish będzie promował album dark passion play - pierwszą płytę nightwish , na której można usłyszeć głos anette olzon , która zastąpiła poprzednią wokalistkę zespołu tarję turunen . już w dniu premiery w finlandii , dark passion play trafiła na pierwsze miejsce listy sprzedaży płyt i osiągnęła status platyny . w ciągu 24 godzin , w samej finlandii sprzedano ponad 40200 0 egzemplarzy płyty . w roli supportu zagra formacja pain , którą założył peter tägtgren znany z hypocrisy . nightwish - to grupa założona w 1996 w finlandii . ich muzyka składa się z połączenia ostrych gitarowych riffów , wyraźnego dźwięku klawiszów oraz kobiecego głosu tarji turunen a następnie anette olzon . muzykę graną przez zespół definiuje się jako połączenie symfonicznego metalu , power metalu oraz opery metalu . grupę cechują poetyckie teksty utworów nawiązujące m . in . do astrologii , świata astralnego i fantasy , w większości napisane przez instrumentalistę zespołu tuomasa holopainena .   \n",
       "\n",
       "     length  count of symbols_to_drop   percent  \\\n",
       "12     1790                         1  0.055866   \n",
       "26     1129                        10  0.885740   \n",
       "57     1779                        64  3.597527   \n",
       "60     1210                         5  0.413223   \n",
       "61     2299                         8  0.347977   \n",
       "82     1223                         3  0.245298   \n",
       "109    1421                         1  0.070373   \n",
       "126    1258                         2  0.158983   \n",
       "135    1192                         6  0.503356   \n",
       "137    1762                         1  0.056754   \n",
       "151    1881                        17  0.903775   \n",
       "165    1397                         8  0.572656   \n",
       "169    1507                         1  0.066357   \n",
       "177    1559                         3  0.192431   \n",
       "189    1202                         1  0.083195   \n",
       "\n",
       "                                                                                                                words containing  \n",
       "12                                                                                                                             $  \n",
       "26                                                                                        jiří čunek čunka jiří čunek jiří čunka  \n",
       "57                                                     президент беларуси александр лукашенко указом объявил и июня днями траура  \n",
       "60                                                                                                      ağca ağca ağca ağcy ağcę  \n",
       "61                                                                                           svět dwořáčkovej štípkova svět svět  \n",
       "82                                                                                                                      βy βy βy  \n",
       "109                                                                                                                   cuauhtémoc  \n",
       "126                                                                                                            gällivare bjørgen  \n",
       "135                                                                                         alizée alizée mylène alizée à alizée  \n",
       "137                                                                                                                  bjørndalena  \n",
       "151  björna jürgenowi björn sébastien söderling martín argüello karanušić martín cañas hernández josé jürgen jiří vaněk stéphane  \n",
       "165                                                                               mikuláša gašparoviča vladimír lipšic hrušovský  \n",
       "169                                                                                                                         léon  \n",
       "177                                                                                        düsseldorfie düsseldorfie düsseldorfu  \n",
       "189                                                                                                                     tägtgren  "
      ]
     },
     "execution_count": 22,
     "metadata": {},
     "output_type": "execute_result"
    }
   ],
   "source": [
    "pd.options.display.max_colwidth = None\n",
    "\n",
    "df_fixed_output_test['words containing']=count_words_test\n",
    "df_fixed_output_test\n"
   ]
  }
 ],
 "metadata": {
  "interpreter": {
   "hash": "1eea36f549d596e1ba6d357da17c58a2c496985ce50cff93b35e7c83413effd0"
  },
  "kernelspec": {
   "display_name": "Python 3.8.10 ('env_for_ml_st': venv)",
   "language": "python",
   "name": "python3"
  },
  "language_info": {
   "codemirror_mode": {
    "name": "ipython",
    "version": 3
   },
   "file_extension": ".py",
   "mimetype": "text/x-python",
   "name": "python",
   "nbconvert_exporter": "python",
   "pygments_lexer": "ipython3",
   "version": "3.8.10"
  }
 },
 "nbformat": 4,
 "nbformat_minor": 2
}
