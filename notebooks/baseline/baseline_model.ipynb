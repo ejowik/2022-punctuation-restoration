{
 "cells": [
  {
   "cell_type": "markdown",
   "metadata": {},
   "source": [
    "## <span style='font-family:Georgia'> Objectives\n",
    "The purpose of this notebook is creating a baseline rule-model, which is to be a benchmark of the neural model developed in the later phase of the project."
   ]
  },
  {
   "cell_type": "code",
   "execution_count": 1,
   "metadata": {
    "ExecuteTime": {
     "end_time": "2022-05-13T12:11:45.952948Z",
     "start_time": "2022-05-13T12:11:35.133423Z"
    }
   },
   "outputs": [
    {
     "name": "stderr",
     "output_type": "stream",
     "text": [
      "[nltk_data] Downloading package punkt to\n",
      "[nltk_data]     C:\\Users\\ejowik001\\AppData\\Roaming\\nltk_data...\n",
      "[nltk_data]   Package punkt is already up-to-date!\n"
     ]
    }
   ],
   "source": [
    "# loading packages\n",
    "import os\n",
    "import sys\n",
    "import pandas as pd\n",
    "import seaborn as sns\n",
    "import copy\n",
    "import matplotlib.pyplot as plt\n",
    "\n",
    "sns.set(style=\"darkgrid\")\n",
    "from tqdm import tqdm\n",
    "\n",
    "sys.path.append(os.path.dirname(os.path.dirname(os.path.abspath(\"__file__\"))))\n",
    "from supportive_functions import rm_consecutive_spaces\n",
    "\n",
    "import nltk\n",
    "import nltk.data\n",
    "from polish_sentence_nltk_tokenizer import sentence_tokenizer\n",
    "\n",
    "import warnings\n",
    "\n",
    "warnings.filterwarnings(action=\"ignore\")\n",
    "pd.options.display.max_columns = None\n",
    "\n",
    "%matplotlib inline\n",
    "plt.rcParams['figure.figsize'] = (9, 6)\n",
    "\n",
    "sns.set(\n",
    "    rc={\n",
    "        \"figure.figsize\": (14, 8.27),\n",
    "        \"axes.facecolor\": \"white\",\n",
    "        \"axes.grid\": True,\n",
    "        \"grid.color\": \".9\",\n",
    "    }\n",
    ")"
   ]
  },
  {
   "cell_type": "code",
   "execution_count": 2,
   "metadata": {
    "ExecuteTime": {
     "end_time": "2022-05-13T12:11:45.969818Z",
     "start_time": "2022-05-13T12:11:45.954942Z"
    }
   },
   "outputs": [],
   "source": [
    "def read_files(dir_path: str, sep: str = \",\") -> pd.DataFrame:\n",
    "    \"\"\"\n",
    "    Read the files with timestamps from a given catalog.\n",
    "\n",
    "    Args:\n",
    "        dir_path (str): Path to the catalog with the files\n",
    "        sep (str, optional): Separator used in pd.read_csv() function. Defaults to \",\".\n",
    "\n",
    "    Returns:\n",
    "        pd.DataFrame: Data from all the files concatenated into one dataframe.\n",
    "    \"\"\"\n",
    "    files = os.listdir(dir_path)\n",
    "    data = pd.DataFrame(\n",
    "        [], columns=[\"index\", \"timestamp_start\", \"timestamp_stop\", \"word\"]\n",
    "    )\n",
    "    for file in tqdm(files):\n",
    "        f = open(os.path.join(dir_path, file), encoding=\"utf-8\", mode=\"r\")\n",
    "        name = file.split(\".\")[0]\n",
    "        df = pd.read_csv(f, header=None, sep=sep, encoding=\"utf-8\")\n",
    "        df[\"index\"] = name\n",
    "        if sep != \",\":\n",
    "            df[\"timestamp_start\"] = df.iloc[:, 0].str.split(\",\").str[0].str[1:]\n",
    "            df[\"timestamp_stop\"] = (\n",
    "                df.iloc[:, 0].str.split(\",\").str[1].str.split(\"\\)\").str[0]\n",
    "            )\n",
    "            df[\"word\"] = df.iloc[:, 0].str.split(\"\\)\\s\").str[1]\n",
    "            df.drop([0], axis=1, inplace=True)\n",
    "            df.drop(df.tail(1).index, inplace=True)\n",
    "        else:\n",
    "            df[\"timestamp_start\"] = df.iloc[:, 0].str[1:]\n",
    "            df[\"timestamp_stop\"] = df.iloc[:, 1].str.split(\"\\) \\s\").str[0]\n",
    "            df[\"word\"] = df.iloc[:, 0].str.split(\"\\)\\s\").str[1]\n",
    "\n",
    "            df.drop([0, 1], axis=1, inplace=True)\n",
    "            df.drop(df.tail(1).index, inplace=True)\n",
    "        data = pd.concat([data, df])\n",
    "        f.close()\n",
    "    return data"
   ]
  },
  {
   "cell_type": "code",
   "execution_count": 3,
   "metadata": {
    "ExecuteTime": {
     "end_time": "2022-05-13T12:11:45.991837Z",
     "start_time": "2022-05-13T12:11:45.971812Z"
    }
   },
   "outputs": [],
   "source": [
    "def calculate_pauses(data: pd.DataFrame) -> pd.DataFrame:\n",
    "    \"\"\"\n",
    "    Generate new features describing pauses between two timestamps.\n",
    "\n",
    "    Args:\n",
    "        data (pd.DataFrame): Dataframe with preprocessed timestamp\n",
    "            data separated into 'timestamp_start' and 'timestamp_stop' columns.\n",
    "\n",
    "    Returns:\n",
    "        pd.DataFrame: Input dataframe with two new features added,\n",
    "            describing the pause between the word and after it.\n",
    "    \"\"\"\n",
    "    data.timestamp_start = data.timestamp_start.astype(int)\n",
    "    data.timestamp_stop = data.timestamp_stop.astype(int)\n",
    "    data_shifted = pd.concat(\n",
    "        [data, data.timestamp_start.shift(-1), data.timestamp_stop.shift()], axis=1\n",
    "    )\n",
    "    data_shifted.columns = [\n",
    "        \"index\",\n",
    "        \"timestamp_start\",\n",
    "        \"timestamp_stop\",\n",
    "        \"word\",\n",
    "        \"timestamp_start_lead\",\n",
    "        \"timestamp_stop_lag\",\n",
    "    ]\n",
    "    data_shifted[\"pause_before\"] = (\n",
    "        data_shifted.timestamp_start - data_shifted.timestamp_stop_lag\n",
    "    )\n",
    "    data_shifted[\"pause_after\"] = (\n",
    "        data_shifted.timestamp_start_lead - data_shifted.timestamp_stop\n",
    "    )\n",
    "    data_shifted.drop(\n",
    "        [\"timestamp_start_lead\", \"timestamp_stop_lag\"], axis=1, inplace=True\n",
    "    )\n",
    "    # to discuss\n",
    "    data_shifted.pause_before.fillna(data_shifted.timestamp_start, inplace=True)\n",
    "    data_shifted.pause_after.fillna(0, inplace=True)\n",
    "    data_shifted.reset_index(drop=True, inplace=True)\n",
    "    for i, row in data_shifted.iterrows():\n",
    "        if (i > 0) and (\n",
    "            data_shifted.loc[i, \"index\"] != data_shifted.loc[i - 1, \"index\"]\n",
    "        ):\n",
    "            data_shifted.loc[i, \"pause_before\"] = data_shifted.loc[i, \"timestamp_start\"]\n",
    "            data_shifted.loc[i - 1, \"pause_after\"] = 0\n",
    "\n",
    "    return data_shifted"
   ]
  },
  {
   "cell_type": "markdown",
   "metadata": {},
   "source": [
    "## <span style='font-family:Georgia'> Implementation of rules"
   ]
  },
  {
   "cell_type": "code",
   "execution_count": 4,
   "metadata": {
    "ExecuteTime": {
     "end_time": "2022-05-13T12:11:46.009721Z",
     "start_time": "2022-05-13T12:11:45.994937Z"
    }
   },
   "outputs": [],
   "source": [
    "# tokenizer for separation into sentences\n",
    "tokenizer = nltk.data.load('tokenizers/punkt/polish.pickle')"
   ]
  },
  {
   "cell_type": "code",
   "execution_count": 5,
   "metadata": {
    "ExecuteTime": {
     "end_time": "2022-05-13T12:11:46.023013Z",
     "start_time": "2022-05-13T12:11:46.010880Z"
    }
   },
   "outputs": [],
   "source": [
    "# extracting list of abbreviations\n",
    "abbreviations = sentence_tokenizer._params.abbrev_types\n",
    "abbreviations_with_period = [x for x in abbreviations if '.' in x]"
   ]
  },
  {
   "cell_type": "code",
   "execution_count": 6,
   "metadata": {
    "ExecuteTime": {
     "end_time": "2022-05-13T12:11:46.032099Z",
     "start_time": "2022-05-13T12:11:46.024008Z"
    }
   },
   "outputs": [],
   "source": [
    "# separating abbreviations with periods inside them\n",
    "spaced_abbreviations_with_period = []\n",
    "for abbr in abbreviations_with_period:\n",
    "    if \".\" in abbr:\n",
    "        spaced_abbreviations_with_period.append(abbr.replace(\".\", \" \"))"
   ]
  },
  {
   "cell_type": "code",
   "execution_count": 7,
   "metadata": {
    "ExecuteTime": {
     "end_time": "2022-05-13T12:11:46.041094Z",
     "start_time": "2022-05-13T12:11:46.034093Z"
    }
   },
   "outputs": [],
   "source": [
    "# list of abbreviations after 'cleaning'\n",
    "abbreviations = [\n",
    "    abbr for abbr in abbreviations if abbr not in abbreviations_with_period\n",
    "]\n",
    "for abbr in spaced_abbreviations_with_period:\n",
    "    abbreviations.append(abbr)"
   ]
  },
  {
   "cell_type": "code",
   "execution_count": 8,
   "metadata": {
    "ExecuteTime": {
     "end_time": "2022-05-13T12:11:46.050089Z",
     "start_time": "2022-05-13T12:11:46.044084Z"
    }
   },
   "outputs": [],
   "source": [
    "punctuation = list(sentence_tokenizer.PUNCTUATION)\n",
    "punctuation.append('-')\n",
    "punctuation.remove(';')"
   ]
  },
  {
   "cell_type": "code",
   "execution_count": 9,
   "metadata": {
    "ExecuteTime": {
     "end_time": "2022-05-13T12:11:46.103319Z",
     "start_time": "2022-05-13T12:11:46.052988Z"
    }
   },
   "outputs": [
    {
     "data": {
      "text/plain": [
       "Index(['item', 'grammatical_class'], dtype='object')"
      ]
     },
     "execution_count": 9,
     "metadata": {},
     "output_type": "execute_result"
    }
   ],
   "source": [
    "# reading dict generated from morfeusz (all items from train dataset)\n",
    "morfeusz_train = pd.read_csv(\n",
    "    \"../../data/outputs/feature_engineering/morfeusz/items_dict.csv\"\n",
    ")\n",
    "morfeusz_train.columns"
   ]
  },
  {
   "cell_type": "code",
   "execution_count": 10,
   "metadata": {
    "ExecuteTime": {
     "end_time": "2022-05-13T12:11:46.142778Z",
     "start_time": "2022-05-13T12:11:46.105429Z"
    }
   },
   "outputs": [],
   "source": [
    "# list of conjuctions from morfeusz\n",
    "conj_comp_list = morfeusz_train[\n",
    "    morfeusz_train.grammatical_class.str.contains(\"comp|conj\")\n",
    "].item.tolist()"
   ]
  },
  {
   "cell_type": "code",
   "execution_count": 11,
   "metadata": {
    "ExecuteTime": {
     "end_time": "2022-05-13T12:11:46.160549Z",
     "start_time": "2022-05-13T12:11:46.145989Z"
    }
   },
   "outputs": [],
   "source": [
    "# all conjuctions below are from conj_comp_list\n",
    "# not_conj - we do not put coma before them\n",
    "# yes_conj - we do put coma before them\n",
    "\n",
    "not_conj = [\n",
    "    \"a\",\n",
    "    \"albo\",\n",
    "    \"ali\",\n",
    "    \"ani\",\n",
    "    \"aniżeli\",\n",
    "    \"aż\",\n",
    "    \"bowiem\",\n",
    "    \"bylem\",\n",
    "    \"bym\",\n",
    "    \"byśmy\",\n",
    "    \"bądź\",\n",
    "    \"co\",\n",
    "    \"com\",\n",
    "    \"coś\",\n",
    "    \"czyli\",\n",
    "    \"czym\",\n",
    "    \"ewentualnie\",\n",
    "    \"gdybyś\",\n",
    "    \"gdybyśmy\",\n",
    "    \"i\",\n",
    "    \"inaczej\",\n",
    "    \"jednak\",\n",
    "    \"kiedyś\",\n",
    "    \"lub\",\n",
    "    \"miast\",\n",
    "    \"miasto\",\n",
    "    \"natomiast\",\n",
    "    \"ni\",\n",
    "    \"niby\",\n",
    "    \"niczym\",\n",
    "    \"nie\",\n",
    "    \"nim\",\n",
    "    \"niż\",\n",
    "    \"niżem\",\n",
    "    \"oraz\",\n",
    "    \"tedy\",\n",
    "    \"to\",\n",
    "    \"tom\",\n",
    "    \"toteż\",\n",
    "    \"tudzież\",\n",
    "    \"tylko\",\n",
    "    \"tym\",\n",
    "    \"tymczasem\",\n",
    "    \"zamiast\",\n",
    "    \"zarówno\",\n",
    "    \"zatem\",\n",
    "    \"zaś\",\n",
    "]\n",
    "yes_conj = [\n",
    "    \"aby\",\n",
    "    \"abyśmy\",\n",
    "    \"acz\",\n",
    "    \"aczkolwiek\",\n",
    "    \"bo\",\n",
    "    \"by\",\n",
    "    \"chociaż\",\n",
    "    \"chociażby\",\n",
    "    \"choć\",\n",
    "    \"choćby\",\n",
    "    \"czy\",\n",
    "    \"dopóki\",\n",
    "    \"gdy\",\n",
    "    \"gdyby\",\n",
    "    \"gdyż\",\n",
    "    \"im\",\n",
    "    \"iż\",\n",
    "    \"jak\",\n",
    "    \"jakby\",\n",
    "    \"jako\",\n",
    "    \"jakoby\",\n",
    "    \"jeśli\",\n",
    "    \"jeżeli\",\n",
    "    \"kiedy\",\n",
    "    \"ledwo\",\n",
    "    \"ponieważ\",\n",
    "    \"póki\",\n",
    "    \"skoro\",\n",
    "    \"więc\",\n",
    "    \"zaledwie\",\n",
    "    \"zanim\",\n",
    "    \"że\",\n",
    "    \"żeby\",\n",
    "    \"żebyś\",\n",
    "    \"żeś\",\n",
    "    \"ale\",\n",
    "    \"lecz\",\n",
    "]"
   ]
  },
  {
   "cell_type": "code",
   "execution_count": 12,
   "metadata": {
    "ExecuteTime": {
     "end_time": "2022-05-13T12:11:46.217825Z",
     "start_time": "2022-05-13T12:11:46.163539Z"
    }
   },
   "outputs": [],
   "source": [
    "# list of który która które\n",
    "ktory_list = morfeusz_train[morfeusz_train.item.str.startswith(\"któr\")][\n",
    "    ~morfeusz_train.item.str.contains(\"ś\")\n",
    "].item.tolist()\n",
    "ktory_list.remove(\"którykolwiek\")\n",
    "ktory_list.remove(\"którędy\")"
   ]
  },
  {
   "cell_type": "code",
   "execution_count": 13,
   "metadata": {
    "ExecuteTime": {
     "end_time": "2022-05-13T12:11:46.225817Z",
     "start_time": "2022-05-13T12:11:46.219819Z"
    }
   },
   "outputs": [],
   "source": [
    "#additional list of conjunctions with coma which were not in morfeusz\n",
    "additional_list=['dlatego']"
   ]
  },
  {
   "cell_type": "code",
   "execution_count": 14,
   "metadata": {
    "ExecuteTime": {
     "end_time": "2022-05-13T12:11:46.239057Z",
     "start_time": "2022-05-13T12:11:46.228048Z"
    }
   },
   "outputs": [],
   "source": [
    "#merge lists of conjuctions\n",
    "con_list_yes = yes_conj + ktory_list + additional_list"
   ]
  },
  {
   "cell_type": "code",
   "execution_count": 15,
   "metadata": {
    "ExecuteTime": {
     "end_time": "2022-05-13T12:11:46.440133Z",
     "start_time": "2022-05-13T12:11:46.240053Z"
    }
   },
   "outputs": [],
   "source": [
    "### train symbols and noisy words\n",
    "# load list of symbols to replace\n",
    "symbols_to_replace_infile = open(\n",
    "    \"../../data/outputs/eda/symbols_to_replace.txt\", \"r\", encoding=\"utf-8\"\n",
    ")\n",
    "symbols_to_replace = symbols_to_replace_infile.read().splitlines()\n",
    "# load list of noisy words, i.e. words with letters from outside the Polish alphabet\n",
    "noisy_words_infile = open(\n",
    "    \"../../data/outputs/eda/train/noisy_words.txt\", \"r\", encoding=\"utf-8\"\n",
    ")\n",
    "noisy_words = noisy_words_infile.read().splitlines()\n",
    "# load list of letters from outside the Polish alphabet\n",
    "non_polish_letters_infile = open(\n",
    "    \"../../data/outputs/eda/train/non_polish_letters.txt\", \"r\", encoding=\"utf-8\"\n",
    ")\n",
    "non_polish_letters = non_polish_letters_infile.read().splitlines()\n",
    "\n",
    "# merge noisy data into one list\n",
    "symbols_to_replace.extend(noisy_words)\n",
    "symbols_to_replace.extend(non_polish_letters)"
   ]
  },
  {
   "cell_type": "code",
   "execution_count": 16,
   "metadata": {
    "ExecuteTime": {
     "end_time": "2022-05-13T12:11:46.466639Z",
     "start_time": "2022-05-13T12:11:46.442148Z"
    }
   },
   "outputs": [],
   "source": [
    "### test symbols and noisy words\n",
    "# load list of symbols to replace\n",
    "symbols_to_replace_infile_test = open(\n",
    "    \"../../data/outputs/eda/symbols_to_replace.txt\", \"r\", encoding=\"utf-8\"\n",
    ")\n",
    "symbols_to_replace_test = symbols_to_replace_infile_test.read().splitlines()\n",
    "# load list of noisy words, i.e. words with letters from outside the Polish alphabet\n",
    "noisy_words_infile_test = open(\n",
    "    \"../../data/outputs/eda/test/noisy_words.txt\", \"r\", encoding=\"utf-8\"\n",
    ")\n",
    "noisy_words_test = noisy_words_infile_test.read().splitlines()\n",
    "# load list of letters from outside the Polish alphabet\n",
    "non_polish_letters_infile_test = open(\n",
    "    \"../../data/outputs/eda/test/non_polish_letters.txt\", \"r\", encoding=\"utf-8\"\n",
    ")\n",
    "non_polish_letters_test = non_polish_letters_infile_test.read().splitlines()\n",
    "# merge noisy data into one list\n",
    "noisy_words_test.extend(non_polish_letters_test)"
   ]
  },
  {
   "cell_type": "markdown",
   "metadata": {},
   "source": [
    "### <span style='font-family:Georgia'> Train data\n",
    "#### <span style='font-family:Georgia'> Adding fullstops"
   ]
  },
  {
   "cell_type": "code",
   "execution_count": 17,
   "metadata": {
    "ExecuteTime": {
     "end_time": "2022-05-13T12:12:28.522394Z",
     "start_time": "2022-05-13T12:11:46.467636Z"
    }
   },
   "outputs": [
    {
     "name": "stderr",
     "output_type": "stream",
     "text": [
      "100%|████████████████████████████████████████████████████████████████████████████████| 793/793 [00:16<00:00, 47.45it/s]\n"
     ]
    }
   ],
   "source": [
    "data_train = read_files('../../data/source/poleval_fa.train/train', sep=\"\\t\")\n",
    "data_train_calc=calculate_pauses(data_train).drop(\n",
    "    [\"timestamp_start\", \"timestamp_stop\"], axis=1\n",
    ")"
   ]
  },
  {
   "cell_type": "code",
   "execution_count": 18,
   "metadata": {
    "ExecuteTime": {
     "end_time": "2022-05-13T12:12:28.723276Z",
     "start_time": "2022-05-13T12:12:28.525395Z"
    }
   },
   "outputs": [],
   "source": [
    "fullstop_threshold = 0.3 * 1000  # value based on the eda (0.3 seconds converted to miliseconds)\n",
    "data_train_calc.loc[data_train_calc.pause_after > 300, 'word'] = \\\n",
    "    data_train_calc.loc[data_train_calc.pause_after > 300, 'word'\n",
    "                        ].apply(lambda x: x + '.')\n",
    "data_train_calc.loc[data_train_calc.pause_after == 0.0, 'word'] = \\\n",
    "    data_train_calc.loc[data_train_calc.pause_after == 0.0, 'word'\n",
    "                        ].apply(lambda x: x + '.')\n",
    "data_train_calc['word'] = data_train_calc['word'].apply(lambda x: \\\n",
    "        x.replace('..', '.'))"
   ]
  },
  {
   "cell_type": "code",
   "execution_count": 19,
   "metadata": {
    "ExecuteTime": {
     "end_time": "2022-05-13T12:12:28.860313Z",
     "start_time": "2022-05-13T12:12:28.725268Z"
    }
   },
   "outputs": [],
   "source": [
    "data_train_calc_joined = (\n",
    "    data_train_calc[[\"index\", \"word\"]]\n",
    "    .groupby([\"index\"])[\"word\"]\n",
    "    .agg(\" \".join)\n",
    "    .reset_index()\n",
    ")"
   ]
  },
  {
   "cell_type": "code",
   "execution_count": 20,
   "metadata": {
    "ExecuteTime": {
     "end_time": "2022-05-13T12:12:29.187264Z",
     "start_time": "2022-05-13T12:12:28.862306Z"
    }
   },
   "outputs": [],
   "source": [
    "for symb in symbols_to_replace:\n",
    "    data_train_calc_joined[\"word\"] = data_train_calc_joined[\"word\"].apply(\n",
    "        lambda x: x.replace(symb, \"\")\n",
    "    )\n",
    "\n",
    "data_train_calc_joined[\"word\"] = data_train_calc_joined[\"word\"].apply(\n",
    "    rm_consecutive_spaces\n",
    ")\n",
    "data_train_calc_joined.columns = [\"FileId\", \"FixedOutput\"]\n",
    "data_train = copy.deepcopy(data_train_calc_joined)"
   ]
  },
  {
   "cell_type": "code",
   "execution_count": 21,
   "metadata": {
    "ExecuteTime": {
     "end_time": "2022-05-13T12:12:29.196315Z",
     "start_time": "2022-05-13T12:12:29.188335Z"
    }
   },
   "outputs": [
    {
     "data": {
      "text/plain": [
       "(793, 2)"
      ]
     },
     "execution_count": 21,
     "metadata": {},
     "output_type": "execute_result"
    }
   ],
   "source": [
    "data_train.shape"
   ]
  },
  {
   "cell_type": "code",
   "execution_count": 22,
   "metadata": {
    "ExecuteTime": {
     "end_time": "2022-05-13T12:12:29.220610Z",
     "start_time": "2022-05-13T12:12:29.200456Z"
    }
   },
   "outputs": [
    {
     "data": {
      "text/plain": [
       "'we wrocławiu walkę ze szkodnikiem rozpoczyna zespół szkół budowlanych przy. ul grabiszyńskiej. do akcji na ratunek kasztanowcom zsb zachęcił pobliskie szkoły. gimnazjum nr 6 przy al. pracy. sp nr 82 przy ul blacharskiej. sp nr 109. przy ul inżynierskiej. sp nr 15 przy ul solskiego. gimnazjum nr 40 przy ul morelowskiego. pomoc ma polegać na szukaniu sponsorów. którzy sfinansują specjalistyczne szczepienia. koszt szczepienia jednego drzewa to ok 70 zł vat. sponsor który uratuje kasztanowca. ma zapewnioną na nim tabliczkę reklamową. podobna akcja odbyła się w świdnicy gdzie. szczepionkę dla 99 drzew. zasponsorowała firma imp comfort. która kupiła 10 ha gruntów w mieście i zamierza wybudować tam swoją fabrykę. szrotówek. kasztanowcowiaczek. już od jakiegoś. czasu niszczy kasztanowce. do niedawna uważano że tego szkodnika można wytępić tylko poprzez palenie i kompostowanie liści kasztanowca. teraz wiemy. że możemy je uratować poprzez specjalne szczepionki. jeśli możesz pomóc wrocławskim kasztanowcom to skontaktuj się z zsb. ul grabiszyńska 236 we wrocławiu. telefon 363. 25 29. konto bankowe. kb. iv o wrocław. 71. 1500. 1793 1226 1007 1791. 0000. z dopiskiem kasztanowiec .'"
      ]
     },
     "execution_count": 22,
     "metadata": {},
     "output_type": "execute_result"
    }
   ],
   "source": [
    "data_train.loc[0, 'FixedOutput']"
   ]
  },
  {
   "cell_type": "markdown",
   "metadata": {},
   "source": [
    "#### <span style='font-family:Georgia'> Inserting fullstops in abbreviations"
   ]
  },
  {
   "cell_type": "code",
   "execution_count": 23,
   "metadata": {
    "ExecuteTime": {
     "end_time": "2022-05-13T12:12:30.967290Z",
     "start_time": "2022-05-13T12:12:29.226611Z"
    }
   },
   "outputs": [],
   "source": [
    "# inserting fullstops after abbreviations + removing doubled spaces\n",
    "for abbr in abbreviations:\n",
    "    data_train['FixedOutput'] = data_train['FixedOutput'\n",
    "            ].apply(lambda x: x.replace(' ' + abbr + ' ', ' '\n",
    "                    + abbr.replace(' ', '. ') + '. '))\n",
    "data_train['FixedOutput'] = data_train['FixedOutput'].apply(lambda x: \\\n",
    "        x.replace('..', '.'))"
   ]
  },
  {
   "cell_type": "code",
   "execution_count": 24,
   "metadata": {
    "ExecuteTime": {
     "end_time": "2022-05-13T12:12:31.000445Z",
     "start_time": "2022-05-13T12:12:30.970342Z"
    }
   },
   "outputs": [
    {
     "data": {
      "text/html": [
       "<div>\n",
       "<style scoped>\n",
       "    .dataframe tbody tr th:only-of-type {\n",
       "        vertical-align: middle;\n",
       "    }\n",
       "\n",
       "    .dataframe tbody tr th {\n",
       "        vertical-align: top;\n",
       "    }\n",
       "\n",
       "    .dataframe thead th {\n",
       "        text-align: right;\n",
       "    }\n",
       "</style>\n",
       "<table border=\"1\" class=\"dataframe\">\n",
       "  <thead>\n",
       "    <tr style=\"text-align: right;\">\n",
       "      <th></th>\n",
       "      <th>FileId</th>\n",
       "      <th>FixedOutput</th>\n",
       "    </tr>\n",
       "  </thead>\n",
       "  <tbody>\n",
       "    <tr>\n",
       "      <th>0</th>\n",
       "      <td>wikinews178430</td>\n",
       "      <td>we wrocławiu walkę ze szkodnikiem rozpoczyna z...</td>\n",
       "    </tr>\n",
       "    <tr>\n",
       "      <th>1</th>\n",
       "      <td>wikinews178747</td>\n",
       "      <td>do serii rozbojów doszło w środę wieczorem w l...</td>\n",
       "    </tr>\n",
       "    <tr>\n",
       "      <th>2</th>\n",
       "      <td>wikinews178788</td>\n",
       "      <td>trzech 19 latków zatrzymała wczoraj lubelska p...</td>\n",
       "    </tr>\n",
       "    <tr>\n",
       "      <th>3</th>\n",
       "      <td>wikinews178804</td>\n",
       "      <td>drugie zwycięstwo w tegorocznym giro. ditalia....</td>\n",
       "    </tr>\n",
       "    <tr>\n",
       "      <th>4</th>\n",
       "      <td>wikinews178814</td>\n",
       "      <td>kradzieże telefonów komórkowych to coraz częst...</td>\n",
       "    </tr>\n",
       "  </tbody>\n",
       "</table>\n",
       "</div>"
      ],
      "text/plain": [
       "           FileId                                        FixedOutput\n",
       "0  wikinews178430  we wrocławiu walkę ze szkodnikiem rozpoczyna z...\n",
       "1  wikinews178747  do serii rozbojów doszło w środę wieczorem w l...\n",
       "2  wikinews178788  trzech 19 latków zatrzymała wczoraj lubelska p...\n",
       "3  wikinews178804  drugie zwycięstwo w tegorocznym giro. ditalia....\n",
       "4  wikinews178814  kradzieże telefonów komórkowych to coraz częst..."
      ]
     },
     "execution_count": 24,
     "metadata": {},
     "output_type": "execute_result"
    }
   ],
   "source": [
    "data_train.head()"
   ]
  },
  {
   "cell_type": "code",
   "execution_count": 25,
   "metadata": {
    "ExecuteTime": {
     "end_time": "2022-05-13T12:12:31.009444Z",
     "start_time": "2022-05-13T12:12:31.002442Z"
    }
   },
   "outputs": [
    {
     "data": {
      "text/plain": [
       "'we wrocławiu walkę ze szkodnikiem rozpoczyna zespół szkół budowlanych przy. ul. grabiszyńskiej. do akcji na ratunek kasztanowcom zsb zachęcił pobliskie szkoły. gimnazjum nr. 6 przy al. pracy. sp. nr. 82 przy ul. blacharskiej. sp. nr. 109. przy ul. inżynierskiej. sp. nr. 15 przy ul. solskiego. gimnazjum nr. 40 przy ul. morelowskiego. pomoc ma polegać na szukaniu sponsorów. którzy sfinansują specjalistyczne szczepienia. koszt szczepienia jednego drzewa to ok. 70 zł vat. sponsor który uratuje kasztanowca. ma zapewnioną na nim tabliczkę reklamową. podobna akcja odbyła się w świdnicy gdzie. szczepionkę dla 99 drzew. zasponsorowała firma imp comfort. która kupiła 10 ha. gruntów w mieście i zamierza wybudować tam swoją fabrykę. szrotówek. kasztanowcowiaczek. już od jakiegoś. czasu niszczy kasztanowce. do niedawna uważano że tego szkodnika można wytępić tylko poprzez palenie i kompostowanie liści kasztanowca. teraz wiemy. że możemy je uratować poprzez specjalne szczepionki. jeśli możesz pomóc wrocławskim kasztanowcom to skontaktuj się z zsb. ul. grabiszyńska 236 we wrocławiu. telefon 363. 25 29. konto bankowe. kb. iv o wrocław. 71. 1500. 1793 1226 1007 1791. 0000. z dopiskiem kasztanowiec .'"
      ]
     },
     "execution_count": 25,
     "metadata": {},
     "output_type": "execute_result"
    }
   ],
   "source": [
    "data_train.loc[0, 'FixedOutput']"
   ]
  },
  {
   "cell_type": "markdown",
   "metadata": {},
   "source": [
    "#### <span style='font-family:Georgia'> Inserting comas"
   ]
  },
  {
   "cell_type": "code",
   "execution_count": 26,
   "metadata": {
    "ExecuteTime": {
     "end_time": "2022-05-13T12:12:31.268458Z",
     "start_time": "2022-05-13T12:12:31.011460Z"
    }
   },
   "outputs": [],
   "source": [
    "for conj in con_list_yes:\n",
    "    data_train['FixedOutput'] = data_train['FixedOutput'\n",
    "            ].apply(lambda x: x.replace(' ' + conj + ' ', ', ' + conj\n",
    "                    + ' '))\n",
    "data_train['FixedOutput'] = data_train['FixedOutput'].apply(lambda x: \\\n",
    "        x.replace('.,', ','))"
   ]
  },
  {
   "cell_type": "code",
   "execution_count": 27,
   "metadata": {
    "ExecuteTime": {
     "end_time": "2022-05-13T12:12:31.286217Z",
     "start_time": "2022-05-13T12:12:31.271531Z"
    }
   },
   "outputs": [
    {
     "data": {
      "text/plain": [
       "'we wrocławiu walkę ze szkodnikiem rozpoczyna zespół szkół budowlanych przy. ul. grabiszyńskiej. do akcji na ratunek kasztanowcom zsb zachęcił pobliskie szkoły. gimnazjum nr. 6 przy al. pracy. sp. nr. 82 przy ul. blacharskiej. sp. nr. 109. przy ul. inżynierskiej. sp. nr. 15 przy ul. solskiego. gimnazjum nr. 40 przy ul. morelowskiego. pomoc ma polegać na szukaniu sponsorów, którzy sfinansują specjalistyczne szczepienia. koszt szczepienia jednego drzewa to ok. 70 zł vat. sponsor, który uratuje kasztanowca. ma zapewnioną na nim tabliczkę reklamową. podobna akcja odbyła się w świdnicy gdzie. szczepionkę dla 99 drzew. zasponsorowała firma imp comfort, która kupiła 10 ha. gruntów w mieście i zamierza wybudować tam swoją fabrykę. szrotówek. kasztanowcowiaczek. już od jakiegoś. czasu niszczy kasztanowce. do niedawna uważano, że tego szkodnika można wytępić tylko poprzez palenie i kompostowanie liści kasztanowca. teraz wiemy, że możemy je uratować poprzez specjalne szczepionki, jeśli możesz pomóc wrocławskim kasztanowcom to skontaktuj się z zsb. ul. grabiszyńska 236 we wrocławiu. telefon 363. 25 29. konto bankowe. kb. iv o wrocław. 71. 1500. 1793 1226 1007 1791. 0000. z dopiskiem kasztanowiec .'"
      ]
     },
     "execution_count": 27,
     "metadata": {},
     "output_type": "execute_result"
    }
   ],
   "source": [
    "data_train.loc[0, 'FixedOutput']"
   ]
  },
  {
   "cell_type": "code",
   "execution_count": 28,
   "metadata": {
    "ExecuteTime": {
     "end_time": "2022-05-13T12:12:31.308590Z",
     "start_time": "2022-05-13T12:12:31.294652Z"
    }
   },
   "outputs": [],
   "source": [
    "# data_train.to_csv(\n",
    "#     '../../data/outputs/baseline/including_pauses/train_data.csv',\n",
    "#     index=False\n",
    "# )"
   ]
  },
  {
   "cell_type": "markdown",
   "metadata": {},
   "source": [
    "### <span style='font-family:Georgia'> Test data\n",
    "#### <span style='font-family:Georgia'> Adding fullstops based on timestamps"
   ]
  },
  {
   "cell_type": "code",
   "execution_count": 29,
   "metadata": {
    "ExecuteTime": {
     "end_time": "2022-05-13T12:12:40.324014Z",
     "start_time": "2022-05-13T12:12:31.313568Z"
    }
   },
   "outputs": [
    {
     "name": "stderr",
     "output_type": "stream",
     "text": [
      "100%|████████████████████████████████████████████████████████████████████████████████| 200/200 [00:03<00:00, 55.79it/s]\n"
     ]
    }
   ],
   "source": [
    "data_test = read_files(\"../../data/source/poleval_fa.validation/validation\", sep=\"\\t\")\n",
    "data_test_calc = calculate_pauses(data_test).drop(\n",
    "    [\"timestamp_start\", \"timestamp_stop\"], axis=1\n",
    ")"
   ]
  },
  {
   "cell_type": "code",
   "execution_count": 30,
   "metadata": {
    "ExecuteTime": {
     "end_time": "2022-05-13T12:12:40.369745Z",
     "start_time": "2022-05-13T12:12:40.325292Z"
    }
   },
   "outputs": [],
   "source": [
    "fullstop_threshold = 0.3 * 1000  # value based on the eda (0.3 seconds converted to miliseconds)\n",
    "data_test_calc.loc[data_test_calc.pause_after > 300, 'word'] = \\\n",
    "    data_test_calc.loc[data_test_calc.pause_after > 300, 'word'\n",
    "                       ].apply(lambda x: x + '.')\n",
    "data_test_calc.loc[data_test_calc.pause_after == 0.0, 'word'] = \\\n",
    "    data_test_calc.loc[data_test_calc.pause_after == 0.0, 'word'\n",
    "                       ].apply(lambda x: x + '.')\n",
    "data_test_calc['word'] = data_test_calc['word'].apply(lambda x: \\\n",
    "        x.replace('..', '.'))"
   ]
  },
  {
   "cell_type": "code",
   "execution_count": 31,
   "metadata": {
    "ExecuteTime": {
     "end_time": "2022-05-13T12:12:40.406004Z",
     "start_time": "2022-05-13T12:12:40.371427Z"
    }
   },
   "outputs": [],
   "source": [
    "data_test_calc_joined = (data_test_calc[['index', 'word']]\n",
    "       .groupby(['index'])['word']\n",
    "       .agg(' '.join)\n",
    "       .reset_index())"
   ]
  },
  {
   "cell_type": "code",
   "execution_count": 32,
   "metadata": {
    "ExecuteTime": {
     "end_time": "2022-05-13T12:12:40.474881Z",
     "start_time": "2022-05-13T12:12:40.407973Z"
    }
   },
   "outputs": [],
   "source": [
    "for symb in noisy_words_test:\n",
    "    data_test_calc_joined['word'] = data_test_calc_joined['word'\n",
    "            ].apply(lambda x: x.replace(symb, ''))\n",
    "\n",
    "data_test_calc_joined['word'] = data_test_calc_joined['word'\n",
    "        ].apply(rm_consecutive_spaces)\n",
    "\n",
    "for symb in symbols_to_replace_test:\n",
    "    data_test_calc_joined['word'] = data_test_calc_joined['word'\n",
    "            ].apply(lambda x: x.replace(symb, ''))\n",
    "\n",
    "data_test_calc_joined['word'] = data_test_calc_joined['word'\n",
    "        ].apply(rm_consecutive_spaces)\n",
    "data_test_calc_joined.columns = ['FileId', 'FixedOutput']\n",
    "data_test = copy.deepcopy(data_test_calc_joined)"
   ]
  },
  {
   "cell_type": "code",
   "execution_count": 33,
   "metadata": {
    "ExecuteTime": {
     "end_time": "2022-05-13T12:12:40.483762Z",
     "start_time": "2022-05-13T12:12:40.475878Z"
    }
   },
   "outputs": [
    {
     "data": {
      "text/plain": [
       "(200, 2)"
      ]
     },
     "execution_count": 33,
     "metadata": {},
     "output_type": "execute_result"
    }
   ],
   "source": [
    "data_test.shape"
   ]
  },
  {
   "cell_type": "code",
   "execution_count": 34,
   "metadata": {
    "ExecuteTime": {
     "end_time": "2022-05-13T12:12:40.500954Z",
     "start_time": "2022-05-13T12:12:40.485757Z"
    }
   },
   "outputs": [
    {
     "data": {
      "text/plain": [
       "'prezydent usa george bush powiedział że odnowa nowego orleanu i innych zalanych terenów potrwa lata stan luizjana wraz ze stolicą nowym orleanem. ucierpiał w wyniku ataku huraganu katrina. prezydent skrócił swoje wakacje w teksasie oraz zwołał posiedzenie gabinetu który obejmie kontrolę nad nadzorem akcji ratunkowej. jednej z najgorszych katastrof naturalnych. bush wyznaczył trzy priorytety dotyczące walki ze skutkami kataklizmu. ratowanie życia ofiarom w tym poszukiwanie zaginionych. pomoc poszkodowanym i. odnalezionym. odbudowa i usuwanie szkód. w ramach akcji ratunkowej przydzielono dodatkowo 10 tysięcy żołnierzy którzy wspomogą operację w regionach najbardziej dotkniętych katastrofą. zaliczają się do nich części stanów luizjany i mississippi. służby medyczne zaoferowały ponad 10 tysięcy łóżek zaś. armia amerykańska. wysyła swoje helikoptery i łodzie aby uratować mieszkańców znajdujących się w schronieniu. późnym wieczorem w środę rozpoczęła się ewakuacja reszty mieszkańców. nowego orleanu tych którzy pozostali w schronach oraz na stadionie superdome. w centrum miasta. ich liczbę szacuje się na 20000 ludzie są wywożeni do oddalonego o 350 mil stadionu astrodome w houston. w tym celu podstawiono 300 autobusów niektórzy wykorzystują sytuację i w poszukiwaniu jedzenia lub cennych rzeczy włamują się do domów biur szpitali. rozbijają szyby wyłamują drzwi. wleką za. sobą to co udaje się im unieść bądź przenieść. uderzenie huraganu katrina spowodowało wzrost cen benzyny w wielu częściach stanów zjednoczonych osiągnęła ona wartość powyżej 3 dolarów za galon. w niektórych stanach wynosi ona 3 50 . nad zatoką meksykańską umiejscowiony jest jeden z największych. okręgów przemysłowych mieszczącym wiele rafinerii oraz rurociągów.'"
      ]
     },
     "execution_count": 34,
     "metadata": {},
     "output_type": "execute_result"
    }
   ],
   "source": [
    "data_test.loc[1, 'FixedOutput']"
   ]
  },
  {
   "cell_type": "markdown",
   "metadata": {},
   "source": [
    "#### <span style='font-family:Georgia'> Inserting fullstops in abbreviations"
   ]
  },
  {
   "cell_type": "code",
   "execution_count": 35,
   "metadata": {
    "ExecuteTime": {
     "end_time": "2022-05-13T12:12:41.054322Z",
     "start_time": "2022-05-13T12:12:40.503030Z"
    }
   },
   "outputs": [],
   "source": [
    "# inserting fullstops after abbreviations + removing doubled spaces\n",
    "for abbr in abbreviations:\n",
    "    data_test['FixedOutput'] = data_test['FixedOutput'].apply(lambda x: \\\n",
    "            x.replace(' ' + abbr + ' ', ' ' + abbr.replace(' ', ' . ')\n",
    "            + '. '))\n",
    "data_test['FixedOutput'] = data_test['FixedOutput'].apply(lambda x: \\\n",
    "        x.replace('..', '.'))"
   ]
  },
  {
   "cell_type": "code",
   "execution_count": 36,
   "metadata": {
    "ExecuteTime": {
     "end_time": "2022-05-13T12:12:41.077681Z",
     "start_time": "2022-05-13T12:12:41.057982Z"
    }
   },
   "outputs": [
    {
     "data": {
      "text/html": [
       "<div>\n",
       "<style scoped>\n",
       "    .dataframe tbody tr th:only-of-type {\n",
       "        vertical-align: middle;\n",
       "    }\n",
       "\n",
       "    .dataframe tbody tr th {\n",
       "        vertical-align: top;\n",
       "    }\n",
       "\n",
       "    .dataframe thead th {\n",
       "        text-align: right;\n",
       "    }\n",
       "</style>\n",
       "<table border=\"1\" class=\"dataframe\">\n",
       "  <thead>\n",
       "    <tr style=\"text-align: right;\">\n",
       "      <th></th>\n",
       "      <th>FileId</th>\n",
       "      <th>FixedOutput</th>\n",
       "    </tr>\n",
       "  </thead>\n",
       "  <tbody>\n",
       "    <tr>\n",
       "      <th>0</th>\n",
       "      <td>wikinews179014</td>\n",
       "      <td>w gdańsku zgodnie już z coroczną czerwcową tra...</td>\n",
       "    </tr>\n",
       "    <tr>\n",
       "      <th>1</th>\n",
       "      <td>wikinews179354</td>\n",
       "      <td>prezydent usa george bush powiedział że odnowa...</td>\n",
       "    </tr>\n",
       "    <tr>\n",
       "      <th>2</th>\n",
       "      <td>wikinews179650</td>\n",
       "      <td>mamy najgorsze przedmieścia w europie. nie wol...</td>\n",
       "    </tr>\n",
       "    <tr>\n",
       "      <th>3</th>\n",
       "      <td>wikinews179740</td>\n",
       "      <td>w sejmie trwała dziś debata nad sprawozdaniem ...</td>\n",
       "    </tr>\n",
       "    <tr>\n",
       "      <th>4</th>\n",
       "      <td>wikinews179784</td>\n",
       "      <td>aleksander łukaszenka który za 3 miesiące będz...</td>\n",
       "    </tr>\n",
       "  </tbody>\n",
       "</table>\n",
       "</div>"
      ],
      "text/plain": [
       "           FileId                                        FixedOutput\n",
       "0  wikinews179014  w gdańsku zgodnie już z coroczną czerwcową tra...\n",
       "1  wikinews179354  prezydent usa george bush powiedział że odnowa...\n",
       "2  wikinews179650  mamy najgorsze przedmieścia w europie. nie wol...\n",
       "3  wikinews179740  w sejmie trwała dziś debata nad sprawozdaniem ...\n",
       "4  wikinews179784  aleksander łukaszenka który za 3 miesiące będz..."
      ]
     },
     "execution_count": 36,
     "metadata": {},
     "output_type": "execute_result"
    }
   ],
   "source": [
    "data_test.head()"
   ]
  },
  {
   "cell_type": "code",
   "execution_count": 37,
   "metadata": {
    "ExecuteTime": {
     "end_time": "2022-05-13T12:12:41.101359Z",
     "start_time": "2022-05-13T12:12:41.080674Z"
    }
   },
   "outputs": [
    {
     "data": {
      "text/plain": [
       "'prezydent usa george bush powiedział że odnowa nowego orleanu i innych zalanych terenów potrwa lata stan luizjana wraz ze stolicą nowym orleanem. ucierpiał w wyniku ataku huraganu katrina. prezydent skrócił swoje wakacje w teksasie oraz zwołał posiedzenie gabinetu który obejmie kontrolę nad nadzorem akcji ratunkowej. jednej z najgorszych katastrof naturalnych. bush wyznaczył trzy priorytety dotyczące walki ze skutkami kataklizmu. ratowanie życia ofiarom w tym poszukiwanie zaginionych. pomoc poszkodowanym i. odnalezionym. odbudowa i usuwanie szkód. w ramach akcji ratunkowej przydzielono dodatkowo 10 tysięcy żołnierzy którzy wspomogą operację w regionach najbardziej dotkniętych katastrofą. zaliczają się do nich części stanów luizjany i mississippi. służby medyczne zaoferowały ponad 10 tysięcy łóżek zaś. armia amerykańska. wysyła swoje helikoptery i łodzie aby uratować mieszkańców znajdujących się w schronieniu. późnym wieczorem w środę rozpoczęła się ewakuacja reszty mieszkańców. nowego orleanu tych którzy pozostali w schronach oraz na stadionie superdome. w centrum miasta. ich liczbę szacuje się na 20000 ludzie są wywożeni do oddalonego o 350 mil stadionu astrodome w houston. w tym celu podstawiono 300 autobusów niektórzy wykorzystują sytuację i w poszukiwaniu jedzenia lub cennych rzeczy włamują się do domów biur szpitali. rozbijają szyby wyłamują drzwi. wleką za. sobą to co udaje się im. unieść bądź przenieść. uderzenie huraganu katrina spowodowało wzrost cen benzyny w wielu częściach stanów zjednoczonych osiągnęła ona wartość powyżej 3 dolarów za galon. w niektórych stanach wynosi ona 3 50 . nad zatoką meksykańską umiejscowiony jest jeden z największych. okręgów przemysłowych mieszczącym wiele rafinerii oraz rurociągów.'"
      ]
     },
     "execution_count": 37,
     "metadata": {},
     "output_type": "execute_result"
    }
   ],
   "source": [
    "#example\n",
    "data_test.loc[1, 'FixedOutput']"
   ]
  },
  {
   "cell_type": "markdown",
   "metadata": {},
   "source": [
    "#### <span style='font-family:Georgia'> Inserting comas"
   ]
  },
  {
   "cell_type": "code",
   "execution_count": 38,
   "metadata": {
    "ExecuteTime": {
     "end_time": "2022-05-13T12:12:41.207324Z",
     "start_time": "2022-05-13T12:12:41.104608Z"
    }
   },
   "outputs": [],
   "source": [
    "for conj in con_list_yes:\n",
    "    data_test['FixedOutput'] = data_test['FixedOutput'].apply(lambda x: \\\n",
    "            x.replace(' ' + conj + ' ', ', ' + conj + ' '))\n",
    "data_test['FixedOutput'] = data_test['FixedOutput'].apply(lambda x: \\\n",
    "        x.replace('.,', ','))"
   ]
  },
  {
   "cell_type": "code",
   "execution_count": 39,
   "metadata": {
    "ExecuteTime": {
     "end_time": "2022-05-13T12:12:41.224278Z",
     "start_time": "2022-05-13T12:12:41.210317Z"
    }
   },
   "outputs": [
    {
     "data": {
      "text/plain": [
       "'prezydent usa george bush powiedział, że odnowa nowego orleanu i innych zalanych terenów potrwa lata stan luizjana wraz ze stolicą nowym orleanem. ucierpiał w wyniku ataku huraganu katrina. prezydent skrócił swoje wakacje w teksasie oraz zwołał posiedzenie gabinetu, który obejmie kontrolę nad nadzorem akcji ratunkowej. jednej z najgorszych katastrof naturalnych. bush wyznaczył trzy priorytety dotyczące walki ze skutkami kataklizmu. ratowanie życia ofiarom w tym poszukiwanie zaginionych. pomoc poszkodowanym i. odnalezionym. odbudowa i usuwanie szkód. w ramach akcji ratunkowej przydzielono dodatkowo 10 tysięcy żołnierzy, którzy wspomogą operację w regionach najbardziej dotkniętych katastrofą. zaliczają się do nich części stanów luizjany i mississippi. służby medyczne zaoferowały ponad 10 tysięcy łóżek zaś. armia amerykańska. wysyła swoje helikoptery i łodzie, aby uratować mieszkańców znajdujących się w schronieniu. późnym wieczorem w środę rozpoczęła się ewakuacja reszty mieszkańców. nowego orleanu tych, którzy pozostali w schronach oraz na stadionie superdome. w centrum miasta. ich liczbę szacuje się na 20000 ludzie są wywożeni do oddalonego o 350 mil stadionu astrodome w houston. w tym celu podstawiono 300 autobusów niektórzy wykorzystują sytuację i w poszukiwaniu jedzenia lub cennych rzeczy włamują się do domów biur szpitali. rozbijają szyby wyłamują drzwi. wleką za. sobą to co udaje się im. unieść bądź przenieść. uderzenie huraganu katrina spowodowało wzrost cen benzyny w wielu częściach stanów zjednoczonych osiągnęła ona wartość powyżej 3 dolarów za galon. w niektórych stanach wynosi ona 3 50 . nad zatoką meksykańską umiejscowiony jest jeden z największych. okręgów przemysłowych mieszczącym wiele rafinerii oraz rurociągów.'"
      ]
     },
     "execution_count": 39,
     "metadata": {},
     "output_type": "execute_result"
    }
   ],
   "source": [
    "#example result\n",
    "data_test.loc[1, 'FixedOutput']"
   ]
  },
  {
   "cell_type": "code",
   "execution_count": 40,
   "metadata": {
    "ExecuteTime": {
     "end_time": "2022-05-13T12:12:41.233082Z",
     "start_time": "2022-05-13T12:12:41.227288Z"
    }
   },
   "outputs": [],
   "source": [
    "# data_test.to_csv(\n",
    "#     \"../../data/outputs/baseline/including_pauses/test_data.csv\", index=False\n",
    "# )"
   ]
  }
 ],
 "metadata": {
  "interpreter": {
   "hash": "1eea36f549d596e1ba6d357da17c58a2c496985ce50cff93b35e7c83413effd0"
  },
  "kernelspec": {
   "display_name": "Python 3",
   "language": "python",
   "name": "python3"
  },
  "language_info": {
   "codemirror_mode": {
    "name": "ipython",
    "version": 3
   },
   "file_extension": ".py",
   "mimetype": "text/x-python",
   "name": "python",
   "nbconvert_exporter": "python",
   "pygments_lexer": "ipython3",
   "version": "3.8.8"
  }
 },
 "nbformat": 4,
 "nbformat_minor": 2
}
