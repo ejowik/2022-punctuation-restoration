{
 "cells": [
  {
   "cell_type": "markdown",
   "metadata": {},
   "source": [
    "## <span style='font-family:Georgia'> Objectives\n",
    "The purpose of this notebook is creating a baseline rule-model, which is to be a benchmark of the neural model developed in the later phase of the project."
   ]
  },
  {
   "cell_type": "code",
   "execution_count": 1,
   "metadata": {},
   "outputs": [
    {
     "name": "stderr",
     "output_type": "stream",
     "text": [
      "[nltk_data] Downloading package punkt to\n",
      "[nltk_data]     C:\\Users\\akaga\\AppData\\Roaming\\nltk_data...\n",
      "[nltk_data]   Package punkt is already up-to-date!\n"
     ]
    }
   ],
   "source": [
    "# loading packages\n",
    "import os\n",
    "import pandas as pd\n",
    "import seaborn as sns\n",
    "import copy\n",
    "import matplotlib.pyplot as plt\n",
    "sns.set(style=\"darkgrid\")\n",
    "from tqdm import tqdm\n",
    "from supportive_functions import rm_consecutive_spaces\n",
    "\n",
    "import nltk\n",
    "import nltk.data\n",
    "from polish_sentence_nltk_tokenizer import sentence_tokenizer\n",
    "\n",
    "import warnings\n",
    "warnings.filterwarnings(action='ignore')\n",
    "pd.options.display.max_columns = None\n",
    "\n",
    "%matplotlib inline\n",
    "plt.rcParams['figure.figsize'] = (9, 6)\n",
    "\n",
    "sns.set(rc={'figure.figsize':(14,8.27), 'axes.facecolor':'white', 'axes.grid' : True, \"grid.color\": \".9\"})"
   ]
  },
  {
   "cell_type": "code",
   "execution_count": 2,
   "metadata": {},
   "outputs": [],
   "source": [
    "def read_files(dir_path: str, sep: str = \",\") -> pd.DataFrame:\n",
    "    \"\"\"\n",
    "    Read the files with timestamps from a given catalog.\n",
    "\n",
    "    Args:\n",
    "        dir_path (str): Path to the catalog with the files\n",
    "        sep (str, optional): Separator used in pd.read_csv() function. Defaults to \",\".\n",
    "\n",
    "    Returns:\n",
    "        pd.DataFrame: Data from all the files concatenated into one dataframe.\n",
    "    \"\"\"\n",
    "    files = os.listdir(dir_path)\n",
    "    data = pd.DataFrame([], columns = ['index', 'timestamp_start', 'timestamp_stop', 'word'])\n",
    "    for file in tqdm(files):\n",
    "        f = open(os.path.join(dir_path, file), encoding='utf-8', mode='r')\n",
    "        name = file.split(\".\")[0]\n",
    "        df = pd.read_csv(f, header=None, sep=sep, encoding='utf-8')\n",
    "        df['index'] = name\n",
    "        if sep != \",\":\n",
    "            df['timestamp_start'] = df.iloc[:,0].str.split(\",\").str[0].str[1:]\n",
    "            df['timestamp_stop'] = df.iloc[:,0].str.split(\",\").str[1].str.split(\"\\)\").str[0]\n",
    "            df['word'] = df.iloc[:,0].str.split(\"\\)+\\s\").str[1]\n",
    "            df.drop([0], axis=1, inplace=True)\n",
    "            df.drop(df.tail(1).index, inplace=True)\n",
    "        else:\n",
    "            df['timestamp_start'] = df.iloc[:,0].str[1:]\n",
    "            df['timestamp_stop'] = df.iloc[:,1].str.split(\"\\)+\\s\").str[0]\n",
    "            df['word'] = df.iloc[:,1].str.split(\"\\)+\\s\").str[1]\n",
    "\n",
    "            df.drop([0,1], axis=1, inplace=True)\n",
    "            df.drop(df.tail(1).index, inplace=True)\n",
    "        data = pd.concat([data, df])\n",
    "        f.close()\n",
    "    return data"
   ]
  },
  {
   "cell_type": "code",
   "execution_count": 3,
   "metadata": {},
   "outputs": [],
   "source": [
    "def calculate_pauses(data: pd.DataFrame) -> pd.DataFrame:\n",
    "    \"\"\"\n",
    "    Generate new features describing pauses between two timestamps.\n",
    "\n",
    "    Args:\n",
    "        data (pd.DataFrame): Dataframe with preprocessed timestamp data separated into 'timestamp_start' and 'timestamp_stop' columns.\n",
    "\n",
    "    Returns:\n",
    "        pd.DataFrame: Input dataframe with two new features added, describing the pause between the word and after it.\n",
    "    \"\"\"\n",
    "    data.timestamp_start = data.timestamp_start.astype(int)\n",
    "    data.timestamp_stop = data.timestamp_stop.astype(int)\n",
    "    data_shifted = pd.concat([data, data.timestamp_start.shift(-1), data.timestamp_stop.shift()], axis=1)\n",
    "    data_shifted.columns = ['index', 'timestamp_start', 'timestamp_stop', 'word', 'timestamp_start_lead', 'timestamp_stop_lag']\n",
    "    data_shifted['pause_before'] = data_shifted.timestamp_start - data_shifted.timestamp_stop_lag\n",
    "    data_shifted['pause_after'] = data_shifted.timestamp_start_lead - data_shifted.timestamp_stop\n",
    "    data_shifted.drop(['timestamp_start_lead', 'timestamp_stop_lag'], axis=1, inplace=True)\n",
    "    # to discuss\n",
    "    data_shifted.pause_before.fillna(data_shifted.timestamp_start, inplace=True)\n",
    "    data_shifted.pause_after.fillna(0, inplace=True)\n",
    "    data_shifted.reset_index(drop=True, inplace=True)\n",
    "    for i, row in data_shifted.iterrows():\n",
    "        if (i>0) and (data_shifted.loc[i, 'index'] != data_shifted.loc[i-1, 'index']):\n",
    "            data_shifted.loc[i, 'pause_before'] = data_shifted.loc[i, 'timestamp_start']\n",
    "            data_shifted.loc[i-1, 'pause_after'] = 0\n",
    "            \n",
    "    return data_shifted"
   ]
  },
  {
   "cell_type": "markdown",
   "metadata": {},
   "source": [
    "## <span style='font-family:Georgia'> Implementation of rules"
   ]
  },
  {
   "cell_type": "code",
   "execution_count": 4,
   "metadata": {},
   "outputs": [],
   "source": [
    "# tokenizer for separation into sentences\n",
    "tokenizer = nltk.data.load('tokenizers/punkt/polish.pickle')"
   ]
  },
  {
   "cell_type": "code",
   "execution_count": 5,
   "metadata": {},
   "outputs": [],
   "source": [
    "# extracting list of abbreviations\n",
    "abbreviations = sentence_tokenizer._params.abbrev_types\n",
    "abbreviations_with_period = [x for x in abbreviations if '.' in x]"
   ]
  },
  {
   "cell_type": "code",
   "execution_count": 6,
   "metadata": {},
   "outputs": [],
   "source": [
    "# separating abbreviations with periods inside them\n",
    "spaced_abbreviations_with_period = []\n",
    "for abbr in abbreviations_with_period:\n",
    "    if '.' in abbr: spaced_abbreviations_with_period.append(abbr.replace('.', ' '))"
   ]
  },
  {
   "cell_type": "code",
   "execution_count": 7,
   "metadata": {},
   "outputs": [],
   "source": [
    "# list of abbreviations after 'cleaning'\n",
    "abbreviations = [abbr for abbr in abbreviations if abbr not in abbreviations_with_period]\n",
    "for abbr in spaced_abbreviations_with_period:\n",
    "    abbreviations.append(abbr)"
   ]
  },
  {
   "cell_type": "code",
   "execution_count": 8,
   "metadata": {},
   "outputs": [],
   "source": [
    "punctuation = list(sentence_tokenizer.PUNCTUATION)\n",
    "punctuation.append('-')\n",
    "punctuation.remove(';')\n"
   ]
  },
  {
   "cell_type": "code",
   "execution_count": 9,
   "metadata": {},
   "outputs": [
    {
     "data": {
      "text/plain": [
       "Index(['item', 'grammatical_class'], dtype='object')"
      ]
     },
     "execution_count": 9,
     "metadata": {},
     "output_type": "execute_result"
    }
   ],
   "source": [
    "# reading dict generated from morfeusz (all items from train dataset)\n",
    "morfeusz_train = pd.read_csv('./data/out/morfeusz/items_dict.csv')\n",
    "morfeusz_train.columns"
   ]
  },
  {
   "cell_type": "code",
   "execution_count": 10,
   "metadata": {},
   "outputs": [],
   "source": [
    "# list of conjuctions from morfeusz\n",
    "conj_comp_list = morfeusz_train[morfeusz_train.grammatical_class.str.contains('comp|conj')].item.tolist()"
   ]
  },
  {
   "cell_type": "code",
   "execution_count": 11,
   "metadata": {},
   "outputs": [],
   "source": [
    "#all conjuctions below are from conj_comp_list\n",
    "#not_conj - we do not put coma before them\n",
    "#yes_conj - we do put coma before them\n",
    "\n",
    "not_conj=['a', 'albo', 'ali', 'ani','aniżeli','aż', 'bowiem', 'bylem', 'bym', 'byśmy',\n",
    "            'bądź', 'co', 'com', 'coś','czyli','czym','ewentualnie','gdybyś', 'gdybyśmy','i', 'inaczej',\n",
    "            'jednak', 'kiedyś',  'lub', 'miast', 'miasto', 'natomiast', 'ni', 'niby', 'niczym', 'nie',\n",
    "            'nim', 'niż', 'niżem', 'oraz', 'tedy', 'to', 'tom', 'toteż','tudzież', 'tylko', 'tym', 'tymczasem',\n",
    "            'zamiast', 'zarówno', 'zatem', 'zaś']\n",
    "yes_conj=['aby', 'abyśmy','acz', 'aczkolwiek','bo', 'by', 'chociaż', 'chociażby', 'choć', 'choćby', 'czy',\n",
    "            'dopóki', 'gdy', 'gdyby', 'gdyż', 'im', 'iż', 'jak', 'jakby', 'jako', 'jakoby', 'jeśli', \n",
    "            'jeżeli', 'kiedy', 'ledwo', 'ponieważ', 'póki', 'skoro', 'więc', 'zaledwie', 'zanim', 'że', \n",
    "            'żeby', 'żebyś', 'żeś', 'ale', 'lecz']"
   ]
  },
  {
   "cell_type": "code",
   "execution_count": 12,
   "metadata": {},
   "outputs": [],
   "source": [
    "# list of który która które \n",
    "ktory_list = morfeusz_train[morfeusz_train.item.str.startswith('któr')][~morfeusz_train.item.str.contains('ś')].item.tolist()\n",
    "ktory_list.remove('którykolwiek')\n",
    "ktory_list.remove('którędy')"
   ]
  },
  {
   "cell_type": "code",
   "execution_count": 13,
   "metadata": {},
   "outputs": [],
   "source": [
    "#additional list of conjunctions with coma which were not in morfeusz\n",
    "additional_list=['dlatego']"
   ]
  },
  {
   "cell_type": "code",
   "execution_count": 14,
   "metadata": {},
   "outputs": [],
   "source": [
    "#merge lists of conjuctions\n",
    "con_list_yes=yes_conj+ktory_list+additional_list"
   ]
  },
  {
   "cell_type": "code",
   "execution_count": 15,
   "metadata": {},
   "outputs": [],
   "source": [
    "### train symbols and noisy words\n",
    "# load list of symbols to replace\n",
    "symbols_to_replace_infile = open(\"./data/out/eda/symbols_to_replace.txt\", \"r\", encoding=\"utf-8\")\n",
    "symbols_to_replace = symbols_to_replace_infile.read().splitlines()\n",
    "# load list of noisy words, i.e. words with letters from outside the Polish alphabet\n",
    "noisy_words_infile = open(\"./data/out/eda/noisy_words.txt\", \"r\", encoding=\"utf-8\")\n",
    "noisy_words = noisy_words_infile.read().splitlines()\n",
    "# load list of letters from outside the Polish alphabet\n",
    "non_polish_letters_infile = open(\"./data/out/eda/non_polish_letters.txt\", \"r\", encoding=\"utf-8\")\n",
    "non_polish_letters = non_polish_letters_infile.read().splitlines()\n",
    "\n",
    "# merge noisy data into one list\n",
    "symbols_to_replace.extend(noisy_words)\n",
    "symbols_to_replace.extend(non_polish_letters)"
   ]
  },
  {
   "cell_type": "code",
   "execution_count": 16,
   "metadata": {},
   "outputs": [],
   "source": [
    "### test symbols and noisy words\n",
    "# load list of symbols to replace\n",
    "symbols_to_replace_infile_test = open(\"./data/out/eda/symbols_to_replace.txt\", \"r\", encoding=\"utf-8\")\n",
    "symbols_to_replace_test = symbols_to_replace_infile_test.read().splitlines()\n",
    "# load list of noisy words, i.e. words with letters from outside the Polish alphabet\n",
    "noisy_words_infile_test = open(\"./data/out/test/noisy_words.txt\", \"r\", encoding=\"utf-8\")\n",
    "noisy_words_test = noisy_words_infile_test.read().splitlines()\n",
    "# load list of letters from outside the Polish alphabet\n",
    "non_polish_letters_infile_test = open(\"./data/out/test/non_polish_letters.txt\", \"r\", encoding=\"utf-8\")\n",
    "non_polish_letters_test = non_polish_letters_infile_test.read().splitlines()\n",
    "# merge noisy data into one list\n",
    "noisy_words_test.extend(non_polish_letters_test)\n"
   ]
  },
  {
   "cell_type": "markdown",
   "metadata": {},
   "source": [
    "### <span style='font-family:Georgia'> Train data\n",
    "#### <span style='font-family:Georgia'> Adding fullstops"
   ]
  },
  {
   "cell_type": "code",
   "execution_count": 17,
   "metadata": {},
   "outputs": [
    {
     "name": "stderr",
     "output_type": "stream",
     "text": [
      "100%|██████████| 793/793 [00:14<00:00, 55.17it/s]\n"
     ]
    }
   ],
   "source": [
    "data_train = read_files('./data/forced-alignment/train', sep=\"\\t\")\n",
    "data_train_calc=calculate_pauses(data_train).drop([\"timestamp_start\", \"timestamp_stop\"], axis=1)"
   ]
  },
  {
   "cell_type": "code",
   "execution_count": 18,
   "metadata": {},
   "outputs": [],
   "source": [
    "fullstop_threshold = 0.3*1000 # value based on the eda (0.3 seconds converted to miliseconds)\n",
    "data_train_calc.loc[data_train_calc.pause_after > 300, 'word'] = data_train_calc.loc[data_train_calc.pause_after > 300, 'word'].apply(lambda x: x+'.')\n",
    "data_train_calc.loc[data_train_calc.pause_after==0.0, 'word'] = data_train_calc.loc[data_train_calc.pause_after==0.0, 'word'].apply(lambda x: x+'.')\n",
    "data_train_calc['word'] = data_train_calc['word'].apply(lambda x: x.replace('..', '.'))"
   ]
  },
  {
   "cell_type": "code",
   "execution_count": 19,
   "metadata": {},
   "outputs": [],
   "source": [
    "data_train_calc_joined = (data_train_calc[['index', 'word']]\n",
    "       .groupby(['index'])['word']\n",
    "       .agg(' '.join)\n",
    "       .reset_index())"
   ]
  },
  {
   "cell_type": "code",
   "execution_count": 20,
   "metadata": {},
   "outputs": [],
   "source": [
    "for symb in symbols_to_replace:\n",
    "    data_train_calc_joined['word'] = data_train_calc_joined['word'].apply(lambda x: x.replace(symb, ''))\n",
    "\n",
    "data_train_calc_joined[\"word\"] = data_train_calc_joined[\"word\"].apply(rm_consecutive_spaces)\n",
    "data_train_calc_joined.columns = ['FileId', 'FixedOutput']\n",
    "data_train=copy.deepcopy(data_train_calc_joined)"
   ]
  },
  {
   "cell_type": "code",
   "execution_count": 21,
   "metadata": {},
   "outputs": [
    {
     "data": {
      "text/plain": [
       "(793, 2)"
      ]
     },
     "execution_count": 21,
     "metadata": {},
     "output_type": "execute_result"
    }
   ],
   "source": [
    "data_train.shape"
   ]
  },
  {
   "cell_type": "code",
   "execution_count": 22,
   "metadata": {},
   "outputs": [
    {
     "data": {
      "text/plain": [
       "'we wrocławiu walkę ze szkodnikiem rozpoczyna zespół szkół budowlanych przy. ul grabiszyńskiej. do akcji na ratunek kasztanowcom zsb zachęcił pobliskie szkoły. gimnazjum nr 6 przy al. pracy. sp nr 82 przy ul blacharskiej. sp nr 109. przy ul inżynierskiej. sp nr 15 przy ul solskiego. gimnazjum nr 40 przy ul morelowskiego. pomoc ma polegać na szukaniu sponsorów. którzy sfinansują specjalistyczne szczepienia. koszt szczepienia jednego drzewa to ok 70 zł vat. sponsor który uratuje kasztanowca. ma zapewnioną na nim tabliczkę reklamową. podobna akcja odbyła się w świdnicy gdzie. szczepionkę dla 99 drzew. zasponsorowała firma imp comfort. która kupiła 10 ha gruntów w mieście i zamierza wybudować tam swoją fabrykę. szrotówek. kasztanowcowiaczek. już od jakiegoś. czasu niszczy kasztanowce. do niedawna uważano że tego szkodnika można wytępić tylko poprzez palenie i kompostowanie liści kasztanowca. teraz wiemy. że możemy je uratować poprzez specjalne szczepionki. jeśli możesz pomóc wrocławskim kasztanowcom to skontaktuj się z zsb. ul grabiszyńska 236 we wrocławiu. telefon 363. 25 29. konto bankowe. kb. iv o wrocław. 71. 1500. 1793 1226 1007 1791. 0000. z dopiskiem kasztanowiec .'"
      ]
     },
     "execution_count": 22,
     "metadata": {},
     "output_type": "execute_result"
    }
   ],
   "source": [
    "data_train.loc[0, 'FixedOutput']"
   ]
  },
  {
   "cell_type": "markdown",
   "metadata": {},
   "source": [
    "#### <span style='font-family:Georgia'> Inserting fullstops in abbreviations"
   ]
  },
  {
   "cell_type": "code",
   "execution_count": 23,
   "metadata": {},
   "outputs": [],
   "source": [
    "# inserting fullstops after abbreviations + removing doubled spaces\n",
    "for abbr in abbreviations:\n",
    "    data_train['FixedOutput'] = data_train['FixedOutput'].apply(lambda x: x.replace(' '+abbr+' ', ' '+abbr.replace(' ', '. ')+'. '))\n",
    "data_train['FixedOutput'] = data_train['FixedOutput'].apply(lambda x: x.replace('..', '.'))"
   ]
  },
  {
   "cell_type": "code",
   "execution_count": 24,
   "metadata": {},
   "outputs": [
    {
     "data": {
      "text/html": [
       "<div>\n",
       "<style scoped>\n",
       "    .dataframe tbody tr th:only-of-type {\n",
       "        vertical-align: middle;\n",
       "    }\n",
       "\n",
       "    .dataframe tbody tr th {\n",
       "        vertical-align: top;\n",
       "    }\n",
       "\n",
       "    .dataframe thead th {\n",
       "        text-align: right;\n",
       "    }\n",
       "</style>\n",
       "<table border=\"1\" class=\"dataframe\">\n",
       "  <thead>\n",
       "    <tr style=\"text-align: right;\">\n",
       "      <th></th>\n",
       "      <th>FileId</th>\n",
       "      <th>FixedOutput</th>\n",
       "    </tr>\n",
       "  </thead>\n",
       "  <tbody>\n",
       "    <tr>\n",
       "      <th>0</th>\n",
       "      <td>wikinews178430</td>\n",
       "      <td>we wrocławiu walkę ze szkodnikiem rozpoczyna z...</td>\n",
       "    </tr>\n",
       "    <tr>\n",
       "      <th>1</th>\n",
       "      <td>wikinews178747</td>\n",
       "      <td>do serii rozbojów doszło w środę wieczorem w l...</td>\n",
       "    </tr>\n",
       "    <tr>\n",
       "      <th>2</th>\n",
       "      <td>wikinews178788</td>\n",
       "      <td>trzech 19 latków zatrzymała wczoraj lubelska p...</td>\n",
       "    </tr>\n",
       "    <tr>\n",
       "      <th>3</th>\n",
       "      <td>wikinews178804</td>\n",
       "      <td>drugie zwycięstwo w tegorocznym giro. ditalia....</td>\n",
       "    </tr>\n",
       "    <tr>\n",
       "      <th>4</th>\n",
       "      <td>wikinews178814</td>\n",
       "      <td>kradzieże telefonów komórkowych to coraz częst...</td>\n",
       "    </tr>\n",
       "  </tbody>\n",
       "</table>\n",
       "</div>"
      ],
      "text/plain": [
       "           FileId                                        FixedOutput\n",
       "0  wikinews178430  we wrocławiu walkę ze szkodnikiem rozpoczyna z...\n",
       "1  wikinews178747  do serii rozbojów doszło w środę wieczorem w l...\n",
       "2  wikinews178788  trzech 19 latków zatrzymała wczoraj lubelska p...\n",
       "3  wikinews178804  drugie zwycięstwo w tegorocznym giro. ditalia....\n",
       "4  wikinews178814  kradzieże telefonów komórkowych to coraz częst..."
      ]
     },
     "execution_count": 24,
     "metadata": {},
     "output_type": "execute_result"
    }
   ],
   "source": [
    "data_train.head()"
   ]
  },
  {
   "cell_type": "code",
   "execution_count": 25,
   "metadata": {},
   "outputs": [
    {
     "data": {
      "text/plain": [
       "'we wrocławiu walkę ze szkodnikiem rozpoczyna zespół szkół budowlanych przy. ul. grabiszyńskiej. do akcji na ratunek kasztanowcom zsb zachęcił pobliskie szkoły. gimnazjum nr. 6 przy al. pracy. sp. nr. 82 przy ul. blacharskiej. sp. nr. 109. przy ul. inżynierskiej. sp. nr. 15 przy ul. solskiego. gimnazjum nr. 40 przy ul. morelowskiego. pomoc ma polegać na szukaniu sponsorów. którzy sfinansują specjalistyczne szczepienia. koszt szczepienia jednego drzewa to ok. 70 zł vat. sponsor który uratuje kasztanowca. ma zapewnioną na nim tabliczkę reklamową. podobna akcja odbyła się w świdnicy gdzie. szczepionkę dla 99 drzew. zasponsorowała firma imp comfort. która kupiła 10 ha. gruntów w mieście i zamierza wybudować tam swoją fabrykę. szrotówek. kasztanowcowiaczek. już od jakiegoś. czasu niszczy kasztanowce. do niedawna uważano że tego szkodnika można wytępić tylko poprzez palenie i kompostowanie liści kasztanowca. teraz wiemy. że możemy je uratować poprzez specjalne szczepionki. jeśli możesz pomóc wrocławskim kasztanowcom to skontaktuj się z zsb. ul. grabiszyńska 236 we wrocławiu. telefon 363. 25 29. konto bankowe. kb. iv o wrocław. 71. 1500. 1793 1226 1007 1791. 0000. z dopiskiem kasztanowiec .'"
      ]
     },
     "execution_count": 25,
     "metadata": {},
     "output_type": "execute_result"
    }
   ],
   "source": [
    "data_train.loc[0, 'FixedOutput']"
   ]
  },
  {
   "cell_type": "markdown",
   "metadata": {},
   "source": [
    "#### <span style='font-family:Georgia'> Inserting comas"
   ]
  },
  {
   "cell_type": "code",
   "execution_count": 26,
   "metadata": {},
   "outputs": [],
   "source": [
    "for conj in con_list_yes:\n",
    "    data_train['FixedOutput'] = data_train['FixedOutput'].apply(lambda x: x.replace(' '+conj+' ', ', '+conj+' '))\n",
    "data_train['FixedOutput'] = data_train['FixedOutput'].apply(lambda x: x.replace('.,', ','))"
   ]
  },
  {
   "cell_type": "code",
   "execution_count": 27,
   "metadata": {},
   "outputs": [
    {
     "data": {
      "text/plain": [
       "'we wrocławiu walkę ze szkodnikiem rozpoczyna zespół szkół budowlanych przy. ul. grabiszyńskiej. do akcji na ratunek kasztanowcom zsb zachęcił pobliskie szkoły. gimnazjum nr. 6 przy al. pracy. sp. nr. 82 przy ul. blacharskiej. sp. nr. 109. przy ul. inżynierskiej. sp. nr. 15 przy ul. solskiego. gimnazjum nr. 40 przy ul. morelowskiego. pomoc ma polegać na szukaniu sponsorów, którzy sfinansują specjalistyczne szczepienia. koszt szczepienia jednego drzewa to ok. 70 zł vat. sponsor, który uratuje kasztanowca. ma zapewnioną na nim tabliczkę reklamową. podobna akcja odbyła się w świdnicy gdzie. szczepionkę dla 99 drzew. zasponsorowała firma imp comfort, która kupiła 10 ha. gruntów w mieście i zamierza wybudować tam swoją fabrykę. szrotówek. kasztanowcowiaczek. już od jakiegoś. czasu niszczy kasztanowce. do niedawna uważano, że tego szkodnika można wytępić tylko poprzez palenie i kompostowanie liści kasztanowca. teraz wiemy, że możemy je uratować poprzez specjalne szczepionki, jeśli możesz pomóc wrocławskim kasztanowcom to skontaktuj się z zsb. ul. grabiszyńska 236 we wrocławiu. telefon 363. 25 29. konto bankowe. kb. iv o wrocław. 71. 1500. 1793 1226 1007 1791. 0000. z dopiskiem kasztanowiec .'"
      ]
     },
     "execution_count": 27,
     "metadata": {},
     "output_type": "execute_result"
    }
   ],
   "source": [
    "data_train.loc[0, 'FixedOutput']"
   ]
  },
  {
   "cell_type": "code",
   "execution_count": 28,
   "metadata": {},
   "outputs": [],
   "source": [
    "data_train.to_csv('./data/after-baseline/train_data.csv', index=False)"
   ]
  },
  {
   "cell_type": "markdown",
   "metadata": {},
   "source": [
    "### <span style='font-family:Georgia'> Test data\n",
    "#### <span style='font-family:Georgia'> Adding fullstops based on timestamps"
   ]
  },
  {
   "cell_type": "code",
   "execution_count": 29,
   "metadata": {},
   "outputs": [
    {
     "name": "stderr",
     "output_type": "stream",
     "text": [
      "100%|██████████| 200/200 [00:03<00:00, 64.42it/s]\n"
     ]
    }
   ],
   "source": [
    "data_test = read_files('./data/forced-alignment/validation', sep=\"\\t\")\n",
    "data_test_calc=calculate_pauses(data_test).drop([\"timestamp_start\", \"timestamp_stop\"], axis=1)"
   ]
  },
  {
   "cell_type": "code",
   "execution_count": 30,
   "metadata": {},
   "outputs": [],
   "source": [
    "fullstop_threshold = 0.3*1000 # value based on the eda (0.3 seconds converted to miliseconds)\n",
    "data_test_calc.loc[data_test_calc.pause_after > 300, 'word'] = data_test_calc.loc[data_test_calc.pause_after > 300, 'word'].apply(lambda x: x+'.')\n",
    "data_test_calc.loc[data_test_calc.pause_after==0.0, 'word'] = data_test_calc.loc[data_test_calc.pause_after==0.0, 'word'].apply(lambda x: x+'.')\n",
    "data_test_calc['word'] = data_test_calc['word'].apply(lambda x: x.replace('..', '.'))"
   ]
  },
  {
   "cell_type": "code",
   "execution_count": 31,
   "metadata": {},
   "outputs": [],
   "source": [
    "data_test_calc_joined = (data_test_calc[['index', 'word']]\n",
    "       .groupby(['index'])['word']\n",
    "       .agg(' '.join)\n",
    "       .reset_index())"
   ]
  },
  {
   "cell_type": "code",
   "execution_count": 32,
   "metadata": {},
   "outputs": [],
   "source": [
    "for symb in noisy_words_test:\n",
    "    data_test_calc_joined['word'] = data_test_calc_joined['word'].apply(lambda x: x.replace(symb, ''))\n",
    "\n",
    "data_test_calc_joined[\"word\"] = data_test_calc_joined[\"word\"].apply(rm_consecutive_spaces)\n",
    "\n",
    "for symb in symbols_to_replace_test:\n",
    "    data_test_calc_joined['word'] = data_test_calc_joined['word'].apply(lambda x: x.replace(symb, ''))\n",
    "\n",
    "data_test_calc_joined[\"word\"] = data_test_calc_joined[\"word\"].apply(rm_consecutive_spaces)\n",
    "data_test_calc_joined.columns = ['FileId', 'FixedOutput']\n",
    "data_test=copy.deepcopy(data_test_calc_joined)"
   ]
  },
  {
   "cell_type": "code",
   "execution_count": 33,
   "metadata": {},
   "outputs": [
    {
     "data": {
      "text/plain": [
       "(200, 2)"
      ]
     },
     "execution_count": 33,
     "metadata": {},
     "output_type": "execute_result"
    }
   ],
   "source": [
    "data_test.shape"
   ]
  },
  {
   "cell_type": "code",
   "execution_count": 34,
   "metadata": {},
   "outputs": [
    {
     "data": {
      "text/plain": [
       "'prezydent usa george bush powiedział że odnowa nowego orleanu i innych zalanych terenów potrwa lata stan luizjana wraz ze stolicą nowym orleanem. ucierpiał w wyniku ataku huraganu katrina. prezydent skrócił swoje wakacje w teksasie oraz zwołał posiedzenie gabinetu który obejmie kontrolę nad nadzorem akcji ratunkowej. jednej z najgorszych katastrof naturalnych. bush wyznaczył trzy priorytety dotyczące walki ze skutkami kataklizmu. ratowanie życia ofiarom w tym poszukiwanie zaginionych. pomoc poszkodowanym i. odnalezionym. odbudowa i usuwanie szkód. w ramach akcji ratunkowej przydzielono dodatkowo 10 tysięcy żołnierzy którzy wspomogą operację w regionach najbardziej dotkniętych katastrofą. zaliczają się do nich części stanów luizjany i mississippi. służby medyczne zaoferowały ponad 10 tysięcy łóżek zaś. armia amerykańska. wysyła swoje helikoptery i łodzie aby uratować mieszkańców znajdujących się w schronieniu. późnym wieczorem w środę rozpoczęła się ewakuacja reszty mieszkańców. nowego orleanu tych którzy pozostali w schronach oraz na stadionie superdome. w centrum miasta. ich liczbę szacuje się na 20000 ludzie są wywożeni do oddalonego o 350 mil stadionu astrodome w houston. w tym celu podstawiono 300 autobusów niektórzy wykorzystują sytuację i w poszukiwaniu jedzenia lub cennych rzeczy włamują się do domów biur szpitali. rozbijają szyby wyłamują drzwi. wleką za. sobą to co udaje się im unieść bądź przenieść. uderzenie huraganu katrina spowodowało wzrost cen benzyny w wielu częściach stanów zjednoczonych osiągnęła ona wartość powyżej 3 dolarów za galon. w niektórych stanach wynosi ona 3 50 . nad zatoką meksykańską umiejscowiony jest jeden z największych. okręgów przemysłowych mieszczącym wiele rafinerii oraz rurociągów.'"
      ]
     },
     "execution_count": 34,
     "metadata": {},
     "output_type": "execute_result"
    }
   ],
   "source": [
    "data_test.loc[1, 'FixedOutput']\n"
   ]
  },
  {
   "cell_type": "markdown",
   "metadata": {},
   "source": [
    "#### <span style='font-family:Georgia'> Inserting fullstops in abbreviations"
   ]
  },
  {
   "cell_type": "code",
   "execution_count": 35,
   "metadata": {},
   "outputs": [],
   "source": [
    "# inserting fullstops after abbreviations + removing doubled spaces\n",
    "for abbr in abbreviations:\n",
    "    data_test['FixedOutput'] = data_test['FixedOutput'].apply(lambda x: x.replace(' '+abbr+' ', ' '+abbr.replace(' ', ' . ')+'. '))\n",
    "data_test['FixedOutput'] = data_test['FixedOutput'].apply(lambda x: x.replace('..', '.'))"
   ]
  },
  {
   "cell_type": "code",
   "execution_count": 36,
   "metadata": {},
   "outputs": [
    {
     "data": {
      "text/html": [
       "<div>\n",
       "<style scoped>\n",
       "    .dataframe tbody tr th:only-of-type {\n",
       "        vertical-align: middle;\n",
       "    }\n",
       "\n",
       "    .dataframe tbody tr th {\n",
       "        vertical-align: top;\n",
       "    }\n",
       "\n",
       "    .dataframe thead th {\n",
       "        text-align: right;\n",
       "    }\n",
       "</style>\n",
       "<table border=\"1\" class=\"dataframe\">\n",
       "  <thead>\n",
       "    <tr style=\"text-align: right;\">\n",
       "      <th></th>\n",
       "      <th>FileId</th>\n",
       "      <th>FixedOutput</th>\n",
       "    </tr>\n",
       "  </thead>\n",
       "  <tbody>\n",
       "    <tr>\n",
       "      <th>0</th>\n",
       "      <td>wikinews179014</td>\n",
       "      <td>w gdańsku zgodnie już z coroczną czerwcową tra...</td>\n",
       "    </tr>\n",
       "    <tr>\n",
       "      <th>1</th>\n",
       "      <td>wikinews179354</td>\n",
       "      <td>prezydent usa george bush powiedział że odnowa...</td>\n",
       "    </tr>\n",
       "    <tr>\n",
       "      <th>2</th>\n",
       "      <td>wikinews179650</td>\n",
       "      <td>mamy najgorsze przedmieścia w europie. nie wol...</td>\n",
       "    </tr>\n",
       "    <tr>\n",
       "      <th>3</th>\n",
       "      <td>wikinews179740</td>\n",
       "      <td>w sejmie trwała dziś debata nad sprawozdaniem ...</td>\n",
       "    </tr>\n",
       "    <tr>\n",
       "      <th>4</th>\n",
       "      <td>wikinews179784</td>\n",
       "      <td>aleksander łukaszenka który za 3 miesiące będz...</td>\n",
       "    </tr>\n",
       "  </tbody>\n",
       "</table>\n",
       "</div>"
      ],
      "text/plain": [
       "           FileId                                        FixedOutput\n",
       "0  wikinews179014  w gdańsku zgodnie już z coroczną czerwcową tra...\n",
       "1  wikinews179354  prezydent usa george bush powiedział że odnowa...\n",
       "2  wikinews179650  mamy najgorsze przedmieścia w europie. nie wol...\n",
       "3  wikinews179740  w sejmie trwała dziś debata nad sprawozdaniem ...\n",
       "4  wikinews179784  aleksander łukaszenka który za 3 miesiące będz..."
      ]
     },
     "execution_count": 36,
     "metadata": {},
     "output_type": "execute_result"
    }
   ],
   "source": [
    "data_test.head()"
   ]
  },
  {
   "cell_type": "code",
   "execution_count": 37,
   "metadata": {},
   "outputs": [
    {
     "data": {
      "text/plain": [
       "'prezydent usa george bush powiedział że odnowa nowego orleanu i innych zalanych terenów potrwa lata stan luizjana wraz ze stolicą nowym orleanem. ucierpiał w wyniku ataku huraganu katrina. prezydent skrócił swoje wakacje w teksasie oraz zwołał posiedzenie gabinetu który obejmie kontrolę nad nadzorem akcji ratunkowej. jednej z najgorszych katastrof naturalnych. bush wyznaczył trzy priorytety dotyczące walki ze skutkami kataklizmu. ratowanie życia ofiarom w tym poszukiwanie zaginionych. pomoc poszkodowanym i. odnalezionym. odbudowa i usuwanie szkód. w ramach akcji ratunkowej przydzielono dodatkowo 10 tysięcy żołnierzy którzy wspomogą operację w regionach najbardziej dotkniętych katastrofą. zaliczają się do nich części stanów luizjany i mississippi. służby medyczne zaoferowały ponad 10 tysięcy łóżek zaś. armia amerykańska. wysyła swoje helikoptery i łodzie aby uratować mieszkańców znajdujących się w schronieniu. późnym wieczorem w środę rozpoczęła się ewakuacja reszty mieszkańców. nowego orleanu tych którzy pozostali w schronach oraz na stadionie superdome. w centrum miasta. ich liczbę szacuje się na 20000 ludzie są wywożeni do oddalonego o 350 mil stadionu astrodome w houston. w tym celu podstawiono 300 autobusów niektórzy wykorzystują sytuację i w poszukiwaniu jedzenia lub cennych rzeczy włamują się do domów biur szpitali. rozbijają szyby wyłamują drzwi. wleką za. sobą to co udaje się im. unieść bądź przenieść. uderzenie huraganu katrina spowodowało wzrost cen benzyny w wielu częściach stanów zjednoczonych osiągnęła ona wartość powyżej 3 dolarów za galon. w niektórych stanach wynosi ona 3 50 . nad zatoką meksykańską umiejscowiony jest jeden z największych. okręgów przemysłowych mieszczącym wiele rafinerii oraz rurociągów.'"
      ]
     },
     "execution_count": 37,
     "metadata": {},
     "output_type": "execute_result"
    }
   ],
   "source": [
    "#example\n",
    "data_test.loc[1, 'FixedOutput']"
   ]
  },
  {
   "cell_type": "markdown",
   "metadata": {},
   "source": [
    "#### <span style='font-family:Georgia'> Inserting comas"
   ]
  },
  {
   "cell_type": "code",
   "execution_count": 38,
   "metadata": {},
   "outputs": [],
   "source": [
    "for conj in con_list_yes:\n",
    "    data_test['FixedOutput'] = data_test['FixedOutput'].apply(lambda x: x.replace(' '+conj+' ', ', '+conj+' '))\n",
    "data_test['FixedOutput'] = data_test['FixedOutput'].apply(lambda x: x.replace('.,', ','))"
   ]
  },
  {
   "cell_type": "code",
   "execution_count": 39,
   "metadata": {},
   "outputs": [
    {
     "data": {
      "text/plain": [
       "'prezydent usa george bush powiedział, że odnowa nowego orleanu i innych zalanych terenów potrwa lata stan luizjana wraz ze stolicą nowym orleanem. ucierpiał w wyniku ataku huraganu katrina. prezydent skrócił swoje wakacje w teksasie oraz zwołał posiedzenie gabinetu, który obejmie kontrolę nad nadzorem akcji ratunkowej. jednej z najgorszych katastrof naturalnych. bush wyznaczył trzy priorytety dotyczące walki ze skutkami kataklizmu. ratowanie życia ofiarom w tym poszukiwanie zaginionych. pomoc poszkodowanym i. odnalezionym. odbudowa i usuwanie szkód. w ramach akcji ratunkowej przydzielono dodatkowo 10 tysięcy żołnierzy, którzy wspomogą operację w regionach najbardziej dotkniętych katastrofą. zaliczają się do nich części stanów luizjany i mississippi. służby medyczne zaoferowały ponad 10 tysięcy łóżek zaś. armia amerykańska. wysyła swoje helikoptery i łodzie, aby uratować mieszkańców znajdujących się w schronieniu. późnym wieczorem w środę rozpoczęła się ewakuacja reszty mieszkańców. nowego orleanu tych, którzy pozostali w schronach oraz na stadionie superdome. w centrum miasta. ich liczbę szacuje się na 20000 ludzie są wywożeni do oddalonego o 350 mil stadionu astrodome w houston. w tym celu podstawiono 300 autobusów niektórzy wykorzystują sytuację i w poszukiwaniu jedzenia lub cennych rzeczy włamują się do domów biur szpitali. rozbijają szyby wyłamują drzwi. wleką za. sobą to co udaje się im. unieść bądź przenieść. uderzenie huraganu katrina spowodowało wzrost cen benzyny w wielu częściach stanów zjednoczonych osiągnęła ona wartość powyżej 3 dolarów za galon. w niektórych stanach wynosi ona 3 50 . nad zatoką meksykańską umiejscowiony jest jeden z największych. okręgów przemysłowych mieszczącym wiele rafinerii oraz rurociągów.'"
      ]
     },
     "execution_count": 39,
     "metadata": {},
     "output_type": "execute_result"
    }
   ],
   "source": [
    "#example result\n",
    "data_test.loc[1, 'FixedOutput']"
   ]
  },
  {
   "cell_type": "code",
   "execution_count": 40,
   "metadata": {},
   "outputs": [],
   "source": [
    "data_test.to_csv('./data/after-baseline/test_data.csv', index=False)"
   ]
  }
 ],
 "metadata": {
  "interpreter": {
   "hash": "1eea36f549d596e1ba6d357da17c58a2c496985ce50cff93b35e7c83413effd0"
  },
  "kernelspec": {
   "display_name": "Python 3.8.10 ('env_for_ml_st': venv)",
   "language": "python",
   "name": "python3"
  },
  "language_info": {
   "codemirror_mode": {
    "name": "ipython",
    "version": 3
   },
   "file_extension": ".py",
   "mimetype": "text/x-python",
   "name": "python",
   "nbconvert_exporter": "python",
   "pygments_lexer": "ipython3",
   "version": "3.8.10"
  }
 },
 "nbformat": 4,
 "nbformat_minor": 2
}
