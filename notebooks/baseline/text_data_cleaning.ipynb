{
 "cells": [
  {
   "cell_type": "markdown",
   "id": "9b6ad5d8",
   "metadata": {},
   "source": [
    "## <span style='font-family:Georgia'> Objectives\n",
    "The purpose of this notebook is text data cleaning approach creation."
   ]
  },
  {
   "cell_type": "code",
   "execution_count": 1,
   "id": "8d3f3f07",
   "metadata": {
    "ExecuteTime": {
     "end_time": "2022-05-13T04:57:44.148788Z",
     "start_time": "2022-05-13T04:57:42.761133Z"
    }
   },
   "outputs": [],
   "source": [
    "import os\n",
    "import sys\n",
    "import pandas as pd\n",
    "\n",
    "sys.path.append(os.path.dirname(os.path.dirname(os.path.abspath(\"__file__\"))))\n",
    "from supportive_functions import (\n",
    "    separate_special_chars,\n",
    "    rm_consecutive_spaces,\n",
    ")\n",
    "\n",
    "pd.options.display.max_colwidth = None"
   ]
  },
  {
   "cell_type": "markdown",
   "id": "76ef2dc6",
   "metadata": {},
   "source": [
    "## <span style='font-family:Georgia'> Load data"
   ]
  },
  {
   "cell_type": "code",
   "execution_count": 2,
   "id": "f5d6efe2",
   "metadata": {
    "ExecuteTime": {
     "end_time": "2022-05-13T04:57:44.213851Z",
     "start_time": "2022-05-13T04:57:44.149792Z"
    }
   },
   "outputs": [],
   "source": [
    "# Data frame with ID added and observations skipped without transcription\n",
    "data_train_exp = pd.read_csv(\"../../data/outputs/eda/train/train_expected_with_ids.csv\")\n",
    "data_test_exp = pd.read_csv(\"../../data/outputs/eda/test/test_expected_with_ids.csv\")\n",
    "data_test_in = pd.read_csv(\"../../data/outputs/eda/test/test_with_ids.csv\")"
   ]
  },
  {
   "cell_type": "code",
   "execution_count": 3,
   "id": "5c11a00f",
   "metadata": {
    "ExecuteTime": {
     "end_time": "2022-05-13T04:57:44.232889Z",
     "start_time": "2022-05-13T04:57:44.216842Z"
    }
   },
   "outputs": [
    {
     "data": {
      "text/plain": [
       "(793, 2)"
      ]
     },
     "execution_count": 3,
     "metadata": {},
     "output_type": "execute_result"
    }
   ],
   "source": [
    "data_train_exp.shape"
   ]
  },
  {
   "cell_type": "code",
   "execution_count": 4,
   "id": "d80068e8",
   "metadata": {
    "ExecuteTime": {
     "end_time": "2022-05-13T04:57:44.243027Z",
     "start_time": "2022-05-13T04:57:44.234850Z"
    }
   },
   "outputs": [
    {
     "data": {
      "text/plain": [
       "(200, 2)"
      ]
     },
     "execution_count": 4,
     "metadata": {},
     "output_type": "execute_result"
    }
   ],
   "source": [
    "data_test_in.shape"
   ]
  },
  {
   "cell_type": "markdown",
   "id": "e3a1ce79",
   "metadata": {},
   "source": [
    "## <span style='font-family:Georgia'> Clean data"
   ]
  },
  {
   "cell_type": "markdown",
   "id": "5d6584a1",
   "metadata": {},
   "source": [
    "#### <span style='font-family:Georgia'> 1. Insert spaces before the special characters to separate them from the actual words and remove consecutive spaces"
   ]
  },
  {
   "cell_type": "code",
   "execution_count": 5,
   "id": "962d1093",
   "metadata": {
    "ExecuteTime": {
     "end_time": "2022-05-13T04:57:44.530278Z",
     "start_time": "2022-05-13T04:57:44.243027Z"
    }
   },
   "outputs": [],
   "source": [
    "data_train_exp = separate_special_chars(data_train_exp)\n",
    "data_train_exp[\"FixedOutput\"] = data_train_exp[\"FixedOutput\"].apply(\n",
    "    rm_consecutive_spaces\n",
    ")\n",
    "\n",
    "# test data expected\n",
    "data_test_exp = separate_special_chars(data_test_exp)\n",
    "data_test_exp[\"FixedOutput\"] = data_test_exp[\"FixedOutput\"].apply(rm_consecutive_spaces)\n",
    "\n",
    "# test data in\n",
    "data_test_in = separate_special_chars(data_test_in)\n",
    "data_test_in[\"ASROutput\"] = data_test_in[\"ASROutput\"].apply(rm_consecutive_spaces)"
   ]
  },
  {
   "cell_type": "markdown",
   "id": "b4427dd0",
   "metadata": {},
   "source": [
    "#### <span style='font-family:Georgia'> 2. Replace non-character symbols excluding target classes, digits and letters from outside the Polish alphabet with blank strings "
   ]
  },
  {
   "cell_type": "code",
   "execution_count": 6,
   "id": "e1bd61e4",
   "metadata": {
    "ExecuteTime": {
     "end_time": "2022-05-13T04:57:44.547945Z",
     "start_time": "2022-05-13T04:57:44.532235Z"
    }
   },
   "outputs": [],
   "source": [
    "# load list of symbols to replace\n",
    "symbols_to_replace_infile = open(\n",
    "    \"../../data/outputs/eda/symbols_to_replace.txt\", \"r\", encoding=\"utf-8\"\n",
    ")\n",
    "symbols_to_replace = symbols_to_replace_infile.read().splitlines()\n",
    "# load list of noisy words, i.e. words with letters from outside the Polish alphabet\n",
    "noisy_words_infile = open(\n",
    "    \"../../data/outputs/eda/noisy_words.txt\", \"r\", encoding=\"utf-8\"\n",
    ")\n",
    "noisy_words = noisy_words_infile.read().splitlines()\n",
    "# load list of letters from outside the Polish alphabet\n",
    "non_polish_letters_infile = open(\n",
    "    \"../../data/outputs/eda/non_polish_letters.txt\", \"r\", encoding=\"utf-8\"\n",
    ")\n",
    "non_polish_letters = non_polish_letters_infile.read().splitlines()\n",
    "\n",
    "# merge noisy data into one list\n",
    "symbols_to_replace.extend(noisy_words)\n",
    "symbols_to_replace.extend(non_polish_letters)"
   ]
  },
  {
   "cell_type": "code",
   "execution_count": 7,
   "id": "74378ea4",
   "metadata": {
    "ExecuteTime": {
     "end_time": "2022-05-13T04:57:44.561101Z",
     "start_time": "2022-05-13T04:57:44.548908Z"
    }
   },
   "outputs": [
    {
     "data": {
      "text/plain": [
       "[\"'\",\n",
       " '\"',\n",
       " ';',\n",
       " '%',\n",
       " '(',\n",
       " ')',\n",
       " '[',\n",
       " ']',\n",
       " '²',\n",
       " '€',\n",
       " '³',\n",
       " '+',\n",
       " '·',\n",
       " 'kadlčika kadlčik',\n",
       " 'motörhead',\n",
       " 'hautamäkim',\n",
       " 'β α',\n",
       " 'fédération française',\n",
       " 'δ',\n",
       " 'bošnjaci',\n",
       " 'räikkönena jérôme pérez',\n",
       " 'française rémy grégorio',\n",
       " 'ramírez domínguez',\n",
       " 'congrès',\n",
       " 'güntera',\n",
       " 'όνειρος ω',\n",
       " 'kölner kölner kőln kőln fűr schönberg',\n",
       " 'agustín',\n",
       " 'élysées',\n",
       " 'bermúdez',\n",
       " 'trentemøller väth',\n",
       " 'josé rodríguez',\n",
       " 'für',\n",
       " 'ニ尾の化け 三尾の大亀 五尾のイルカ馬 六尾の蛞蝓 八尾の kyogyū',\n",
       " 'βy',\n",
       " 'φ φ φ φ',\n",
       " 'государственная дума российской империи б ю иванов а а комзолова и с ряховская москва росспэн',\n",
       " 'förstera',\n",
       " 'katajamäki häkkinen räikkönen järvilehto järvilehto räikkönen häkkinen',\n",
       " 'ß ß ß',\n",
       " 'josé durão',\n",
       " 'räikkönen räikkönenowi',\n",
       " 'hautamäki ljøkelsøy',\n",
       " 'geração à',\n",
       " 'jános kárászy',\n",
       " 'kovačević kovačević podraščanin miloš saša sánchez díaz tomás',\n",
       " 'изображение',\n",
       " 'püolkim',\n",
       " 'maestà maestà maestà maestà maestà',\n",
       " 'székesfehérvár',\n",
       " 'klöden klöden',\n",
       " 'côte saône côte',\n",
       " 'α α',\n",
       " 'újváry',\n",
       " 'irénée',\n",
       " 'angoulême léger angoulême',\n",
       " 'görges',\n",
       " 'františek ružička',\n",
       " 'maría',\n",
       " 'klárze smitková witthöft maría kateřina siniaková schmiedlová',\n",
       " 'à',\n",
       " 'ô',\n",
       " 'β',\n",
       " 'г',\n",
       " 'ß',\n",
       " 'с',\n",
       " 'イ',\n",
       " 'の',\n",
       " 'カ',\n",
       " 'ρ',\n",
       " 'я',\n",
       " 'ř',\n",
       " 'ê',\n",
       " 'а',\n",
       " '六',\n",
       " 'в',\n",
       " 'ル',\n",
       " 'ι',\n",
       " 'č',\n",
       " 'ç',\n",
       " '三',\n",
       " 'é',\n",
       " 'ς',\n",
       " 'д',\n",
       " '化',\n",
       " '尾',\n",
       " '蝓',\n",
       " 'φ',\n",
       " 'б',\n",
       " 'л',\n",
       " 'ό',\n",
       " '亀',\n",
       " 'ő',\n",
       " 'ニ',\n",
       " 'ä',\n",
       " 'ü',\n",
       " 'δ',\n",
       " 'н',\n",
       " 'š',\n",
       " 'ø',\n",
       " 'ж',\n",
       " 'р',\n",
       " 'ο',\n",
       " '蛞',\n",
       " 'ε',\n",
       " 'т',\n",
       " 'к',\n",
       " '八',\n",
       " 'α',\n",
       " 'ö',\n",
       " '五',\n",
       " 'и',\n",
       " 'è',\n",
       " 'м',\n",
       " 'й',\n",
       " 'ã',\n",
       " 'ű',\n",
       " 'е',\n",
       " 'け',\n",
       " 'о',\n",
       " 'í',\n",
       " 'ю',\n",
       " 'á',\n",
       " 'ū',\n",
       " 'ω',\n",
       " 'ž',\n",
       " 'з',\n",
       " '大',\n",
       " 'х',\n",
       " 'п',\n",
       " 'у',\n",
       " 'э',\n",
       " 'ν',\n",
       " 'ú',\n",
       " '馬']"
      ]
     },
     "execution_count": 7,
     "metadata": {},
     "output_type": "execute_result"
    }
   ],
   "source": [
    "symbols_to_replace"
   ]
  },
  {
   "cell_type": "code",
   "execution_count": 8,
   "id": "fed370d9",
   "metadata": {
    "ExecuteTime": {
     "end_time": "2022-05-13T04:57:44.583996Z",
     "start_time": "2022-05-13T04:57:44.564102Z"
    }
   },
   "outputs": [],
   "source": [
    "### test symbols and noisy words\n",
    "# load list of symbols to replace\n",
    "symbols_to_replace_infile_test = open(\n",
    "    \"../../data/outputs/eda/symbols_to_replace.txt\", \"r\", encoding=\"utf-8\"\n",
    ")\n",
    "symbols_to_replace_test = symbols_to_replace_infile_test.read().splitlines()\n",
    "# load list of noisy words, i.e. words with letters from outside the Polish alphabet\n",
    "noisy_words_infile_test = open(\n",
    "    \"../../data/outputs/eda/test/noisy_words.txt\", \"r\", encoding=\"utf-8\"\n",
    ")\n",
    "noisy_words_test = noisy_words_infile_test.read().splitlines()\n",
    "# load list of letters from outside the Polish alphabet\n",
    "non_polish_letters_infile_test = open(\n",
    "    \"../../data/outputs/eda/test/non_polish_letters.txt\", \"r\", encoding=\"utf-8\"\n",
    ")\n",
    "non_polish_letters_test = non_polish_letters_infile_test.read().splitlines()\n",
    "\n",
    "# merge noisy data into one list\n",
    "symbols_to_replace_test.extend(noisy_words_test)\n",
    "symbols_to_replace_test.extend(non_polish_letters_test)"
   ]
  },
  {
   "cell_type": "code",
   "execution_count": 9,
   "id": "a01f6e58",
   "metadata": {
    "ExecuteTime": {
     "end_time": "2022-05-13T04:57:44.777158Z",
     "start_time": "2022-05-13T04:57:44.583996Z"
    }
   },
   "outputs": [],
   "source": [
    "for symb in symbols_to_replace:\n",
    "    data_train_exp[\"FixedOutput\"] = data_train_exp[\"FixedOutput\"].apply(\n",
    "        lambda x: x.replace(symb, \"\")\n",
    "    )\n",
    "\n",
    "data_train_exp[\"FixedOutput\"] = data_train_exp[\"FixedOutput\"].apply(\n",
    "    rm_consecutive_spaces\n",
    ")"
   ]
  },
  {
   "cell_type": "code",
   "execution_count": 10,
   "id": "97b3d8a4",
   "metadata": {
    "ExecuteTime": {
     "end_time": "2022-05-13T04:57:44.878369Z",
     "start_time": "2022-05-13T04:57:44.779031Z"
    }
   },
   "outputs": [],
   "source": [
    "for symb in symbols_to_replace_test:\n",
    "    data_test_exp[\"FixedOutput\"] = data_test_exp[\"FixedOutput\"].apply(\n",
    "        lambda x: x.replace(symb, \"\")\n",
    "    )\n",
    "    data_test_in[\"ASROutput\"] = data_test_in[\"ASROutput\"].apply(\n",
    "        lambda x: x.replace(symb, \"\")\n",
    "    )\n",
    "\n",
    "data_test_exp[\"FixedOutput\"] = data_test_exp[\"FixedOutput\"].apply(rm_consecutive_spaces)\n",
    "data_test_in[\"ASROutput\"] = data_test_in[\"ASROutput\"].apply(rm_consecutive_spaces)"
   ]
  },
  {
   "cell_type": "code",
   "execution_count": 11,
   "id": "477bb278",
   "metadata": {
    "ExecuteTime": {
     "end_time": "2022-05-13T04:57:44.894329Z",
     "start_time": "2022-05-13T04:57:44.880372Z"
    }
   },
   "outputs": [],
   "source": [
    "data_test_exp[\"FixedOutput\"] = data_test_exp[\"FixedOutput\"].apply(\n",
    "    lambda x: x.replace(\" .\", \".\")\n",
    ")\n",
    "data_test_exp[\"FixedOutput\"] = data_test_exp[\"FixedOutput\"].apply(\n",
    "    lambda x: x.replace(\" ,\", \",\")\n",
    ")\n",
    "data_test_exp[\"FixedOutput\"] = data_test_exp[\"FixedOutput\"].apply(\n",
    "    lambda x: x.replace(\" ?\", \"?\")\n",
    ")\n",
    "data_test_exp[\"FixedOutput\"] = data_test_exp[\"FixedOutput\"].apply(\n",
    "    lambda x: x.replace(\" :\", \":\")\n",
    ")\n",
    "data_test_exp[\"FixedOutput\"] = data_test_exp[\"FixedOutput\"].apply(\n",
    "    lambda x: x.replace(\" -\", \"-\")\n",
    ")"
   ]
  },
  {
   "cell_type": "code",
   "execution_count": 12,
   "id": "ad4acf7c",
   "metadata": {
    "ExecuteTime": {
     "end_time": "2022-05-13T04:57:44.912998Z",
     "start_time": "2022-05-13T04:57:44.896325Z"
    }
   },
   "outputs": [
    {
     "data": {
      "text/html": [
       "<div>\n",
       "<style scoped>\n",
       "    .dataframe tbody tr th:only-of-type {\n",
       "        vertical-align: middle;\n",
       "    }\n",
       "\n",
       "    .dataframe tbody tr th {\n",
       "        vertical-align: top;\n",
       "    }\n",
       "\n",
       "    .dataframe thead th {\n",
       "        text-align: right;\n",
       "    }\n",
       "</style>\n",
       "<table border=\"1\" class=\"dataframe\">\n",
       "  <thead>\n",
       "    <tr style=\"text-align: right;\">\n",
       "      <th></th>\n",
       "      <th>FileId</th>\n",
       "      <th>FixedOutput</th>\n",
       "    </tr>\n",
       "  </thead>\n",
       "  <tbody>\n",
       "    <tr>\n",
       "      <th>0</th>\n",
       "      <td>wikinews228460</td>\n",
       "      <td>w wywiadzie dla polski jarosław kaczyński podkreślił , że informacje dotyczące radosława sikorskiego zagrażają interesowi państwa . to naprawdę wszystko , co mogę na ten temat powiedzieć - odpowiedział , gdy dziennikarz pytał o bardziej szczegółowe informacje . premier kaczyński sugeruje , że dobry kandydat po na szefa dyplomacji to np . jacek saryusz - wolski wymieniony polityk zyskał uznanie braci kaczyńskich za dotychczasową działalność w charakterze dyplomaty i dużą wiedzę . premier krytycznie ocenia również dotychczasowe poczynania po . gabinet cieni i inne podobne pomysły okazały się fikcją . świadczą o tym kłopoty ze znajdywaniem kolejnych ministerstw . cały czas nie wiadomo , kto obsadzi które ministerstwo . a tam , gdzie już wiadomo , to nie ma się z czego cieszyć - mówił kaczyński . stwierdził także , że uważny obserwator życia publicznego musi dostrzegać też rolę w tym wszystkim jana krzysztofa bieleckiego . będzie osobą bardzo ważną . pytany o radę , jaką dałby donaldowi tuskowi , powiedział : radzę donaldowi tuskowi , żeby uczciwie przyjrzał się temu , co się wydarzyło w polsce przez ostatnie dwa lata . żeby jednak zrzucił czarne okulary , choć wcale nie musi zakładać różowych , i rozejrzał się dookoła . i żeby w końcu doszedł do wniosku , że wiele rzeczy warto kontynuować .</td>\n",
       "    </tr>\n",
       "    <tr>\n",
       "      <th>1</th>\n",
       "      <td>wikinews183471</td>\n",
       "      <td>dowody prokuratury przedstawiające , że janusz kaczmarek , były szef mswia , kłamał , wypierając się spotkania z ryszardem krauze 5 lipca - nie osłabiły determinacji opozycji . teraz opozycja żąda przesłuchania lecha kaczyńskiego w sprawie przecieku o akcji cba . polityczni przeciwnicy pis wciąż wątpią , że to kaczmarek był źródłem przecieku w sprawie afery gruntowej . janusz zemke uważa , iż informacja mogła wyjść od innych ludzi , np . od oficerów bor . inni działacze opozycji idą jeszcze dalej i wskazują na prezydenta . dlaczego ? bo bezpośrednio przed spotkaniem z ryszardem krauzem kaczmarek rozmawiał długo z lechem kaczyńskim - podaje rzeczpospolita . w całej tej sprawie opozycja dostała wścieklizny politycznej , a teraz powinna przeprosić za swoją wiarę w słowa kaczmarka - uważa szef rządu . zemke natomiast broni postawy opozycji : prokuratorzy udowodnili , że kaczmarek skłamał , wypierając się spotkania z krauzem . ale to nie znaczy , że innych faktów , o których mówił , nie warto weryfikować . wczoraj pojawiła się informacja o innym wydarzeniu z udziałem krauzego . okazało się , że dzwonił on do prezydenta 13 lipca . tego właśnie dnia w warszawskiej siedzibie firmy krauzego pojawili się agenci abw , którzy zabezpieczali książkę wejść i wyjść oraz zapisy z kamer .</td>\n",
       "    </tr>\n",
       "    <tr>\n",
       "      <th>2</th>\n",
       "      <td>wikinews188040</td>\n",
       "      <td>w czasie długiego weekendu , 1 - 3 maja 2009 w jadwisinie nad jeziorem zegrzyńskim stowarzyszenie wikimedia polska organizuje konferencję poświęconą zarówno wikimediom , m . in . wikipedii , jak i ruchowi wolnej kultury . miejscem konferencji jest ośrodek szkoleniowo - wypoczynkowy kancelarii prezesa rady ministrów ulokowany w dziewiętnastowiecznym neoklasycystycznym pałacu radziwiłłów . pierwszego dnia twórcy wikipedii i jej siostrzanych projektów poświęcą swój czas na edytowanie . osoby z zewnątrz , które jeszcze nie miały okazji działać w tych projektach , będą mogły zapoznać się z nimi oraz dokonać swoich pierwszych edycji pod okiem bardziej doświadczonych internautów . o godzinie 20 0 nastąpi oficjalne rozpoczęcie konferencji , po czym uczestnicy będą mogli , podobnie jak w dniu następnym , odbyć swobodne rozmowy przy ognisku . w sobotę od godziny 9 00 do 16 0 odbywać będą się w dwóch salach wykłady i warsztaty , po czym odbędzie się walne zebranie stowarzyszenia wikimedia polska . wśród wykładowców znajdzie się tego dnia richard stallman , jeden z ojców wolnego oprogramowania . będzie to jego drugie wystąpienie w polsce , po tym jak w styczniu 2009 gościł w agh w krakowie . wykłady prowadzić będą także m . in . prof . bożena czerny inicjatorka poprawy jakości haseł astronomicznych w wikipedii , edyta puchalska - szefowa działu edukacyjnego w onet . pl , czy jarosław lipszyc - prezes fundacji nowoczesna polska . w niedzielę dyskusje toczyć się będą wokół zastosowań wiki i wolnego oprogramowania , zaprezentowana zostanie rosyjska wikipedia , a także zorganizowany będzie wikipediowy okrągły stół . zakończenie konferencji planowane jest na godzinę 27 w niedzielę 3 maja . osoby , które chciałyby wziąć udział w konferencji , proszone są przez organizatorów o wcześniejszy mailowy : konferencjawikimedia . pl . wstęp na konferencję jest bezpłatny .</td>\n",
       "    </tr>\n",
       "  </tbody>\n",
       "</table>\n",
       "</div>"
      ],
      "text/plain": [
       "           FileId  \\\n",
       "0  wikinews228460   \n",
       "1  wikinews183471   \n",
       "2  wikinews188040   \n",
       "\n",
       "                                                                                                                                                                                                                                                                                                                                                                                                                                                                                                                                                                                                                                                                                                                                                                                                                                                                                                                                                                                                                                                                                                                                                                                                                                                                                                                                                                                                                                                                                                                                                                                                                                                                                                                                                                                                                                                                                                                                             FixedOutput  \n",
       "0                                                                                                                                                                                                                                                                                                                                                                                                                                                                                                                                                                                          w wywiadzie dla polski jarosław kaczyński podkreślił , że informacje dotyczące radosława sikorskiego zagrażają interesowi państwa . to naprawdę wszystko , co mogę na ten temat powiedzieć - odpowiedział , gdy dziennikarz pytał o bardziej szczegółowe informacje . premier kaczyński sugeruje , że dobry kandydat po na szefa dyplomacji to np . jacek saryusz - wolski wymieniony polityk zyskał uznanie braci kaczyńskich za dotychczasową działalność w charakterze dyplomaty i dużą wiedzę . premier krytycznie ocenia również dotychczasowe poczynania po . gabinet cieni i inne podobne pomysły okazały się fikcją . świadczą o tym kłopoty ze znajdywaniem kolejnych ministerstw . cały czas nie wiadomo , kto obsadzi które ministerstwo . a tam , gdzie już wiadomo , to nie ma się z czego cieszyć - mówił kaczyński . stwierdził także , że uważny obserwator życia publicznego musi dostrzegać też rolę w tym wszystkim jana krzysztofa bieleckiego . będzie osobą bardzo ważną . pytany o radę , jaką dałby donaldowi tuskowi , powiedział : radzę donaldowi tuskowi , żeby uczciwie przyjrzał się temu , co się wydarzyło w polsce przez ostatnie dwa lata . żeby jednak zrzucił czarne okulary , choć wcale nie musi zakładać różowych , i rozejrzał się dookoła . i żeby w końcu doszedł do wniosku , że wiele rzeczy warto kontynuować .   \n",
       "1                                                                                                                                                                                                                                                                                                                                                                                                                                                                                                                                                                                                            dowody prokuratury przedstawiające , że janusz kaczmarek , były szef mswia , kłamał , wypierając się spotkania z ryszardem krauze 5 lipca - nie osłabiły determinacji opozycji . teraz opozycja żąda przesłuchania lecha kaczyńskiego w sprawie przecieku o akcji cba . polityczni przeciwnicy pis wciąż wątpią , że to kaczmarek był źródłem przecieku w sprawie afery gruntowej . janusz zemke uważa , iż informacja mogła wyjść od innych ludzi , np . od oficerów bor . inni działacze opozycji idą jeszcze dalej i wskazują na prezydenta . dlaczego ? bo bezpośrednio przed spotkaniem z ryszardem krauzem kaczmarek rozmawiał długo z lechem kaczyńskim - podaje rzeczpospolita . w całej tej sprawie opozycja dostała wścieklizny politycznej , a teraz powinna przeprosić za swoją wiarę w słowa kaczmarka - uważa szef rządu . zemke natomiast broni postawy opozycji : prokuratorzy udowodnili , że kaczmarek skłamał , wypierając się spotkania z krauzem . ale to nie znaczy , że innych faktów , o których mówił , nie warto weryfikować . wczoraj pojawiła się informacja o innym wydarzeniu z udziałem krauzego . okazało się , że dzwonił on do prezydenta 13 lipca . tego właśnie dnia w warszawskiej siedzibie firmy krauzego pojawili się agenci abw , którzy zabezpieczali książkę wejść i wyjść oraz zapisy z kamer .  \n",
       "2  w czasie długiego weekendu , 1 - 3 maja 2009 w jadwisinie nad jeziorem zegrzyńskim stowarzyszenie wikimedia polska organizuje konferencję poświęconą zarówno wikimediom , m . in . wikipedii , jak i ruchowi wolnej kultury . miejscem konferencji jest ośrodek szkoleniowo - wypoczynkowy kancelarii prezesa rady ministrów ulokowany w dziewiętnastowiecznym neoklasycystycznym pałacu radziwiłłów . pierwszego dnia twórcy wikipedii i jej siostrzanych projektów poświęcą swój czas na edytowanie . osoby z zewnątrz , które jeszcze nie miały okazji działać w tych projektach , będą mogły zapoznać się z nimi oraz dokonać swoich pierwszych edycji pod okiem bardziej doświadczonych internautów . o godzinie 20 0 nastąpi oficjalne rozpoczęcie konferencji , po czym uczestnicy będą mogli , podobnie jak w dniu następnym , odbyć swobodne rozmowy przy ognisku . w sobotę od godziny 9 00 do 16 0 odbywać będą się w dwóch salach wykłady i warsztaty , po czym odbędzie się walne zebranie stowarzyszenia wikimedia polska . wśród wykładowców znajdzie się tego dnia richard stallman , jeden z ojców wolnego oprogramowania . będzie to jego drugie wystąpienie w polsce , po tym jak w styczniu 2009 gościł w agh w krakowie . wykłady prowadzić będą także m . in . prof . bożena czerny inicjatorka poprawy jakości haseł astronomicznych w wikipedii , edyta puchalska - szefowa działu edukacyjnego w onet . pl , czy jarosław lipszyc - prezes fundacji nowoczesna polska . w niedzielę dyskusje toczyć się będą wokół zastosowań wiki i wolnego oprogramowania , zaprezentowana zostanie rosyjska wikipedia , a także zorganizowany będzie wikipediowy okrągły stół . zakończenie konferencji planowane jest na godzinę 27 w niedzielę 3 maja . osoby , które chciałyby wziąć udział w konferencji , proszone są przez organizatorów o wcześniejszy mailowy : konferencjawikimedia . pl . wstęp na konferencję jest bezpłatny .  "
      ]
     },
     "execution_count": 12,
     "metadata": {},
     "output_type": "execute_result"
    }
   ],
   "source": [
    "data_train_exp.head(3)"
   ]
  },
  {
   "cell_type": "code",
   "execution_count": 14,
   "id": "7699857d",
   "metadata": {
    "ExecuteTime": {
     "end_time": "2022-05-13T04:58:09.236817Z",
     "start_time": "2022-05-13T04:58:07.699652Z"
    }
   },
   "outputs": [],
   "source": [
    "data_train_exp.to_csv(\n",
    "    \"../../data/outputs/feature_engineering/data_cleaning/train/train_exp_with_ids_clean.csv\",\n",
    "    index=False,\n",
    ")\n",
    "data_test_exp.to_csv(\n",
    "    \"../../data/outputs/feature_engineering/data_cleaning/test/test_exp_with_ids_clean.csv\",\n",
    "    index=False,\n",
    ")\n",
    "data_test_in.to_csv(\n",
    "    \"../../data/outputs/feature_engineering/data_cleaning/test/test_with_ids_clean.csv\",\n",
    "    index=False,\n",
    ")"
   ]
  }
 ],
 "metadata": {
  "interpreter": {
   "hash": "1eea36f549d596e1ba6d357da17c58a2c496985ce50cff93b35e7c83413effd0"
  },
  "kernelspec": {
   "display_name": "Python 3",
   "language": "python",
   "name": "python3"
  },
  "language_info": {
   "codemirror_mode": {
    "name": "ipython",
    "version": 3
   },
   "file_extension": ".py",
   "mimetype": "text/x-python",
   "name": "python",
   "nbconvert_exporter": "python",
   "pygments_lexer": "ipython3",
   "version": "3.8.8"
  }
 },
 "nbformat": 4,
 "nbformat_minor": 5
}
