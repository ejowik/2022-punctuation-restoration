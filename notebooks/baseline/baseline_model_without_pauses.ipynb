{
 "cells": [
  {
   "cell_type": "markdown",
   "metadata": {},
   "source": [
    "## <span style='font-family:Georgia'> Objectives\n",
    "The purpose of this notebook is creating a baseline rule-model, which is to be a benchmark of the neural model developed in the later phase of the project."
   ]
  },
  {
   "cell_type": "code",
   "execution_count": 1,
   "metadata": {
    "ExecuteTime": {
     "end_time": "2022-05-13T12:17:20.768395Z",
     "start_time": "2022-05-13T12:15:48.460252Z"
    }
   },
   "outputs": [
    {
     "name": "stderr",
     "output_type": "stream",
     "text": [
      "[nltk_data] Error loading punkt: <urlopen error [WinError 10060] A\n",
      "[nltk_data]     connection attempt failed because the connected party\n",
      "[nltk_data]     did not properly respond after a period of time, or\n",
      "[nltk_data]     established connection failed because connected host\n",
      "[nltk_data]     has failed to respond>\n"
     ]
    }
   ],
   "source": [
    "# loading packages\n",
    "import os\n",
    "import sys\n",
    "import pandas as pd\n",
    "import numpy as np\n",
    "import seaborn as sns\n",
    "import copy\n",
    "import matplotlib.pyplot as plt\n",
    "\n",
    "sns.set(style=\"darkgrid\")\n",
    "from tqdm import tqdm\n",
    "\n",
    "sys.path.append(os.path.dirname(os.path.dirname(os.path.abspath(\"__file__\"))))\n",
    "from supportive_functions import count_punctuation, rm_consecutive_spaces\n",
    "\n",
    "import nltk\n",
    "import nltk.data\n",
    "from polish_sentence_nltk_tokenizer import sentence_tokenizer\n",
    "\n",
    "import warnings\n",
    "\n",
    "warnings.filterwarnings(action=\"ignore\")\n",
    "pd.options.display.max_columns = None\n",
    "\n",
    "%matplotlib inline\n",
    "plt.rcParams[\"figure.figsize\"] = (9, 6)\n",
    "\n",
    "sns.set(\n",
    "    rc={\n",
    "        \"figure.figsize\": (14, 8.27),\n",
    "        \"axes.facecolor\": \"white\",\n",
    "        \"axes.grid\": True,\n",
    "        \"grid.color\": \".9\",\n",
    "    }\n",
    ")"
   ]
  },
  {
   "cell_type": "code",
   "execution_count": 2,
   "metadata": {
    "ExecuteTime": {
     "end_time": "2022-05-13T12:17:20.803584Z",
     "start_time": "2022-05-13T12:17:20.771262Z"
    }
   },
   "outputs": [],
   "source": [
    "def read_files(dir_path: str, sep: str = \",\") -> pd.DataFrame:\n",
    "    \"\"\"\n",
    "    Read the files with timestamps from a given catalog.\n",
    "\n",
    "    Args:\n",
    "        dir_path (str): Path to the catalog with the files\n",
    "        sep (str, optional): Separator used in pd.read_csv() function. Defaults to \",\".\n",
    "\n",
    "    Returns:\n",
    "        pd.DataFrame: Data from all the files concatenated into one dataframe.\n",
    "    \"\"\"\n",
    "    files = os.listdir(dir_path)\n",
    "    data = pd.DataFrame(\n",
    "        [], columns=[\"index\", \"timestamp_start\", \"timestamp_stop\", \"word\"]\n",
    "    )\n",
    "    for file in tqdm(files):\n",
    "        f = open(os.path.join(dir_path, file), encoding=\"utf-8\", mode=\"r\")\n",
    "        name = file.split(\".\")[0]\n",
    "        df = pd.read_csv(f, header=None, sep=sep, encoding=\"utf-8\")\n",
    "        df[\"index\"] = name\n",
    "        if sep != \",\":\n",
    "            df[\"timestamp_start\"] = df.iloc[:, 0].str.split(\",\").str[0].str[1:]\n",
    "            df[\"timestamp_stop\"] = (\n",
    "                df.iloc[:, 0].str.split(\",\").str[1].str.split(\"\\)\").str[0]\n",
    "            )\n",
    "            df[\"word\"] = df.iloc[:, 0].str.split(\"\\)\\s\").str[1]\n",
    "            df.drop([0], axis=1, inplace=True)\n",
    "            df.drop(df.tail(1).index, inplace=True)\n",
    "        else:\n",
    "            df[\"timestamp_start\"] = df.iloc[:, 0].str[1:]\n",
    "            df[\"timestamp_stop\"] = df.iloc[:, 1].str.split(\"\\) \\s\").str[0]\n",
    "            df[\"word\"] = df.iloc[:, 1].str.split(\"\\)\\s\").str[1]\n",
    "\n",
    "            df.drop([0, 1], axis=1, inplace=True)\n",
    "            df.drop(df.tail(1).index, inplace=True)\n",
    "        data = pd.concat([data, df])\n",
    "        f.close()\n",
    "    return data"
   ]
  },
  {
   "cell_type": "markdown",
   "metadata": {},
   "source": [
    "## <span style='font-family:Georgia'> Implementation of rules"
   ]
  },
  {
   "cell_type": "code",
   "execution_count": 3,
   "metadata": {
    "ExecuteTime": {
     "end_time": "2022-05-13T12:17:20.812297Z",
     "start_time": "2022-05-13T12:17:20.806914Z"
    }
   },
   "outputs": [],
   "source": [
    "# tokenizer for separation into sentences\n",
    "tokenizer = nltk.data.load('tokenizers/punkt/polish.pickle')"
   ]
  },
  {
   "cell_type": "code",
   "execution_count": 4,
   "metadata": {
    "ExecuteTime": {
     "end_time": "2022-05-13T12:17:20.821274Z",
     "start_time": "2022-05-13T12:17:20.814294Z"
    }
   },
   "outputs": [],
   "source": [
    "# extracting list of abbreviations\n",
    "abbreviations = sentence_tokenizer._params.abbrev_types\n",
    "abbreviations_with_period = [x for x in abbreviations if \".\" in x]"
   ]
  },
  {
   "cell_type": "code",
   "execution_count": 5,
   "metadata": {
    "ExecuteTime": {
     "end_time": "2022-05-13T12:17:20.841316Z",
     "start_time": "2022-05-13T12:17:20.823269Z"
    }
   },
   "outputs": [],
   "source": [
    "# separating abbreviations with periods inside them\n",
    "spaced_abbreviations_with_period = []\n",
    "for abbr in abbreviations_with_period:\n",
    "    if \".\" in abbr:\n",
    "        spaced_abbreviations_with_period.append(abbr.replace(\".\", \" \"))"
   ]
  },
  {
   "cell_type": "code",
   "execution_count": 6,
   "metadata": {
    "ExecuteTime": {
     "end_time": "2022-05-13T12:17:20.856586Z",
     "start_time": "2022-05-13T12:17:20.843556Z"
    }
   },
   "outputs": [],
   "source": [
    "# list of abbreviations after 'cleaning'\n",
    "abbreviations = [\n",
    "    abbr for abbr in abbreviations if abbr not in abbreviations_with_period\n",
    "]\n",
    "for abbr in spaced_abbreviations_with_period:\n",
    "    abbreviations.append(abbr)"
   ]
  },
  {
   "cell_type": "code",
   "execution_count": 7,
   "metadata": {
    "ExecuteTime": {
     "end_time": "2022-05-13T12:17:20.863125Z",
     "start_time": "2022-05-13T12:17:20.858582Z"
    }
   },
   "outputs": [],
   "source": [
    "punctuation = list(sentence_tokenizer.PUNCTUATION)\n",
    "punctuation.append('-')\n",
    "punctuation.remove(';')"
   ]
  },
  {
   "cell_type": "code",
   "execution_count": 8,
   "metadata": {
    "ExecuteTime": {
     "end_time": "2022-05-13T12:17:20.917815Z",
     "start_time": "2022-05-13T12:17:20.866859Z"
    }
   },
   "outputs": [
    {
     "data": {
      "text/plain": [
       "Index(['item', 'grammatical_class'], dtype='object')"
      ]
     },
     "execution_count": 8,
     "metadata": {},
     "output_type": "execute_result"
    }
   ],
   "source": [
    "# reading dict generated from morfeusz (all items from train dataset)\n",
    "morfeusz_train = pd.read_csv(\n",
    "    \"../../data/outputs/feature_engineering/morfeusz/items_dict.csv\"\n",
    ")\n",
    "morfeusz_train.columns"
   ]
  },
  {
   "cell_type": "code",
   "execution_count": 9,
   "metadata": {
    "ExecuteTime": {
     "end_time": "2022-05-13T12:17:20.969580Z",
     "start_time": "2022-05-13T12:17:20.921335Z"
    }
   },
   "outputs": [],
   "source": [
    "# list of conjuctions from morfeusz\n",
    "conj_comp_list = morfeusz_train[\n",
    "    morfeusz_train.grammatical_class.str.contains(\"comp|conj\")\n",
    "].item.tolist()"
   ]
  },
  {
   "cell_type": "code",
   "execution_count": 10,
   "metadata": {
    "ExecuteTime": {
     "end_time": "2022-05-13T12:17:20.987787Z",
     "start_time": "2022-05-13T12:17:20.973803Z"
    }
   },
   "outputs": [],
   "source": [
    "# all conjuctions below are from conj_comp_list\n",
    "# not_conj - we do not put coma before them\n",
    "# yes_conj - we do put coma before them\n",
    "\n",
    "not_conj = [\n",
    "    \"a\",\n",
    "    \"albo\",\n",
    "    \"ali\",\n",
    "    \"ani\",\n",
    "    \"aniżeli\",\n",
    "    \"aż\",\n",
    "    \"bowiem\",\n",
    "    \"bylem\",\n",
    "    \"bym\",\n",
    "    \"byśmy\",\n",
    "    \"bądź\",\n",
    "    \"co\",\n",
    "    \"com\",\n",
    "    \"coś\",\n",
    "    \"czyli\",\n",
    "    \"czym\",\n",
    "    \"ewentualnie\",\n",
    "    \"gdybyś\",\n",
    "    \"gdybyśmy\",\n",
    "    \"i\",\n",
    "    \"inaczej\",\n",
    "    \"jednak\",\n",
    "    \"kiedyś\",\n",
    "    \"lub\",\n",
    "    \"miast\",\n",
    "    \"miasto\",\n",
    "    \"natomiast\",\n",
    "    \"ni\",\n",
    "    \"niby\",\n",
    "    \"niczym\",\n",
    "    \"nie\",\n",
    "    \"nim\",\n",
    "    \"niż\",\n",
    "    \"niżem\",\n",
    "    \"oraz\",\n",
    "    \"tedy\",\n",
    "    \"to\",\n",
    "    \"tom\",\n",
    "    \"toteż\",\n",
    "    \"tudzież\",\n",
    "    \"tylko\",\n",
    "    \"tym\",\n",
    "    \"tymczasem\",\n",
    "    \"zamiast\",\n",
    "    \"zarówno\",\n",
    "    \"zatem\",\n",
    "    \"zaś\",\n",
    "]\n",
    "yes_conj = [\n",
    "    \"aby\",\n",
    "    \"abyśmy\",\n",
    "    \"acz\",\n",
    "    \"aczkolwiek\",\n",
    "    \"bo\",\n",
    "    \"by\",\n",
    "    \"chociaż\",\n",
    "    \"chociażby\",\n",
    "    \"choć\",\n",
    "    \"choćby\",\n",
    "    \"czy\",\n",
    "    \"dopóki\",\n",
    "    \"gdy\",\n",
    "    \"gdyby\",\n",
    "    \"gdyż\",\n",
    "    \"im\",\n",
    "    \"iż\",\n",
    "    \"jak\",\n",
    "    \"jakby\",\n",
    "    \"jako\",\n",
    "    \"jakoby\",\n",
    "    \"jeśli\",\n",
    "    \"jeżeli\",\n",
    "    \"kiedy\",\n",
    "    \"ledwo\",\n",
    "    \"ponieważ\",\n",
    "    \"póki\",\n",
    "    \"skoro\",\n",
    "    \"więc\",\n",
    "    \"zaledwie\",\n",
    "    \"zanim\",\n",
    "    \"że\",\n",
    "    \"żeby\",\n",
    "    \"żebyś\",\n",
    "    \"żeś\",\n",
    "    \"ale\",\n",
    "    \"lecz\",\n",
    "]"
   ]
  },
  {
   "cell_type": "code",
   "execution_count": 11,
   "metadata": {
    "ExecuteTime": {
     "end_time": "2022-05-13T12:17:21.069573Z",
     "start_time": "2022-05-13T12:17:20.993486Z"
    }
   },
   "outputs": [],
   "source": [
    "# list of który która które\n",
    "ktory_list = morfeusz_train[morfeusz_train.item.str.startswith(\"któr\")][\n",
    "    ~morfeusz_train.item.str.contains(\"ś\")\n",
    "].item.tolist()\n",
    "ktory_list.remove(\"którykolwiek\")\n",
    "ktory_list.remove(\"którędy\")"
   ]
  },
  {
   "cell_type": "code",
   "execution_count": 12,
   "metadata": {
    "ExecuteTime": {
     "end_time": "2022-05-13T12:17:21.082793Z",
     "start_time": "2022-05-13T12:17:21.072565Z"
    }
   },
   "outputs": [],
   "source": [
    "#additional list of conjunctions with coma which were not in morfeusz\n",
    "additional_list=['dlatego']"
   ]
  },
  {
   "cell_type": "code",
   "execution_count": 13,
   "metadata": {
    "ExecuteTime": {
     "end_time": "2022-05-13T12:17:21.097929Z",
     "start_time": "2022-05-13T12:17:21.085786Z"
    }
   },
   "outputs": [],
   "source": [
    "#merge lists of conjuctions\n",
    "con_list_yes=yes_conj+ktory_list+additional_list"
   ]
  },
  {
   "cell_type": "code",
   "execution_count": 14,
   "metadata": {
    "ExecuteTime": {
     "end_time": "2022-05-13T12:17:21.130483Z",
     "start_time": "2022-05-13T12:17:21.099925Z"
    }
   },
   "outputs": [],
   "source": [
    "### train symbols and noisy words\n",
    "# load list of symbols to replace\n",
    "symbols_to_replace_infile = open(\n",
    "    \"../../data/outputs/eda/symbols_to_replace.txt\", \"r\", encoding=\"utf-8\"\n",
    ")\n",
    "symbols_to_replace = symbols_to_replace_infile.read().splitlines()\n",
    "# load list of noisy words, i.e. words with letters from outside the Polish alphabet\n",
    "noisy_words_infile = open(\n",
    "    \"../../data/outputs/eda/train/noisy_words.txt\", \"r\", encoding=\"utf-8\"\n",
    ")\n",
    "noisy_words = noisy_words_infile.read().splitlines()\n",
    "# load list of letters from outside the Polish alphabet\n",
    "non_polish_letters_infile = open(\n",
    "    \"../../data/outputs/eda/train/non_polish_letters.txt\", \"r\", encoding=\"utf-8\"\n",
    ")\n",
    "non_polish_letters = non_polish_letters_infile.read().splitlines()\n",
    "\n",
    "# merge noisy data into one list\n",
    "symbols_to_replace.extend(noisy_words)\n",
    "symbols_to_replace.extend(non_polish_letters)"
   ]
  },
  {
   "cell_type": "code",
   "execution_count": 15,
   "metadata": {
    "ExecuteTime": {
     "end_time": "2022-05-13T12:17:21.156360Z",
     "start_time": "2022-05-13T12:17:21.132478Z"
    }
   },
   "outputs": [],
   "source": [
    "### test symbols and noisy words\n",
    "# load list of symbols to replace\n",
    "symbols_to_replace_infile_test = open(\n",
    "    \"../../data/outputs/eda/symbols_to_replace.txt\", \"r\", encoding=\"utf-8\"\n",
    ")\n",
    "symbols_to_replace_test = symbols_to_replace_infile_test.read().splitlines()\n",
    "# load list of noisy words, i.e. words with letters from outside the Polish alphabet\n",
    "noisy_words_infile_test = open(\n",
    "    \"../../data/outputs/eda/test/noisy_words.txt\", \"r\", encoding=\"utf-8\"\n",
    ")\n",
    "noisy_words_test = noisy_words_infile_test.read().splitlines()\n",
    "# load list of letters from outside the Polish alphabet\n",
    "non_polish_letters_infile_test = open(\n",
    "    \"../../data/outputs/eda/test/non_polish_letters.txt\", \"r\", encoding=\"utf-8\"\n",
    ")\n",
    "non_polish_letters_test = non_polish_letters_infile_test.read().splitlines()\n",
    "# merge noisy data into one list\n",
    "noisy_words_test.extend(non_polish_letters_test)"
   ]
  },
  {
   "cell_type": "markdown",
   "metadata": {},
   "source": [
    "### <span style='font-family:Georgia'> Train data\n",
    "#### <span style='font-family:Georgia'> Adding fullstops"
   ]
  },
  {
   "cell_type": "code",
   "execution_count": 16,
   "metadata": {
    "ExecuteTime": {
     "end_time": "2022-05-13T12:17:36.689666Z",
     "start_time": "2022-05-13T12:17:21.159352Z"
    }
   },
   "outputs": [
    {
     "name": "stderr",
     "output_type": "stream",
     "text": [
      "100%|████████████████████████████████████████████████████████████████████████████████| 793/793 [00:15<00:00, 51.17it/s]\n"
     ]
    }
   ],
   "source": [
    "data_train = read_files(\"../../data/source/poleval_fa.train/train\", sep=\"\\t\")\n",
    "data_train_calc = data_train.drop([\"timestamp_start\", \"timestamp_stop\"], axis=1)"
   ]
  },
  {
   "cell_type": "code",
   "execution_count": 17,
   "metadata": {
    "ExecuteTime": {
     "end_time": "2022-05-13T12:17:36.726985Z",
     "start_time": "2022-05-13T12:17:36.692496Z"
    }
   },
   "outputs": [
    {
     "data": {
      "text/html": [
       "<div>\n",
       "<style scoped>\n",
       "    .dataframe tbody tr th:only-of-type {\n",
       "        vertical-align: middle;\n",
       "    }\n",
       "\n",
       "    .dataframe tbody tr th {\n",
       "        vertical-align: top;\n",
       "    }\n",
       "\n",
       "    .dataframe thead th {\n",
       "        text-align: right;\n",
       "    }\n",
       "</style>\n",
       "<table border=\"1\" class=\"dataframe\">\n",
       "  <thead>\n",
       "    <tr style=\"text-align: right;\">\n",
       "      <th></th>\n",
       "      <th>index</th>\n",
       "      <th>timestamp_start</th>\n",
       "      <th>timestamp_stop</th>\n",
       "      <th>word</th>\n",
       "    </tr>\n",
       "  </thead>\n",
       "  <tbody>\n",
       "    <tr>\n",
       "      <th>0</th>\n",
       "      <td>wikinews178430</td>\n",
       "      <td>690</td>\n",
       "      <td>750</td>\n",
       "      <td>we</td>\n",
       "    </tr>\n",
       "    <tr>\n",
       "      <th>1</th>\n",
       "      <td>wikinews178430</td>\n",
       "      <td>840</td>\n",
       "      <td>1350</td>\n",
       "      <td>wrocławiu</td>\n",
       "    </tr>\n",
       "    <tr>\n",
       "      <th>2</th>\n",
       "      <td>wikinews178430</td>\n",
       "      <td>1650</td>\n",
       "      <td>1920</td>\n",
       "      <td>walkę</td>\n",
       "    </tr>\n",
       "    <tr>\n",
       "      <th>3</th>\n",
       "      <td>wikinews178430</td>\n",
       "      <td>2130</td>\n",
       "      <td>2250</td>\n",
       "      <td>ze</td>\n",
       "    </tr>\n",
       "    <tr>\n",
       "      <th>4</th>\n",
       "      <td>wikinews178430</td>\n",
       "      <td>2310</td>\n",
       "      <td>2790</td>\n",
       "      <td>szkodnikiem</td>\n",
       "    </tr>\n",
       "    <tr>\n",
       "      <th>...</th>\n",
       "      <td>...</td>\n",
       "      <td>...</td>\n",
       "      <td>...</td>\n",
       "      <td>...</td>\n",
       "    </tr>\n",
       "    <tr>\n",
       "      <th>149</th>\n",
       "      <td>wikitalks109264</td>\n",
       "      <td>68760</td>\n",
       "      <td>69270</td>\n",
       "      <td>operacji</td>\n",
       "    </tr>\n",
       "    <tr>\n",
       "      <th>150</th>\n",
       "      <td>wikitalks109264</td>\n",
       "      <td>69390</td>\n",
       "      <td>69690</td>\n",
       "      <td>łódzkiej</td>\n",
       "    </tr>\n",
       "    <tr>\n",
       "      <th>151</th>\n",
       "      <td>wikitalks109264</td>\n",
       "      <td>70320</td>\n",
       "      <td>70320</td>\n",
       "      <td>w</td>\n",
       "    </tr>\n",
       "    <tr>\n",
       "      <th>152</th>\n",
       "      <td>wikitalks109264</td>\n",
       "      <td>70380</td>\n",
       "      <td>70530</td>\n",
       "      <td>roku</td>\n",
       "    </tr>\n",
       "    <tr>\n",
       "      <th>153</th>\n",
       "      <td>wikitalks109264</td>\n",
       "      <td>70620</td>\n",
       "      <td>71430</td>\n",
       "      <td>poprzedzającym</td>\n",
       "    </tr>\n",
       "  </tbody>\n",
       "</table>\n",
       "<p>163471 rows × 4 columns</p>\n",
       "</div>"
      ],
      "text/plain": [
       "               index timestamp_start timestamp_stop            word\n",
       "0     wikinews178430             690            750              we\n",
       "1     wikinews178430             840           1350       wrocławiu\n",
       "2     wikinews178430            1650           1920           walkę\n",
       "3     wikinews178430            2130           2250              ze\n",
       "4     wikinews178430            2310           2790     szkodnikiem\n",
       "..               ...             ...            ...             ...\n",
       "149  wikitalks109264           68760          69270        operacji\n",
       "150  wikitalks109264           69390          69690        łódzkiej\n",
       "151  wikitalks109264           70320          70320               w\n",
       "152  wikitalks109264           70380          70530            roku\n",
       "153  wikitalks109264           70620          71430  poprzedzającym\n",
       "\n",
       "[163471 rows x 4 columns]"
      ]
     },
     "execution_count": 17,
     "metadata": {},
     "output_type": "execute_result"
    }
   ],
   "source": [
    "data_train"
   ]
  },
  {
   "cell_type": "code",
   "execution_count": 18,
   "metadata": {
    "ExecuteTime": {
     "end_time": "2022-05-13T12:17:36.836604Z",
     "start_time": "2022-05-13T12:17:36.728979Z"
    }
   },
   "outputs": [],
   "source": [
    "data_train_calc_joined = (\n",
    "    data_train_calc[[\"index\", \"word\"]]\n",
    "    .groupby([\"index\"])[\"word\"]\n",
    "    .agg(\" \".join)\n",
    "    .reset_index()\n",
    ")"
   ]
  },
  {
   "cell_type": "code",
   "execution_count": 19,
   "metadata": {
    "ExecuteTime": {
     "end_time": "2022-05-13T12:17:37.124931Z",
     "start_time": "2022-05-13T12:17:36.838562Z"
    }
   },
   "outputs": [],
   "source": [
    "for symb in symbols_to_replace:\n",
    "    data_train_calc_joined[\"word\"] = data_train_calc_joined[\"word\"].apply(\n",
    "        lambda x: x.replace(symb, \"\")\n",
    "    )\n",
    "\n",
    "data_train_calc_joined[\"word\"] = data_train_calc_joined[\"word\"].apply(\n",
    "    rm_consecutive_spaces\n",
    ")\n",
    "data_train_calc_joined.columns = [\"FileId\", \"FixedOutput\"]\n",
    "data_train = copy.deepcopy(data_train_calc_joined)"
   ]
  },
  {
   "cell_type": "code",
   "execution_count": 20,
   "metadata": {
    "ExecuteTime": {
     "end_time": "2022-05-13T12:17:37.153174Z",
     "start_time": "2022-05-13T12:17:37.129376Z"
    }
   },
   "outputs": [
    {
     "data": {
      "text/plain": [
       "(793, 2)"
      ]
     },
     "execution_count": 20,
     "metadata": {},
     "output_type": "execute_result"
    }
   ],
   "source": [
    "data_train.shape"
   ]
  },
  {
   "cell_type": "code",
   "execution_count": 21,
   "metadata": {
    "ExecuteTime": {
     "end_time": "2022-05-13T12:17:37.165019Z",
     "start_time": "2022-05-13T12:17:37.155169Z"
    }
   },
   "outputs": [
    {
     "data": {
      "text/plain": [
       "'we wrocławiu walkę ze szkodnikiem rozpoczyna zespół szkół budowlanych przy ul grabiszyńskiej do akcji na ratunek kasztanowcom zsb zachęcił pobliskie szkoły gimnazjum nr 6 przy al pracy sp nr 82 przy ul blacharskiej sp nr 109 przy ul inżynierskiej sp nr 15 przy ul solskiego gimnazjum nr 40 przy ul morelowskiego pomoc ma polegać na szukaniu sponsorów którzy sfinansują specjalistyczne szczepienia koszt szczepienia jednego drzewa to ok 70 zł vat sponsor który uratuje kasztanowca ma zapewnioną na nim tabliczkę reklamową podobna akcja odbyła się w świdnicy gdzie szczepionkę dla 99 drzew zasponsorowała firma imp comfort która kupiła 10 ha gruntów w mieście i zamierza wybudować tam swoją fabrykę szrotówek kasztanowcowiaczek już od jakiegoś czasu niszczy kasztanowce do niedawna uważano że tego szkodnika można wytępić tylko poprzez palenie i kompostowanie liści kasztanowca teraz wiemy że możemy je uratować poprzez specjalne szczepionki jeśli możesz pomóc wrocławskim kasztanowcom to skontaktuj się z zsb ul grabiszyńska 236 we wrocławiu telefon 363 25 29 konto bankowe kb iv o wrocław 71 1500 1793 1226 1007 1791 0000 z dopiskiem kasztanowiec '"
      ]
     },
     "execution_count": 21,
     "metadata": {},
     "output_type": "execute_result"
    }
   ],
   "source": [
    "data_train.loc[0, 'FixedOutput']"
   ]
  },
  {
   "cell_type": "markdown",
   "metadata": {},
   "source": [
    "#### <span style='font-family:Georgia'> Inserting fullstops in abbreviations"
   ]
  },
  {
   "cell_type": "code",
   "execution_count": 22,
   "metadata": {
    "ExecuteTime": {
     "end_time": "2022-05-13T12:17:38.505737Z",
     "start_time": "2022-05-13T12:17:37.167453Z"
    }
   },
   "outputs": [],
   "source": [
    "# inserting fullstops after abbreviations + removing doubled spaces\n",
    "for abbr in abbreviations:\n",
    "    data_train['FixedOutput'] = data_train['FixedOutput'].apply(\n",
    "        lambda x: x.replace(\n",
    "            ' ' + abbr + ' ',\n",
    "            ' ' + abbr.replace(' ', ' . ') + ' . ')\n",
    "    )\n",
    "data_train['FixedOutput'] = data_train['FixedOutput'].apply(\n",
    "    lambda x: x.replace('. .', '.')\n",
    ")"
   ]
  },
  {
   "cell_type": "code",
   "execution_count": 23,
   "metadata": {
    "ExecuteTime": {
     "end_time": "2022-05-13T12:17:38.523878Z",
     "start_time": "2022-05-13T12:17:38.511263Z"
    }
   },
   "outputs": [
    {
     "data": {
      "text/html": [
       "<div>\n",
       "<style scoped>\n",
       "    .dataframe tbody tr th:only-of-type {\n",
       "        vertical-align: middle;\n",
       "    }\n",
       "\n",
       "    .dataframe tbody tr th {\n",
       "        vertical-align: top;\n",
       "    }\n",
       "\n",
       "    .dataframe thead th {\n",
       "        text-align: right;\n",
       "    }\n",
       "</style>\n",
       "<table border=\"1\" class=\"dataframe\">\n",
       "  <thead>\n",
       "    <tr style=\"text-align: right;\">\n",
       "      <th></th>\n",
       "      <th>FileId</th>\n",
       "      <th>FixedOutput</th>\n",
       "    </tr>\n",
       "  </thead>\n",
       "  <tbody>\n",
       "    <tr>\n",
       "      <th>0</th>\n",
       "      <td>wikinews178430</td>\n",
       "      <td>we wrocławiu walkę ze szkodnikiem rozpoczyna z...</td>\n",
       "    </tr>\n",
       "    <tr>\n",
       "      <th>1</th>\n",
       "      <td>wikinews178747</td>\n",
       "      <td>do serii rozbojów doszło w środę wieczorem w l...</td>\n",
       "    </tr>\n",
       "    <tr>\n",
       "      <th>2</th>\n",
       "      <td>wikinews178788</td>\n",
       "      <td>trzech 19 latków zatrzymała wczoraj lubelska p...</td>\n",
       "    </tr>\n",
       "    <tr>\n",
       "      <th>3</th>\n",
       "      <td>wikinews178804</td>\n",
       "      <td>drugie zwycięstwo w tegorocznym giro ditalia o...</td>\n",
       "    </tr>\n",
       "    <tr>\n",
       "      <th>4</th>\n",
       "      <td>wikinews178814</td>\n",
       "      <td>kradzieże telefonów komórkowych to coraz częst...</td>\n",
       "    </tr>\n",
       "  </tbody>\n",
       "</table>\n",
       "</div>"
      ],
      "text/plain": [
       "           FileId                                        FixedOutput\n",
       "0  wikinews178430  we wrocławiu walkę ze szkodnikiem rozpoczyna z...\n",
       "1  wikinews178747  do serii rozbojów doszło w środę wieczorem w l...\n",
       "2  wikinews178788  trzech 19 latków zatrzymała wczoraj lubelska p...\n",
       "3  wikinews178804  drugie zwycięstwo w tegorocznym giro ditalia o...\n",
       "4  wikinews178814  kradzieże telefonów komórkowych to coraz częst..."
      ]
     },
     "execution_count": 23,
     "metadata": {},
     "output_type": "execute_result"
    }
   ],
   "source": [
    "data_train.head()"
   ]
  },
  {
   "cell_type": "code",
   "execution_count": 24,
   "metadata": {
    "ExecuteTime": {
     "end_time": "2022-05-13T12:17:38.545577Z",
     "start_time": "2022-05-13T12:17:38.526658Z"
    }
   },
   "outputs": [
    {
     "data": {
      "text/plain": [
       "'we wrocławiu walkę ze szkodnikiem rozpoczyna zespół szkół budowlanych przy ul . grabiszyńskiej do akcji na ratunek kasztanowcom zsb zachęcił pobliskie szkoły gimnazjum nr . 6 przy al . pracy sp . nr . 82 przy ul . blacharskiej sp . nr . 109 przy ul . inżynierskiej sp . nr . 15 przy ul . solskiego gimnazjum nr . 40 przy ul . morelowskiego pomoc ma polegać na szukaniu sponsorów którzy sfinansują specjalistyczne szczepienia koszt szczepienia jednego drzewa to ok . 70 zł vat sponsor który uratuje kasztanowca ma zapewnioną na nim tabliczkę reklamową podobna akcja odbyła się w świdnicy gdzie szczepionkę dla 99 drzew zasponsorowała firma imp comfort która kupiła 10 ha . gruntów w mieście i zamierza wybudować tam swoją fabrykę szrotówek kasztanowcowiaczek już od jakiegoś czasu niszczy kasztanowce do niedawna uważano że tego szkodnika można wytępić tylko poprzez palenie i kompostowanie liści kasztanowca teraz wiemy że możemy je uratować poprzez specjalne szczepionki jeśli możesz pomóc wrocławskim kasztanowcom to skontaktuj się z zsb ul . grabiszyńska 236 we wrocławiu telefon 363 25 29 konto bankowe kb iv o wrocław 71 1500 1793 1226 1007 1791 0000 z dopiskiem kasztanowiec '"
      ]
     },
     "execution_count": 24,
     "metadata": {},
     "output_type": "execute_result"
    }
   ],
   "source": [
    "data_train.loc[0, 'FixedOutput']"
   ]
  },
  {
   "cell_type": "markdown",
   "metadata": {},
   "source": [
    "#### <span style='font-family:Georgia'> Inserting comas"
   ]
  },
  {
   "cell_type": "code",
   "execution_count": 25,
   "metadata": {
    "ExecuteTime": {
     "end_time": "2022-05-13T12:17:38.748968Z",
     "start_time": "2022-05-13T12:17:38.547652Z"
    }
   },
   "outputs": [],
   "source": [
    "for conj in con_list_yes:\n",
    "    data_train['FixedOutput'] = data_train['FixedOutput'].apply(\n",
    "        lambda x: x.replace(\n",
    "            ' ' + conj + ' ',\n",
    "            ', '+conj+' '\n",
    "        )\n",
    "    )\n",
    "data_train['FixedOutput'] = data_train['FixedOutput'].apply(\n",
    "    lambda x: x.replace('. ,', ',')\n",
    ")"
   ]
  },
  {
   "cell_type": "code",
   "execution_count": 26,
   "metadata": {
    "ExecuteTime": {
     "end_time": "2022-05-13T12:17:38.763249Z",
     "start_time": "2022-05-13T12:17:38.750732Z"
    }
   },
   "outputs": [
    {
     "data": {
      "text/plain": [
       "'we wrocławiu walkę ze szkodnikiem rozpoczyna zespół szkół budowlanych przy ul . grabiszyńskiej do akcji na ratunek kasztanowcom zsb zachęcił pobliskie szkoły gimnazjum nr . 6 przy al . pracy sp . nr . 82 przy ul . blacharskiej sp . nr . 109 przy ul . inżynierskiej sp . nr . 15 przy ul . solskiego gimnazjum nr . 40 przy ul . morelowskiego pomoc ma polegać na szukaniu sponsorów, którzy sfinansują specjalistyczne szczepienia koszt szczepienia jednego drzewa to ok . 70 zł vat sponsor, który uratuje kasztanowca ma zapewnioną na nim tabliczkę reklamową podobna akcja odbyła się w świdnicy gdzie szczepionkę dla 99 drzew zasponsorowała firma imp comfort, która kupiła 10 ha . gruntów w mieście i zamierza wybudować tam swoją fabrykę szrotówek kasztanowcowiaczek już od jakiegoś czasu niszczy kasztanowce do niedawna uważano, że tego szkodnika można wytępić tylko poprzez palenie i kompostowanie liści kasztanowca teraz wiemy, że możemy je uratować poprzez specjalne szczepionki, jeśli możesz pomóc wrocławskim kasztanowcom to skontaktuj się z zsb ul . grabiszyńska 236 we wrocławiu telefon 363 25 29 konto bankowe kb iv o wrocław 71 1500 1793 1226 1007 1791 0000 z dopiskiem kasztanowiec '"
      ]
     },
     "execution_count": 26,
     "metadata": {},
     "output_type": "execute_result"
    }
   ],
   "source": [
    "data_train.loc[0, 'FixedOutput']"
   ]
  },
  {
   "cell_type": "code",
   "execution_count": 27,
   "metadata": {
    "ExecuteTime": {
     "end_time": "2022-05-13T12:17:38.772270Z",
     "start_time": "2022-05-13T12:17:38.765244Z"
    }
   },
   "outputs": [],
   "source": [
    "data_train.FixedOutput = data_train.FixedOutput.apply(lambda x: x.lstrip())"
   ]
  },
  {
   "cell_type": "code",
   "execution_count": 28,
   "metadata": {
    "ExecuteTime": {
     "end_time": "2022-05-13T12:17:38.781247Z",
     "start_time": "2022-05-13T12:17:38.774264Z"
    }
   },
   "outputs": [],
   "source": [
    "# data_train.to_csv(\n",
    "#     \"../../data/outputs/baseline/excluding_pauses/train_data.csv\", index=False\n",
    "# )"
   ]
  },
  {
   "cell_type": "markdown",
   "metadata": {},
   "source": [
    "### <span style='font-family:Georgia'> Test data\n",
    "#### <span style='font-family:Georgia'> Adding fullstops based on timestamps"
   ]
  },
  {
   "cell_type": "code",
   "execution_count": 29,
   "metadata": {
    "ExecuteTime": {
     "end_time": "2022-05-13T12:17:41.669858Z",
     "start_time": "2022-05-13T12:17:38.783239Z"
    }
   },
   "outputs": [
    {
     "name": "stderr",
     "output_type": "stream",
     "text": [
      "100%|████████████████████████████████████████████████████████████████████████████████| 200/200 [00:02<00:00, 69.86it/s]\n"
     ]
    }
   ],
   "source": [
    "data_test = read_files(\"../../data/source/poleval_fa.validation/validation\", sep=\"\\t\")\n",
    "data_test_calc = data_test.drop([\"timestamp_start\", \"timestamp_stop\"], axis=1)"
   ]
  },
  {
   "cell_type": "code",
   "execution_count": 30,
   "metadata": {
    "ExecuteTime": {
     "end_time": "2022-05-13T12:17:41.719252Z",
     "start_time": "2022-05-13T12:17:41.671496Z"
    }
   },
   "outputs": [],
   "source": [
    "data_test_calc_joined = (\n",
    "    data_test_calc[[\"index\", \"word\"]]\n",
    "    .groupby([\"index\"])[\"word\"]\n",
    "    .agg(\" \".join)\n",
    "    .reset_index()\n",
    ")"
   ]
  },
  {
   "cell_type": "code",
   "execution_count": 31,
   "metadata": {
    "ExecuteTime": {
     "end_time": "2022-05-13T12:17:41.820365Z",
     "start_time": "2022-05-13T12:17:41.722243Z"
    }
   },
   "outputs": [],
   "source": [
    "for symb in noisy_words_test:\n",
    "    data_test_calc_joined[\"word\"] = data_test_calc_joined[\"word\"].apply(\n",
    "        lambda x: x.replace(symb, \"\")\n",
    "    )\n",
    "\n",
    "data_test_calc_joined[\"word\"] = data_test_calc_joined[\"word\"].apply(\n",
    "    rm_consecutive_spaces\n",
    ")\n",
    "\n",
    "for symb in symbols_to_replace_test:\n",
    "    data_test_calc_joined[\"word\"] = data_test_calc_joined[\"word\"].apply(\n",
    "        lambda x: x.replace(symb, \"\")\n",
    "    )\n",
    "\n",
    "data_test_calc_joined[\"word\"] = data_test_calc_joined[\"word\"].apply(\n",
    "    rm_consecutive_spaces\n",
    ")\n",
    "data_test_calc_joined.columns = [\"FileId\", \"FixedOutput\"]\n",
    "data_test = copy.deepcopy(data_test_calc_joined)"
   ]
  },
  {
   "cell_type": "code",
   "execution_count": 32,
   "metadata": {
    "ExecuteTime": {
     "end_time": "2022-05-13T12:17:41.829341Z",
     "start_time": "2022-05-13T12:17:41.822360Z"
    }
   },
   "outputs": [
    {
     "data": {
      "text/plain": [
       "(200, 2)"
      ]
     },
     "execution_count": 32,
     "metadata": {},
     "output_type": "execute_result"
    }
   ],
   "source": [
    "data_test.shape"
   ]
  },
  {
   "cell_type": "code",
   "execution_count": 33,
   "metadata": {
    "ExecuteTime": {
     "end_time": "2022-05-13T12:17:41.844357Z",
     "start_time": "2022-05-13T12:17:41.832333Z"
    }
   },
   "outputs": [
    {
     "data": {
      "text/plain": [
       "'prezydent usa george bush powiedział że odnowa nowego orleanu i innych zalanych terenów potrwa lata stan luizjana wraz ze stolicą nowym orleanem ucierpiał w wyniku ataku huraganu katrina prezydent skrócił swoje wakacje w teksasie oraz zwołał posiedzenie gabinetu który obejmie kontrolę nad nadzorem akcji ratunkowej jednej z najgorszych katastrof naturalnych bush wyznaczył trzy priorytety dotyczące walki ze skutkami kataklizmu ratowanie życia ofiarom w tym poszukiwanie zaginionych pomoc poszkodowanym i odnalezionym odbudowa i usuwanie szkód w ramach akcji ratunkowej przydzielono dodatkowo 10 tysięcy żołnierzy którzy wspomogą operację w regionach najbardziej dotkniętych katastrofą zaliczają się do nich części stanów luizjany i mississippi służby medyczne zaoferowały ponad 10 tysięcy łóżek zaś armia amerykańska wysyła swoje helikoptery i łodzie aby uratować mieszkańców znajdujących się w schronieniu późnym wieczorem w środę rozpoczęła się ewakuacja reszty mieszkańców nowego orleanu tych którzy pozostali w schronach oraz na stadionie superdome w centrum miasta ich liczbę szacuje się na 20000 ludzie są wywożeni do oddalonego o 350 mil stadionu astrodome w houston w tym celu podstawiono 300 autobusów niektórzy wykorzystują sytuację i w poszukiwaniu jedzenia lub cennych rzeczy włamują się do domów biur szpitali rozbijają szyby wyłamują drzwi wleką za sobą to co udaje się im unieść bądź przenieść uderzenie huraganu katrina spowodowało wzrost cen benzyny w wielu częściach stanów zjednoczonych osiągnęła ona wartość powyżej 3 dolarów za galon w niektórych stanach wynosi ona 3 50 nad zatoką meksykańską umiejscowiony jest jeden z największych okręgów przemysłowych mieszczącym wiele rafinerii oraz rurociągów'"
      ]
     },
     "execution_count": 33,
     "metadata": {},
     "output_type": "execute_result"
    }
   ],
   "source": [
    "data_test.loc[1, 'FixedOutput']"
   ]
  },
  {
   "cell_type": "markdown",
   "metadata": {},
   "source": [
    "#### <span style='font-family:Georgia'> Inserting fullstops in abbreviations"
   ]
  },
  {
   "cell_type": "code",
   "execution_count": 34,
   "metadata": {
    "ExecuteTime": {
     "end_time": "2022-05-13T12:17:42.307575Z",
     "start_time": "2022-05-13T12:17:41.846431Z"
    }
   },
   "outputs": [],
   "source": [
    "# inserting fullstops after abbreviations + removing doubled spaces\n",
    "for abbr in abbreviations:\n",
    "    data_test['FixedOutput'] = data_test['FixedOutput'].apply(\n",
    "        lambda x: x.replace(\n",
    "            ' ' + abbr + ' ',\n",
    "            ' ' + abbr.replace(' ', ' . ') + ' . ')\n",
    "    )\n",
    "data_test['FixedOutput'] = data_test['FixedOutput'].apply(\n",
    "    lambda x: x.replace('. .', '.')\n",
    ")"
   ]
  },
  {
   "cell_type": "code",
   "execution_count": 35,
   "metadata": {
    "ExecuteTime": {
     "end_time": "2022-05-13T12:17:42.322962Z",
     "start_time": "2022-05-13T12:17:42.308817Z"
    }
   },
   "outputs": [
    {
     "data": {
      "text/html": [
       "<div>\n",
       "<style scoped>\n",
       "    .dataframe tbody tr th:only-of-type {\n",
       "        vertical-align: middle;\n",
       "    }\n",
       "\n",
       "    .dataframe tbody tr th {\n",
       "        vertical-align: top;\n",
       "    }\n",
       "\n",
       "    .dataframe thead th {\n",
       "        text-align: right;\n",
       "    }\n",
       "</style>\n",
       "<table border=\"1\" class=\"dataframe\">\n",
       "  <thead>\n",
       "    <tr style=\"text-align: right;\">\n",
       "      <th></th>\n",
       "      <th>FileId</th>\n",
       "      <th>FixedOutput</th>\n",
       "    </tr>\n",
       "  </thead>\n",
       "  <tbody>\n",
       "    <tr>\n",
       "      <th>0</th>\n",
       "      <td>wikinews179014</td>\n",
       "      <td>w gdańsku zgodnie już z coroczną czerwcową tra...</td>\n",
       "    </tr>\n",
       "    <tr>\n",
       "      <th>1</th>\n",
       "      <td>wikinews179354</td>\n",
       "      <td>prezydent usa george bush powiedział że odnowa...</td>\n",
       "    </tr>\n",
       "    <tr>\n",
       "      <th>2</th>\n",
       "      <td>wikinews179650</td>\n",
       "      <td>mamy najgorsze przedmieścia w europie nie woln...</td>\n",
       "    </tr>\n",
       "    <tr>\n",
       "      <th>3</th>\n",
       "      <td>wikinews179740</td>\n",
       "      <td>w sejmie trwała dziś debata nad sprawozdaniem ...</td>\n",
       "    </tr>\n",
       "    <tr>\n",
       "      <th>4</th>\n",
       "      <td>wikinews179784</td>\n",
       "      <td>aleksander łukaszenka który za 3 miesiące będz...</td>\n",
       "    </tr>\n",
       "  </tbody>\n",
       "</table>\n",
       "</div>"
      ],
      "text/plain": [
       "           FileId                                        FixedOutput\n",
       "0  wikinews179014  w gdańsku zgodnie już z coroczną czerwcową tra...\n",
       "1  wikinews179354  prezydent usa george bush powiedział że odnowa...\n",
       "2  wikinews179650  mamy najgorsze przedmieścia w europie nie woln...\n",
       "3  wikinews179740  w sejmie trwała dziś debata nad sprawozdaniem ...\n",
       "4  wikinews179784  aleksander łukaszenka który za 3 miesiące będz..."
      ]
     },
     "execution_count": 35,
     "metadata": {},
     "output_type": "execute_result"
    }
   ],
   "source": [
    "data_test.head()"
   ]
  },
  {
   "cell_type": "code",
   "execution_count": 36,
   "metadata": {
    "ExecuteTime": {
     "end_time": "2022-05-13T12:17:42.345557Z",
     "start_time": "2022-05-13T12:17:42.324957Z"
    }
   },
   "outputs": [
    {
     "data": {
      "text/plain": [
       "'prezydent usa george bush powiedział że odnowa nowego orleanu i innych zalanych terenów potrwa lata stan luizjana wraz ze stolicą nowym orleanem ucierpiał w wyniku ataku huraganu katrina prezydent skrócił swoje wakacje w teksasie oraz zwołał posiedzenie gabinetu który obejmie kontrolę nad nadzorem akcji ratunkowej jednej z najgorszych katastrof naturalnych bush wyznaczył trzy priorytety dotyczące walki ze skutkami kataklizmu ratowanie życia ofiarom w tym poszukiwanie zaginionych pomoc poszkodowanym i odnalezionym odbudowa i usuwanie szkód w ramach akcji ratunkowej przydzielono dodatkowo 10 tysięcy żołnierzy którzy wspomogą operację w regionach najbardziej dotkniętych katastrofą zaliczają się do nich części stanów luizjany i mississippi służby medyczne zaoferowały ponad 10 tysięcy łóżek zaś armia amerykańska wysyła swoje helikoptery i łodzie aby uratować mieszkańców znajdujących się w schronieniu późnym wieczorem w środę rozpoczęła się ewakuacja reszty mieszkańców nowego orleanu tych którzy pozostali w schronach oraz na stadionie superdome w centrum miasta ich liczbę szacuje się na 20000 ludzie są wywożeni do oddalonego o 350 mil stadionu astrodome w houston w tym celu podstawiono 300 autobusów niektórzy wykorzystują sytuację i w poszukiwaniu jedzenia lub cennych rzeczy włamują się do domów biur szpitali rozbijają szyby wyłamują drzwi wleką za sobą to co udaje się im . unieść bądź przenieść uderzenie huraganu katrina spowodowało wzrost cen benzyny w wielu częściach stanów zjednoczonych osiągnęła ona wartość powyżej 3 dolarów za galon w niektórych stanach wynosi ona 3 50 nad zatoką meksykańską umiejscowiony jest jeden z największych okręgów przemysłowych mieszczącym wiele rafinerii oraz rurociągów'"
      ]
     },
     "execution_count": 36,
     "metadata": {},
     "output_type": "execute_result"
    }
   ],
   "source": [
    "#example\n",
    "data_test.loc[1, 'FixedOutput']"
   ]
  },
  {
   "cell_type": "markdown",
   "metadata": {},
   "source": [
    "#### <span style='font-family:Georgia'> Inserting comas"
   ]
  },
  {
   "cell_type": "code",
   "execution_count": 37,
   "metadata": {
    "ExecuteTime": {
     "end_time": "2022-05-13T12:17:42.408688Z",
     "start_time": "2022-05-13T12:17:42.348268Z"
    }
   },
   "outputs": [],
   "source": [
    "for conj in con_list_yes:\n",
    "    data_test['FixedOutput'] = data_test['FixedOutput'].apply(\n",
    "        lambda x: x.replace(\n",
    "            ' ' + conj + ' ',\n",
    "            ', ' + conj + ' ')\n",
    "    )\n",
    "data_test['FixedOutput'] = data_test['FixedOutput'].apply(\n",
    "    lambda x: x.replace('. ,', ',')\n",
    ")"
   ]
  },
  {
   "cell_type": "code",
   "execution_count": 38,
   "metadata": {
    "ExecuteTime": {
     "end_time": "2022-05-13T12:17:42.417561Z",
     "start_time": "2022-05-13T12:17:42.410683Z"
    }
   },
   "outputs": [
    {
     "data": {
      "text/plain": [
       "'prezydent usa george bush powiedział, że odnowa nowego orleanu i innych zalanych terenów potrwa lata stan luizjana wraz ze stolicą nowym orleanem ucierpiał w wyniku ataku huraganu katrina prezydent skrócił swoje wakacje w teksasie oraz zwołał posiedzenie gabinetu, który obejmie kontrolę nad nadzorem akcji ratunkowej jednej z najgorszych katastrof naturalnych bush wyznaczył trzy priorytety dotyczące walki ze skutkami kataklizmu ratowanie życia ofiarom w tym poszukiwanie zaginionych pomoc poszkodowanym i odnalezionym odbudowa i usuwanie szkód w ramach akcji ratunkowej przydzielono dodatkowo 10 tysięcy żołnierzy, którzy wspomogą operację w regionach najbardziej dotkniętych katastrofą zaliczają się do nich części stanów luizjany i mississippi służby medyczne zaoferowały ponad 10 tysięcy łóżek zaś armia amerykańska wysyła swoje helikoptery i łodzie, aby uratować mieszkańców znajdujących się w schronieniu późnym wieczorem w środę rozpoczęła się ewakuacja reszty mieszkańców nowego orleanu tych, którzy pozostali w schronach oraz na stadionie superdome w centrum miasta ich liczbę szacuje się na 20000 ludzie są wywożeni do oddalonego o 350 mil stadionu astrodome w houston w tym celu podstawiono 300 autobusów niektórzy wykorzystują sytuację i w poszukiwaniu jedzenia lub cennych rzeczy włamują się do domów biur szpitali rozbijają szyby wyłamują drzwi wleką za sobą to co udaje się, im . unieść bądź przenieść uderzenie huraganu katrina spowodowało wzrost cen benzyny w wielu częściach stanów zjednoczonych osiągnęła ona wartość powyżej 3 dolarów za galon w niektórych stanach wynosi ona 3 50 nad zatoką meksykańską umiejscowiony jest jeden z największych okręgów przemysłowych mieszczącym wiele rafinerii oraz rurociągów'"
      ]
     },
     "execution_count": 38,
     "metadata": {},
     "output_type": "execute_result"
    }
   ],
   "source": [
    "#example result\n",
    "data_test.loc[1, 'FixedOutput']"
   ]
  },
  {
   "cell_type": "code",
   "execution_count": 39,
   "metadata": {
    "ExecuteTime": {
     "end_time": "2022-05-13T12:17:42.426966Z",
     "start_time": "2022-05-13T12:17:42.419485Z"
    }
   },
   "outputs": [],
   "source": [
    "data_test.FixedOutput = data_test.FixedOutput.apply(lambda x: x.lstrip())"
   ]
  },
  {
   "cell_type": "code",
   "execution_count": 40,
   "metadata": {
    "ExecuteTime": {
     "end_time": "2022-05-13T12:17:42.441087Z",
     "start_time": "2022-05-13T12:17:42.429407Z"
    }
   },
   "outputs": [],
   "source": [
    "# data_test.to_csv('../../data/outputs/baseline/excluding_pauses/test_data.csv', index=False)"
   ]
  }
 ],
 "metadata": {
  "interpreter": {
   "hash": "c110ddfe0349c03e3dda4a58a3e1133347ef6d94445494ae811f981f97676945"
  },
  "kernelspec": {
   "display_name": "Python 3",
   "language": "python",
   "name": "python3"
  },
  "language_info": {
   "codemirror_mode": {
    "name": "ipython",
    "version": 3
   },
   "file_extension": ".py",
   "mimetype": "text/x-python",
   "name": "python",
   "nbconvert_exporter": "python",
   "pygments_lexer": "ipython3",
   "version": "3.8.8"
  }
 },
 "nbformat": 4,
 "nbformat_minor": 2
}
