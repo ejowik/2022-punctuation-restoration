{
 "cells": [
  {
   "cell_type": "markdown",
   "metadata": {},
   "source": [
    "## <span style='font-family:Georgia'> Objectives\n",
    "The purpose of this notebook is text mining, aimed at creating a baseline rule-model, which is to be a benchmark of the neural model developed in the later phase of the project."
   ]
  },
  {
   "cell_type": "code",
   "execution_count": 1,
   "metadata": {
    "ExecuteTime": {
     "end_time": "2022-05-13T12:10:05.166238Z",
     "start_time": "2022-05-13T12:09:59.177152Z"
    }
   },
   "outputs": [],
   "source": [
    "# loading packages\n",
    "import os\n",
    "import re\n",
    "import sys\n",
    "import pandas as pd\n",
    "import numpy as np\n",
    "import morfeusz2\n",
    "import seaborn as sns\n",
    "import matplotlib.pyplot as plt\n",
    "\n",
    "sys.path.append(os.path.dirname(os.path.dirname(os.path.abspath(\"__file__\"))))\n",
    "from supportive_functions import (\n",
    "    find_nonalpha,\n",
    "    flatten,\n",
    "    count_punctuation,\n",
    "    separate_special_chars,\n",
    "    rm_consecutive_spaces,\n",
    ")\n",
    "\n",
    "import warnings\n",
    "\n",
    "warnings.filterwarnings(action=\"ignore\")\n",
    "pd.options.display.max_columns = None\n",
    "# pd.options.display.max_colwidth = None\n",
    "\n",
    "%matplotlib inline\n",
    "plt.rcParams['figure.figsize'] = (9, 6)\n",
    "sns.set(style=\"darkgrid\")"
   ]
  },
  {
   "cell_type": "code",
   "execution_count": 2,
   "metadata": {
    "ExecuteTime": {
     "end_time": "2022-05-13T12:10:05.189056Z",
     "start_time": "2022-05-13T12:10:05.168196Z"
    }
   },
   "outputs": [],
   "source": [
    "def read_files(dir_path: str, sep: str = \",\") -> pd.DataFrame:\n",
    "    \"\"\"\n",
    "    Read the files with timestamps from a given catalog.\n",
    "\n",
    "    Args:\n",
    "        dir_path: Path to the catalog with the files\n",
    "        sep: Separator used in pd.read_csv function. Defaults to \",\".\n",
    "\n",
    "    Returns:\n",
    "        pd.DataFrame: Data from all the files concatenated into one dataframe.\n",
    "    \"\"\"\n",
    "    files = os.listdir(dir_path)\n",
    "    data = pd.DataFrame(\n",
    "        [], columns=[\"FileId\", \"timestamp_start\", \"timestamp_stop\", \"word\"]\n",
    "    )\n",
    "    for file in files:\n",
    "        f = open(os.path.join(dir_path, file), encoding=\"utf-8\", mode=\"r\")\n",
    "        name = file.split(\".\")[0]\n",
    "        df = pd.read_csv(f, header=None, sep=sep, encoding=\"utf-8\")\n",
    "        df[\"FileId\"] = name\n",
    "        if sep != \",\":\n",
    "            df[\"timestamp_start\"] = df.iloc[:, 0].str.split(\",\").str[0].str[1:]\n",
    "            df[\"timestamp_stop\"] = (\n",
    "                df.iloc[:, 0].str.split(\",\").str[1].str.split(\"\\)\").str[0]\n",
    "            )\n",
    "            df[\"word\"] = df.iloc[:, 0].str.split(\"\\) \\s\").str[1]\n",
    "            df.drop([0], axis=1, inplace=True)\n",
    "            df.drop(df.tail(1).index, inplace=True)\n",
    "        else:\n",
    "            df[\"timestamp_start\"] = df.iloc[:, 0].str[1:]\n",
    "            df[\"timestamp_stop\"] = df.iloc[:, 1].str.split(\"\\) \\s\").str[0]\n",
    "            df[\"word\"] = df.iloc[:, 1].str.split(\"\\) \\s\").str[1]\n",
    "\n",
    "            df.drop([0, 1], axis=1, inplace=True)\n",
    "            df.drop(df.tail(1).index, inplace=True)\n",
    "        data = pd.concat([data, df])\n",
    "        f.close()\n",
    "    return data"
   ]
  },
  {
   "cell_type": "markdown",
   "metadata": {},
   "source": [
    "## <span style='font-family:Georgia'> Data loading & preparation"
   ]
  },
  {
   "cell_type": "code",
   "execution_count": 3,
   "metadata": {
    "ExecuteTime": {
     "end_time": "2022-05-13T12:10:36.963736Z",
     "start_time": "2022-05-13T12:10:05.191976Z"
    }
   },
   "outputs": [],
   "source": [
    "# reading data\n",
    "# train\n",
    "data_train_in = pd.read_csv(\"../../data/source/train/in.tsv\", sep=\"\\t\", header=None)\n",
    "data_train_exp = pd.read_csv(\n",
    "    \"../../data/source/train/expected.tsv\", sep=\"\\t\", header=None\n",
    ")\n",
    "# test\n",
    "data_test_in = pd.read_csv(\"../../data/source/test-A/in.tsv\", sep=\"\\t\", header=None)\n",
    "data_test_exp = pd.read_csv(\n",
    "    \"../../data/source/test-A/expected.tsv\", sep=\"\\t\", header=None\n",
    ")\n",
    "# train\n",
    "data_train_clntmstmp = read_files(\"../../data/source/poleval_fa.train/train\", sep=\"\\t\")\n",
    "# test\n",
    "data_test_clntmstmp = read_files(\n",
    "    \"../../data/source/poleval_fa.validation/validation\", sep=\"\\t\"\n",
    ")"
   ]
  },
  {
   "cell_type": "code",
   "execution_count": 4,
   "metadata": {
    "ExecuteTime": {
     "end_time": "2022-05-13T12:10:36.981996Z",
     "start_time": "2022-05-13T12:10:36.965701Z"
    }
   },
   "outputs": [],
   "source": [
    "# renaming columns\n",
    "data_train_in.columns = ['FileId', 'ASROutput']\n",
    "data_train_exp.columns = ['FixedOutput']\n",
    "data_test_in.columns = ['FileId', 'ASROutput']\n",
    "data_test_exp.columns = ['FixedOutput']\n",
    "\n",
    "# adding index to expected output (assumption: the same ordering of the records)\n",
    "data_train_exp['FileId'] = data_train_in['FileId']\n",
    "data_train_exp = data_train_exp[['FileId', 'FixedOutput']]\n",
    "\n",
    "data_test_exp['FileId'] = data_test_in['FileId']\n",
    "data_test_exp = data_test_exp[['FileId', 'FixedOutput']]"
   ]
  },
  {
   "cell_type": "markdown",
   "metadata": {},
   "source": [
    "## <span style='font-family:Georgia'> Check for records for which we do not have transcripts with "
   ]
  },
  {
   "cell_type": "code",
   "execution_count": 5,
   "metadata": {
    "ExecuteTime": {
     "end_time": "2022-05-13T12:10:37.111540Z",
     "start_time": "2022-05-13T12:10:36.984989Z"
    }
   },
   "outputs": [],
   "source": [
    "# list of file ids\n",
    "train_exp_file_ids = np.unique(np.array(data_train_exp[\"FileId\"].tolist()))\n",
    "train_timestamp_file_ids = np.unique(np.array(data_train_clntmstmp[\"FileId\"].tolist()))\n",
    "\n",
    "test_file_ids = np.unique(np.array(data_test_in[\"FileId\"].tolist()))\n",
    "test_timestamp_file_ids = np.unique(np.array(data_test_clntmstmp[\"FileId\"].tolist()))"
   ]
  },
  {
   "cell_type": "code",
   "execution_count": 6,
   "metadata": {
    "ExecuteTime": {
     "end_time": "2022-05-13T12:10:37.123527Z",
     "start_time": "2022-05-13T12:10:37.112503Z"
    }
   },
   "outputs": [],
   "source": [
    "# exclude records for which we do not have transcripts with\n",
    "train_ids_to_drop = list(\n",
    "    train_exp_file_ids[~np.isin(train_exp_file_ids, train_timestamp_file_ids)]\n",
    ")\n",
    "data_train_in = data_train_in[~data_train_in.FileId.isin(train_ids_to_drop)]\n",
    "data_train_exp = data_train_exp[~data_train_exp.FileId.isin(train_ids_to_drop)]"
   ]
  },
  {
   "cell_type": "code",
   "execution_count": 7,
   "metadata": {
    "ExecuteTime": {
     "end_time": "2022-05-13T12:10:37.141370Z",
     "start_time": "2022-05-13T12:10:37.125522Z"
    },
    "scrolled": true
   },
   "outputs": [
    {
     "data": {
      "text/plain": [
       "(793, 2)"
      ]
     },
     "execution_count": 7,
     "metadata": {},
     "output_type": "execute_result"
    }
   ],
   "source": [
    "data_train_exp.shape"
   ]
  },
  {
   "cell_type": "code",
   "execution_count": 8,
   "metadata": {
    "ExecuteTime": {
     "end_time": "2022-05-13T12:10:37.177137Z",
     "start_time": "2022-05-13T12:10:37.145359Z"
    }
   },
   "outputs": [
    {
     "data": {
      "text/html": [
       "<div>\n",
       "<style scoped>\n",
       "    .dataframe tbody tr th:only-of-type {\n",
       "        vertical-align: middle;\n",
       "    }\n",
       "\n",
       "    .dataframe tbody tr th {\n",
       "        vertical-align: top;\n",
       "    }\n",
       "\n",
       "    .dataframe thead th {\n",
       "        text-align: right;\n",
       "    }\n",
       "</style>\n",
       "<table border=\"1\" class=\"dataframe\">\n",
       "  <thead>\n",
       "    <tr style=\"text-align: right;\">\n",
       "      <th></th>\n",
       "      <th>FileId</th>\n",
       "      <th>FixedOutput</th>\n",
       "    </tr>\n",
       "  </thead>\n",
       "  <tbody>\n",
       "    <tr>\n",
       "      <th>0</th>\n",
       "      <td>wikinews228460</td>\n",
       "      <td>w wywiadzie dla \" polski \" jarosław kaczyński ...</td>\n",
       "    </tr>\n",
       "    <tr>\n",
       "      <th>1</th>\n",
       "      <td>wikinews183471</td>\n",
       "      <td>dowody prokuratury przedstawiające, że janusz ...</td>\n",
       "    </tr>\n",
       "    <tr>\n",
       "      <th>2</th>\n",
       "      <td>wikinews188040</td>\n",
       "      <td>w czasie długiego weekendu, 1- 3 maja 2009 w j...</td>\n",
       "    </tr>\n",
       "    <tr>\n",
       "      <th>3</th>\n",
       "      <td>wikinews178804</td>\n",
       "      <td>drugie zwycięstwo w tegorocznym giro d'italia ...</td>\n",
       "    </tr>\n",
       "    <tr>\n",
       "      <th>4</th>\n",
       "      <td>wikinews231649</td>\n",
       "      <td>takiego mrozu nie było w polsce od dawna. słup...</td>\n",
       "    </tr>\n",
       "    <tr>\n",
       "      <th>...</th>\n",
       "      <td>...</td>\n",
       "      <td>...</td>\n",
       "    </tr>\n",
       "    <tr>\n",
       "      <th>795</th>\n",
       "      <td>wikinews188569</td>\n",
       "      <td>piotr małachowski zdobył srebrny medal w rzuci...</td>\n",
       "    </tr>\n",
       "    <tr>\n",
       "      <th>796</th>\n",
       "      <td>wikitalks002129</td>\n",
       "      <td>moim zdanie warto jest udoskonalic ten artykol...</td>\n",
       "    </tr>\n",
       "    <tr>\n",
       "      <th>797</th>\n",
       "      <td>wikinews183189</td>\n",
       "      <td>we wsi kuleje niedaleko częstochowy piętnastol...</td>\n",
       "    </tr>\n",
       "    <tr>\n",
       "      <th>798</th>\n",
       "      <td>wikinews235762</td>\n",
       "      <td>msz wezwało ambasadora rosji siergieja andriej...</td>\n",
       "    </tr>\n",
       "    <tr>\n",
       "      <th>799</th>\n",
       "      <td>wikinews195323</td>\n",
       "      <td>29 lutego na wydziale matematyki i informatyki...</td>\n",
       "    </tr>\n",
       "  </tbody>\n",
       "</table>\n",
       "<p>793 rows × 2 columns</p>\n",
       "</div>"
      ],
      "text/plain": [
       "              FileId                                        FixedOutput\n",
       "0     wikinews228460  w wywiadzie dla \" polski \" jarosław kaczyński ...\n",
       "1     wikinews183471  dowody prokuratury przedstawiające, że janusz ...\n",
       "2     wikinews188040  w czasie długiego weekendu, 1- 3 maja 2009 w j...\n",
       "3     wikinews178804  drugie zwycięstwo w tegorocznym giro d'italia ...\n",
       "4     wikinews231649  takiego mrozu nie było w polsce od dawna. słup...\n",
       "..               ...                                                ...\n",
       "795   wikinews188569  piotr małachowski zdobył srebrny medal w rzuci...\n",
       "796  wikitalks002129  moim zdanie warto jest udoskonalic ten artykol...\n",
       "797   wikinews183189  we wsi kuleje niedaleko częstochowy piętnastol...\n",
       "798   wikinews235762  msz wezwało ambasadora rosji siergieja andriej...\n",
       "799   wikinews195323  29 lutego na wydziale matematyki i informatyki...\n",
       "\n",
       "[793 rows x 2 columns]"
      ]
     },
     "execution_count": 8,
     "metadata": {},
     "output_type": "execute_result"
    }
   ],
   "source": [
    "data_train_exp"
   ]
  },
  {
   "cell_type": "markdown",
   "metadata": {},
   "source": [
    "## <span style='font-family:Georgia'> Separate special characters from words"
   ]
  },
  {
   "cell_type": "code",
   "execution_count": 9,
   "metadata": {
    "ExecuteTime": {
     "end_time": "2022-05-13T12:10:37.663296Z",
     "start_time": "2022-05-13T12:10:37.180130Z"
    }
   },
   "outputs": [],
   "source": [
    "data_train_in = separate_special_chars(data_train_in) \n",
    "data_train_exp = separate_special_chars(data_train_exp) \n",
    "data_test_in = separate_special_chars(data_test_in)\n",
    "data_test_exp = separate_special_chars(data_test_exp)"
   ]
  },
  {
   "cell_type": "code",
   "execution_count": 10,
   "metadata": {
    "ExecuteTime": {
     "end_time": "2022-05-13T12:10:38.011623Z",
     "start_time": "2022-05-13T12:10:37.665255Z"
    }
   },
   "outputs": [],
   "source": [
    "data_train_exp[\"FixedOutput\"] = data_train_exp[\"FixedOutput\"].apply(\n",
    "    rm_consecutive_spaces\n",
    ")\n",
    "data_test_exp[\"FixedOutput\"] = data_test_exp[\"FixedOutput\"].apply(\n",
    "    rm_consecutive_spaces\n",
    ")\n",
    "data_train_in[\"ASROutput\"] = data_train_in[\"ASROutput\"].apply(\n",
    "    rm_consecutive_spaces\n",
    ")\n",
    "data_test_in[\"ASROutput\"] = data_test_in[\"ASROutput\"].apply(\n",
    "    rm_consecutive_spaces\n",
    ")"
   ]
  },
  {
   "cell_type": "markdown",
   "metadata": {},
   "source": [
    "## <span style='font-family:Georgia'> Check for records with non-character symbols excluded from target classes set"
   ]
  },
  {
   "cell_type": "code",
   "execution_count": 11,
   "metadata": {
    "ExecuteTime": {
     "end_time": "2022-05-13T12:10:38.020067Z",
     "start_time": "2022-05-13T12:10:38.013618Z"
    }
   },
   "outputs": [],
   "source": [
    "target_classes=['.', ',', '?', '!', '-', ':', '...']\n",
    "numbers = ['1', '2', '3', '4', '5', '6', '7', '8', '9', '0']"
   ]
  },
  {
   "cell_type": "code",
   "execution_count": 12,
   "metadata": {
    "ExecuteTime": {
     "end_time": "2022-05-13T12:10:38.321385Z",
     "start_time": "2022-05-13T12:10:38.023058Z"
    }
   },
   "outputs": [
    {
     "name": "stdout",
     "output_type": "stream",
     "text": [
      "List of symbols to be dropped: ['β', '(', 'з', 'の', '三', '²', '八', 'ž', 'ã', '·', 'カ', 'э', 'ι', 'ú', 'é', 'л', 'ū', '³', 'け', '尾', '蝓', 'ű', 'ό', '五', 'ю', 'α', 'ê', 'р', 'к', 'ç', \"'\", 'š', 'í', '%', 'ニ', 'у', 'я', 'г', 'е', 'о', ')', 'й', 'т', ';', 'ν', '€', 'ß', 'и', 'ρ', 'á', 'а', 'в', 'ω', 'φ', 'п', 'ο', 'ä', 'б', 'м', '亀', 'ル', 'х', 'д', 'à', 'ε', 'δ', ' ', 'č', ']', 'ü', 'è', 'ς', 'ő', 'н', '[', 'ř', 'ж', 'ô', 'イ', 'ö', 'ø', '\"', 'с', '大', '馬', '蛞', '+', '化', '六']\n"
     ]
    }
   ],
   "source": [
    "non_characters = np.unique(\n",
    "    data_train_exp[\"FixedOutput\"].apply(lambda x: find_nonalpha(x))\n",
    ")\n",
    "symbols_to_drop = list(\n",
    "    set(flatten(non_characters)) - set(target_classes) - set(numbers)\n",
    ")\n",
    "print(f\"List of symbols to be dropped: {str(symbols_to_drop)}\")"
   ]
  },
  {
   "cell_type": "code",
   "execution_count": 13,
   "metadata": {
    "ExecuteTime": {
     "end_time": "2022-05-13T12:10:38.459071Z",
     "start_time": "2022-05-13T12:10:38.324408Z"
    }
   },
   "outputs": [],
   "source": [
    "symbols_to_replace = [\"'\", '\"', \";\", \"%\", \"(\", \")\", \"[\", \"]\", \"²\", \"€\", \"³\", \"·\"]\n",
    "\n",
    "for symb in symbols_to_replace:\n",
    "    data_train_exp[\"FixedOutput\"] = data_train_exp[\"FixedOutput\"].apply(\n",
    "        lambda x: x.replace(symb, \"\")\n",
    "    )\n",
    "    data_train_in[\"ASROutput\"] = data_train_in[\"ASROutput\"].apply(\n",
    "        lambda x: x.replace(symb, \"\")\n",
    "    )\n",
    "\n",
    "data_train_exp[\"FixedOutput\"] = data_train_exp[\"FixedOutput\"].apply(\n",
    "    rm_consecutive_spaces\n",
    ")\n",
    "data_train_in[\"ASROutput\"] = data_train_in[\"ASROutput\"].apply(rm_consecutive_spaces)"
   ]
  },
  {
   "cell_type": "code",
   "execution_count": 14,
   "metadata": {
    "ExecuteTime": {
     "end_time": "2022-05-13T12:10:38.473449Z",
     "start_time": "2022-05-13T12:10:38.461304Z"
    }
   },
   "outputs": [],
   "source": [
    "with open(\n",
    "    \"../../data/outputs/eda/train/symbols_to_replace.txt\", \"w\", encoding=\"utf-8\"\n",
    ") as outfile:\n",
    "    outfile.write(\"\\n\".join(symbols_to_replace))"
   ]
  },
  {
   "cell_type": "code",
   "execution_count": 15,
   "metadata": {
    "ExecuteTime": {
     "end_time": "2022-05-13T12:10:38.489989Z",
     "start_time": "2022-05-13T12:10:38.475915Z"
    }
   },
   "outputs": [
    {
     "data": {
      "text/plain": [
       "\"['β', 'の', 'з', '三', '八', 'ž', 'ã', 'カ', 'э', 'ι', 'ú', 'é', 'л', 'ū', 'け', '尾', '蝓', 'ű', 'ό', '五', 'ю', 'α', 'ê', 'р', 'к', 'ç', 'š', 'í', 'ニ', 'у', 'я', 'г', 'е', 'о', 'т', 'й', 'ν', 'ß', 'и', 'ρ', 'á', 'а', 'в', 'ω', 'φ', 'п', 'ο', 'ä', 'б', 'м', '亀', 'ル', 'х', 'д', 'à', 'ε', 'δ', 'č', 'ü', 'è', 'ς', 'ő', 'н', 'ř', 'ж', 'ô', 'イ', 'ö', 'ø', 'с', '大', '馬', '蛞', '+', '化', '六']\""
      ]
     },
     "execution_count": 15,
     "metadata": {},
     "output_type": "execute_result"
    }
   ],
   "source": [
    "symbols_to_drop = list(set(symbols_to_drop) - set(symbols_to_replace) - set(\" \"))\n",
    "str(symbols_to_drop)  # list of weird letters"
   ]
  },
  {
   "cell_type": "code",
   "execution_count": 16,
   "metadata": {
    "ExecuteTime": {
     "end_time": "2022-05-13T12:10:38.505552Z",
     "start_time": "2022-05-13T12:10:38.492919Z"
    }
   },
   "outputs": [],
   "source": [
    "with open(\n",
    "    \"../../data/outputs/eda/train/non_polish_letters.txt\", \"w\", encoding=\"utf-8\"\n",
    ") as outfile:\n",
    "    outfile.write(\"\\n\".join(symbols_to_drop))"
   ]
  },
  {
   "cell_type": "code",
   "execution_count": 17,
   "metadata": {
    "ExecuteTime": {
     "end_time": "2022-05-13T12:10:38.552525Z",
     "start_time": "2022-05-13T12:10:38.508625Z"
    }
   },
   "outputs": [
    {
     "data": {
      "text/html": [
       "<div>\n",
       "<style scoped>\n",
       "    .dataframe tbody tr th:only-of-type {\n",
       "        vertical-align: middle;\n",
       "    }\n",
       "\n",
       "    .dataframe tbody tr th {\n",
       "        vertical-align: top;\n",
       "    }\n",
       "\n",
       "    .dataframe thead th {\n",
       "        text-align: right;\n",
       "    }\n",
       "</style>\n",
       "<table border=\"1\" class=\"dataframe\">\n",
       "  <thead>\n",
       "    <tr style=\"text-align: right;\">\n",
       "      <th></th>\n",
       "      <th>FileId</th>\n",
       "      <th>FixedOutput</th>\n",
       "    </tr>\n",
       "  </thead>\n",
       "  <tbody>\n",
       "    <tr>\n",
       "      <th>11</th>\n",
       "      <td>wikinews229879</td>\n",
       "      <td>10 stycznia 2008 r . maria kaczyńska uczestnic...</td>\n",
       "    </tr>\n",
       "    <tr>\n",
       "      <th>16</th>\n",
       "      <td>wikinews226894</td>\n",
       "      <td>w dniach 31 maja - 2 czerwca 2013 na terenie k...</td>\n",
       "    </tr>\n",
       "    <tr>\n",
       "      <th>19</th>\n",
       "      <td>wikinews227330</td>\n",
       "      <td>adam małysz zajął 54 miejsce podczas niedzieln...</td>\n",
       "    </tr>\n",
       "    <tr>\n",
       "      <th>34</th>\n",
       "      <td>wikitalks0013853</td>\n",
       "      <td>co to znaczy promieniowanie zlozone ? o ile wi...</td>\n",
       "    </tr>\n",
       "    <tr>\n",
       "      <th>43</th>\n",
       "      <td>wikinews190507</td>\n",
       "      <td>w łodzi może powstać miejski program bezpiecze...</td>\n",
       "    </tr>\n",
       "  </tbody>\n",
       "</table>\n",
       "</div>"
      ],
      "text/plain": [
       "              FileId                                        FixedOutput\n",
       "11    wikinews229879  10 stycznia 2008 r . maria kaczyńska uczestnic...\n",
       "16    wikinews226894  w dniach 31 maja - 2 czerwca 2013 na terenie k...\n",
       "19    wikinews227330  adam małysz zajął 54 miejsce podczas niedzieln...\n",
       "34  wikitalks0013853  co to znaczy promieniowanie zlozone ? o ile wi...\n",
       "43    wikinews190507  w łodzi może powstać miejski program bezpiecze..."
      ]
     },
     "execution_count": 17,
     "metadata": {},
     "output_type": "execute_result"
    }
   ],
   "source": [
    "noise = \"|\".join(r\"{}\".format(x) for x in symbols_to_drop)  # noise to drop\n",
    "noise = noise.replace('+', '\\+')\n",
    "# data with noise (train)\n",
    "data_train_exp_noise = data_train_exp[data_train_exp[\"FixedOutput\"].str.contains(noise)]\n",
    "data_train_in_noise = data_train_in[data_train_in[\"ASROutput\"].str.contains(noise)]\n",
    "# data_train_exp_noise.to_csv(\"../../data/outputs/eda/train/train_noise.csv\")\n",
    "\n",
    "data_train_exp_noise.head()"
   ]
  },
  {
   "cell_type": "code",
   "execution_count": 18,
   "metadata": {
    "ExecuteTime": {
     "end_time": "2022-05-13T12:10:38.769211Z",
     "start_time": "2022-05-13T12:10:38.554518Z"
    }
   },
   "outputs": [
    {
     "data": {
      "text/html": [
       "<div>\n",
       "<style scoped>\n",
       "    .dataframe tbody tr th:only-of-type {\n",
       "        vertical-align: middle;\n",
       "    }\n",
       "\n",
       "    .dataframe tbody tr th {\n",
       "        vertical-align: top;\n",
       "    }\n",
       "\n",
       "    .dataframe thead th {\n",
       "        text-align: right;\n",
       "    }\n",
       "</style>\n",
       "<table border=\"1\" class=\"dataframe\">\n",
       "  <thead>\n",
       "    <tr style=\"text-align: right;\">\n",
       "      <th></th>\n",
       "      <th>fullstop</th>\n",
       "      <th>comma</th>\n",
       "      <th>question_mark</th>\n",
       "      <th>exclamation_mark</th>\n",
       "      <th>hyphen</th>\n",
       "      <th>colon</th>\n",
       "      <th>ellipsis</th>\n",
       "    </tr>\n",
       "    <tr>\n",
       "      <th>FileId</th>\n",
       "      <th></th>\n",
       "      <th></th>\n",
       "      <th></th>\n",
       "      <th></th>\n",
       "      <th></th>\n",
       "      <th></th>\n",
       "      <th></th>\n",
       "    </tr>\n",
       "  </thead>\n",
       "  <tbody>\n",
       "    <tr>\n",
       "      <th>wikinews229879</th>\n",
       "      <td>10.0</td>\n",
       "      <td>32.0</td>\n",
       "      <td>0.0</td>\n",
       "      <td>0.0</td>\n",
       "      <td>5.0</td>\n",
       "      <td>3.0</td>\n",
       "      <td>0.0</td>\n",
       "    </tr>\n",
       "    <tr>\n",
       "      <th>wikinews226894</th>\n",
       "      <td>11.0</td>\n",
       "      <td>17.0</td>\n",
       "      <td>0.0</td>\n",
       "      <td>0.0</td>\n",
       "      <td>10.0</td>\n",
       "      <td>1.0</td>\n",
       "      <td>0.0</td>\n",
       "    </tr>\n",
       "    <tr>\n",
       "      <th>wikinews227330</th>\n",
       "      <td>13.0</td>\n",
       "      <td>10.0</td>\n",
       "      <td>0.0</td>\n",
       "      <td>0.0</td>\n",
       "      <td>2.0</td>\n",
       "      <td>0.0</td>\n",
       "      <td>0.0</td>\n",
       "    </tr>\n",
       "    <tr>\n",
       "      <th>wikitalks0013853</th>\n",
       "      <td>7.0</td>\n",
       "      <td>9.0</td>\n",
       "      <td>3.0</td>\n",
       "      <td>0.0</td>\n",
       "      <td>4.0</td>\n",
       "      <td>1.0</td>\n",
       "      <td>0.0</td>\n",
       "    </tr>\n",
       "    <tr>\n",
       "      <th>wikinews190507</th>\n",
       "      <td>6.0</td>\n",
       "      <td>10.0</td>\n",
       "      <td>0.0</td>\n",
       "      <td>0.0</td>\n",
       "      <td>10.0</td>\n",
       "      <td>1.0</td>\n",
       "      <td>0.0</td>\n",
       "    </tr>\n",
       "    <tr>\n",
       "      <th>...</th>\n",
       "      <td>...</td>\n",
       "      <td>...</td>\n",
       "      <td>...</td>\n",
       "      <td>...</td>\n",
       "      <td>...</td>\n",
       "      <td>...</td>\n",
       "      <td>...</td>\n",
       "    </tr>\n",
       "    <tr>\n",
       "      <th>wikinews235478</th>\n",
       "      <td>8.0</td>\n",
       "      <td>19.0</td>\n",
       "      <td>0.0</td>\n",
       "      <td>0.0</td>\n",
       "      <td>2.0</td>\n",
       "      <td>1.0</td>\n",
       "      <td>0.0</td>\n",
       "    </tr>\n",
       "    <tr>\n",
       "      <th>wikinews227295</th>\n",
       "      <td>13.0</td>\n",
       "      <td>9.0</td>\n",
       "      <td>0.0</td>\n",
       "      <td>0.0</td>\n",
       "      <td>6.0</td>\n",
       "      <td>5.0</td>\n",
       "      <td>0.0</td>\n",
       "    </tr>\n",
       "    <tr>\n",
       "      <th>wikitalks009701</th>\n",
       "      <td>17.0</td>\n",
       "      <td>21.0</td>\n",
       "      <td>5.0</td>\n",
       "      <td>0.0</td>\n",
       "      <td>4.0</td>\n",
       "      <td>1.0</td>\n",
       "      <td>0.0</td>\n",
       "    </tr>\n",
       "    <tr>\n",
       "      <th>wikinews230757</th>\n",
       "      <td>19.0</td>\n",
       "      <td>13.0</td>\n",
       "      <td>0.0</td>\n",
       "      <td>0.0</td>\n",
       "      <td>4.0</td>\n",
       "      <td>0.0</td>\n",
       "      <td>0.0</td>\n",
       "    </tr>\n",
       "    <tr>\n",
       "      <th>wikinews195323</th>\n",
       "      <td>11.0</td>\n",
       "      <td>10.0</td>\n",
       "      <td>0.0</td>\n",
       "      <td>0.0</td>\n",
       "      <td>0.0</td>\n",
       "      <td>1.0</td>\n",
       "      <td>0.0</td>\n",
       "    </tr>\n",
       "  </tbody>\n",
       "</table>\n",
       "<p>64 rows × 7 columns</p>\n",
       "</div>"
      ],
      "text/plain": [
       "                  fullstop  comma  question_mark  exclamation_mark  hyphen  \\\n",
       "FileId                                                                       \n",
       "wikinews229879        10.0   32.0            0.0               0.0     5.0   \n",
       "wikinews226894        11.0   17.0            0.0               0.0    10.0   \n",
       "wikinews227330        13.0   10.0            0.0               0.0     2.0   \n",
       "wikitalks0013853       7.0    9.0            3.0               0.0     4.0   \n",
       "wikinews190507         6.0   10.0            0.0               0.0    10.0   \n",
       "...                    ...    ...            ...               ...     ...   \n",
       "wikinews235478         8.0   19.0            0.0               0.0     2.0   \n",
       "wikinews227295        13.0    9.0            0.0               0.0     6.0   \n",
       "wikitalks009701       17.0   21.0            5.0               0.0     4.0   \n",
       "wikinews230757        19.0   13.0            0.0               0.0     4.0   \n",
       "wikinews195323        11.0   10.0            0.0               0.0     0.0   \n",
       "\n",
       "                  colon  ellipsis  \n",
       "FileId                             \n",
       "wikinews229879      3.0       0.0  \n",
       "wikinews226894      1.0       0.0  \n",
       "wikinews227330      0.0       0.0  \n",
       "wikitalks0013853    1.0       0.0  \n",
       "wikinews190507      1.0       0.0  \n",
       "...                 ...       ...  \n",
       "wikinews235478      1.0       0.0  \n",
       "wikinews227295      5.0       0.0  \n",
       "wikitalks009701     1.0       0.0  \n",
       "wikinews230757      0.0       0.0  \n",
       "wikinews195323      1.0       0.0  \n",
       "\n",
       "[64 rows x 7 columns]"
      ]
     },
     "execution_count": 18,
     "metadata": {},
     "output_type": "execute_result"
    }
   ],
   "source": [
    "count_punctuation(data_train_exp_noise.set_index('FileId'), 'FixedOutput')"
   ]
  },
  {
   "cell_type": "code",
   "execution_count": 19,
   "metadata": {
    "ExecuteTime": {
     "end_time": "2022-05-13T12:10:38.785187Z",
     "start_time": "2022-05-13T12:10:38.771209Z"
    }
   },
   "outputs": [
    {
     "data": {
      "text/plain": [
       "array(['wikinews178430', 'wikinews181681', 'wikinews182385',\n",
       "       'wikinews182796', 'wikinews182991', 'wikinews183040',\n",
       "       'wikinews184315', 'wikinews184895', 'wikinews185449',\n",
       "       'wikinews185969', 'wikinews186002', 'wikinews186130',\n",
       "       'wikinews186309', 'wikinews186989', 'wikinews187460',\n",
       "       'wikinews187846', 'wikinews189463', 'wikinews190354',\n",
       "       'wikinews190502', 'wikinews190507', 'wikinews195039',\n",
       "       'wikinews195323', 'wikinews195350', 'wikinews195546',\n",
       "       'wikinews196212', 'wikinews199814', 'wikinews208312',\n",
       "       'wikinews209076', 'wikinews220334', 'wikinews224132',\n",
       "       'wikinews226384', 'wikinews226894', 'wikinews227295',\n",
       "       'wikinews227330', 'wikinews229879', 'wikinews229995',\n",
       "       'wikinews230757', 'wikinews230782', 'wikinews231078',\n",
       "       'wikinews231671', 'wikinews234543', 'wikinews235478',\n",
       "       'wikinews239105', 'wikitalks0010570', 'wikitalks0012072',\n",
       "       'wikitalks0012266', 'wikitalks0012936', 'wikitalks0013026',\n",
       "       'wikitalks0013663', 'wikitalks0013853', 'wikitalks0014557',\n",
       "       'wikitalks0015658', 'wikitalks0016847', 'wikitalks001866',\n",
       "       'wikitalks003516', 'wikitalks004721', 'wikitalks004969',\n",
       "       'wikitalks006792', 'wikitalks006840', 'wikitalks006884',\n",
       "       'wikitalks007366', 'wikitalks009326', 'wikitalks009701',\n",
       "       'wikitalks009716'], dtype='<U16')"
      ]
     },
     "execution_count": 19,
     "metadata": {},
     "output_type": "execute_result"
    }
   ],
   "source": [
    "records_with_noise = np.unique(np.array(data_train_exp_noise['FileId'].tolist()))\n",
    "records_with_noise"
   ]
  },
  {
   "cell_type": "markdown",
   "metadata": {
    "ExecuteTime": {
     "end_time": "2022-04-15T08:55:53.249944Z",
     "start_time": "2022-04-15T08:55:53.231356Z"
    }
   },
   "source": [
    "## <span style='font-family:Georgia'> Non-character symbols statistics summary"
   ]
  },
  {
   "cell_type": "markdown",
   "metadata": {},
   "source": [
    "Count:\n",
    "* how many symbols_to_drop contain each record\n",
    "* how long is text in each record\n",
    "* percent of symbols_to_drop in whole string in each record\n"
   ]
  },
  {
   "cell_type": "code",
   "execution_count": 20,
   "metadata": {
    "ExecuteTime": {
     "end_time": "2022-05-13T12:10:39.006083Z",
     "start_time": "2022-05-13T12:10:38.787196Z"
    }
   },
   "outputs": [
    {
     "data": {
      "text/html": [
       "<div>\n",
       "<style scoped>\n",
       "    .dataframe tbody tr th:only-of-type {\n",
       "        vertical-align: middle;\n",
       "    }\n",
       "\n",
       "    .dataframe tbody tr th {\n",
       "        vertical-align: top;\n",
       "    }\n",
       "\n",
       "    .dataframe thead th {\n",
       "        text-align: right;\n",
       "    }\n",
       "</style>\n",
       "<table border=\"1\" class=\"dataframe\">\n",
       "  <thead>\n",
       "    <tr style=\"text-align: right;\">\n",
       "      <th></th>\n",
       "      <th>FixedOutput</th>\n",
       "      <th>length</th>\n",
       "      <th>count of symbols_to_drop</th>\n",
       "      <th>percent</th>\n",
       "    </tr>\n",
       "  </thead>\n",
       "  <tbody>\n",
       "    <tr>\n",
       "      <th>11</th>\n",
       "      <td>10 stycznia 2008 r . maria kaczyńska uczestnic...</td>\n",
       "      <td>2028</td>\n",
       "      <td>2</td>\n",
       "      <td>0.098619</td>\n",
       "    </tr>\n",
       "    <tr>\n",
       "      <th>16</th>\n",
       "      <td>w dniach 31 maja - 2 czerwca 2013 na terenie k...</td>\n",
       "      <td>1586</td>\n",
       "      <td>1</td>\n",
       "      <td>0.063052</td>\n",
       "    </tr>\n",
       "    <tr>\n",
       "      <th>19</th>\n",
       "      <td>adam małysz zajął 54 miejsce podczas niedzieln...</td>\n",
       "      <td>1195</td>\n",
       "      <td>1</td>\n",
       "      <td>0.083682</td>\n",
       "    </tr>\n",
       "    <tr>\n",
       "      <th>34</th>\n",
       "      <td>co to znaczy promieniowanie zlozone ? o ile wi...</td>\n",
       "      <td>1021</td>\n",
       "      <td>2</td>\n",
       "      <td>0.195886</td>\n",
       "    </tr>\n",
       "    <tr>\n",
       "      <th>43</th>\n",
       "      <td>w łodzi może powstać miejski program bezpiecze...</td>\n",
       "      <td>1552</td>\n",
       "      <td>3</td>\n",
       "      <td>0.193299</td>\n",
       "    </tr>\n",
       "  </tbody>\n",
       "</table>\n",
       "</div>"
      ],
      "text/plain": [
       "                                          FixedOutput  length  \\\n",
       "11  10 stycznia 2008 r . maria kaczyńska uczestnic...    2028   \n",
       "16  w dniach 31 maja - 2 czerwca 2013 na terenie k...    1586   \n",
       "19  adam małysz zajął 54 miejsce podczas niedzieln...    1195   \n",
       "34  co to znaczy promieniowanie zlozone ? o ile wi...    1021   \n",
       "43  w łodzi może powstać miejski program bezpiecze...    1552   \n",
       "\n",
       "    count of symbols_to_drop   percent  \n",
       "11                         2  0.098619  \n",
       "16                         1  0.063052  \n",
       "19                         1  0.083682  \n",
       "34                         2  0.195886  \n",
       "43                         3  0.193299  "
      ]
     },
     "execution_count": 20,
     "metadata": {},
     "output_type": "execute_result"
    }
   ],
   "source": [
    "# count number of symbols_to_drop in each record\n",
    "fixed_output= data_train_exp_noise.loc[:,\"FixedOutput\"]\n",
    "count=[0 for i in range(len(fixed_output))]\n",
    "number=0\n",
    "for string in fixed_output:\n",
    "    for letter in string:\n",
    "        if letter in symbols_to_drop:\n",
    "            count[number] +=1\n",
    "    number+=1 #iterate for indexes, as from series only strings, without indexes\n",
    "    \n",
    "# count length of fixed output\n",
    "length=[0 for i in range(len(fixed_output))]\n",
    "number=0\n",
    "for string in fixed_output:\n",
    "    length[number]=len(string)\n",
    "    number+=1\n",
    "    \n",
    "df_fixed_output=pd.DataFrame(fixed_output)\n",
    "df_fixed_output['length']=length\n",
    "df_fixed_output['count of symbols_to_drop']=count\n",
    "df_fixed_output['percent']=[i/j*100 for i,j in zip(count, length)]\n",
    "\n",
    "df_fixed_output.head()"
   ]
  },
  {
   "cell_type": "code",
   "execution_count": 21,
   "metadata": {
    "ExecuteTime": {
     "end_time": "2022-05-13T12:10:39.082189Z",
     "start_time": "2022-05-13T12:10:39.009292Z"
    }
   },
   "outputs": [
    {
     "name": "stdout",
     "output_type": "stream",
     "text": [
      "ogoniasty ? czy to jest poprawne ? czy ktoś może wie jak to brzmi w mandze ? konrad mów ! w mandze pisze bijuu , co oznacza demony z ogonami , czyli w sensowniejszym przetłumaczeniu ogoniaste demony . jeżeli potrafi ktoś przetłumaczyć to inaczej to bym poprosił . jest to w pewnym sensie niedokładne przetłumaczenie , ale innego polacy nie znajdą . po pierwsze - znak oznacza bestię , a nie demona . po drugie - słowo ogoniaste przypomina mi słowotwórczość swoistą dla małych dzieci . nie wiem czy taka forma jest poprawna w języku polskim . vigilium hachibi hej , od kiedy to hachibi jest złapany ? zresztą nie tylko hachibi . niedawno pisało tu , że jest prawdopodobnie wolny , a o ile wiem jak na razie nigdzie nie pisało że ktoś go złapał . choć mogę się mylić . nawet nie pisze prawdopodobnie że jest złapany , tylko że na pewno . jego status jest taki sam jak kyuubiego więc nie można napisać , że jest celem sasuke bo przy kyuubim nie ma napisanego , że jest celem paina nazwy bestii pięć z podanych nazw bestii jest niepoprawna . poniżej podaję nazwy poprawne w kolejności : zapis japoński rmaji przetłumaczona nazwa również mam wątpliwości co do słowa ogoniasty , więc użyję formy nazwa bestii o x ogonach : 1 ニ尾の化け nibi no bakeneko koci potwór o dwóch ogonach 2 三尾の大亀 sanbi no kyodaigame olbrzymi żółw o trzech ogonach 3 五尾のイルカ馬 gobi no irukauma delfini koń o pięciu ogonach 4 六尾の蛞蝓 rokubi no namekuji ślimak o sześciu ogonach 5 八尾の hachibi no kyogyū olbrzymi wół o ośmiu ogonach moim źródłem wiedzy jest oczywiście manga - co do tej formy również nie jestem pewny , ale niech już zostanie .\n",
      "\n",
      "\n",
      "biogram zapomnianego kandydata do dumy rosyjskiej . zastanawiam się czego jeszcze brakuje . czerwony64 linki do ujednoznacznienia i przekierowania . the orbwiki107 zmobilizowany ? w czasie i wojny światowej jagiełło został zmobilizowany i wziął udział w walkach jako żołnierz armii carskiej . dostał się do niewoli austriackiej . w 1918 roku powrócił do polski , podejmując ponownie pracę w zakładach metalowych w warszawie . według rosyjskich źródeł государственная дума российской империи : 1906 - 1917 б . ю . иванов , а . а . комзолова , и . с . ряховская . москва . росспэн . 2008 c . 721 : w przededniu i wojny światowej wyjechał do austrii , gdzie został aresztowany po wybuchu wojen . później mieszkał w wiedniu . o ile wiemy , zastępcy dumy nie przybyli do armii w carskiej rosji . hunu różne cyfry w wyborach pełnomocników komitetów wyborczych w warszawie socjaliści zdobyli 42 miejsca , 20 zdobyło stronnictwo narodowo - demokratyczne koncentracja narodowa - 8 miejsc , zaś bezpartyjni - 18 . razem 88 ale w warszawie wyłoniono 80 przedstawicieli , w tym 3 elektorów w kurii robotniczej . która postać jest poprawna ? hunu jest to zrozumiałe . to były różne rundy głosowania . hunu\n",
      "\n",
      "\n",
      "1 mam problemy z wstawieniem grafiki , proszę o poprawienie . 2 dane techniczne są niejednoznaczne - szczególnie w przypadku mas , powierzchni nośnych , itp . różnią się w różnych wersjach wiki - może ktoś będzie w stanie zweryfikować te dane ? artykul , którego zalążek tu widzicie opracowalem na podst . wlasnego tlumaczenia z wersji niemieckiej - oczywiście wymaga rozbudowy . pozdrawiam x dzięki za grafikę . nemo5576 jednak przyznam , że tę potrafilbym sam wkleić . chodzilo mi o klopot ze wstawieniem tych : 1 изображение : su33 - 2 jpg - z ru . wiki 2 dalej w tekście : su33 - 11 . jpg - pokazującej su - 33 ze zlożonymi skrzydlami . 3 rozważalem także zastosowanie ew . może udaloby się wykorzystać przynajmniej któreś z tych zdjęć ? ps jeśli chodzi o ilustrację , to ru . wiki ma najbogatszy material , tylko dlaczego nie mogę go osadzić w artykule ? np . pisząc o su - 30 wykorzystalem zdjęcie z niem . wiki . sądzilem , że z rosyjską też nie będzie klopotu : a tu . zupa ! co należaloby zrobić , żeby osaadzić grafikę z ros . wiki ? pozdrawiam x\n",
      "\n",
      "\n"
     ]
    }
   ],
   "source": [
    "# print whole records, which have at least 1% of characters to drop\n",
    "to_print=df_fixed_output[df_fixed_output['percent']>1]\n",
    "for i in range(len(to_print)):\n",
    "    print(to_print.iloc[i,:].FixedOutput)\n",
    "    print('\\n')"
   ]
  },
  {
   "cell_type": "code",
   "execution_count": 22,
   "metadata": {
    "ExecuteTime": {
     "end_time": "2022-05-13T12:10:39.090695Z",
     "start_time": "2022-05-13T12:10:39.084182Z"
    }
   },
   "outputs": [],
   "source": [
    "# Words containing non-characters symbols preview"
   ]
  },
  {
   "cell_type": "code",
   "execution_count": 23,
   "metadata": {
    "ExecuteTime": {
     "end_time": "2022-05-13T12:10:39.273143Z",
     "start_time": "2022-05-13T12:10:39.095022Z"
    }
   },
   "outputs": [
    {
     "name": "stdout",
     "output_type": "stream",
     "text": [
      "['kadlčika kadlčik', 'motörhead', 'hautamäkim', 'β α', 'fédération française', '+', 'δ', 'bošnjaci', '+ +', 'räikkönena jérôme pérez', 'française rémy grégorio', 'ramírez domínguez', 'congrès', 'güntera', 'όνειρος ω', 'kölner kölner kőln kőln fűr schönberg', 'agustín', 'élysées', 'bermúdez', '+ trentemøller väth', '+ +', '+', 'josé rodríguez', '+ +', 'für', 'ニ尾の化け 三尾の大亀 五尾のイルカ馬 六尾の蛞蝓 八尾の kyogyū', '+ + + +', 'βy', 'φ φ φ φ', 'государственная дума российской империи б ю иванов а а комзолова и с ряховская москва росспэн', '+', 'förstera', 'katajamäki häkkinen räikkönen järvilehto järvilehto räikkönen häkkinen', 'ß ß ß', 'josé durão', '+ +', 'räikkönen räikkönenowi', 'hautamäki ljøkelsøy', 'geração à', 'jános kárászy', 'kovačević kovačević podraščanin miloš saša sánchez díaz tomás', '+', 'изображение', 'püolkim', '+ +', 'maestà maestà maestà maestà maestà', '+', 'székesfehérvár', 'klöden klöden', 'côte saône côte', '+', 'α α', 'újváry', 'irénée', 'angoulême léger angoulême', '+ +', 'görges', 'františek ružička', '+ + + + +', 'maría', 'klárze smitková witthöft maría kateřina siniaková schmiedlová', '+', '+', '+']\n"
     ]
    }
   ],
   "source": [
    "count_words=['' for i in range(len(fixed_output))]\n",
    "number=0\n",
    "for string in fixed_output:\n",
    "    words_in_string=string.split(' ')\n",
    "    for word in words_in_string:\n",
    "        count_letters=0\n",
    "        for letter in word:\n",
    "            if letter in symbols_to_drop:\n",
    "                count_letters+=1\n",
    "        if count_letters>0:\n",
    "            count_words[number]=count_words[number]+' '+word\n",
    "    number+=1\n",
    "    \n",
    "count_words = list(map(str.lstrip, count_words))\n",
    "print(count_words)"
   ]
  },
  {
   "cell_type": "code",
   "execution_count": 24,
   "metadata": {
    "ExecuteTime": {
     "end_time": "2022-05-13T12:10:39.288411Z",
     "start_time": "2022-05-13T12:10:39.275136Z"
    }
   },
   "outputs": [],
   "source": [
    "with open(\"../../data/outputs/eda/train/noisy_words.txt\", \"w\", encoding=\"utf-8\") as outfile:\n",
    "    outfile.write(\"\\n\".join(count_words))"
   ]
  },
  {
   "cell_type": "code",
   "execution_count": 25,
   "metadata": {
    "ExecuteTime": {
     "end_time": "2022-05-13T12:10:39.321757Z",
     "start_time": "2022-05-13T12:10:39.290409Z"
    },
    "scrolled": false
   },
   "outputs": [
    {
     "data": {
      "text/html": [
       "<div>\n",
       "<style scoped>\n",
       "    .dataframe tbody tr th:only-of-type {\n",
       "        vertical-align: middle;\n",
       "    }\n",
       "\n",
       "    .dataframe tbody tr th {\n",
       "        vertical-align: top;\n",
       "    }\n",
       "\n",
       "    .dataframe thead th {\n",
       "        text-align: right;\n",
       "    }\n",
       "</style>\n",
       "<table border=\"1\" class=\"dataframe\">\n",
       "  <thead>\n",
       "    <tr style=\"text-align: right;\">\n",
       "      <th></th>\n",
       "      <th>FixedOutput</th>\n",
       "      <th>length</th>\n",
       "      <th>count of symbols_to_drop</th>\n",
       "      <th>percent</th>\n",
       "      <th>words containing</th>\n",
       "    </tr>\n",
       "  </thead>\n",
       "  <tbody>\n",
       "    <tr>\n",
       "      <th>11</th>\n",
       "      <td>10 stycznia 2008 r . maria kaczyńska uczestniczyła w konferencji w belwederze w związku z kampanią medialną jestem przedstawicielem mniejszości narodowej - jestem polakiem , którą objęła honorowym patronatem . kampania została zorganizowana przez związek gmin wyznaniowych żydowskich w rp w ramach europejskiego roku równych szans . podczas konferencji maria kaczyńska zwróciła się do obecnych : witam państwa serdecznie na dzisiejszej konferencji prasowej , a szczególnie serdecznie witam pana piotra kadlčika , przewodniczącego związku gmin wyznaniowych żydowskich w rp - organizatora kampanii - pana macieja bohosiewicza , współprzewodniczącego komisji wspólnej rządu i mniejszości narodowych i etnicznych w polsce , panią mariolę abkowicz , przewodniczącą związku karaimów polskich , a także pomysłodawców kampanii panią malkę kafkę i pana jana geberta i szefa kampanii pana mikea urbaniaka . witam wszystkich przybyłych gości . wierzę , że kampania ta pomoże przełamać stereotyp , jakże niesłuszny , nieżyczliwego postrzegania niektórych mniejszości narodowych i etnicznych , dumnych ze swojej tożsamości , swojego pochodzenia , historii , kultury , religii i tradycji . przecież oni to my , obywatele i mieszkańcy rzeczypospolitej polskiej . w konferencji uczestniczyli m . in : piotr kadlčik , przewodniczący związku gmin wyznaniowych żydowskich w rp , maciej bohosiewicz , współprzewodniczący komisji wspólnej rządu i mniejszości narodowych i etnicznych , mariola abkowicz , przewodnicząca związku karaimów polskich , mike urbaniak , szef kampanii jestem przedstawicielem mniejszości narodowej - jestem polakiem , berenika anders , dyrektor departamentu ds . kobiet , rodziny i przeciwdziałania dyskryminacji w ministerstwie pracy i polityki społecznej , łukasz adam gabler z mpips , osoby , które użyczyły swojego wizerunku w kampanii : elżbieta maria tarkowska chatila , maria stepan , anna ciszewska , magdalena dercz i joanna talewicz - kwiatkowska inni przedstawiciele mniejszości narodowych i etnicznych w polsce .</td>\n",
       "      <td>2028</td>\n",
       "      <td>2</td>\n",
       "      <td>0.098619</td>\n",
       "      <td>kadlčika kadlčik</td>\n",
       "    </tr>\n",
       "    <tr>\n",
       "      <th>16</th>\n",
       "      <td>w dniach 31 maja - 2 czerwca 2013 na terenie kampusu sggw w warszawie odbędzie się 30 edycja festiwalu ursynalia . jest to jeden z największych festiwali studenckich w europie . organizatorem imprezy są samorząd studentów szkoły głównej gospodarstwa wiejskiego oraz od 2009 roku fundacja bonum i arena live production . znane są już główne gwiazdy festiwalu - są to zespoły motörhead oraz zz top , który przyjeżdża do polski po raz pierwszy od ponad 16 lat . na festiwalu wystąpią też him , bullet for my valentine , gentelman , steve aoki , pendulum , parkway drive , soilwork oraz luxtorpeda , hunter , jelonek i mesajah . w ramach przygotowań do festiwalu , w pierwszej połowie kwietnia odbędzie się konkurs ursynalia the tour , przeznaczony dla młodych zespołów rockowych . zgłoszenia można było nadsyłać do 28 marca - komisja konkursowa wybierze z nich 30 zespołów , które zagrają na 6 koncertach eliminacyjnych w różnych miastach polski . każdy z zespołów w czasie koncertu eliminacyjnego może zaprezentować dwa wybrane , autorskie utwory . nagrodą główną , którą otrzymają trzy najlepsze zespoły , jest występ przed headlinerem festiwalu - każdego dnia wystąpi inny zespół , przed inną gwiazdą . konkurs jest prowadzony we współpracy z radiem eska rock . koncerty eliminacyjne odbędą się w 6 miastach : 0804 - warszawa proxima 0904 - gdańsk parlamant 10 4 - łódź wytwórnia 14 4 - katowice megaclub 15 4 - wrocław alibi 16 4 - poznań eskulap na każdy z koncertów wystąpią jako gwiazdy wieczoru zespoły luxtorpeda i jeden z laureatów zeszłorocznej edycji konkursu , zespół chemia .</td>\n",
       "      <td>1586</td>\n",
       "      <td>1</td>\n",
       "      <td>0.063052</td>\n",
       "      <td>motörhead</td>\n",
       "    </tr>\n",
       "    <tr>\n",
       "      <th>19</th>\n",
       "      <td>adam małysz zajął 54 miejsce podczas niedzielnego konkursu pucharu świata na skoczni w oslo - holmenkollen polak oddał skok na odległość 89 m , uzyskując notę 54 , 7 punktu . słaby występ skoczka z wisły spowodowany był podmuchem wiatru , jaki otrzymał po wybiciu się z progu - czterokrotny mistrz świata ratował się potem tylko przed upadkiem . w konkursie odbyła się tylko jedna seria . po skoku małysza , który nieomal zakończył się tragicznie dla reprezentanta polski , sędziowie zdecydowali się go zakończyć . w zawodach skokiem na odległość 118 , 5 m i notą 121 , 8 pkt zwyciężył szwajcar simon ammann , przed austriakiem martinem kochem oraz finem mattim hautamäkim . najlepszym z polaków okazał się kamil stoch . zębianin zajął 19 miejsce . piotr żyła zajął 33 , a stefan hula 46 miejsce . pozycję lidera pucharu świata odzyskał norweg anders jacobsen . reprezentant gospodarzy był 7 i wyprzedził małysza w klasyfikacji generalnej o 14 pkt . konkurs w oslo był ostatnim w tegorocznym turnieju nordyckim . mimo dzisiejszego występu małysz zajął w nim 1 miejsce , wyprzedzając reprezentującego austrię andreasa koflera i simona ammana . film ze skokiem adama małysza można obejrzeć tutaj .</td>\n",
       "      <td>1195</td>\n",
       "      <td>1</td>\n",
       "      <td>0.083682</td>\n",
       "      <td>hautamäkim</td>\n",
       "    </tr>\n",
       "    <tr>\n",
       "      <th>34</th>\n",
       "      <td>co to znaczy promieniowanie zlozone ? o ile wiem istnieje natura prmoeniowania korpuskuarna albo falowa . to jest po prostu inny sposob rozpatrywania , podejscia do zagadnienia a nie jakies inne promienowanie . nie do konca prawda , bo na promieniowania skladaja sie równiez protony , cięzkie jądra i cząstki beta które niewątpliwie są korpuskułami , no oczywiscie mozna im przypisac falę de brogliea i traktowac jako falę to , że cząstkom można prypisać długość fali nie oznacza , że stają się one promieniowaniem e - m w tym wypadku promieniowanie kosmiczne nie składa się z fotonów , więc nim nie jest jak zwykle angielska wersja ciekawsza . moze ktos sie pokusi o analize ? ja rozumiem , ze polacy maja zapedy by ich wiki byla jedna z najpojemnijeszych , tylko czemu akurat kosztem jakosci hasel ? user : asabiel promieniowanie kosmiczne jest zdefiniowane w pierwszym zdaniu - to zarówno kwanty e - m jak i cząstki . takie rozumienie promieniowania nie jest niczym szczególnym - zob . promieniowanie β i α . u . mpfiz</td>\n",
       "      <td>1021</td>\n",
       "      <td>2</td>\n",
       "      <td>0.195886</td>\n",
       "      <td>β α</td>\n",
       "    </tr>\n",
       "    <tr>\n",
       "      <th>43</th>\n",
       "      <td>w łodzi może powstać miejski program bezpieczeństwa ruchu drogowego , projekt uchwały w sprawie jego opracowania złoży na pierwszej po wakacyjnej przerwie sesji rady miejskiej , jej przewodniczący - tomasz kacprzak . jeśli radni przyjmą projekt uchwały , prezydent miasta będzie zobowiązana do przygotowania w terminie do 30 listopada 2011 roku programu bezpieczeństwa ruchu drogowego na lata 2012 - 2014 jak przyznaje radny kacprzak program powinien zakładać stworzenie bezpiecznej infrastruktury drogowej a w efekcie przełożyć się na zwiększenie bezpieczeństwa na łódzkich ulicach oraz zmniejszenie liczby ofiar śmiertelnych i rannych rada miejska w łodzi , bezpieczniej na łódzkich drogach . tomasz kacprzak , który jest jednocześnie wicedyrektorem wojewódzkiego ośrodka ruchu drogowego i sekretarzem wojewódzkiej rady bezpieczeństwa ruchu drogowego , będzie gościem podczas debaty na temat zrównoważonego transportu w czasie letniska transportowo - rowerowego letnisko organizowane przez fundację fenomen , letnisko transportowo - rowerowe letnisko transportowo - rowerowe odbędzie się w dniach 14 - 17 lipca 2011 - wstęp wolny . debata z udziałem tomasza kacprzaka odbędzie się w czwartek , w godzinach 17 0 - 19 0 - przy ul . tylnej 9 11 w willi grohmana . prócz przewodniczącego rady miejskiej w łodzi , wezmą w niej udział wiceprezydent łodzi arkadiusz banaszek oraz przedstawiciel francuskiej federacji użytkowników bicykli francuska federacja użytkowników bicykli , fr : fédération française des usagers de la bicyclette - olivier schneider .</td>\n",
       "      <td>1552</td>\n",
       "      <td>3</td>\n",
       "      <td>0.193299</td>\n",
       "      <td>fédération française</td>\n",
       "    </tr>\n",
       "    <tr>\n",
       "      <th>...</th>\n",
       "      <td>...</td>\n",
       "      <td>...</td>\n",
       "      <td>...</td>\n",
       "      <td>...</td>\n",
       "      <td>...</td>\n",
       "    </tr>\n",
       "    <tr>\n",
       "      <th>770</th>\n",
       "      <td>zmarł były prezes realu madryt lorenzo sanz w wieku 76 lat zmarł lorenzo sanz , były działacz i prezydent realu madryt w latach 1995 - 2000 był zakażony koronawirusem , a jego stan od kilku dni określany był jako krytyczny real madryt c . f , prezes klubu i zarząd wszyscy pragną wyrazić najgłębszy żal po odejściu lorenza sanza , który był prezydentem klubu real madryt w latach 1995 - 2000 klub chce przekazać kondolencje swojej żonie mari luz , jego dzieciom , lorenzo , francisco , fernando , maría luz i dianie , a także jego rodzinie i przyjaciołom . nasze kondolencje dzielą wszyscy madridistas . podczas prezydentury lorenza sanza real madryt nadal wzbogacał swoją historię i status legendy . był prezesem klubu , kiedy po 32 latach klub wygrał długo wyczekiwany siódmy puchar europy w amsterdamie w 1998 roku . z lorenzo sanzem jako prezydentem realu madryt klub wygrał dwa puchary europy i puchar interkontynentalny , tytuł ligi , superpuchar hiszpanii , tytuł ligi koszykówki i puchar saporta . dziś całe madridismo jest w żałobie po śmierci człowieka , który ogromną część swojego życia poświęcił swojej wielkiej pasji : realowi madryt . biorąc pod uwagę obecną sytuację , real madryt udzieli mu hołdu , na jakie zasługuje , tak szybko , jak to możliwe .</td>\n",
       "      <td>1266</td>\n",
       "      <td>1</td>\n",
       "      <td>0.078989</td>\n",
       "      <td>maría</td>\n",
       "    </tr>\n",
       "    <tr>\n",
       "      <th>772</th>\n",
       "      <td>we wtorek 7 kwietnia nastąpi dokończenie zmagań pierwszej rundy singla podczas turnieju tenisowego katowice open 2015 jutro rozegrają swoje pierwsze mecze wszystkie polki występujące w rozgrywkach . w meczu deblowym zaprezentuje się najwyżej rozstawiona para . o godzinie 12 : 00 na kort ustawiony w katowickim spodku wyjdą anna - lena friedsam i kwalifikantka magda linette . tuż po nich mecz rozegrają rozstawiona z numerem siódmym kirsten flipkens oraz kolejna niemka , annika beck . planowo nie przed 16 : 00 na korcie powinny się znaleźć zawodniczka z dziką kartą urszula radwańska i szczęśliwa przegrana jelizawieta kuliczkowa . na zakończenie dnia , nie przed 18 : 00 , obiekt główny będzie gościł dwa polsko - belgijskie pojedynki , których zwyciężczynie spotkają się w drugiej rundzie . w pierwszym magdalena fręch podejmie an - sophie mestach , zaś gwiazda wieczoru , najwyżej rozstawiona agnieszka radwańska , spróbuje pokonać yaninę wickmayer . zmagania na kortach międzynarodowego centrum kongresowego także rozpoczną się o godzinie 12 : 00 na obiekt wyjdą wtedy deblistki : rozstawione z numerem pierwszym klaudia jans - ignacik wraz z kristiną mladenovic oraz brytyjki jocelyn rae i anna smith . po nich zagrają petra martić przeciwko klárze koukalovej . po zakończeniu spotkaniu grać będą tereza smitková i carina witthöft , zaś po nich maría - teresa torró - flor i kateřina siniaková . później kwalifikantka szachar peer będzie rywalizować z turniejową piątką kaią kanepi . w ostatnim meczu dnia numer ósmy zawodów anna schmiedlová będzie grać przeciwko innej kwalifikantce niginie abduraimovej . ostatni mecz singlowy pierwszej rundy między monicą niculescu a kristiną mladenovic zostanie rozegrany najprawdopodobniej w środę , podobnie jak pozostałe mecze gry podwójnej .</td>\n",
       "      <td>1791</td>\n",
       "      <td>7</td>\n",
       "      <td>0.390843</td>\n",
       "      <td>klárze smitková witthöft maría kateřina siniaková schmiedlová</td>\n",
       "    </tr>\n",
       "    <tr>\n",
       "      <th>774</th>\n",
       "      <td>uważam , że ktoś popełnił błąd w tym haśle . w ogóle czy jest coś takiego jak częstotliwość napięcia ? myślę , że chodzi tu o częstotliwość prądu , a nie napięcia . nie ma błędu . częstotliwość jest parametrem opisującym napięcie przemienne u u m cos displaystyle u u . stokczy to znaczy , że napięcie w gniazdku skacze od 0v do 230v 50 razy na sekundę ? nie całkiem , napięcie zmienia się od około - 234 do około + 234 v , 50 razy na sekundę , a 230 v jest jego napięciem skuteczym . stok 19 : 04 , 4 paź 2006 o właśnie , spotkałem się z określeniem napięcia ujemnego , ale do tej pory nie wiem co to znaczy . czy chodzi o to , że prąd płynie wtedy w obwodzie w przeciwnym kierunku ? tak , tak to właśnie działa , ale wartość napięcia zmienia się od 325 v do - 325 v , i taka zmienność skutkuje wartością skuteczną na poziomie 230 v . baju , baju , w raju energia , a więc też energia elektryczna ma kwantową naturę . wymieniane tu pojęcia pochodzą z 19 . wieku i dlatego nijak się mają do kwantowej natury energii elektrycznej . tu należy szukać przyczyn porażki energetyki 20 . wieku i rozpadu systemów energetycznych . proszę zwrócić uwagę , że istotna przyczyna blackout ów , czyli moc bierna , jest dotychczas zupełnie niezrozumiałym zjawiskiem . ale w ujęciu kwantowo - mechanicznym ten problem można prosto wyjaśnić . mam prośbę o wyjaśnienie i podpisanie się . nie wypada , aby epokowe odkrycia pozostawały anonimowe u . mpfiz częstotliwość napięcia - wielkość opisująca częstotliwość przebiegu podstawowego napięcia przemiennego . co to jest podstawowe napięcie przemienne ? artykuł nie powinien być zatytułowany częstotliwość napięcia sieciowego ?</td>\n",
       "      <td>1658</td>\n",
       "      <td>1</td>\n",
       "      <td>0.060314</td>\n",
       "      <td>+</td>\n",
       "    </tr>\n",
       "    <tr>\n",
       "      <th>783</th>\n",
       "      <td>cyfrowy polsat największa platforma cyfrowa w polsce pod względem liczby abonentów zaoferuje inwestorom akcje za około 1 mld zł do 1 , 5 mld zł , co uczyni ją jedną z największych w historii warszawskiej giełdy papierów wartościowych . cyfrowy polsat jest liderem wśród operatorów płatnej telewizji satelitarnej . w swojej ofercie ma 65 kanałów polskojęzycznych oraz ponad 500 obcojęzycznych . oferującym akcje spółki jest unicredit caib oraz ubs , a także dm penetrator . akcje cyfrowego polsatu zostaną zaoferowane inwestorom w europie oraz w usa . oferta obejmować będzie tylko istniejące akcje . w skład globalnej oferty spółki wejdzie do 75 mln istniejących akcji serii e . publikacja prospektu emisyjnego odbyła się 10 kwietnia . spółka zadebiutuje na gpw w dniu 6 maja . w 2007 r . firma miała 796 , 7 mln zł przychodów i 113 , 4 mln zł zysku netto . obecnie największym akcjonariuszem cyfrowego polsatu jest spółka polaris finance , do którego należy 93 , 18 akcji . natomiast 85 akcji polaris kontroluje zygmunt solorz - żak a 15 - heronim ruta . ponadto solorz - żak posiada bezpośrednio 3 , 95 akcji cyfrowego polsatu . pozostałe akcje należą do osób fizycznych , w tym kadry menedżerskiej . polsat cyfrowy jest największą polską platformą telewizji cyfrowej , z 2 , 15 mln abonentów według danych na koniec lutego br , co oznacza wzrost o prawie 70 wobec końca 2006 roku . cyfra + ma ok . 1 mln abonentów , a platforma n - ok . 300 tys .</td>\n",
       "      <td>1449</td>\n",
       "      <td>1</td>\n",
       "      <td>0.069013</td>\n",
       "      <td>+</td>\n",
       "    </tr>\n",
       "    <tr>\n",
       "      <th>799</th>\n",
       "      <td>29 lutego na wydziale matematyki i informatyki uniwersytetu mikołaja kopernika w toruniu zostanie zaprezentowany wykład pt . www wikipedia od środka , czyli wytrzymałość + weryfikowalna wiedza , który wygłosi dr inż . janusz dorożyński , w wikipedii znany jako ency . centrum promocji i informacji umk poinformowało o celu tego przedsięwzięcia : jednym z głównych powodów zorganizowania prezentacji jest ograniczona , w porównaniu z częścią angielską , jakość artykułów informatycznych w polskiej części wikipedii . obecnie polskie towarzystwo informatyczne chce się włączyć w naprawianie tego stanu rzeczy i jednocześnie zachęcić inne , podobne towarzystwa czy stowarzyszenia do zaangażowania się w dbałość o jakość materiałów w wikipedii dotyczących nauk ścisłych . w listopadzie ubiegłego roku taką inicjatywę podjęło także polskie towarzystwo astronomiczne , a efekty można zaobserwować w działaniu głównej inicjatorki , prof . bożeny czerny . janusz dorożyński jest członkiem pti . przedstawi on zarówno kwestie związane ze społecznością , administrowaniem , jak również przedstawi porównanie polskiej wersji językowej wikipedii z innymi wikipediami . wykład odbędzie się o godzinie 31 w auli wydziału matematyki i informatyki przy ul . chopina 30 wstęp wolny .</td>\n",
       "      <td>1266</td>\n",
       "      <td>1</td>\n",
       "      <td>0.078989</td>\n",
       "      <td>+</td>\n",
       "    </tr>\n",
       "  </tbody>\n",
       "</table>\n",
       "<p>64 rows × 5 columns</p>\n",
       "</div>"
      ],
      "text/plain": [
       "                                                                                                                                                                                                                                                                                                                                                                                                                                                                                                                                                                                                                                                                                                                                                                                                                                                                                                                                                                                                                                                                                                                                                                                                                                                                                                                                                                                                                                                                                                                                                                                                                                                                                                                                                                                                                                                                                                                                                                                                                                                                                                      FixedOutput  \\\n",
       "11   10 stycznia 2008 r . maria kaczyńska uczestniczyła w konferencji w belwederze w związku z kampanią medialną jestem przedstawicielem mniejszości narodowej - jestem polakiem , którą objęła honorowym patronatem . kampania została zorganizowana przez związek gmin wyznaniowych żydowskich w rp w ramach europejskiego roku równych szans . podczas konferencji maria kaczyńska zwróciła się do obecnych : witam państwa serdecznie na dzisiejszej konferencji prasowej , a szczególnie serdecznie witam pana piotra kadlčika , przewodniczącego związku gmin wyznaniowych żydowskich w rp - organizatora kampanii - pana macieja bohosiewicza , współprzewodniczącego komisji wspólnej rządu i mniejszości narodowych i etnicznych w polsce , panią mariolę abkowicz , przewodniczącą związku karaimów polskich , a także pomysłodawców kampanii panią malkę kafkę i pana jana geberta i szefa kampanii pana mikea urbaniaka . witam wszystkich przybyłych gości . wierzę , że kampania ta pomoże przełamać stereotyp , jakże niesłuszny , nieżyczliwego postrzegania niektórych mniejszości narodowych i etnicznych , dumnych ze swojej tożsamości , swojego pochodzenia , historii , kultury , religii i tradycji . przecież oni to my , obywatele i mieszkańcy rzeczypospolitej polskiej . w konferencji uczestniczyli m . in : piotr kadlčik , przewodniczący związku gmin wyznaniowych żydowskich w rp , maciej bohosiewicz , współprzewodniczący komisji wspólnej rządu i mniejszości narodowych i etnicznych , mariola abkowicz , przewodnicząca związku karaimów polskich , mike urbaniak , szef kampanii jestem przedstawicielem mniejszości narodowej - jestem polakiem , berenika anders , dyrektor departamentu ds . kobiet , rodziny i przeciwdziałania dyskryminacji w ministerstwie pracy i polityki społecznej , łukasz adam gabler z mpips , osoby , które użyczyły swojego wizerunku w kampanii : elżbieta maria tarkowska chatila , maria stepan , anna ciszewska , magdalena dercz i joanna talewicz - kwiatkowska inni przedstawiciele mniejszości narodowych i etnicznych w polsce .   \n",
       "16                                                                                                                                                                                                                                                                                                                                                                                                                                                             w dniach 31 maja - 2 czerwca 2013 na terenie kampusu sggw w warszawie odbędzie się 30 edycja festiwalu ursynalia . jest to jeden z największych festiwali studenckich w europie . organizatorem imprezy są samorząd studentów szkoły głównej gospodarstwa wiejskiego oraz od 2009 roku fundacja bonum i arena live production . znane są już główne gwiazdy festiwalu - są to zespoły motörhead oraz zz top , który przyjeżdża do polski po raz pierwszy od ponad 16 lat . na festiwalu wystąpią też him , bullet for my valentine , gentelman , steve aoki , pendulum , parkway drive , soilwork oraz luxtorpeda , hunter , jelonek i mesajah . w ramach przygotowań do festiwalu , w pierwszej połowie kwietnia odbędzie się konkurs ursynalia the tour , przeznaczony dla młodych zespołów rockowych . zgłoszenia można było nadsyłać do 28 marca - komisja konkursowa wybierze z nich 30 zespołów , które zagrają na 6 koncertach eliminacyjnych w różnych miastach polski . każdy z zespołów w czasie koncertu eliminacyjnego może zaprezentować dwa wybrane , autorskie utwory . nagrodą główną , którą otrzymają trzy najlepsze zespoły , jest występ przed headlinerem festiwalu - każdego dnia wystąpi inny zespół , przed inną gwiazdą . konkurs jest prowadzony we współpracy z radiem eska rock . koncerty eliminacyjne odbędą się w 6 miastach : 0804 - warszawa proxima 0904 - gdańsk parlamant 10 4 - łódź wytwórnia 14 4 - katowice megaclub 15 4 - wrocław alibi 16 4 - poznań eskulap na każdy z koncertów wystąpią jako gwiazdy wieczoru zespoły luxtorpeda i jeden z laureatów zeszłorocznej edycji konkursu , zespół chemia .   \n",
       "19                                                                                                                                                                                                                                                                                                                                                                                                                                                                                                                                                                                                                                                                                                                                                                                                                                                                    adam małysz zajął 54 miejsce podczas niedzielnego konkursu pucharu świata na skoczni w oslo - holmenkollen polak oddał skok na odległość 89 m , uzyskując notę 54 , 7 punktu . słaby występ skoczka z wisły spowodowany był podmuchem wiatru , jaki otrzymał po wybiciu się z progu - czterokrotny mistrz świata ratował się potem tylko przed upadkiem . w konkursie odbyła się tylko jedna seria . po skoku małysza , który nieomal zakończył się tragicznie dla reprezentanta polski , sędziowie zdecydowali się go zakończyć . w zawodach skokiem na odległość 118 , 5 m i notą 121 , 8 pkt zwyciężył szwajcar simon ammann , przed austriakiem martinem kochem oraz finem mattim hautamäkim . najlepszym z polaków okazał się kamil stoch . zębianin zajął 19 miejsce . piotr żyła zajął 33 , a stefan hula 46 miejsce . pozycję lidera pucharu świata odzyskał norweg anders jacobsen . reprezentant gospodarzy był 7 i wyprzedził małysza w klasyfikacji generalnej o 14 pkt . konkurs w oslo był ostatnim w tegorocznym turnieju nordyckim . mimo dzisiejszego występu małysz zajął w nim 1 miejsce , wyprzedzając reprezentującego austrię andreasa koflera i simona ammana . film ze skokiem adama małysza można obejrzeć tutaj .   \n",
       "34                                                                                                                                                                                                                                                                                                                                                                                                                                                                                                                                                                                                                                                                                                                                                                                                                                                                                                                                                                                                                                                  co to znaczy promieniowanie zlozone ? o ile wiem istnieje natura prmoeniowania korpuskuarna albo falowa . to jest po prostu inny sposob rozpatrywania , podejscia do zagadnienia a nie jakies inne promienowanie . nie do konca prawda , bo na promieniowania skladaja sie równiez protony , cięzkie jądra i cząstki beta które niewątpliwie są korpuskułami , no oczywiscie mozna im przypisac falę de brogliea i traktowac jako falę to , że cząstkom można prypisać długość fali nie oznacza , że stają się one promieniowaniem e - m w tym wypadku promieniowanie kosmiczne nie składa się z fotonów , więc nim nie jest jak zwykle angielska wersja ciekawsza . moze ktos sie pokusi o analize ? ja rozumiem , ze polacy maja zapedy by ich wiki byla jedna z najpojemnijeszych , tylko czemu akurat kosztem jakosci hasel ? user : asabiel promieniowanie kosmiczne jest zdefiniowane w pierwszym zdaniu - to zarówno kwanty e - m jak i cząstki . takie rozumienie promieniowania nie jest niczym szczególnym - zob . promieniowanie β i α . u . mpfiz   \n",
       "43                                                                                                                                                                                                                                                                                                                                                                                                                                                                                               w łodzi może powstać miejski program bezpieczeństwa ruchu drogowego , projekt uchwały w sprawie jego opracowania złoży na pierwszej po wakacyjnej przerwie sesji rady miejskiej , jej przewodniczący - tomasz kacprzak . jeśli radni przyjmą projekt uchwały , prezydent miasta będzie zobowiązana do przygotowania w terminie do 30 listopada 2011 roku programu bezpieczeństwa ruchu drogowego na lata 2012 - 2014 jak przyznaje radny kacprzak program powinien zakładać stworzenie bezpiecznej infrastruktury drogowej a w efekcie przełożyć się na zwiększenie bezpieczeństwa na łódzkich ulicach oraz zmniejszenie liczby ofiar śmiertelnych i rannych rada miejska w łodzi , bezpieczniej na łódzkich drogach . tomasz kacprzak , który jest jednocześnie wicedyrektorem wojewódzkiego ośrodka ruchu drogowego i sekretarzem wojewódzkiej rady bezpieczeństwa ruchu drogowego , będzie gościem podczas debaty na temat zrównoważonego transportu w czasie letniska transportowo - rowerowego letnisko organizowane przez fundację fenomen , letnisko transportowo - rowerowe letnisko transportowo - rowerowe odbędzie się w dniach 14 - 17 lipca 2011 - wstęp wolny . debata z udziałem tomasza kacprzaka odbędzie się w czwartek , w godzinach 17 0 - 19 0 - przy ul . tylnej 9 11 w willi grohmana . prócz przewodniczącego rady miejskiej w łodzi , wezmą w niej udział wiceprezydent łodzi arkadiusz banaszek oraz przedstawiciel francuskiej federacji użytkowników bicykli francuska federacja użytkowników bicykli , fr : fédération française des usagers de la bicyclette - olivier schneider .   \n",
       "..                                                                                                                                                                                                                                                                                                                                                                                                                                                                                                                                                                                                                                                                                                                                                                                                                                                                                                                                                                                                                                                                                                                                                                                                                                                                                                                                                                                                                                                                                                                                                                                                                                                                                                                                                                                                                                                                                                                                                                                                                                                                                                            ...   \n",
       "770                                                                                                                                                                                                                                                                                                                                                                                                                                                                                                                                                                                                                                                                                                                                                                                            zmarł były prezes realu madryt lorenzo sanz w wieku 76 lat zmarł lorenzo sanz , były działacz i prezydent realu madryt w latach 1995 - 2000 był zakażony koronawirusem , a jego stan od kilku dni określany był jako krytyczny real madryt c . f , prezes klubu i zarząd wszyscy pragną wyrazić najgłębszy żal po odejściu lorenza sanza , który był prezydentem klubu real madryt w latach 1995 - 2000 klub chce przekazać kondolencje swojej żonie mari luz , jego dzieciom , lorenzo , francisco , fernando , maría luz i dianie , a także jego rodzinie i przyjaciołom . nasze kondolencje dzielą wszyscy madridistas . podczas prezydentury lorenza sanza real madryt nadal wzbogacał swoją historię i status legendy . był prezesem klubu , kiedy po 32 latach klub wygrał długo wyczekiwany siódmy puchar europy w amsterdamie w 1998 roku . z lorenzo sanzem jako prezydentem realu madryt klub wygrał dwa puchary europy i puchar interkontynentalny , tytuł ligi , superpuchar hiszpanii , tytuł ligi koszykówki i puchar saporta . dziś całe madridismo jest w żałobie po śmierci człowieka , który ogromną część swojego życia poświęcił swojej wielkiej pasji : realowi madryt . biorąc pod uwagę obecną sytuację , real madryt udzieli mu hołdu , na jakie zasługuje , tak szybko , jak to możliwe .   \n",
       "772                                                                                                                                                                                                                                               we wtorek 7 kwietnia nastąpi dokończenie zmagań pierwszej rundy singla podczas turnieju tenisowego katowice open 2015 jutro rozegrają swoje pierwsze mecze wszystkie polki występujące w rozgrywkach . w meczu deblowym zaprezentuje się najwyżej rozstawiona para . o godzinie 12 : 00 na kort ustawiony w katowickim spodku wyjdą anna - lena friedsam i kwalifikantka magda linette . tuż po nich mecz rozegrają rozstawiona z numerem siódmym kirsten flipkens oraz kolejna niemka , annika beck . planowo nie przed 16 : 00 na korcie powinny się znaleźć zawodniczka z dziką kartą urszula radwańska i szczęśliwa przegrana jelizawieta kuliczkowa . na zakończenie dnia , nie przed 18 : 00 , obiekt główny będzie gościł dwa polsko - belgijskie pojedynki , których zwyciężczynie spotkają się w drugiej rundzie . w pierwszym magdalena fręch podejmie an - sophie mestach , zaś gwiazda wieczoru , najwyżej rozstawiona agnieszka radwańska , spróbuje pokonać yaninę wickmayer . zmagania na kortach międzynarodowego centrum kongresowego także rozpoczną się o godzinie 12 : 00 na obiekt wyjdą wtedy deblistki : rozstawione z numerem pierwszym klaudia jans - ignacik wraz z kristiną mladenovic oraz brytyjki jocelyn rae i anna smith . po nich zagrają petra martić przeciwko klárze koukalovej . po zakończeniu spotkaniu grać będą tereza smitková i carina witthöft , zaś po nich maría - teresa torró - flor i kateřina siniaková . później kwalifikantka szachar peer będzie rywalizować z turniejową piątką kaią kanepi . w ostatnim meczu dnia numer ósmy zawodów anna schmiedlová będzie grać przeciwko innej kwalifikantce niginie abduraimovej . ostatni mecz singlowy pierwszej rundy między monicą niculescu a kristiną mladenovic zostanie rozegrany najprawdopodobniej w środę , podobnie jak pozostałe mecze gry podwójnej .   \n",
       "774                                                                                                                                                                                                                                                                                                                                                                                    uważam , że ktoś popełnił błąd w tym haśle . w ogóle czy jest coś takiego jak częstotliwość napięcia ? myślę , że chodzi tu o częstotliwość prądu , a nie napięcia . nie ma błędu . częstotliwość jest parametrem opisującym napięcie przemienne u u m cos displaystyle u u . stokczy to znaczy , że napięcie w gniazdku skacze od 0v do 230v 50 razy na sekundę ? nie całkiem , napięcie zmienia się od około - 234 do około + 234 v , 50 razy na sekundę , a 230 v jest jego napięciem skuteczym . stok 19 : 04 , 4 paź 2006 o właśnie , spotkałem się z określeniem napięcia ujemnego , ale do tej pory nie wiem co to znaczy . czy chodzi o to , że prąd płynie wtedy w obwodzie w przeciwnym kierunku ? tak , tak to właśnie działa , ale wartość napięcia zmienia się od 325 v do - 325 v , i taka zmienność skutkuje wartością skuteczną na poziomie 230 v . baju , baju , w raju energia , a więc też energia elektryczna ma kwantową naturę . wymieniane tu pojęcia pochodzą z 19 . wieku i dlatego nijak się mają do kwantowej natury energii elektrycznej . tu należy szukać przyczyn porażki energetyki 20 . wieku i rozpadu systemów energetycznych . proszę zwrócić uwagę , że istotna przyczyna blackout ów , czyli moc bierna , jest dotychczas zupełnie niezrozumiałym zjawiskiem . ale w ujęciu kwantowo - mechanicznym ten problem można prosto wyjaśnić . mam prośbę o wyjaśnienie i podpisanie się . nie wypada , aby epokowe odkrycia pozostawały anonimowe u . mpfiz częstotliwość napięcia - wielkość opisująca częstotliwość przebiegu podstawowego napięcia przemiennego . co to jest podstawowe napięcie przemienne ? artykuł nie powinien być zatytułowany częstotliwość napięcia sieciowego ?   \n",
       "783                                                                                                                                                                                                                                                                                                                                                                                                                                                                                                                                                                                                     cyfrowy polsat największa platforma cyfrowa w polsce pod względem liczby abonentów zaoferuje inwestorom akcje za około 1 mld zł do 1 , 5 mld zł , co uczyni ją jedną z największych w historii warszawskiej giełdy papierów wartościowych . cyfrowy polsat jest liderem wśród operatorów płatnej telewizji satelitarnej . w swojej ofercie ma 65 kanałów polskojęzycznych oraz ponad 500 obcojęzycznych . oferującym akcje spółki jest unicredit caib oraz ubs , a także dm penetrator . akcje cyfrowego polsatu zostaną zaoferowane inwestorom w europie oraz w usa . oferta obejmować będzie tylko istniejące akcje . w skład globalnej oferty spółki wejdzie do 75 mln istniejących akcji serii e . publikacja prospektu emisyjnego odbyła się 10 kwietnia . spółka zadebiutuje na gpw w dniu 6 maja . w 2007 r . firma miała 796 , 7 mln zł przychodów i 113 , 4 mln zł zysku netto . obecnie największym akcjonariuszem cyfrowego polsatu jest spółka polaris finance , do którego należy 93 , 18 akcji . natomiast 85 akcji polaris kontroluje zygmunt solorz - żak a 15 - heronim ruta . ponadto solorz - żak posiada bezpośrednio 3 , 95 akcji cyfrowego polsatu . pozostałe akcje należą do osób fizycznych , w tym kadry menedżerskiej . polsat cyfrowy jest największą polską platformą telewizji cyfrowej , z 2 , 15 mln abonentów według danych na koniec lutego br , co oznacza wzrost o prawie 70 wobec końca 2006 roku . cyfra + ma ok . 1 mln abonentów , a platforma n - ok . 300 tys .   \n",
       "799                                                                                                                                                                                                                                                                                                                                                                                                                                                                                                                                                                                                                                                                                                                                                                                            29 lutego na wydziale matematyki i informatyki uniwersytetu mikołaja kopernika w toruniu zostanie zaprezentowany wykład pt . www wikipedia od środka , czyli wytrzymałość + weryfikowalna wiedza , który wygłosi dr inż . janusz dorożyński , w wikipedii znany jako ency . centrum promocji i informacji umk poinformowało o celu tego przedsięwzięcia : jednym z głównych powodów zorganizowania prezentacji jest ograniczona , w porównaniu z częścią angielską , jakość artykułów informatycznych w polskiej części wikipedii . obecnie polskie towarzystwo informatyczne chce się włączyć w naprawianie tego stanu rzeczy i jednocześnie zachęcić inne , podobne towarzystwa czy stowarzyszenia do zaangażowania się w dbałość o jakość materiałów w wikipedii dotyczących nauk ścisłych . w listopadzie ubiegłego roku taką inicjatywę podjęło także polskie towarzystwo astronomiczne , a efekty można zaobserwować w działaniu głównej inicjatorki , prof . bożeny czerny . janusz dorożyński jest członkiem pti . przedstawi on zarówno kwestie związane ze społecznością , administrowaniem , jak również przedstawi porównanie polskiej wersji językowej wikipedii z innymi wikipediami . wykład odbędzie się o godzinie 31 w auli wydziału matematyki i informatyki przy ul . chopina 30 wstęp wolny .   \n",
       "\n",
       "     length  count of symbols_to_drop   percent  \\\n",
       "11     2028                         2  0.098619   \n",
       "16     1586                         1  0.063052   \n",
       "19     1195                         1  0.083682   \n",
       "34     1021                         2  0.195886   \n",
       "43     1552                         3  0.193299   \n",
       "..      ...                       ...       ...   \n",
       "770    1266                         1  0.078989   \n",
       "772    1791                         7  0.390843   \n",
       "774    1658                         1  0.060314   \n",
       "783    1449                         1  0.069013   \n",
       "799    1266                         1  0.078989   \n",
       "\n",
       "                                                  words containing  \n",
       "11                                                kadlčika kadlčik  \n",
       "16                                                       motörhead  \n",
       "19                                                      hautamäkim  \n",
       "34                                                             β α  \n",
       "43                                            fédération française  \n",
       "..                                                             ...  \n",
       "770                                                          maría  \n",
       "772  klárze smitková witthöft maría kateřina siniaková schmiedlová  \n",
       "774                                                              +  \n",
       "783                                                              +  \n",
       "799                                                              +  \n",
       "\n",
       "[64 rows x 5 columns]"
      ]
     },
     "execution_count": 25,
     "metadata": {},
     "output_type": "execute_result"
    }
   ],
   "source": [
    "pd.options.display.max_colwidth = None\n",
    "\n",
    "df_fixed_output['words containing']=count_words\n",
    "df_fixed_output"
   ]
  }
 ],
 "metadata": {
  "interpreter": {
   "hash": "b382fe6b29b6b4e73353773a1641708601657c277ce04be60c592f7c94f0f916"
  },
  "kernelspec": {
   "display_name": "Python 3",
   "language": "python",
   "name": "python3"
  },
  "language_info": {
   "codemirror_mode": {
    "name": "ipython",
    "version": 3
   },
   "file_extension": ".py",
   "mimetype": "text/x-python",
   "name": "python",
   "nbconvert_exporter": "python",
   "pygments_lexer": "ipython3",
   "version": "3.8.8"
  }
 },
 "nbformat": 4,
 "nbformat_minor": 2
}
