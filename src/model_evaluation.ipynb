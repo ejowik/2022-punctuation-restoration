{
 "cells": [
  {
   "cell_type": "markdown",
   "id": "998d85a0",
   "metadata": {},
   "source": [
    "## <span style='font-family:Georgia'> Objectives\n",
    "The purpose of this notebook is to modeling training process overview \\& evaluation of the model's performance on the test set\n",
    "\n",
    "*Authors: Elżbieta Jowik, Agata Kaczmarek, Agata Makarewicz*"
   ]
  },
  {
   "cell_type": "code",
   "execution_count": 5,
   "id": "dc3ea284",
   "metadata": {
    "ExecuteTime": {
     "end_time": "2022-05-13T11:54:05.350566Z",
     "start_time": "2022-05-13T11:54:05.340497Z"
    }
   },
   "outputs": [],
   "source": [
    "import numpy as np\n",
    "import pandas as pd\n",
    "\n",
    "import matplotlib.pyplot as plt\n",
    "from IPython.display import Markdown, display\n",
    "\n",
    "from sklearn.metrics import precision_recall_fscore_support, f1_score\n",
    "from typing import List, Tuple\n",
    "\n",
    "import warnings\n",
    "warnings.filterwarnings(action='ignore')\n",
    "pd.options.display.max_columns = None\n",
    "\n",
    "plt.style.use('bmh')\n",
    "plt.rcParams.update({'figure.figsize': (6.5, 6.5),\n",
    "                    'axes.facecolor': 'white', 'axes.edgecolor': 'black'\n",
    "                    })"
   ]
  },
  {
   "cell_type": "code",
   "execution_count": 6,
   "id": "05c3b2a0",
   "metadata": {
    "ExecuteTime": {
     "end_time": "2022-05-13T11:54:05.835921Z",
     "start_time": "2022-05-13T11:54:05.828177Z"
    }
   },
   "outputs": [],
   "source": [
    "def convert_to_array(matrix: str):\n",
    "    array = []\n",
    "    for l in matrix[1:-1].split('\\r\\n'):\n",
    "        lst = [int(i.replace(']', '')) for i in l.split()\n",
    "               if i.replace(']', '').isdigit()]\n",
    "        array.append(lst)\n",
    "    return np.array(array)"
   ]
  },
  {
   "cell_type": "code",
   "execution_count": 7,
   "id": "19c9ec8b",
   "metadata": {
    "ExecuteTime": {
     "end_time": "2022-05-13T11:54:06.405966Z",
     "start_time": "2022-05-13T11:54:06.376934Z"
    }
   },
   "outputs": [],
   "source": [
    "def extract_baseline_prediction(\n",
    "    pred_file_path: str, exp_file_path: str, labels=[\":\", \";\", \",\", \".\", \"-\", \"?\", \"!\"]\n",
    ") -> Tuple[List[str]]:\n",
    "    \"\"\" Extracts prediction from text output \"\"\"\n",
    "\n",
    "    data_test = pd.read_csv(pred_file_path)\n",
    "    data_expected = pd.read_csv(exp_file_path)\n",
    "\n",
    "    data_test.columns = [\"FileId\", \"baseline\"]\n",
    "    data_expected.columns = [\"FileId\", \"expected\"]\n",
    "    data_test_joined = data_expected.merge(\n",
    "        data_test, left_on=\"FileId\", right_on=\"FileId\"\n",
    "    )\n",
    "\n",
    "    # Split rows for evaluation\n",
    "\n",
    "    test_last_char = []\n",
    "    exp_last_char = []\n",
    "    for i in range(len(data_test_joined)):\n",
    "        splitted_test_first = data_test_joined.loc[i, \"baseline\"].split(\" \")\n",
    "        splitted_exp_first = data_test_joined.loc[i, \"expected\"].split(\" \")\n",
    "        for j in range(min(len(splitted_test_first), len(splitted_exp_first))):\n",
    "            test_last_char.append(splitted_test_first[j][-1])\n",
    "            exp_last_char.append(splitted_exp_first[j][-1])\n",
    "\n",
    "    # Assign labels\n",
    "\n",
    "    y_true = [(x if x in labels else \"B\") for x in exp_last_char]\n",
    "    y_pred = [(x if x in labels else \"B\") for x in test_last_char]\n",
    "\n",
    "    return y_true, y_pred\n",
    "\n",
    "\n",
    "def extract_ner_prediction(\n",
    "    pred_file_path: str, exp_file_path: str, labels=[\":\", \";\", \",\", \".\", \"-\", \"?\", \"!\"]\n",
    "):\n",
    "    data_model = pd.read_csv(pred_file_path, sep=\"\\t\", header=None)\n",
    "    data_exp_model = pd.read_csv(exp_file_path, sep=\"\\t\", header=None)\n",
    "\n",
    "    data_model.columns = [\"model\"]\n",
    "    data_exp_model.columns = [\"expected\"]\n",
    "\n",
    "    data_exp_model[\"expected\"] = data_exp_model[\"expected\"].apply(\n",
    "        lambda x: x.replace(' \"', '\"')\n",
    "    )\n",
    "    data_exp_model[\"expected\"] = data_exp_model[\"expected\"].apply(\n",
    "        lambda x: x.replace(\"  \", \" \")\n",
    "    )\n",
    "\n",
    "    # for whole dataset\n",
    "    model_last_char = []\n",
    "    model_exp_last_char = []\n",
    "\n",
    "    for i in range(len(data_exp_model)):\n",
    "        splitted_model_first = data_model[\"model\"][i].split(\" \")\n",
    "        splitted_model_exp_first = data_exp_model[\"expected\"][i].split(\" \")\n",
    "        for j in range(min(len(splitted_model_first), len(splitted_model_exp_first))):\n",
    "            model_last_char.append(splitted_model_first[j][-1])\n",
    "            model_exp_last_char.append(splitted_model_exp_first[j][-1])\n",
    "\n",
    "    y_true = [x if x in labels[1:] else \"B\" for x in model_exp_last_char]\n",
    "    y_pred = [x if x in labels[1:] else \"B\" for x in model_last_char]\n",
    "\n",
    "    return y_true, y_pred\n",
    "\n",
    "\n",
    "def evaluate_model(\n",
    "    y_true: List,\n",
    "    y_pred: List,\n",
    "    include_blanks: bool,\n",
    "    labels: List = [\"B\", \":\", \";\", \",\", \".\", \"-\", \"?\", \"!\"],\n",
    ") -> Tuple[pd.DataFrame, float]:\n",
    "    \"\"\"\n",
    "    Generates summary and calculates weighted F1 score\n",
    "    \"\"\"\n",
    "\n",
    "    summary = pd.DataFrame(\n",
    "        precision_recall_fscore_support(y_true, y_pred, labels=labels)\n",
    "    ).T\n",
    "\n",
    "    summary.columns = [\"precision\", \"recall\", \"f1-score\", \"support\"]\n",
    "    summary.index = labels\n",
    "\n",
    "    if include_blanks:\n",
    "        summary[\"weights\"] = summary[\"support\"] / summary[\"support\"].sum()\n",
    "        f1_weighted = f1_score(y_true, y_pred, average=\"weighted\")\n",
    "\n",
    "    else:\n",
    "        summary[\"weights\"] = np.where(\n",
    "            summary.index.isin(labels[1:]), summary[\"support\"], 0\n",
    "        )\n",
    "        summary[\"weights\"] = summary[\"weights\"] / summary[\"weights\"].sum()\n",
    "        f1_weighted = (summary[\"weights\"] * summary[\"f1-score\"]).sum()\n",
    "\n",
    "    return summary, f1_weighted"
   ]
  },
  {
   "cell_type": "markdown",
   "id": "62456534",
   "metadata": {},
   "source": [
    "### <span style='font-family:Georgia'> Section 1.: Training progress overview"
   ]
  },
  {
   "cell_type": "code",
   "execution_count": 8,
   "id": "9c26fb85",
   "metadata": {
    "ExecuteTime": {
     "end_time": "2022-05-13T11:54:07.571063Z",
     "start_time": "2022-05-13T11:54:07.542589Z"
    }
   },
   "outputs": [],
   "source": [
    "results = pd.read_csv('../data/outputs/modeling_pipeline/step6/training_progress_scores.csv')"
   ]
  },
  {
   "cell_type": "markdown",
   "id": "9ddf7fbb",
   "metadata": {},
   "source": [
    "#### <span style='font-family:Georgia'> The course of the cost function in the learning process"
   ]
  },
  {
   "cell_type": "code",
   "execution_count": 9,
   "id": "9b768af1",
   "metadata": {
    "ExecuteTime": {
     "end_time": "2022-05-13T11:54:08.550440Z",
     "start_time": "2022-05-13T11:54:08.230374Z"
    }
   },
   "outputs": [
    {
     "data": {
      "image/png": "[encoded data removed]",
      "text/plain": [
       "<Figure size 468x468 with 1 Axes>"
      ]
     },
     "metadata": {
      "needs_background": "light"
     },
     "output_type": "display_data"
    }
   ],
   "source": [
    "plt.title(\"Loss Function Course\", fontsize=14)\n",
    "plt.plot(results['global_step'], results['train_loss'], label='Train Loss')\n",
    "plt.plot(results['global_step'], results['eval_loss'], label='Evaluation Loss')\n",
    "plt.xlabel(\"Global Score\", fontsize=12)\n",
    "plt.ylabel(\"Loss function\", fontsize=12)\n",
    "plt.legend()\n",
    "plt.show()"
   ]
  },
  {
   "cell_type": "markdown",
   "id": "d06935de",
   "metadata": {},
   "source": [
    "#### <span style='font-family:Georgia'> The courses of the Precision, Recall & Weighted F1 scores in the learning process"
   ]
  },
  {
   "cell_type": "code",
   "execution_count": 10,
   "id": "79f9fb17",
   "metadata": {
    "ExecuteTime": {
     "end_time": "2022-05-13T11:54:09.842503Z",
     "start_time": "2022-05-13T11:54:09.371456Z"
    }
   },
   "outputs": [
    {
     "data": {
      "text/plain": [
       "<matplotlib.legend.Legend at 0x2bd379f5130>"
      ]
     },
     "execution_count": 10,
     "metadata": {},
     "output_type": "execute_result"
    },
    {
     "data": {
      "image/png": "[encoded data removed]",
      "text/plain": [
       "<Figure size 936x468 with 2 Axes>"
      ]
     },
     "metadata": {
      "needs_background": "light"
     },
     "output_type": "display_data"
    }
   ],
   "source": [
    "fig, axes = plt.subplots(1, 2, figsize=(13, 6.5))\n",
    "\n",
    "axes[0].set_title(\"Precision & Recall Curves\", fontsize=14)\n",
    "axes[0].plot(results['global_step'], results['precision'], label='Precision')\n",
    "axes[0].plot(results['global_step'], results['recall'], label='Recall')\n",
    "axes[0].set_xlabel(\"Global Score\", fontsize=12)\n",
    "axes[0].set_ylabel(\"Precision/Recall\", fontsize=12)\n",
    "axes[0].legend()\n",
    "\n",
    "axes[1].set_title(\"Weighted F1 score curve\", fontsize=14)\n",
    "axes[1].plot(results['global_step'], results['f1_weighted'], label='Weighted F1')\n",
    "axes[1].set_xlabel(\"Global Score\", fontsize=12)\n",
    "axes[1].set_ylabel(\"Weighted F1 score\", fontsize=12)\n",
    "axes[1].legend()"
   ]
  },
  {
   "cell_type": "markdown",
   "id": "989e61b5",
   "metadata": {},
   "source": [
    "#### <span style='font-family:Georgia'> Comparison of confusion matrix at different stages of the learning process"
   ]
  },
  {
   "cell_type": "code",
   "execution_count": 11,
   "id": "46dd4c6c",
   "metadata": {
    "ExecuteTime": {
     "end_time": "2022-05-13T11:54:10.033072Z",
     "start_time": "2022-05-13T11:54:09.981289Z"
    }
   },
   "outputs": [
    {
     "data": {
      "text/markdown": [
       "#### <span style='font-family:Georgia'> Confusion matrix at the beginning of the learning process"
      ],
      "text/plain": [
       "<IPython.core.display.Markdown object>"
      ]
     },
     "metadata": {},
     "output_type": "display_data"
    },
    {
     "data": {
      "text/html": [
       "<div>\n",
       "<style scoped>\n",
       "    .dataframe tbody tr th:only-of-type {\n",
       "        vertical-align: middle;\n",
       "    }\n",
       "\n",
       "    .dataframe tbody tr th {\n",
       "        vertical-align: top;\n",
       "    }\n",
       "\n",
       "    .dataframe thead th {\n",
       "        text-align: right;\n",
       "    }\n",
       "</style>\n",
       "<table border=\"1\" class=\"dataframe\">\n",
       "  <thead>\n",
       "    <tr style=\"text-align: right;\">\n",
       "      <th></th>\n",
       "      <th>:</th>\n",
       "      <th>;</th>\n",
       "      <th>,</th>\n",
       "      <th>.</th>\n",
       "      <th>-</th>\n",
       "      <th>?</th>\n",
       "      <th>!</th>\n",
       "    </tr>\n",
       "  </thead>\n",
       "  <tbody>\n",
       "    <tr>\n",
       "      <th>:</th>\n",
       "      <td>0</td>\n",
       "      <td>0</td>\n",
       "      <td>43</td>\n",
       "      <td>131</td>\n",
       "      <td>0</td>\n",
       "      <td>0</td>\n",
       "      <td>0</td>\n",
       "    </tr>\n",
       "    <tr>\n",
       "      <th>;</th>\n",
       "      <td>0</td>\n",
       "      <td>0</td>\n",
       "      <td>0</td>\n",
       "      <td>0</td>\n",
       "      <td>0</td>\n",
       "      <td>0</td>\n",
       "      <td>0</td>\n",
       "    </tr>\n",
       "    <tr>\n",
       "      <th>,</th>\n",
       "      <td>0</td>\n",
       "      <td>0</td>\n",
       "      <td>787</td>\n",
       "      <td>1543</td>\n",
       "      <td>0</td>\n",
       "      <td>0</td>\n",
       "      <td>0</td>\n",
       "    </tr>\n",
       "    <tr>\n",
       "      <th>.</th>\n",
       "      <td>0</td>\n",
       "      <td>0</td>\n",
       "      <td>668</td>\n",
       "      <td>2025</td>\n",
       "      <td>0</td>\n",
       "      <td>0</td>\n",
       "      <td>0</td>\n",
       "    </tr>\n",
       "    <tr>\n",
       "      <th>-</th>\n",
       "      <td>0</td>\n",
       "      <td>0</td>\n",
       "      <td>199</td>\n",
       "      <td>412</td>\n",
       "      <td>0</td>\n",
       "      <td>0</td>\n",
       "      <td>0</td>\n",
       "    </tr>\n",
       "    <tr>\n",
       "      <th>?</th>\n",
       "      <td>0</td>\n",
       "      <td>0</td>\n",
       "      <td>46</td>\n",
       "      <td>157</td>\n",
       "      <td>0</td>\n",
       "      <td>0</td>\n",
       "      <td>0</td>\n",
       "    </tr>\n",
       "    <tr>\n",
       "      <th>!</th>\n",
       "      <td>0</td>\n",
       "      <td>0</td>\n",
       "      <td>9</td>\n",
       "      <td>26</td>\n",
       "      <td>0</td>\n",
       "      <td>0</td>\n",
       "      <td>0</td>\n",
       "    </tr>\n",
       "  </tbody>\n",
       "</table>\n",
       "</div>"
      ],
      "text/plain": [
       "   :  ;    ,     .  -  ?  !\n",
       ":  0  0   43   131  0  0  0\n",
       ";  0  0    0     0  0  0  0\n",
       ",  0  0  787  1543  0  0  0\n",
       ".  0  0  668  2025  0  0  0\n",
       "-  0  0  199   412  0  0  0\n",
       "?  0  0   46   157  0  0  0\n",
       "!  0  0    9    26  0  0  0"
      ]
     },
     "metadata": {},
     "output_type": "display_data"
    },
    {
     "data": {
      "text/markdown": [
       "#### <span style='font-family:Georgia'> Confusion matrix at the end of the learning process"
      ],
      "text/plain": [
       "<IPython.core.display.Markdown object>"
      ]
     },
     "metadata": {},
     "output_type": "display_data"
    },
    {
     "data": {
      "text/html": [
       "<div>\n",
       "<style scoped>\n",
       "    .dataframe tbody tr th:only-of-type {\n",
       "        vertical-align: middle;\n",
       "    }\n",
       "\n",
       "    .dataframe tbody tr th {\n",
       "        vertical-align: top;\n",
       "    }\n",
       "\n",
       "    .dataframe thead th {\n",
       "        text-align: right;\n",
       "    }\n",
       "</style>\n",
       "<table border=\"1\" class=\"dataframe\">\n",
       "  <thead>\n",
       "    <tr style=\"text-align: right;\">\n",
       "      <th></th>\n",
       "      <th>:</th>\n",
       "      <th>;</th>\n",
       "      <th>,</th>\n",
       "      <th>.</th>\n",
       "      <th>-</th>\n",
       "      <th>?</th>\n",
       "      <th>!</th>\n",
       "    </tr>\n",
       "  </thead>\n",
       "  <tbody>\n",
       "    <tr>\n",
       "      <th>:</th>\n",
       "      <td>621</td>\n",
       "      <td>0</td>\n",
       "      <td>33</td>\n",
       "      <td>95</td>\n",
       "      <td>53</td>\n",
       "      <td>2</td>\n",
       "      <td>0</td>\n",
       "    </tr>\n",
       "    <tr>\n",
       "      <th>;</th>\n",
       "      <td>0</td>\n",
       "      <td>0</td>\n",
       "      <td>0</td>\n",
       "      <td>0</td>\n",
       "      <td>0</td>\n",
       "      <td>0</td>\n",
       "      <td>0</td>\n",
       "    </tr>\n",
       "    <tr>\n",
       "      <th>,</th>\n",
       "      <td>22</td>\n",
       "      <td>0</td>\n",
       "      <td>8549</td>\n",
       "      <td>523</td>\n",
       "      <td>149</td>\n",
       "      <td>46</td>\n",
       "      <td>17</td>\n",
       "    </tr>\n",
       "    <tr>\n",
       "      <th>.</th>\n",
       "      <td>20</td>\n",
       "      <td>0</td>\n",
       "      <td>289</td>\n",
       "      <td>9761</td>\n",
       "      <td>51</td>\n",
       "      <td>38</td>\n",
       "      <td>14</td>\n",
       "    </tr>\n",
       "    <tr>\n",
       "      <th>-</th>\n",
       "      <td>45</td>\n",
       "      <td>0</td>\n",
       "      <td>313</td>\n",
       "      <td>273</td>\n",
       "      <td>1520</td>\n",
       "      <td>26</td>\n",
       "      <td>2</td>\n",
       "    </tr>\n",
       "    <tr>\n",
       "      <th>?</th>\n",
       "      <td>4</td>\n",
       "      <td>0</td>\n",
       "      <td>28</td>\n",
       "      <td>127</td>\n",
       "      <td>8</td>\n",
       "      <td>539</td>\n",
       "      <td>2</td>\n",
       "    </tr>\n",
       "    <tr>\n",
       "      <th>!</th>\n",
       "      <td>2</td>\n",
       "      <td>0</td>\n",
       "      <td>16</td>\n",
       "      <td>49</td>\n",
       "      <td>2</td>\n",
       "      <td>11</td>\n",
       "      <td>22</td>\n",
       "    </tr>\n",
       "  </tbody>\n",
       "</table>\n",
       "</div>"
      ],
      "text/plain": [
       "     :  ;     ,     .     -    ?   !\n",
       ":  621  0    33    95    53    2   0\n",
       ";    0  0     0     0     0    0   0\n",
       ",   22  0  8549   523   149   46  17\n",
       ".   20  0   289  9761    51   38  14\n",
       "-   45  0   313   273  1520   26   2\n",
       "?    4  0    28   127     8  539   2\n",
       "!    2  0    16    49     2   11  22"
      ]
     },
     "metadata": {},
     "output_type": "display_data"
    }
   ],
   "source": [
    "labels = [\"B\", \":\", \";\", \",\", \".\", \"-\", \"?\", \"!\"]\n",
    "\n",
    "init_conf_matr = results.iloc[results.index.min(), -4]\n",
    "result_conf_matr = results.iloc[results.index.max(), -4]\n",
    "\n",
    "init_conf_matr = convert_to_array(init_conf_matr)\n",
    "result_conf_matr = convert_to_array(result_conf_matr)\n",
    "\n",
    "display(\n",
    "    Markdown(\n",
    "        \"#### <span style='font-family:Georgia'> Confusion matrix at the beginning of the learning process\"\n",
    "    )\n",
    ")\n",
    "display(pd.DataFrame(init_conf_matr, columns=labels[1:], index=labels[1:]))\n",
    "\n",
    "display(\n",
    "    Markdown(\n",
    "        \"#### <span style='font-family:Georgia'> Confusion matrix at the end of the learning process\"\n",
    "    )\n",
    ")\n",
    "display(pd.DataFrame(result_conf_matr, columns=labels[1:], index=labels[1:]))"
   ]
  },
  {
   "cell_type": "markdown",
   "id": "484e3b04",
   "metadata": {},
   "source": [
    "### <span style='font-family:Georgia'> Section 2.: Model evaluation"
   ]
  },
  {
   "cell_type": "markdown",
   "id": "9459de78",
   "metadata": {},
   "source": [
    "### <span style='font-family:Georgia'> 2.1 Baseline with pauses evaluation"
   ]
  },
  {
   "cell_type": "code",
   "execution_count": 12,
   "id": "14575b52",
   "metadata": {
    "ExecuteTime": {
     "end_time": "2022-05-13T11:54:11.026469Z",
     "start_time": "2022-05-13T11:54:10.899316Z"
    }
   },
   "outputs": [],
   "source": [
    "y_true, y_pred = extract_baseline_prediction(\n",
    "    pred_file_path='../data/outputs/baseline/including_pauses/test_data.csv',\n",
    "    exp_file_path='../data/outputs/feature_engineering/data_cleaning/test/test_exp_with_ids_clean.csv'\n",
    ")"
   ]
  },
  {
   "cell_type": "markdown",
   "id": "de75fbd4",
   "metadata": {},
   "source": [
    "#### <span style='font-family:Georgia'> 2.1.1 Including blanks"
   ]
  },
  {
   "cell_type": "code",
   "execution_count": 13,
   "id": "6c871c4e",
   "metadata": {
    "ExecuteTime": {
     "end_time": "2022-05-13T11:54:12.040195Z",
     "start_time": "2022-05-13T11:54:11.435584Z"
    }
   },
   "outputs": [],
   "source": [
    "summary, f1_weighted = evaluate_model(\n",
    "    y_true=y_true, y_pred=y_pred, include_blanks=True\n",
    ")"
   ]
  },
  {
   "cell_type": "code",
   "execution_count": 14,
   "id": "2b332999",
   "metadata": {
    "ExecuteTime": {
     "end_time": "2022-05-13T11:54:12.061755Z",
     "start_time": "2022-05-13T11:54:12.041867Z"
    }
   },
   "outputs": [
    {
     "data": {
      "text/plain": [
       "0.8248184425436056"
      ]
     },
     "execution_count": 14,
     "metadata": {},
     "output_type": "execute_result"
    }
   ],
   "source": [
    "f1_weighted"
   ]
  },
  {
   "cell_type": "markdown",
   "id": "3c10c322",
   "metadata": {},
   "source": [
    "#### <span style='font-family:Georgia'> 2.1.2 Excluding blanks"
   ]
  },
  {
   "cell_type": "code",
   "execution_count": 15,
   "id": "89fecd38",
   "metadata": {
    "ExecuteTime": {
     "end_time": "2022-05-13T11:54:12.431993Z",
     "start_time": "2022-05-13T11:54:12.134391Z"
    }
   },
   "outputs": [],
   "source": [
    "summary, f1_weighted = evaluate_model(\n",
    "    y_true=y_true, y_pred=y_pred, include_blanks=False\n",
    ")"
   ]
  },
  {
   "cell_type": "code",
   "execution_count": 16,
   "id": "2bfe71e8",
   "metadata": {
    "ExecuteTime": {
     "end_time": "2022-05-13T11:54:12.450509Z",
     "start_time": "2022-05-13T11:54:12.435371Z"
    }
   },
   "outputs": [
    {
     "data": {
      "text/plain": [
       "0.33557821366690577"
      ]
     },
     "execution_count": 16,
     "metadata": {},
     "output_type": "execute_result"
    }
   ],
   "source": [
    "f1_weighted"
   ]
  },
  {
   "cell_type": "markdown",
   "id": "acdc50d7",
   "metadata": {},
   "source": [
    "### <span style='font-family:Georgia'> 2.2 Baseline without pauses evaluation"
   ]
  },
  {
   "cell_type": "code",
   "execution_count": 17,
   "id": "0588e4ef",
   "metadata": {
    "ExecuteTime": {
     "end_time": "2022-05-13T11:54:14.011386Z",
     "start_time": "2022-05-13T11:54:13.892046Z"
    }
   },
   "outputs": [],
   "source": [
    "y_true, y_pred = extract_baseline_prediction(\n",
    "    pred_file_path='../data/outputs/baseline/excluding_pauses/test_data.csv',\n",
    "    exp_file_path='../data/outputs/feature_engineering/data_cleaning/test/test_exp_with_ids_clean.csv'\n",
    ")"
   ]
  },
  {
   "cell_type": "markdown",
   "id": "10e3784e",
   "metadata": {},
   "source": [
    "#### <span style='font-family:Georgia'> 2.2.1 Including blanks"
   ]
  },
  {
   "cell_type": "code",
   "execution_count": 18,
   "id": "ca6d5ed4",
   "metadata": {
    "ExecuteTime": {
     "end_time": "2022-05-13T11:54:18.515660Z",
     "start_time": "2022-05-13T11:54:17.867411Z"
    }
   },
   "outputs": [],
   "source": [
    "summary, f1_weighted = evaluate_model(\n",
    "    y_true=y_true, y_pred=y_pred, include_blanks=True\n",
    ")"
   ]
  },
  {
   "cell_type": "code",
   "execution_count": 19,
   "id": "8b90109b",
   "metadata": {
    "ExecuteTime": {
     "end_time": "2022-05-13T11:54:18.525049Z",
     "start_time": "2022-05-13T11:54:18.517654Z"
    }
   },
   "outputs": [
    {
     "data": {
      "text/plain": [
       "0.7895132092722028"
      ]
     },
     "execution_count": 19,
     "metadata": {},
     "output_type": "execute_result"
    }
   ],
   "source": [
    "f1_weighted"
   ]
  },
  {
   "cell_type": "markdown",
   "id": "f0a61264",
   "metadata": {},
   "source": [
    "#### <span style='font-family:Georgia'> 2.2.2 Excluding blanks"
   ]
  },
  {
   "cell_type": "code",
   "execution_count": 20,
   "id": "48293f89",
   "metadata": {
    "ExecuteTime": {
     "end_time": "2022-05-13T11:54:19.247714Z",
     "start_time": "2022-05-13T11:54:18.949934Z"
    }
   },
   "outputs": [],
   "source": [
    "summary, f1_weighted = evaluate_model(\n",
    "    y_true=y_true, y_pred=y_pred, include_blanks=False\n",
    ")"
   ]
  },
  {
   "cell_type": "code",
   "execution_count": 21,
   "id": "d5ff0162",
   "metadata": {
    "ExecuteTime": {
     "end_time": "2022-05-13T11:54:19.269802Z",
     "start_time": "2022-05-13T11:54:19.250704Z"
    }
   },
   "outputs": [
    {
     "data": {
      "text/plain": [
       "0.12606757045944916"
      ]
     },
     "execution_count": 21,
     "metadata": {},
     "output_type": "execute_result"
    }
   ],
   "source": [
    "f1_weighted"
   ]
  },
  {
   "cell_type": "markdown",
   "id": "ca841cc4",
   "metadata": {},
   "source": [
    "### <span style='font-family:Georgia'> 2.3 Neural model evaluation"
   ]
  },
  {
   "cell_type": "code",
   "execution_count": 22,
   "id": "9e542dbb",
   "metadata": {
    "ExecuteTime": {
     "end_time": "2022-05-13T11:54:19.887382Z",
     "start_time": "2022-05-13T11:54:19.755535Z"
    }
   },
   "outputs": [],
   "source": [
    "y_true, y_pred = extract_ner_prediction(\n",
    "    pred_file_path='../data/outputs/modeling_pipeline/step7/test-A/out.tsv',\n",
    "    exp_file_path='../data/preprocessed/evaluation/test-A/expected.tsv'\n",
    ")"
   ]
  },
  {
   "cell_type": "markdown",
   "id": "08609e70",
   "metadata": {},
   "source": [
    "#### <span style='font-family:Georgia'> 2.3.1 Including blanks"
   ]
  },
  {
   "cell_type": "code",
   "execution_count": 23,
   "id": "f589b88d",
   "metadata": {
    "ExecuteTime": {
     "end_time": "2022-05-13T11:54:20.799536Z",
     "start_time": "2022-05-13T11:54:20.262151Z"
    }
   },
   "outputs": [],
   "source": [
    "summary, f1_weighted = evaluate_model(\n",
    "    y_true=y_true, y_pred=y_pred, include_blanks=True\n",
    ")"
   ]
  },
  {
   "cell_type": "code",
   "execution_count": 24,
   "id": "cdc95316",
   "metadata": {
    "ExecuteTime": {
     "end_time": "2022-05-13T11:54:20.815236Z",
     "start_time": "2022-05-13T11:54:20.801738Z"
    }
   },
   "outputs": [
    {
     "data": {
      "text/plain": [
       "0.9289017476469329"
      ]
     },
     "execution_count": 24,
     "metadata": {},
     "output_type": "execute_result"
    }
   ],
   "source": [
    "f1_weighted"
   ]
  },
  {
   "cell_type": "markdown",
   "id": "7379c1bb",
   "metadata": {},
   "source": [
    "#### <span style='font-family:Georgia'> 2.3.2 Excluding blanks"
   ]
  },
  {
   "cell_type": "code",
   "execution_count": 25,
   "id": "a2354641",
   "metadata": {
    "ExecuteTime": {
     "end_time": "2022-05-13T11:54:21.311406Z",
     "start_time": "2022-05-13T11:54:21.019652Z"
    }
   },
   "outputs": [],
   "source": [
    "summary, f1_weighted = evaluate_model(\n",
    "    y_true=y_true, y_pred=y_pred, include_blanks=False\n",
    ")"
   ]
  },
  {
   "cell_type": "code",
   "execution_count": 26,
   "id": "66d3de0e",
   "metadata": {
    "ExecuteTime": {
     "end_time": "2022-05-13T11:54:21.327295Z",
     "start_time": "2022-05-13T11:54:21.316378Z"
    }
   },
   "outputs": [
    {
     "data": {
      "text/plain": [
       "0.7228758151037834"
      ]
     },
     "execution_count": 26,
     "metadata": {},
     "output_type": "execute_result"
    }
   ],
   "source": [
    "f1_weighted"
   ]
  }
 ],
 "metadata": {
  "interpreter": {
   "hash": "1eea36f549d596e1ba6d357da17c58a2c496985ce50cff93b35e7c83413effd0"
  },
  "kernelspec": {
   "display_name": "Python 3",
   "language": "python",
   "name": "python3"
  },
  "language_info": {
   "codemirror_mode": {
    "name": "ipython",
    "version": 3
   },
   "file_extension": ".py",
   "mimetype": "text/x-python",
   "name": "python",
   "nbconvert_exporter": "python",
   "pygments_lexer": "ipython3",
   "version": "3.8.8"
  }
 },
 "nbformat": 4,
 "nbformat_minor": 5
}
