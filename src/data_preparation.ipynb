{
 "cells": [
  {
   "cell_type": "markdown",
   "id": "5d388230",
   "metadata": {},
   "source": [
    "## <span style='font-family:Georgia'> Objectives\n",
    "The purpose of this notebook is data cleaning and pre-processing for training   \n",
    "    \n",
    "*Author: Elżbieta Jowik*"
   ]
  },
  {
   "cell_type": "code",
   "execution_count": 1,
   "id": "739194ad",
   "metadata": {
    "ExecuteTime": {
     "end_time": "2022-05-13T12:09:42.979053Z",
     "start_time": "2022-05-13T12:09:06.564813Z"
    }
   },
   "outputs": [],
   "source": [
    "import os\n",
    "import glob\n",
    "from tqdm.notebook import tqdm\n",
    "\n",
    "from utils.clean_data import clean_tsv_file, clean_clmtmstmp_file, clean_json_file\n",
    "from utils.parse_tsv import parse_tsv\n",
    "from utils.parse_data import parse_data\n",
    "from utils.convert_to_pandas import convert_to_pandas\n",
    "from utils.split_long_examples import split_long_examples\n",
    "from utils.train_model import train_model\n",
    "from utils.test_model import test_model"
   ]
  },
  {
   "cell_type": "markdown",
   "id": "3ad96ee7",
   "metadata": {},
   "source": [
    "### <span style='font-family:Georgia'> Parameters settings"
   ]
  },
  {
   "cell_type": "code",
   "execution_count": 2,
   "id": "6776b6b6",
   "metadata": {
    "ExecuteTime": {
     "end_time": "2022-05-13T12:09:42.991058Z",
     "start_time": "2022-05-13T12:09:42.981981Z"
    }
   },
   "outputs": [],
   "source": [
    "# Input paths\n",
    "train_in_path = \"../data/source/train/in.tsv\"\n",
    "test_in_path = \"../data/source/test-A/in.tsv\"\n",
    "\n",
    "train_expected_path = \"../data/source/train/expected.tsv\"\n",
    "test_expected_path = \"../data/source/test-A/expected.tsv\"\n",
    "\n",
    "train_clntmstmp_dir = \"../data/source/poleval_fa.train/train\"\n",
    "test_clntmstmp_dir = \"../data/source/poleval_fa.validation/validation\"\n",
    "\n",
    "wikitalks_json_dir = \"../data/source/poleval_text.rest/wikinews/all/json\"\n",
    "wikinews_json_dir = \"../data/source/poleval_text.rest/wikitalks/all/json\"\n",
    "\n",
    "# Output paths\n",
    "step1_out_dirpath = \"../data/outputs/modeling_pipeline/step1\"\n",
    "step2_out_dirpath = \"../data/outputs/modeling_pipeline/step2\"\n",
    "step3_out_dirpath = step1_out_dirpath\n",
    "step4_out_dirpath = \"../data/outputs/modeling_pipeline/step4\"\n",
    "step5_out_dirpath = \"../data/outputs/modeling_pipeline/step5\"\n",
    "step6_out_dirpath = \"../data/outputs/modeling_pipeline/step6\"\n",
    "step7_out_dirpath = \"../data/outputs/modeling_pipeline/step7\"\n",
    "\n",
    "step1_train_save_path = f\"{step1_out_dirpath}/original_train.conll\"\n",
    "step1_test_save_path = f\"{step1_out_dirpath}/original_test-A.conll\"\n",
    "\n",
    "step2_train_in_save_path = f\"{step2_out_dirpath}/train_in.tsv\"\n",
    "step2_rest_in_save_path = f\"{step2_out_dirpath}/rest_in.tsv\"\n",
    "step2_test_in_save_path = f\"{step2_out_dirpath}/test_in.tsv\"\n",
    "\n",
    "step2_train_expected_save_path = f\"{step2_out_dirpath}/train_expected.tsv\"\n",
    "step2_rest_expected_save_path = f\"{step2_out_dirpath}/rest_expected.tsv\"\n",
    "step2_test_expected_save_path = f\"{step2_out_dirpath}/test_expected.tsv\"\n",
    "\n",
    "step3_train_save_path = f\"{step3_out_dirpath}/train.conll\"\n",
    "step3_rest_save_path = f\"{step3_out_dirpath}/rest.conll\"\n",
    "step3_test_save_path = f\"{step3_out_dirpath}/test.conll\"\n",
    "\n",
    "step4_train_save_path = f\"{step4_out_dirpath}/original_train.tsv\"\n",
    "step4_test_save_path = f\"{step4_out_dirpath}/original_test-A.tsv\"\n",
    "step4_rest_save_path = f\"{step4_out_dirpath}/rest.tsv\"\n",
    "\n",
    "step5_train_save_path = f\"{step5_out_dirpath}/original_train.tsv.s\"\n",
    "step5_test_save_path = f\"{step5_out_dirpath}/original_test-A.tsv.s\"\n",
    "step5_rest_save_path = f\"{step5_out_dirpath}/rest.tsv.s\"\n",
    "\n",
    "step6_model_save_path = f\"{step6_out_dirpath}/best_model\"\n",
    "\n",
    "step7_pred_save_path = f\"{step7_out_dirpath}/test-A/out.tsv\""
   ]
  },
  {
   "cell_type": "markdown",
   "id": "6305daf1",
   "metadata": {
    "ExecuteTime": {
     "end_time": "2022-04-24T08:15:53.049613Z",
     "start_time": "2022-04-24T08:15:53.039640Z"
    }
   },
   "source": [
    "### <span style='font-family:Georgia'> Data cleaning (including `*.tsv`, `*.json` & `*.clntmstmp` files)"
   ]
  },
  {
   "cell_type": "code",
   "execution_count": 3,
   "id": "e93ff852",
   "metadata": {
    "ExecuteTime": {
     "end_time": "2022-05-13T12:23:43.127031Z",
     "start_time": "2022-05-13T12:09:42.993052Z"
    }
   },
   "outputs": [
    {
     "data": {
      "application/vnd.jupyter.widget-view+json": {
       "model_id": "b961c4dd47024b7d92fbaebb41ee187f",
       "version_major": 2,
       "version_minor": 0
      },
      "text/plain": [
       "  0%|          | 0/793 [00:00<?, ?it/s]"
      ]
     },
     "metadata": {},
     "output_type": "display_data"
    },
    {
     "data": {
      "application/vnd.jupyter.widget-view+json": {
       "model_id": "7f2175e3c6c34d1ba608b6a354f3c7fb",
       "version_major": 2,
       "version_minor": 0
      },
      "text/plain": [
       "  0%|          | 0/200 [00:00<?, ?it/s]"
      ]
     },
     "metadata": {},
     "output_type": "display_data"
    },
    {
     "data": {
      "application/vnd.jupyter.widget-view+json": {
       "model_id": "c6cb3c4201ff45fc8fe672bf59f7cbbc",
       "version_major": 2,
       "version_minor": 0
      },
      "text/plain": [
       "  0%|          | 0/8422 [00:00<?, ?it/s]"
      ]
     },
     "metadata": {},
     "output_type": "display_data"
    },
    {
     "data": {
      "application/vnd.jupyter.widget-view+json": {
       "model_id": "1c86c3854f4346b091a8adcef6c87625",
       "version_major": 2,
       "version_minor": 0
      },
      "text/plain": [
       "  0%|          | 0/13757 [00:00<?, ?it/s]"
      ]
     },
     "metadata": {},
     "output_type": "display_data"
    }
   ],
   "source": [
    "# *.tsv input files cleaning\n",
    "_train_in_path = \"../data/preprocessed/train/\"\n",
    "_test_in_path = \"../data/preprocessed/test-A/\"\n",
    "_train_expected_path = \"../data/preprocessed/train/\"\n",
    "_test_expected_path = \"../data/preprocessed/test-A/\"\n",
    "\n",
    "clean_tsv_file(in_path=train_in_path, out_path=_train_in_path)\n",
    "clean_tsv_file(in_path=test_in_path, out_path=_test_in_path)\n",
    "clean_tsv_file(in_path=train_expected_path, out_path=_train_expected_path)\n",
    "clean_tsv_file(in_path=test_expected_path, out_path=_test_expected_path)\n",
    "\n",
    "# *.clntmstmp input files cleaning\n",
    "_train_clntmstmp_dir = \"../data/preprocessed/poleval_fa.train/train/\"\n",
    "_test_clntmstmp_dir = \"../data/preprocessed/poleval_fa.validation/validation\"\n",
    "\n",
    "for in_path in tqdm(glob.glob(f\"{train_clntmstmp_dir}/*.clntmstmp\")):\n",
    "    clean_clmtmstmp_file(in_path=in_path, out_path=_train_clntmstmp_dir)\n",
    "\n",
    "for in_path in tqdm(glob.glob(f\"{test_clntmstmp_dir}/*.clntmstmp\")):\n",
    "    clean_clmtmstmp_file(in_path=in_path, out_path=_test_clntmstmp_dir)\n",
    "\n",
    "# *.json input files cleaning\n",
    "_wikitalks_json_dir = \"../data/preprocessed/json-wikinews\"\n",
    "_wikinews_json_dir = \"../data/preprocessed/json-wikitalks\"\n",
    "\n",
    "for in_path in tqdm(glob.glob(f\"{wikinews_json_dir}/*.json\")):\n",
    "    clean_json_file(in_path=in_path, out_path=_wikinews_json_dir)\n",
    "    \n",
    "for in_path in tqdm(glob.glob(f\"{wikitalks_json_dir}/*.json\")):\n",
    "    clean_json_file(in_path=in_path, out_path=_wikitalks_json_dir)\n",
    "\n",
    "# Overwriting raw data paths with cleaned data paths\n",
    "train_in_path = f\"{_train_in_path}/{os.path.basename(train_in_path)}\"\n",
    "test_in_path = f\"{_test_in_path}/{os.path.basename(test_in_path)}\"\n",
    "train_expected_path = f\"{_train_expected_path}/{os.path.basename(train_expected_path)}\"\n",
    "test_expected_path = f\"{_test_expected_path}/{os.path.basename(test_expected_path)}\"\n",
    "train_clntmstmp_dir = _train_clntmstmp_dir\n",
    "test_clntmstmp_dir = _test_clntmstmp_dir\n",
    "wikitalks_json_dir = _wikitalks_json_dir\n",
    "wikinews_json_dir = _wikinews_json_dir"
   ]
  },
  {
   "cell_type": "markdown",
   "id": "7b5b3486",
   "metadata": {},
   "source": [
    "### <span style='font-family:Georgia'> Data preprocessing step 1.: \n",
    "Input & expected `*.tsv` files parsing including enrichment with information inferred from `*.clntmstmp` data"
   ]
  },
  {
   "cell_type": "code",
   "execution_count": 4,
   "id": "e40c9f01",
   "metadata": {
    "ExecuteTime": {
     "end_time": "2022-05-13T12:23:45.878515Z",
     "start_time": "2022-05-13T12:23:43.129025Z"
    },
    "scrolled": true
   },
   "outputs": [],
   "source": [
    "clntmstmp_missing = [\n",
    "    \"wikitalks0013565\",\n",
    "    \"wikitalks0015043\",\n",
    "    \"wikitalks0016297\",\n",
    "    \"wikitalks0016712\",\n",
    "    \"wikitalks00415\",\n",
    "    \"wikitalks005277\",\n",
    "    \"wikitalks007429\",\n",
    "]\n",
    "\n",
    "parse_tsv(\n",
    "    in_path=train_in_path,\n",
    "    expected_path=train_expected_path,\n",
    "    save_path=step1_train_save_path,\n",
    "    clntmstmp_dir=train_clntmstmp_dir,\n",
    "    files_to_ignore=clntmstmp_missing,\n",
    ")\n",
    "parse_tsv(\n",
    "    in_path=test_in_path,\n",
    "    expected_path=test_expected_path,\n",
    "    save_path=step1_test_save_path,\n",
    "    clntmstmp_dir=test_clntmstmp_dir,\n",
    "    files_to_ignore=clntmstmp_missing,\n",
    ")"
   ]
  },
  {
   "cell_type": "markdown",
   "id": "61f9f9ef",
   "metadata": {},
   "source": [
    "### <span style='font-family:Georgia'> Data preprocessing step 2.: \n",
    "Wikitalks & Wikinews `*.json` files loading and writing to `*.tsv` format"
   ]
  },
  {
   "cell_type": "code",
   "execution_count": 5,
   "id": "29e23f87",
   "metadata": {
    "ExecuteTime": {
     "end_time": "2022-05-13T12:24:52.777747Z",
     "start_time": "2022-05-13T12:23:45.881279Z"
    }
   },
   "outputs": [],
   "source": [
    "data = [\n",
    "    wikinews_json_dir,\n",
    "    wikitalks_json_dir\n",
    "]\n",
    "\n",
    "parse_data(\n",
    "    train_path=train_in_path,\n",
    "    test_path=test_in_path,\n",
    "    data=data,\n",
    "    save_path=step2_out_dirpath,\n",
    ")"
   ]
  },
  {
   "cell_type": "markdown",
   "id": "64fff8fb",
   "metadata": {},
   "source": [
    "### <span style='font-family:Georgia'> Data preprocessing step 3.:\n",
    "Wikitalks & Wikinews (`*.tsv`) data parsing, including enrichment with information inferred from `*.clntmstmp` data"
   ]
  },
  {
   "cell_type": "code",
   "execution_count": 6,
   "id": "182bbc92",
   "metadata": {
    "ExecuteTime": {
     "end_time": "2022-05-13T12:25:00.045470Z",
     "start_time": "2022-05-13T12:24:52.782084Z"
    }
   },
   "outputs": [],
   "source": [
    "parse_tsv(\n",
    "    in_path=step2_train_in_save_path,\n",
    "    expected_path=step2_train_expected_save_path,\n",
    "    save_path=step3_train_save_path,\n",
    "    clntmstmp_dir=train_clntmstmp_dir,\n",
    "    files_to_ignore=clntmstmp_missing,\n",
    ")\n",
    "parse_tsv(\n",
    "    in_path=step2_rest_in_save_path,\n",
    "    expected_path=step2_rest_expected_save_path,\n",
    "    save_path=step3_rest_save_path,\n",
    "    files_to_ignore=clntmstmp_missing,\n",
    ")\n",
    "parse_tsv(\n",
    "    in_path=step2_test_in_save_path,\n",
    "    expected_path=step2_test_expected_save_path,\n",
    "    save_path=step3_test_save_path,\n",
    "    clntmstmp_dir=test_clntmstmp_dir,\n",
    "    files_to_ignore=clntmstmp_missing,\n",
    ")"
   ]
  },
  {
   "cell_type": "markdown",
   "id": "1778c08f",
   "metadata": {},
   "source": [
    "### <span style='font-family:Georgia'> Data preprocessing step 4.: \n",
    "Change the data format from `*.tsv` files to a Pandas frame"
   ]
  },
  {
   "cell_type": "code",
   "execution_count": 7,
   "id": "e9ac6dc7",
   "metadata": {
    "ExecuteTime": {
     "end_time": "2022-05-13T12:25:42.900976Z",
     "start_time": "2022-05-13T12:25:00.047267Z"
    }
   },
   "outputs": [],
   "source": [
    "convert_to_pandas(data_file=step1_train_save_path, out_file=step4_train_save_path)\n",
    "convert_to_pandas(data_file=step1_test_save_path, out_file=step4_test_save_path)\n",
    "convert_to_pandas(data_file=step3_rest_save_path, out_file=step4_rest_save_path)"
   ]
  },
  {
   "cell_type": "markdown",
   "id": "e50963ff",
   "metadata": {},
   "source": [
    "### <span style='font-family:Georgia'> Data preprocessing step 5.: \n",
    "Long examples splitting"
   ]
  },
  {
   "cell_type": "code",
   "execution_count": 9,
   "id": "ae2cafe2",
   "metadata": {
    "ExecuteTime": {
     "end_time": "2022-05-13T12:38:03.317285Z",
     "start_time": "2022-05-13T12:26:15.593493Z"
    }
   },
   "outputs": [],
   "source": [
    "split_long_examples(data_path=step4_train_save_path, out_file=step5_train_save_path)\n",
    "split_long_examples(data_path=step4_test_save_path, out_file=step5_test_save_path)\n",
    "split_long_examples(data_path=step4_rest_save_path, out_file=step5_rest_save_path)"
   ]
  }
 ],
 "metadata": {
  "kernelspec": {
   "display_name": "Python 3",
   "language": "python",
   "name": "python3"
  },
  "language_info": {
   "codemirror_mode": {
    "name": "ipython",
    "version": 3
   },
   "file_extension": ".py",
   "mimetype": "text/x-python",
   "name": "python",
   "nbconvert_exporter": "python",
   "pygments_lexer": "ipython3",
   "version": "3.8.8"
  }
 },
 "nbformat": 4,
 "nbformat_minor": 5
}
