{
 "cells": [
  {
   "cell_type": "markdown",
   "id": "5d388230",
   "metadata": {},
   "source": [
    "## <span style='font-family:Georgia'> Objectives\n",
    "The purpose of this notebook is to train Named Entity Recognition model\n",
    "    \n",
    "*Author: Elżbieta Jowik*"
   ]
  },
  {
   "cell_type": "code",
   "execution_count": null,
   "id": "739194ad",
   "metadata": {
    "ExecuteTime": {
     "end_time": "2022-04-24T08:15:47.676357Z",
     "start_time": "2022-04-24T08:15:20.113998Z"
    }
   },
   "outputs": [],
   "source": [
    "from tqdm.notebook import tqdm\n",
    "\n",
    "from utils.train_model import train_model\n",
    "from utils.test_model import test_model"
   ]
  },
  {
   "cell_type": "markdown",
   "id": "aab1a142",
   "metadata": {},
   "source": [
    "### <span style='font-family:Georgia'> Parameters settings"
   ]
  },
  {
   "cell_type": "code",
   "execution_count": null,
   "id": "6776b6b6",
   "metadata": {},
   "outputs": [],
   "source": [
    "# Input paths\n",
    "test_in_path = \"../data/source/test-A/in.tsv\"\n",
    "\n",
    "step5_out_dirpath = \"../data/outputs/modeling_pipeline/step5\"\n",
    "step6_out_dirpath = \"../data/outputs/modeling_pipeline/step6\"\n",
    "step7_out_dirpath = \"../data/outputs/modeling_pipeline/step7\"\n",
    "\n",
    "step5_train_save_path = f\"{step5_out_dirpath}/original_train.tsv.s\"\n",
    "step5_test_save_path = f\"{step5_out_dirpath}/original_test-A.tsv.s\"\n",
    "step5_rest_save_path = f\"{step5_out_dirpath}/rest.tsv.s\"\n",
    "\n",
    "step6_model_save_path = f\"{step6_out_dirpath}/best_model\"\n",
    "\n",
    "step7_pred_save_path = f\"{step7_out_dirpath}/test-A/out.tsv\""
   ]
  },
  {
   "cell_type": "markdown",
   "id": "ea095eef",
   "metadata": {},
   "source": [
    "### <span style='font-family:Georgia'> Neural NER model fine-tuning"
   ]
  },
  {
   "cell_type": "code",
   "execution_count": null,
   "id": "3385a072",
   "metadata": {
    "ExecuteTime": {
     "end_time": "2022-04-25T22:45:01.585004Z",
     "start_time": "2022-04-24T08:16:05.157021Z"
    },
    "scrolled": false
   },
   "outputs": [],
   "source": [
    "best_model_dir = train_model(\n",
    "    train_data_dir=step5_rest_save_path,\n",
    "    test_data_dir=step5_test_save_path,\n",
    "    eval_data_dir=step5_train_save_path,\n",
    "    save_dirpath=step6_out_dirpath,\n",
    "    model_name=\"allegro/herbert-large-cased\",\n",
    "    learning_rate=2e-5,\n",
    "    epochs=1,\n",
    "    batch_size=4,\n",
    "    grad_acc_steps=1,\n",
    "    warmup_steps=0,\n",
    "    eval_steps=200,\n",
    "    eval_during_training=True,\n",
    "    max_seq_len=256,\n",
    "    seed=2\n",
    ")\n",
    "print(f\"Best model saved to: {best_model_dir}\")"
   ]
  },
  {
   "cell_type": "markdown",
   "id": "1d5d25a6",
   "metadata": {},
   "source": [
    "### <span style='font-family:Georgia'> Generate model prediction"
   ]
  },
  {
   "cell_type": "code",
   "execution_count": null,
   "id": "3a9ea434",
   "metadata": {},
   "outputs": [],
   "source": [
    "test_model(\n",
    "    path_to_model=best_model_dir,\n",
    "    path_to_test=test_in_path,\n",
    "    path_to_out=step7_pred_save_path\n",
    "    )"
   ]
  }
 ],
 "metadata": {
  "kernelspec": {
   "display_name": "Python 3",
   "language": "python",
   "name": "python3"
  },
  "language_info": {
   "codemirror_mode": {
    "name": "ipython",
    "version": 3
   },
   "file_extension": ".py",
   "mimetype": "text/x-python",
   "name": "python",
   "nbconvert_exporter": "python",
   "pygments_lexer": "ipython3",
   "version": "3.8.8"
  }
 },
 "nbformat": 4,
 "nbformat_minor": 5
}
